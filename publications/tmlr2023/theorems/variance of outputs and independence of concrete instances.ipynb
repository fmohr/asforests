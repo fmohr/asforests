{
 "cells": [
  {
   "cell_type": "markdown",
   "id": "19fb33e8",
   "metadata": {},
   "source": [
    "# Purpose\n",
    "The purpose of this notebook is to empirically check that\n",
    "$$\\frac{1}{n}\\sum_{i=1}^n\\sum_{j=1}^k \\mathbb{V}[\\hat Y_{i,j}^1] = \\sum_{j=1}^k \\mathbb{V}[\\hat Y_{1,j}^1]$$\n",
    "\n",
    "if *both* the $X_i$ and the trees will be sampled at random. Note that the assertion does *not* hold anymore if the $X_i$ are fixed before, i.e. already determined. Here, we suppose that they are yet to be sampled. We only know how many elements will be sampled."
   ]
  },
  {
   "cell_type": "code",
   "execution_count": 1,
   "id": "89bb17e2",
   "metadata": {},
   "outputs": [],
   "source": [
    "from sklearn.datasets import fetch_openml, make_classification\n",
    "\n",
    "from sklearn.ensemble import RandomForestClassifier, ExtraTreesClassifier\n",
    "from sklearn.model_selection import train_test_split\n",
    "from sklearn.preprocessing import OneHotEncoder\n",
    "\n",
    "import itertools as it\n",
    "import numpy as np\n",
    "import pandas as pd\n",
    "\n",
    "import matplotlib.pyplot as plt\n",
    "\n",
    "from tqdm.notebook import tqdm"
   ]
  },
  {
   "cell_type": "code",
   "execution_count": 2,
   "id": "580a878b",
   "metadata": {},
   "outputs": [],
   "source": [
    "def get_random_dataset(n, d, k):\n",
    "    \n",
    "    X = np.random.rand(n, d)\n",
    "    y = np.random.randint(0, k, n)\n",
    "    \n",
    "    return X, y\n",
    "\n",
    "k = 2\n",
    "d = 2\n",
    "X, y = get_random_dataset(2000, d=d, k=k)\n",
    "    \n",
    "X_train, _, y_train, _ = train_test_split(X, y, stratify=y, random_state=0)"
   ]
  },
  {
   "cell_type": "code",
   "execution_count": 3,
   "id": "838e238e",
   "metadata": {},
   "outputs": [],
   "source": [
    "rf = ExtraTreesClassifier(n_estimators=1000).fit(X_train, y_train)"
   ]
  },
  {
   "cell_type": "code",
   "execution_count": 6,
   "id": "c61c66ed",
   "metadata": {},
   "outputs": [
    {
     "data": {
      "text/plain": [
       "(1000, 100, 2)"
      ]
     },
     "execution_count": 6,
     "metadata": {},
     "output_type": "execute_result"
    }
   ],
   "source": [
    "yhat = []\n",
    "for tree in rf.estimators_:\n",
    "    X_val, _ = get_random_dataset(100, d=d, k=k)\n",
    "    yhat.append(tree.predict_proba(X_val))\n",
    "yhat = np.array(yhat)\n",
    "yhat.shape"
   ]
  },
  {
   "cell_type": "code",
   "execution_count": 7,
   "id": "c8c04ef2",
   "metadata": {},
   "outputs": [
    {
     "name": "stdout",
     "output_type": "stream",
     "text": [
      "0.4990993200000017\n",
      "0.4996844927999663\n"
     ]
    }
   ],
   "source": [
    "print(np.var(yhat, axis=0).sum(axis=1).mean()) # mean(V[Y_ij])\n",
    "print(np.var(yhat, axis=(0,1)).sum())          # V[Y_1j]"
   ]
  }
 ],
 "metadata": {
  "kernelspec": {
   "display_name": "Python 3 (ipykernel)",
   "language": "python",
   "name": "python3"
  },
  "language_info": {
   "codemirror_mode": {
    "name": "ipython",
    "version": 3
   },
   "file_extension": ".py",
   "mimetype": "text/x-python",
   "name": "python",
   "nbconvert_exporter": "python",
   "pygments_lexer": "ipython3",
   "version": "3.10.11"
  }
 },
 "nbformat": 4,
 "nbformat_minor": 5
}
