{
 "cells": [
  {
   "cell_type": "code",
   "execution_count": 1,
   "id": "0238f61c-1556-4061-829c-48be41d66b6b",
   "metadata": {},
   "outputs": [],
   "source": [
    "import numpy as np"
   ]
  },
  {
   "cell_type": "code",
   "execution_count": 4,
   "id": "47386b16-1042-4b93-a613-967427dd5baf",
   "metadata": {},
   "outputs": [],
   "source": [
    "def f1(t, a, b):\n",
    "    return (1/t**3) * (a + (t-1) * (2 * b + 4 * b + a + (t-2) * (2 * b + 4 * b + (t - 3) * b)))\n",
    "\n",
    "def f2(t, a, b):\n",
    "    return (1 / t**2) * (a + (t**2 - 1) * b)\n",
    "\n",
    "for t in range(1, 10):\n",
    "    for a in range(3):\n",
    "        for b in range(3):\n",
    "            assert np.isclose(f1(t, a, b), f2(t, a, b))"
   ]
  }
 ],
 "metadata": {
  "kernelspec": {
   "display_name": "Python 3 (ipykernel)",
   "language": "python",
   "name": "python3"
  },
  "language_info": {
   "codemirror_mode": {
    "name": "ipython",
    "version": 3
   },
   "file_extension": ".py",
   "mimetype": "text/x-python",
   "name": "python",
   "nbconvert_exporter": "python",
   "pygments_lexer": "ipython3",
   "version": "3.12.5"
  }
 },
 "nbformat": 4,
 "nbformat_minor": 5
}
