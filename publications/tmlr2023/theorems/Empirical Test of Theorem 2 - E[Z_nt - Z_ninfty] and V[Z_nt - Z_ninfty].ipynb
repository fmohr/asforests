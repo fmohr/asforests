{
 "cells": [
  {
   "cell_type": "code",
   "execution_count": 1,
   "id": "88257ad8",
   "metadata": {},
   "outputs": [],
   "source": [
    "from utils import *\n",
    "from scipy.stats import norm\n",
    "import pathlib\n",
    "\n",
    "from joblib import Parallel, delayed\n",
    "from sklearn.dummy import DummyClassifier"
   ]
  },
  {
   "cell_type": "code",
   "execution_count": 2,
   "id": "7d1ef7ac",
   "metadata": {},
   "outputs": [],
   "source": [
    "X_train, X_test, y_train, y_test = get_data_setup(n_train = 100, n_test = 10**7, data_seed = 0)"
   ]
  },
  {
   "cell_type": "code",
   "execution_count": 3,
   "id": "60097cc3-497c-41fa-8ce3-00ce92825f4c",
   "metadata": {},
   "outputs": [
    {
     "data": {
      "text/plain": [
       "array([[0., 1.],\n",
       "       [1., 0.],\n",
       "       [0., 1.],\n",
       "       ...,\n",
       "       [1., 0.],\n",
       "       [0., 1.],\n",
       "       [1., 0.]])"
      ]
     },
     "execution_count": 3,
     "metadata": {},
     "output_type": "execute_result"
    }
   ],
   "source": [
    "Y_test = get_one_hot_encoding(y_test)\n",
    "Y_test"
   ]
  },
  {
   "cell_type": "code",
   "execution_count": 4,
   "id": "c8d60357-6b43-4e7c-a90d-db8d5d25dc52",
   "metadata": {},
   "outputs": [],
   "source": [
    "t = 10\n",
    "n = 25"
   ]
  },
  {
   "cell_type": "code",
   "execution_count": 5,
   "id": "45b5e1ca-c73b-47cb-9e86-9567d682aae0",
   "metadata": {},
   "outputs": [],
   "source": [
    "kwargs = {\n",
    "    \"max_depth\": 1\n",
    "}"
   ]
  },
  {
   "cell_type": "raw",
   "id": "f1642830-5b94-4427-9a17-9cea158db4c4",
   "metadata": {},
   "source": [
    "%%time\n",
    "import concurrent.futures\n",
    "\n",
    "num_chunks = 10**3\n",
    "pbar = tqdm(total=num_chunks)\n",
    "\n",
    "def get_final_predictions(seed):\n",
    "    final_forest_predictions = []\n",
    "    clf = ExtraTreesClassifier(n_estimators=10**5, random_state=seed, **kwargs)\n",
    "    clf.fit(X_train, y_train)\n",
    "    final_forest_predictions.append(clf.predict_proba(X_test[:10**5]))\n",
    "    return np.array(final_forest_predictions)\n",
    "\n",
    "# Parameters for multiple random forests\n",
    "param_list = [seed for seed in range(num_chunks)]\n",
    "\n",
    "\"\"\"\n",
    "# Train multiple random forests in parallel\n",
    "predictions = Parallel(n_jobs=-1)(\n",
    "    delayed(get_final_predictions)(seed) for seed in param_list\n",
    ")\n",
    "\"\"\"\n",
    "\n",
    "predictions = []\n",
    "\n",
    "with concurrent.futures.ProcessPoolExecutor(max_workers=4) as executor:\n",
    "    futures = []\n",
    "    \n",
    "    # Submit each job and track its future\n",
    "    for params in param_list:\n",
    "        future = executor.submit(get_final_predictions, params)\n",
    "        futures.append(future)\n",
    "\n",
    "        def cb(f):\n",
    "            pbar.update(1)\n",
    "        \n",
    "        future.add_done_callback(cb)\n",
    "\n",
    "    # when everything is done, merge predictions\n",
    "    for future in concurrent.futures.as_completed(futures):\n",
    "        predictions.append(future.result())\n",
    "pbar.close()\n",
    "\n",
    "\n",
    "predictions = np.concatenate(predictions)\n",
    "print(predictions.shape)"
   ]
  },
  {
   "cell_type": "code",
   "execution_count": 33,
   "id": "044b112c-a830-4dcf-9283-b074afb62d45",
   "metadata": {},
   "outputs": [],
   "source": [
    "t_inf = 10**8\n",
    "size_per_forest = 10**5\n",
    "model_dir_path = pathlib.Path(\"models\")\n",
    "model_dir_path.mkdir(parents=True, exist_ok=True)"
   ]
  },
  {
   "cell_type": "code",
   "execution_count": 67,
   "id": "db7b7f92-90a6-43f3-822b-d3fb33f96fd3",
   "metadata": {},
   "outputs": [
    {
     "data": {
      "application/vnd.jupyter.widget-view+json": {
       "model_id": "d0bb32cffe864bd08a37a0ecb343c056",
       "version_major": 2,
       "version_minor": 0
      },
      "text/plain": [
       "  0%|          | 0/1000 [00:00<?, ?it/s]"
      ]
     },
     "metadata": {},
     "output_type": "display_data"
    },
    {
     "ename": "KeyboardInterrupt",
     "evalue": "",
     "output_type": "error",
     "traceback": [
      "\u001b[0;31m---------------------------------------------------------------------------\u001b[0m",
      "\u001b[0;31mKeyboardInterrupt\u001b[0m                         Traceback (most recent call last)",
      "Cell \u001b[0;32mIn[67], line 9\u001b[0m\n\u001b[1;32m      7\u001b[0m \u001b[38;5;28;01mif\u001b[39;00m \u001b[38;5;129;01mnot\u001b[39;00m model_path\u001b[38;5;241m.\u001b[39mexists():\n\u001b[1;32m      8\u001b[0m     clf_limit \u001b[38;5;241m=\u001b[39m ExtraTreesClassifier(n_estimators\u001b[38;5;241m=\u001b[39msize_per_forest, random_state\u001b[38;5;241m=\u001b[39m(\u001b[38;5;241m42\u001b[39m \u001b[38;5;241m+\u001b[39m seed) \u001b[38;5;241m*\u001b[39m size_per_forest, \u001b[38;5;241m*\u001b[39m\u001b[38;5;241m*\u001b[39mkwargs)\n\u001b[0;32m----> 9\u001b[0m     clf_limit\u001b[38;5;241m.\u001b[39mfit(X_train, y_train)\n\u001b[1;32m     11\u001b[0m     \u001b[38;5;66;03m# now you can save it to a file\u001b[39;00m\n\u001b[1;32m     12\u001b[0m     \u001b[38;5;28;01mwith\u001b[39;00m \u001b[38;5;28mopen\u001b[39m(model_path, \u001b[38;5;124m'\u001b[39m\u001b[38;5;124mwb\u001b[39m\u001b[38;5;124m'\u001b[39m) \u001b[38;5;28;01mas\u001b[39;00m f:\n",
      "File \u001b[0;32m~/anaconda3/envs/asforests/lib/python3.12/site-packages/sklearn/base.py:1473\u001b[0m, in \u001b[0;36m_fit_context.<locals>.decorator.<locals>.wrapper\u001b[0;34m(estimator, *args, **kwargs)\u001b[0m\n\u001b[1;32m   1466\u001b[0m     estimator\u001b[38;5;241m.\u001b[39m_validate_params()\n\u001b[1;32m   1468\u001b[0m \u001b[38;5;28;01mwith\u001b[39;00m config_context(\n\u001b[1;32m   1469\u001b[0m     skip_parameter_validation\u001b[38;5;241m=\u001b[39m(\n\u001b[1;32m   1470\u001b[0m         prefer_skip_nested_validation \u001b[38;5;129;01mor\u001b[39;00m global_skip_validation\n\u001b[1;32m   1471\u001b[0m     )\n\u001b[1;32m   1472\u001b[0m ):\n\u001b[0;32m-> 1473\u001b[0m     \u001b[38;5;28;01mreturn\u001b[39;00m fit_method(estimator, \u001b[38;5;241m*\u001b[39margs, \u001b[38;5;241m*\u001b[39m\u001b[38;5;241m*\u001b[39mkwargs)\n",
      "File \u001b[0;32m~/anaconda3/envs/asforests/lib/python3.12/site-packages/sklearn/ensemble/_forest.py:479\u001b[0m, in \u001b[0;36mBaseForest.fit\u001b[0;34m(self, X, y, sample_weight)\u001b[0m\n\u001b[1;32m    473\u001b[0m \u001b[38;5;28;01mif\u001b[39;00m \u001b[38;5;28mself\u001b[39m\u001b[38;5;241m.\u001b[39mwarm_start \u001b[38;5;129;01mand\u001b[39;00m \u001b[38;5;28mlen\u001b[39m(\u001b[38;5;28mself\u001b[39m\u001b[38;5;241m.\u001b[39mestimators_) \u001b[38;5;241m>\u001b[39m \u001b[38;5;241m0\u001b[39m:\n\u001b[1;32m    474\u001b[0m     \u001b[38;5;66;03m# We draw from the random state to get the random state we\u001b[39;00m\n\u001b[1;32m    475\u001b[0m     \u001b[38;5;66;03m# would have got if we hadn't used a warm_start.\u001b[39;00m\n\u001b[1;32m    476\u001b[0m     random_state\u001b[38;5;241m.\u001b[39mrandint(MAX_INT, size\u001b[38;5;241m=\u001b[39m\u001b[38;5;28mlen\u001b[39m(\u001b[38;5;28mself\u001b[39m\u001b[38;5;241m.\u001b[39mestimators_))\n\u001b[1;32m    478\u001b[0m trees \u001b[38;5;241m=\u001b[39m [\n\u001b[0;32m--> 479\u001b[0m     \u001b[38;5;28mself\u001b[39m\u001b[38;5;241m.\u001b[39m_make_estimator(append\u001b[38;5;241m=\u001b[39m\u001b[38;5;28;01mFalse\u001b[39;00m, random_state\u001b[38;5;241m=\u001b[39mrandom_state)\n\u001b[1;32m    480\u001b[0m     \u001b[38;5;28;01mfor\u001b[39;00m i \u001b[38;5;129;01min\u001b[39;00m \u001b[38;5;28mrange\u001b[39m(n_more_estimators)\n\u001b[1;32m    481\u001b[0m ]\n\u001b[1;32m    483\u001b[0m \u001b[38;5;66;03m# Parallel loop: we prefer the threading backend as the Cython code\u001b[39;00m\n\u001b[1;32m    484\u001b[0m \u001b[38;5;66;03m# for fitting the trees is internally releasing the Python GIL\u001b[39;00m\n\u001b[1;32m    485\u001b[0m \u001b[38;5;66;03m# making threading more efficient than multiprocessing in\u001b[39;00m\n\u001b[1;32m    486\u001b[0m \u001b[38;5;66;03m# that case. However, for joblib 0.12+ we respect any\u001b[39;00m\n\u001b[1;32m    487\u001b[0m \u001b[38;5;66;03m# parallel_backend contexts set at a higher level,\u001b[39;00m\n\u001b[1;32m    488\u001b[0m \u001b[38;5;66;03m# since correctness does not rely on using threads.\u001b[39;00m\n\u001b[1;32m    489\u001b[0m trees \u001b[38;5;241m=\u001b[39m Parallel(\n\u001b[1;32m    490\u001b[0m     n_jobs\u001b[38;5;241m=\u001b[39m\u001b[38;5;28mself\u001b[39m\u001b[38;5;241m.\u001b[39mn_jobs,\n\u001b[1;32m    491\u001b[0m     verbose\u001b[38;5;241m=\u001b[39m\u001b[38;5;28mself\u001b[39m\u001b[38;5;241m.\u001b[39mverbose,\n\u001b[0;32m   (...)\u001b[0m\n\u001b[1;32m    507\u001b[0m     \u001b[38;5;28;01mfor\u001b[39;00m i, t \u001b[38;5;129;01min\u001b[39;00m \u001b[38;5;28menumerate\u001b[39m(trees)\n\u001b[1;32m    508\u001b[0m )\n",
      "File \u001b[0;32m~/anaconda3/envs/asforests/lib/python3.12/site-packages/sklearn/ensemble/_base.py:145\u001b[0m, in \u001b[0;36mBaseEnsemble._make_estimator\u001b[0;34m(self, append, random_state)\u001b[0m\n\u001b[1;32m    139\u001b[0m \u001b[38;5;28;01mdef\u001b[39;00m \u001b[38;5;21m_make_estimator\u001b[39m(\u001b[38;5;28mself\u001b[39m, append\u001b[38;5;241m=\u001b[39m\u001b[38;5;28;01mTrue\u001b[39;00m, random_state\u001b[38;5;241m=\u001b[39m\u001b[38;5;28;01mNone\u001b[39;00m):\n\u001b[1;32m    140\u001b[0m \u001b[38;5;250m    \u001b[39m\u001b[38;5;124;03m\"\"\"Make and configure a copy of the `estimator_` attribute.\u001b[39;00m\n\u001b[1;32m    141\u001b[0m \n\u001b[1;32m    142\u001b[0m \u001b[38;5;124;03m    Warning: This method should be used to properly instantiate new\u001b[39;00m\n\u001b[1;32m    143\u001b[0m \u001b[38;5;124;03m    sub-estimators.\u001b[39;00m\n\u001b[1;32m    144\u001b[0m \u001b[38;5;124;03m    \"\"\"\u001b[39;00m\n\u001b[0;32m--> 145\u001b[0m     estimator \u001b[38;5;241m=\u001b[39m clone(\u001b[38;5;28mself\u001b[39m\u001b[38;5;241m.\u001b[39mestimator_)\n\u001b[1;32m    146\u001b[0m     estimator\u001b[38;5;241m.\u001b[39mset_params(\u001b[38;5;241m*\u001b[39m\u001b[38;5;241m*\u001b[39m{p: \u001b[38;5;28mgetattr\u001b[39m(\u001b[38;5;28mself\u001b[39m, p) \u001b[38;5;28;01mfor\u001b[39;00m p \u001b[38;5;129;01min\u001b[39;00m \u001b[38;5;28mself\u001b[39m\u001b[38;5;241m.\u001b[39mestimator_params})\n\u001b[1;32m    148\u001b[0m     \u001b[38;5;28;01mif\u001b[39;00m random_state \u001b[38;5;129;01mis\u001b[39;00m \u001b[38;5;129;01mnot\u001b[39;00m \u001b[38;5;28;01mNone\u001b[39;00m:\n",
      "File \u001b[0;32m~/anaconda3/envs/asforests/lib/python3.12/site-packages/sklearn/base.py:90\u001b[0m, in \u001b[0;36mclone\u001b[0;34m(estimator, safe)\u001b[0m\n\u001b[1;32m     41\u001b[0m \u001b[38;5;250m\u001b[39m\u001b[38;5;124;03m\"\"\"Construct a new unfitted estimator with the same parameters.\u001b[39;00m\n\u001b[1;32m     42\u001b[0m \n\u001b[1;32m     43\u001b[0m \u001b[38;5;124;03mClone does a deep copy of the model in an estimator\u001b[39;00m\n\u001b[0;32m   (...)\u001b[0m\n\u001b[1;32m     87\u001b[0m \u001b[38;5;124;03mFalse\u001b[39;00m\n\u001b[1;32m     88\u001b[0m \u001b[38;5;124;03m\"\"\"\u001b[39;00m\n\u001b[1;32m     89\u001b[0m \u001b[38;5;28;01mif\u001b[39;00m \u001b[38;5;28mhasattr\u001b[39m(estimator, \u001b[38;5;124m\"\u001b[39m\u001b[38;5;124m__sklearn_clone__\u001b[39m\u001b[38;5;124m\"\u001b[39m) \u001b[38;5;129;01mand\u001b[39;00m \u001b[38;5;129;01mnot\u001b[39;00m inspect\u001b[38;5;241m.\u001b[39misclass(estimator):\n\u001b[0;32m---> 90\u001b[0m     \u001b[38;5;28;01mreturn\u001b[39;00m estimator\u001b[38;5;241m.\u001b[39m__sklearn_clone__()\n\u001b[1;32m     91\u001b[0m \u001b[38;5;28;01mreturn\u001b[39;00m _clone_parametrized(estimator, safe\u001b[38;5;241m=\u001b[39msafe)\n",
      "File \u001b[0;32m~/anaconda3/envs/asforests/lib/python3.12/site-packages/sklearn/base.py:296\u001b[0m, in \u001b[0;36mBaseEstimator.__sklearn_clone__\u001b[0;34m(self)\u001b[0m\n\u001b[1;32m    295\u001b[0m \u001b[38;5;28;01mdef\u001b[39;00m \u001b[38;5;21m__sklearn_clone__\u001b[39m(\u001b[38;5;28mself\u001b[39m):\n\u001b[0;32m--> 296\u001b[0m     \u001b[38;5;28;01mreturn\u001b[39;00m _clone_parametrized(\u001b[38;5;28mself\u001b[39m)\n",
      "File \u001b[0;32m~/anaconda3/envs/asforests/lib/python3.12/site-packages/sklearn/base.py:121\u001b[0m, in \u001b[0;36m_clone_parametrized\u001b[0;34m(estimator, safe)\u001b[0m\n\u001b[1;32m    113\u001b[0m             \u001b[38;5;28;01mraise\u001b[39;00m \u001b[38;5;167;01mTypeError\u001b[39;00m(\n\u001b[1;32m    114\u001b[0m                 \u001b[38;5;124m\"\u001b[39m\u001b[38;5;124mCannot clone object \u001b[39m\u001b[38;5;124m'\u001b[39m\u001b[38;5;132;01m%s\u001b[39;00m\u001b[38;5;124m'\u001b[39m\u001b[38;5;124m (type \u001b[39m\u001b[38;5;132;01m%s\u001b[39;00m\u001b[38;5;124m): \u001b[39m\u001b[38;5;124m\"\u001b[39m\n\u001b[1;32m    115\u001b[0m                 \u001b[38;5;124m\"\u001b[39m\u001b[38;5;124mit does not seem to be a scikit-learn \u001b[39m\u001b[38;5;124m\"\u001b[39m\n\u001b[1;32m    116\u001b[0m                 \u001b[38;5;124m\"\u001b[39m\u001b[38;5;124mestimator as it does not implement a \u001b[39m\u001b[38;5;124m\"\u001b[39m\n\u001b[1;32m    117\u001b[0m                 \u001b[38;5;124m\"\u001b[39m\u001b[38;5;124m'\u001b[39m\u001b[38;5;124mget_params\u001b[39m\u001b[38;5;124m'\u001b[39m\u001b[38;5;124m method.\u001b[39m\u001b[38;5;124m\"\u001b[39m \u001b[38;5;241m%\u001b[39m (\u001b[38;5;28mrepr\u001b[39m(estimator), \u001b[38;5;28mtype\u001b[39m(estimator))\n\u001b[1;32m    118\u001b[0m             )\n\u001b[1;32m    120\u001b[0m klass \u001b[38;5;241m=\u001b[39m estimator\u001b[38;5;241m.\u001b[39m\u001b[38;5;18m__class__\u001b[39m\n\u001b[0;32m--> 121\u001b[0m new_object_params \u001b[38;5;241m=\u001b[39m estimator\u001b[38;5;241m.\u001b[39mget_params(deep\u001b[38;5;241m=\u001b[39m\u001b[38;5;28;01mFalse\u001b[39;00m)\n\u001b[1;32m    122\u001b[0m \u001b[38;5;28;01mfor\u001b[39;00m name, param \u001b[38;5;129;01min\u001b[39;00m new_object_params\u001b[38;5;241m.\u001b[39mitems():\n\u001b[1;32m    123\u001b[0m     new_object_params[name] \u001b[38;5;241m=\u001b[39m clone(param, safe\u001b[38;5;241m=\u001b[39m\u001b[38;5;28;01mFalse\u001b[39;00m)\n",
      "File \u001b[0;32m~/anaconda3/envs/asforests/lib/python3.12/site-packages/sklearn/base.py:243\u001b[0m, in \u001b[0;36mBaseEstimator.get_params\u001b[0;34m(self, deep)\u001b[0m\n\u001b[1;32m    228\u001b[0m \u001b[38;5;250m\u001b[39m\u001b[38;5;124;03m\"\"\"\u001b[39;00m\n\u001b[1;32m    229\u001b[0m \u001b[38;5;124;03mGet parameters for this estimator.\u001b[39;00m\n\u001b[1;32m    230\u001b[0m \n\u001b[0;32m   (...)\u001b[0m\n\u001b[1;32m    240\u001b[0m \u001b[38;5;124;03m    Parameter names mapped to their values.\u001b[39;00m\n\u001b[1;32m    241\u001b[0m \u001b[38;5;124;03m\"\"\"\u001b[39;00m\n\u001b[1;32m    242\u001b[0m out \u001b[38;5;241m=\u001b[39m \u001b[38;5;28mdict\u001b[39m()\n\u001b[0;32m--> 243\u001b[0m \u001b[38;5;28;01mfor\u001b[39;00m key \u001b[38;5;129;01min\u001b[39;00m \u001b[38;5;28mself\u001b[39m\u001b[38;5;241m.\u001b[39m_get_param_names():\n\u001b[1;32m    244\u001b[0m     value \u001b[38;5;241m=\u001b[39m \u001b[38;5;28mgetattr\u001b[39m(\u001b[38;5;28mself\u001b[39m, key)\n\u001b[1;32m    245\u001b[0m     \u001b[38;5;28;01mif\u001b[39;00m deep \u001b[38;5;129;01mand\u001b[39;00m \u001b[38;5;28mhasattr\u001b[39m(value, \u001b[38;5;124m\"\u001b[39m\u001b[38;5;124mget_params\u001b[39m\u001b[38;5;124m\"\u001b[39m) \u001b[38;5;129;01mand\u001b[39;00m \u001b[38;5;129;01mnot\u001b[39;00m \u001b[38;5;28misinstance\u001b[39m(value, \u001b[38;5;28mtype\u001b[39m):\n",
      "File \u001b[0;32m~/anaconda3/envs/asforests/lib/python3.12/site-packages/sklearn/base.py:211\u001b[0m, in \u001b[0;36mBaseEstimator._get_param_names\u001b[0;34m(cls)\u001b[0m\n\u001b[1;32m    208\u001b[0m init_signature \u001b[38;5;241m=\u001b[39m inspect\u001b[38;5;241m.\u001b[39msignature(init)\n\u001b[1;32m    209\u001b[0m \u001b[38;5;66;03m# Consider the constructor parameters excluding 'self'\u001b[39;00m\n\u001b[1;32m    210\u001b[0m parameters \u001b[38;5;241m=\u001b[39m [\n\u001b[0;32m--> 211\u001b[0m     p\n\u001b[1;32m    212\u001b[0m     \u001b[38;5;28;01mfor\u001b[39;00m p \u001b[38;5;129;01min\u001b[39;00m init_signature\u001b[38;5;241m.\u001b[39mparameters\u001b[38;5;241m.\u001b[39mvalues()\n\u001b[1;32m    213\u001b[0m     \u001b[38;5;28;01mif\u001b[39;00m p\u001b[38;5;241m.\u001b[39mname \u001b[38;5;241m!=\u001b[39m \u001b[38;5;124m\"\u001b[39m\u001b[38;5;124mself\u001b[39m\u001b[38;5;124m\"\u001b[39m \u001b[38;5;129;01mand\u001b[39;00m p\u001b[38;5;241m.\u001b[39mkind \u001b[38;5;241m!=\u001b[39m p\u001b[38;5;241m.\u001b[39mVAR_KEYWORD\n\u001b[1;32m    214\u001b[0m ]\n\u001b[1;32m    215\u001b[0m \u001b[38;5;28;01mfor\u001b[39;00m p \u001b[38;5;129;01min\u001b[39;00m parameters:\n\u001b[1;32m    216\u001b[0m     \u001b[38;5;28;01mif\u001b[39;00m p\u001b[38;5;241m.\u001b[39mkind \u001b[38;5;241m==\u001b[39m p\u001b[38;5;241m.\u001b[39mVAR_POSITIONAL:\n",
      "\u001b[0;31mKeyboardInterrupt\u001b[0m: "
     ]
    }
   ],
   "source": [
    "import pickle\n",
    "    \n",
    "required_forests = int(np.ceil(t_inf / size_per_forest))\n",
    "\n",
    "for seed in tqdm(range(required_forests)):\n",
    "    model_path = pathlib.Path(f\"{model_dir_path}/{seed}.pkl\")\n",
    "    if not model_path.exists():\n",
    "        clf_limit = ExtraTreesClassifier(n_estimators=size_per_forest, random_state=(42 + seed) * size_per_forest, **kwargs)\n",
    "        clf_limit.fit(X_train, y_train)\n",
    "        \n",
    "        # now you can save it to a file\n",
    "        with open(model_path, 'wb') as f:\n",
    "            pickle.dump(clf_limit, f)"
   ]
  },
  {
   "cell_type": "code",
   "execution_count": 38,
   "id": "e3d25a2f-c153-4206-b817-289ff96f5965",
   "metadata": {},
   "outputs": [],
   "source": [
    "def get_prediction_for_forest_of_size_t(t):\n",
    "    missing_trees = t\n",
    "    considered_trees = 0\n",
    "\n",
    "    y_pred = None\n",
    "\n",
    "    required_forests = int(np.ceil(t / size_per_forest))\n",
    "    for forest_id in tqdm(range(required_forests)):\n",
    "        with open(f'{model_dir_path}/{forest_id}.pkl', 'rb') as f:\n",
    "            clf = pickle.load(f)\n",
    "            if missing_trees >= len(clf):\n",
    "                if y_pred is None:\n",
    "                    y_pred = len(clf) * clf.predict_proba(X_test[:10**4])\n",
    "                else:\n",
    "                    y_pred += len(clf) * clf.predict_proba(X_test[:10**4])\n",
    "                missing_trees -= len(clf)\n",
    "                considered_trees += len(clf)\n",
    "            else:\n",
    "                for l in clf[:missing_trees]:\n",
    "                    if y_pred is None:\n",
    "                        y_pred = l.predict_proba(X_test[:10**4])\n",
    "                    else:\n",
    "                        y_pred += l.predict_proba(X_test[:10**4])\n",
    "                considered_trees += missing_trees\n",
    "                missing_trees = 0\n",
    "    return y_pred / considered_trees"
   ]
  },
  {
   "cell_type": "code",
   "execution_count": 60,
   "id": "f980359d-4e16-432a-8494-7348a11cd63f",
   "metadata": {},
   "outputs": [
    {
     "data": {
      "application/vnd.jupyter.widget-view+json": {
       "model_id": "6b195a8ce853410495114bba964a4f12",
       "version_major": 2,
       "version_minor": 0
      },
      "text/plain": [
       "  0%|          | 0/10 [00:00<?, ?it/s]"
      ]
     },
     "metadata": {},
     "output_type": "display_data"
    },
    {
     "name": "stdout",
     "output_type": "stream",
     "text": [
      "CPU times: user 2min 38s, sys: 312 ms, total: 2min 38s\n",
      "Wall time: 2min 39s\n"
     ]
    }
   ],
   "source": [
    "%%time\n",
    "limit_forest_predictions_1m = get_prediction_for_forest_of_size_t(t=10**6)"
   ]
  },
  {
   "cell_type": "code",
   "execution_count": 68,
   "id": "c379b9da-3c96-44c3-a4ac-a0d5473291d2",
   "metadata": {},
   "outputs": [
    {
     "data": {
      "application/vnd.jupyter.widget-view+json": {
       "model_id": "ec9583049d4445f1aafb675901531c9e",
       "version_major": 2,
       "version_minor": 0
      },
      "text/plain": [
       "  0%|          | 0/50 [00:00<?, ?it/s]"
      ]
     },
     "metadata": {},
     "output_type": "display_data"
    },
    {
     "name": "stdout",
     "output_type": "stream",
     "text": [
      "CPU times: user 12min 49s, sys: 1.95 s, total: 12min 51s\n",
      "Wall time: 12min 53s\n"
     ]
    }
   ],
   "source": [
    "%%time\n",
    "limit_forest_predictions_5m = get_prediction_for_forest_of_size_t(t=5*10**6)"
   ]
  },
  {
   "cell_type": "code",
   "execution_count": 42,
   "id": "648daf9e-63d2-4996-ab5c-ed72f64341f1",
   "metadata": {},
   "outputs": [
    {
     "data": {
      "application/vnd.jupyter.widget-view+json": {
       "model_id": "7b82a77995dd4d2bb601491e6fccfbc9",
       "version_major": 2,
       "version_minor": 0
      },
      "text/plain": [
       "  0%|          | 0/1 [00:00<?, ?it/s]"
      ]
     },
     "metadata": {},
     "output_type": "display_data"
    },
    {
     "data": {
      "application/vnd.jupyter.widget-view+json": {
       "model_id": "fbbd510063c24ae7b306b51adaa83aa1",
       "version_major": 2,
       "version_minor": 0
      },
      "text/plain": [
       "  0%|          | 0/1 [00:00<?, ?it/s]"
      ]
     },
     "metadata": {},
     "output_type": "display_data"
    },
    {
     "data": {
      "application/vnd.jupyter.widget-view+json": {
       "model_id": "ccc55699f07f46f9a19986477418247a",
       "version_major": 2,
       "version_minor": 0
      },
      "text/plain": [
       "  0%|          | 0/1 [00:00<?, ?it/s]"
      ]
     },
     "metadata": {},
     "output_type": "display_data"
    },
    {
     "name": "stdout",
     "output_type": "stream",
     "text": [
      "CPU times: user 23.1 s, sys: 36.5 ms, total: 23.1 s\n",
      "Wall time: 23.2 s\n"
     ]
    }
   ],
   "source": [
    "%%time\n",
    "limit_forest_predictions_1k = get_prediction_for_forest_of_size_t(t=10**3)\n",
    "limit_forest_predictions_10k = get_prediction_for_forest_of_size_t(t=10**4)\n",
    "limit_forest_predictions_100k = get_prediction_for_forest_of_size_t(t=10**5)"
   ]
  },
  {
   "cell_type": "code",
   "execution_count": 8,
   "id": "7c0444bc-ad48-4619-b1c7-85b4c81525de",
   "metadata": {},
   "outputs": [
    {
     "data": {
      "text/plain": [
       "array([0.41223471, 0.58776529])"
      ]
     },
     "execution_count": 8,
     "metadata": {},
     "output_type": "execute_result"
    }
   ],
   "source": [
    "limit_forest_predictions[0]"
   ]
  },
  {
   "cell_type": "code",
   "execution_count": 11,
   "id": "c3a1f0d5-8dd9-4767-9621-4d77f7c33d33",
   "metadata": {},
   "outputs": [
    {
     "data": {
      "text/plain": [
       "array([0.41247332, 0.58752668])"
      ]
     },
     "execution_count": 11,
     "metadata": {},
     "output_type": "execute_result"
    }
   ],
   "source": [
    "limit_forest_predictions[0]"
   ]
  },
  {
   "cell_type": "code",
   "execution_count": 69,
   "id": "18fa7aa1-545c-4c6e-a332-dfca11981bfd",
   "metadata": {},
   "outputs": [
    {
     "data": {
      "text/plain": [
       "array([0.41249369, 0.58750631])"
      ]
     },
     "execution_count": 69,
     "metadata": {},
     "output_type": "execute_result"
    }
   ],
   "source": [
    "limit_forest_predictions[0]"
   ]
  },
  {
   "cell_type": "code",
   "execution_count": 45,
   "id": "7f6a32af-146a-4d07-a962-a9bb5d393042",
   "metadata": {},
   "outputs": [],
   "source": [
    "def get_limit_performance_on_dataset(limit_forest_predictions, seed):\n",
    "    return float(((limit_forest_predictions[seed * n : (seed + 1) * n] - Y_test[seed * n : (seed + 1) * n])**2).sum(axis=1).mean())"
   ]
  },
  {
   "cell_type": "code",
   "execution_count": 46,
   "id": "9b783404-8c0b-4d89-9ce4-9c5d25fa8143",
   "metadata": {},
   "outputs": [
    {
     "name": "stdout",
     "output_type": "stream",
     "text": [
      "0 0.469094754189516\n",
      "1 0.46756506121262775\n",
      "2 0.4338704725919669\n",
      "3 0.4473397810574176\n",
      "4 0.46065542056820397\n",
      "5 0.42565747291779027\n",
      "6 0.42602709147307743\n",
      "7 0.44103274070843235\n",
      "8 0.45809262190505573\n",
      "9 0.44033469227102906\n",
      "10 0.4717924861877238\n",
      "11 0.45270694004341566\n",
      "12 0.4895666759921859\n",
      "13 0.44989722166971724\n",
      "14 0.4444103235517214\n",
      "15 0.43993910581103385\n",
      "16 0.4331020933414282\n",
      "17 0.43786051471230086\n",
      "18 0.44598512744410534\n",
      "19 0.435402210333081\n"
     ]
    }
   ],
   "source": [
    "for i in range(20):\n",
    "    print(i, get_limit_performance_on_dataset(limit_forest_predictions_1k, i))"
   ]
  },
  {
   "cell_type": "markdown",
   "id": "b37122e4-2ce5-4583-a26e-bbf1e1ef1178",
   "metadata": {},
   "source": [
    "# Intermediate Results"
   ]
  },
  {
   "cell_type": "code",
   "execution_count": 47,
   "id": "1e4b9408-2ab8-4d03-b6ca-8f901efd4def",
   "metadata": {},
   "outputs": [
    {
     "data": {
      "application/vnd.jupyter.widget-view+json": {
       "model_id": "55c6942c9add421d9410e39d0132eb4e",
       "version_major": 2,
       "version_minor": 0
      },
      "text/plain": [
       "  0%|          | 0/1000 [00:00<?, ?it/s]"
      ]
     },
     "metadata": {},
     "output_type": "display_data"
    },
    {
     "name": "stdout",
     "output_type": "stream",
     "text": [
      "(1000, 10, 10000, 2)\n"
     ]
    }
   ],
   "source": [
    "tree_wise_predictions = []\n",
    "for seed in tqdm(range(10**3)):\n",
    "    clf = ExtraTreesClassifier(n_estimators=t, random_state=seed, **kwargs)\n",
    "    clf.fit(X_train, y_train)\n",
    "    tree_wise_predictions.append([l.predict_proba(X_test[:n*400]) for l in clf])\n",
    "tree_wise_predictions = np.array(tree_wise_predictions)\n",
    "tree_wise_gaps = tree_wise_predictions - Y_test[:n*400]\n",
    "print(tree_wise_gaps.shape)"
   ]
  },
  {
   "cell_type": "code",
   "execution_count": 48,
   "id": "a5083ed0-243c-4f93-ad2d-72847664c4f8",
   "metadata": {},
   "outputs": [],
   "source": [
    "def get_sample_of_tree_wise_gaps(seed):\n",
    "    if n * (seed + 1) > tree_wise_gaps.shape[2]:\n",
    "        raise ValueError()\n",
    "    return tree_wise_gaps[:, :, seed * n : (seed + 1) * n]\n",
    "\n",
    "def get_sample_of_tree_wise_predictions(seed):\n",
    "    if n * (seed + 1) > tree_wise_gaps.shape[2]:\n",
    "        raise ValueError()\n",
    "    return tree_wise_gaps[:, :, seed * n : (seed + 1) * n]"
   ]
  },
  {
   "cell_type": "markdown",
   "id": "2ed56684-9e04-40ee-9aa2-ca7ff1f0b3e3",
   "metadata": {},
   "source": [
    "## 1. Check Correctness of $\\mathbb{E}[Z_{nt}|\\mathcal{D}]$\n",
    "\n",
    "In this section, we simply take the first `n` points of `X_test` as (an arbitrary) choice of $\\mathcal{D}$. This is reflected by using `seed = 0` in all the samples."
   ]
  },
  {
   "cell_type": "markdown",
   "id": "d206c924-40ba-42c0-82f4-d3be013ff8f7",
   "metadata": {},
   "source": [
    "### Approximate true value of $\\mathbb{E}[Z_{nt}|\\mathcal{D}]$"
   ]
  },
  {
   "cell_type": "code",
   "execution_count": 49,
   "id": "ce191c6d-26b6-4389-8614-17b7e50f5b0b",
   "metadata": {},
   "outputs": [],
   "source": [
    "vals_of_z_nt = np.mean(((get_sample_of_tree_wise_gaps(0).mean(axis=1))**2).sum(axis=2), axis=1)"
   ]
  },
  {
   "cell_type": "markdown",
   "id": "1ce59eea-9baa-4376-82b1-8836d71288fb",
   "metadata": {},
   "source": [
    "### Create Estimate via $\\frac{1}{n}\\sum_{i=1}^n\\sum_{j=1}^k \\left(\\mathbb{E}\\left[\\hat Y^{s}_{i,j} - Y_{ij}|\\mathcal{D}\\right]^2 + \\frac{1}{t}\\mathbb{V}\\left[\\hat Y^{1}_{i,j} - Y_{ij}|\\mathcal{D}\\right]\\right)$"
   ]
  },
  {
   "cell_type": "code",
   "execution_count": 50,
   "id": "a901c6bf-883f-472c-9c80-61d02e99007b",
   "metadata": {},
   "outputs": [],
   "source": [
    "squared_mean_of_gaps = get_sample_of_tree_wise_gaps(0).mean(axis=(0, 1))**2\n",
    "sum_of_variances = get_sample_of_tree_wise_gaps(0).var(axis=(0,1)) / t\n",
    "predictive_expression = (squared_mean_of_gaps + sum_of_variances).sum(axis=1).mean()"
   ]
  },
  {
   "cell_type": "code",
   "execution_count": 51,
   "id": "e3991e01-ea63-4f8c-a844-bbb558b5e4a8",
   "metadata": {},
   "outputs": [],
   "source": [
    "assert np.isclose(predictive_expression, vals_of_z_nt.mean(), 10**-4), f\"Expected {vals_of_z_nt.mean()} but saw {predictive_expression}\""
   ]
  },
  {
   "cell_type": "markdown",
   "id": "00845cad-3efb-4471-a7d1-d77c5d63f05c",
   "metadata": {},
   "source": [
    "## 2. Check Correctness of $\\mathbb{E}[Z_{nt} - Z_{n\\infty}|\\mathcal{D}]$"
   ]
  },
  {
   "cell_type": "code",
   "execution_count": 53,
   "id": "945da5fb-0481-49b9-b392-ad0a1af7e05f",
   "metadata": {},
   "outputs": [
    {
     "data": {
      "text/plain": [
       "np.float64(0.0017972828658153195)"
      ]
     },
     "execution_count": 53,
     "metadata": {},
     "output_type": "execute_result"
    }
   ],
   "source": [
    "true_approximated_gap = vals_of_z_nt.mean() - get_limit_performance_on_dataset(limit_forest_predictions_100k, 0)\n",
    "true_approximated_gap"
   ]
  },
  {
   "cell_type": "code",
   "execution_count": 54,
   "id": "f5754a13-f9f6-4d05-a99c-0b7aaafe956f",
   "metadata": {},
   "outputs": [
    {
     "data": {
      "text/plain": [
       "np.float64(0.002016859831413809)"
      ]
     },
     "execution_count": 54,
     "metadata": {},
     "output_type": "execute_result"
    }
   ],
   "source": [
    "predictive_expression = get_sample_of_tree_wise_predictions(0).var(axis=(0, 1)).sum() / (t * n)\n",
    "predictive_expression"
   ]
  },
  {
   "cell_type": "code",
   "execution_count": 55,
   "id": "edd9fb2b-a660-4889-99db-b0cf9e8a3e9f",
   "metadata": {},
   "outputs": [
    {
     "ename": "AssertionError",
     "evalue": "Expected 0.0017972828658153195 but saw 0.002016859831413809",
     "output_type": "error",
     "traceback": [
      "\u001b[0;31m---------------------------------------------------------------------------\u001b[0m",
      "\u001b[0;31mAssertionError\u001b[0m                            Traceback (most recent call last)",
      "Cell \u001b[0;32mIn[55], line 1\u001b[0m\n\u001b[0;32m----> 1\u001b[0m \u001b[38;5;28;01massert\u001b[39;00m np\u001b[38;5;241m.\u001b[39mabs(true_approximated_gap \u001b[38;5;241m-\u001b[39m predictive_expression) \u001b[38;5;241m<\u001b[39m\u001b[38;5;241m=\u001b[39m \u001b[38;5;241m10\u001b[39m\u001b[38;5;241m*\u001b[39m\u001b[38;5;241m*\u001b[39m\u001b[38;5;241m-\u001b[39m\u001b[38;5;241m4\u001b[39m, \u001b[38;5;124mf\u001b[39m\u001b[38;5;124m\"\u001b[39m\u001b[38;5;124mExpected \u001b[39m\u001b[38;5;132;01m{\u001b[39;00mtrue_approximated_gap\u001b[38;5;132;01m}\u001b[39;00m\u001b[38;5;124m but saw \u001b[39m\u001b[38;5;132;01m{\u001b[39;00mpredictive_expression\u001b[38;5;132;01m}\u001b[39;00m\u001b[38;5;124m\"\u001b[39m\n",
      "\u001b[0;31mAssertionError\u001b[0m: Expected 0.0017972828658153195 but saw 0.002016859831413809"
     ]
    }
   ],
   "source": [
    "assert np.abs(true_approximated_gap - predictive_expression) <= 10**-4, f\"Expected {true_approximated_gap} but saw {predictive_expression}\""
   ]
  },
  {
   "cell_type": "code",
   "execution_count": 70,
   "id": "3dc17671-dd89-40a6-b432-b61f0d882436",
   "metadata": {},
   "outputs": [
    {
     "data": {
      "application/vnd.jupyter.widget-view+json": {
       "model_id": "9d36ea5186c448acb16c7bec39d90b40",
       "version_major": 2,
       "version_minor": 0
      },
      "text/plain": [
       "  0%|          | 0/200 [00:00<?, ?it/s]"
      ]
     },
     "metadata": {},
     "output_type": "display_data"
    },
    {
     "data": {
      "application/vnd.jupyter.widget-view+json": {
       "model_id": "a6b18f5a26584f3bb3c8ad16a9de63cf",
       "version_major": 2,
       "version_minor": 0
      },
      "text/plain": [
       "  0%|          | 0/200 [00:00<?, ?it/s]"
      ]
     },
     "metadata": {},
     "output_type": "display_data"
    },
    {
     "data": {
      "application/vnd.jupyter.widget-view+json": {
       "model_id": "683fa48b17ca40829301b9e661f91c7d",
       "version_major": 2,
       "version_minor": 0
      },
      "text/plain": [
       "  0%|          | 0/200 [00:00<?, ?it/s]"
      ]
     },
     "metadata": {},
     "output_type": "display_data"
    },
    {
     "data": {
      "image/png": "[encoded data removed]",
      "text/plain": [
       "<Figure size 640x480 with 1 Axes>"
      ]
     },
     "metadata": {},
     "output_type": "display_data"
    }
   ],
   "source": [
    "fig, ax = plt.subplots()\n",
    "\n",
    "lower = np.inf\n",
    "upper = -np.inf\n",
    "\n",
    "for limit_def, num_trees in zip([limit_forest_predictions_100k, limit_forest_predictions_1m, limit_forest_predictions_5m], [\"10k\", \"1m\", \"5m\"]):\n",
    "    comparison = np.array([\n",
    "        [\n",
    "            (np.mean(((get_sample_of_tree_wise_gaps(i).mean(axis=1))**2).sum(axis=2), axis=1) - get_limit_performance_on_dataset(limit_def, i)).mean(),\n",
    "            get_sample_of_tree_wise_predictions(i).var(axis=(0, 1)).sum() / (t * n)\n",
    "        ]\n",
    "        for i in tqdm(range(200))\n",
    "    ])\n",
    "    lower = np.min([lower, np.min(comparison)])\n",
    "    upper = np.max([upper, np.max(comparison)])\n",
    "    mse = np.linalg.norm(comparison[:,0] - comparison[:,1])\n",
    "    ax.scatter(comparison[:,0], comparison[:,1], label=f\"{num_trees} trees (RMSE = {np.round(np.sqrt(mse), 4)})\", s=10, alpha=0.8)\n",
    "ax.plot([lower, upper], [lower, upper], color=\"black\", linestyle=\"--\")\n",
    "ax.set_xlabel(r\"True Gap (per $\\mathcal{D}$)\")\n",
    "ax.set_ylabel(r\"Predicted Gap (per $\\mathcal{D}$)\")\n",
    "ax.legend()\n",
    "plt.show()"
   ]
  },
  {
   "cell_type": "markdown",
   "id": "a8844b68-07fa-4a02-879a-7e5b94f121a7",
   "metadata": {},
   "source": [
    "## 3. Check Correctness of $\\mathbb{V}_\\mathcal{D}[\\mathbb{E}[Z_{nt} - Z_{n\\infty}|\\mathcal{D}]]$"
   ]
  },
  {
   "cell_type": "code",
   "execution_count": null,
   "id": "e9951c5d-94bc-4c53-8e57-ae2d7519a57e",
   "metadata": {},
   "outputs": [],
   "source": [
    "vals_of_z_nt.shape"
   ]
  },
  {
   "cell_type": "markdown",
   "id": "0e988843-ecae-48d4-b2ff-2fd80a1fcc64",
   "metadata": {},
   "source": [
    "### Approximate true value of $\\mathbb{V}_\\mathcal{D}[\\mathbb{E}[Z_{nt} - Z_{n\\infty}|\\mathcal{D}]]$"
   ]
  },
  {
   "cell_type": "code",
   "execution_count": null,
   "id": "9e9e26d1-14b7-46ab-8b93-9e862bced392",
   "metadata": {},
   "outputs": [],
   "source": [
    "samples_of_E_diff_true = []\n",
    "for i in tqdm(range(400)):\n",
    "    #print(get_sample_of_tree_wise_gaps(i).shape)\n",
    "    samples_of_E_diff_true.append(float((\n",
    "        (get_sample_of_tree_wise_gaps(i).mean(axis=1)**2).sum(axis=2).mean(axis=1) -\n",
    "        get_limit_performance_on_dataset(i)).mean()\n",
    "    ))\n",
    "    #samples_of_E_diff_orig.append(float(get_sample_of_tree_wise_predictions(i).var(axis=(0, 1)).sum() / (t * n)))\n",
    "    #tmp.append(np.std(samples_of_E_diff))\n",
    "true_std = float(np.std(samples_of_E_diff_true))"
   ]
  },
  {
   "cell_type": "markdown",
   "id": "6a264b99-0508-438b-9217-50db7f0de203",
   "metadata": {},
   "source": [
    "### Estimation"
   ]
  },
  {
   "cell_type": "raw",
   "id": "e9e868d6-2854-4d04-9e3b-31a990c41491",
   "metadata": {},
   "source": [
    "samples_of_E_diff_pred = []\n",
    "tmp = []\n",
    "for i in tqdm(range(400)):\n",
    "    samples_of_E_diff_pred.append(float(get_sample_of_tree_wise_predictions(i).var(axis=(0, 1)).sum() / (t * n)))"
   ]
  },
  {
   "cell_type": "code",
   "execution_count": 25,
   "id": "b8a48efd-47ee-4149-bd7e-24ecb5b27a3d",
   "metadata": {},
   "outputs": [],
   "source": [
    "inner_variances = tree_wise_predictions.var(axis=(0, 1))\n",
    "#predictive_expression = np.sqrt().sum(axis=1).var() / (t**2 * n))\n",
    "#predictive_expression"
   ]
  },
  {
   "cell_type": "code",
   "execution_count": 26,
   "id": "8df9b4bd-ac2f-4528-bb6c-678881731ad1",
   "metadata": {},
   "outputs": [],
   "source": [
    "prediction_by_eq_1 = np.std([get_sample_of_tree_wise_predictions(i).var(axis=(0, 1)).sum() / (t * n) for i in range(400)])"
   ]
  },
  {
   "cell_type": "code",
   "execution_count": 27,
   "id": "073554c5-9736-458a-8fb5-1ca5b2383406",
   "metadata": {},
   "outputs": [
    {
     "data": {
      "text/plain": [
       "np.float64(0.0004170330402178704)"
      ]
     },
     "execution_count": 27,
     "metadata": {},
     "output_type": "execute_result"
    }
   ],
   "source": [
    "prediction_by_eq_3 = np.sqrt(inner_variances.sum(axis=1).var() / (t**2 * n))\n",
    "prediction_by_eq_3"
   ]
  },
  {
   "cell_type": "code",
   "execution_count": 28,
   "id": "0e572250-3b3c-42ae-b1f2-c0345563eec2",
   "metadata": {},
   "outputs": [
    {
     "data": {
      "text/plain": [
       "<function ndarray.sum>"
      ]
     },
     "execution_count": 28,
     "metadata": {},
     "output_type": "execute_result"
    }
   ],
   "source": [
    "inner_variances.sum"
   ]
  },
  {
   "cell_type": "code",
   "execution_count": 29,
   "id": "ae0b30bd-7ef8-43a9-8a19-27bed27a7c7c",
   "metadata": {},
   "outputs": [
    {
     "ename": "NameError",
     "evalue": "name 'true_approximated_std' is not defined",
     "output_type": "error",
     "traceback": [
      "\u001b[0;31m---------------------------------------------------------------------------\u001b[0m",
      "\u001b[0;31mNameError\u001b[0m                                 Traceback (most recent call last)",
      "Cell \u001b[0;32mIn[29], line 1\u001b[0m\n\u001b[0;32m----> 1\u001b[0m np\u001b[38;5;241m.\u001b[39mabs(true_approximated_std \u001b[38;5;241m-\u001b[39m predictive_expression)\n",
      "\u001b[0;31mNameError\u001b[0m: name 'true_approximated_std' is not defined"
     ]
    }
   ],
   "source": [
    "np.abs(true_approximated_std - predictive_expression)"
   ]
  },
  {
   "cell_type": "code",
   "execution_count": 30,
   "id": "53f677c9-e4f3-4080-b18e-9231441d283d",
   "metadata": {},
   "outputs": [
    {
     "data": {
      "image/png": "[encoded data removed]",
      "text/plain": [
       "<Figure size 1000x400 with 1 Axes>"
      ]
     },
     "metadata": {},
     "output_type": "display_data"
    }
   ],
   "source": [
    "fig, ax = plt.subplots(figsize=(10, 4))\n",
    "ax.plot([np.std(samples_of_E_diff_true[:i+1]) for i in range(len(samples_of_E_diff_true))], label=r\"$\\sqrt{\\mathbb{V}_\\mathcal{D}[\\mathbb{E}[Z_{nt} - Z_{n\\infty}|\\mathcal{D}]]}$\")\n",
    "ax.set_title(r\"Approximated value of $\\sqrt{\\mathbb{V}_\\mathcal{D}[\\mathbb{E}[Z_{nt} - Z_{n\\infty}|\\mathcal{D}]]}$ is \" f\"{true_std}\")\n",
    "ax.axhline(true_std, color=\"C0\", linestyle=\"--\")\n",
    "ax.axhspan(true_std - 0.000005, true_std + 0.000005, color=\"C0\", alpha=0.2)\n",
    "\n",
    "ax.axhline(prediction_by_eq_1, color=\"black\", linestyle=\"--\", label=\"Prediction 1\")\n",
    "ax.axhline(prediction_by_eq_3, color=\"orange\", linestyle=\"--\", label=\"Final Prediction\")\n",
    "\n",
    "         \n",
    "ax.legend()\n",
    "ax.set_xlabel(r\"number of considered datasets $\\mathcal{D}$ of size n=\" f\"{n}\")\n",
    "plt.show()"
   ]
  },
  {
   "cell_type": "code",
   "execution_count": 27,
   "id": "9b597964-460e-4162-b6a1-830820bca79c",
   "metadata": {},
   "outputs": [
    {
     "data": {
      "text/plain": [
       "np.float64(0.00042387277408919384)"
      ]
     },
     "execution_count": 27,
     "metadata": {},
     "output_type": "execute_result"
    }
   ],
   "source": [
    "true_approximated_std = np.std(samples_of_E_diff)\n",
    "true_approximated_std"
   ]
  },
  {
   "cell_type": "markdown",
   "id": "61362eee-2b63-46c7-b847-286978190bad",
   "metadata": {},
   "source": [
    "### Predictive Estimate of $\\mathbb{V}_\\mathcal{D}[\\mathbb{E}[Z_{nt} - Z_{n\\infty}|\\mathcal{D}]]$"
   ]
  },
  {
   "cell_type": "code",
   "execution_count": 30,
   "id": "6e8eb064-ba20-4e82-8db1-644bc017a51e",
   "metadata": {},
   "outputs": [],
   "source": [
    "assert np.abs(true_approximated_std - predictive_expression) <= 10**-5, f\"Expected {true_approximated_var} but saw {predictive_expression}\""
   ]
  },
  {
   "cell_type": "markdown",
   "id": "f2f97030-4a84-4b5c-ac47-a576f689e412",
   "metadata": {},
   "source": [
    "# Main Result: $\\mathbb{V}[Z_{nt} - Z_{n\\infty}]$"
   ]
  },
  {
   "cell_type": "markdown",
   "id": "54bda30b-96ba-4f45-bb46-96ae3d3c1ca1",
   "metadata": {},
   "source": [
    "## Ground Truth"
   ]
  },
  {
   "cell_type": "code",
   "execution_count": 5,
   "id": "f3707cf3-8e9a-40ab-816d-c4bfd57f3d81",
   "metadata": {},
   "outputs": [
    {
     "data": {
      "text/html": [
       "<div>\n",
       "<style scoped>\n",
       "    .dataframe tbody tr th:only-of-type {\n",
       "        vertical-align: middle;\n",
       "    }\n",
       "\n",
       "    .dataframe tbody tr th {\n",
       "        vertical-align: top;\n",
       "    }\n",
       "\n",
       "    .dataframe thead th {\n",
       "        text-align: right;\n",
       "    }\n",
       "</style>\n",
       "<table border=\"1\" class=\"dataframe\">\n",
       "  <thead>\n",
       "    <tr style=\"text-align: right;\">\n",
       "      <th></th>\n",
       "      <th>seed</th>\n",
       "      <th>gap_10</th>\n",
       "    </tr>\n",
       "  </thead>\n",
       "  <tbody>\n",
       "    <tr>\n",
       "      <th>0</th>\n",
       "      <td>0</td>\n",
       "      <td>0.011983</td>\n",
       "    </tr>\n",
       "    <tr>\n",
       "      <th>1</th>\n",
       "      <td>1</td>\n",
       "      <td>-0.003213</td>\n",
       "    </tr>\n",
       "    <tr>\n",
       "      <th>2</th>\n",
       "      <td>2</td>\n",
       "      <td>0.037373</td>\n",
       "    </tr>\n",
       "    <tr>\n",
       "      <th>3</th>\n",
       "      <td>3</td>\n",
       "      <td>-0.014264</td>\n",
       "    </tr>\n",
       "    <tr>\n",
       "      <th>4</th>\n",
       "      <td>4</td>\n",
       "      <td>-0.009769</td>\n",
       "    </tr>\n",
       "    <tr>\n",
       "      <th>...</th>\n",
       "      <td>...</td>\n",
       "      <td>...</td>\n",
       "    </tr>\n",
       "    <tr>\n",
       "      <th>2682</th>\n",
       "      <td>2682</td>\n",
       "      <td>0.005480</td>\n",
       "    </tr>\n",
       "    <tr>\n",
       "      <th>2683</th>\n",
       "      <td>2683</td>\n",
       "      <td>0.010607</td>\n",
       "    </tr>\n",
       "    <tr>\n",
       "      <th>2684</th>\n",
       "      <td>2684</td>\n",
       "      <td>0.006000</td>\n",
       "    </tr>\n",
       "    <tr>\n",
       "      <th>2685</th>\n",
       "      <td>2685</td>\n",
       "      <td>-0.000135</td>\n",
       "    </tr>\n",
       "    <tr>\n",
       "      <th>2686</th>\n",
       "      <td>2686</td>\n",
       "      <td>0.002878</td>\n",
       "    </tr>\n",
       "  </tbody>\n",
       "</table>\n",
       "<p>2687 rows × 2 columns</p>\n",
       "</div>"
      ],
      "text/plain": [
       "      seed    gap_10\n",
       "0        0  0.011983\n",
       "1        1 -0.003213\n",
       "2        2  0.037373\n",
       "3        3 -0.014264\n",
       "4        4 -0.009769\n",
       "...    ...       ...\n",
       "2682  2682  0.005480\n",
       "2683  2683  0.010607\n",
       "2684  2684  0.006000\n",
       "2685  2685 -0.000135\n",
       "2686  2686  0.002878\n",
       "\n",
       "[2687 rows x 2 columns]"
      ]
     },
     "metadata": {},
     "output_type": "display_data"
    },
    {
     "data": {
      "application/vnd.jupyter.widget-view+json": {
       "model_id": "cbf90398647c439c9cfb77d6753c8963",
       "version_major": 2,
       "version_minor": 0
      },
      "text/plain": [
       "  0%|          | 0/2500 [00:00<?, ?it/s]"
      ]
     },
     "metadata": {},
     "output_type": "display_data"
    }
   ],
   "source": [
    "domain_t = [t]\n",
    "domain_seeds = list(range(2500))\n",
    "\n",
    "path = pathlib.Path(\"limitgaps.csv\")\n",
    "df_final_gaps = None if not path.exists() else pd.read_csv(path)\n",
    "display(df_final_gaps)\n",
    "for seed in tqdm(domain_seeds):\n",
    "    if df_final_gaps is None or seed not in df_final_gaps[\"seed\"]:\n",
    "        row = [seed]\n",
    "        X_val = X_test[seed * n: (seed + 1) * n]\n",
    "        Y_val = Y_test[seed * n: (seed + 1) * n]\n",
    "        for i, t in enumerate(domain_t):\n",
    "            clf = ExtraTreesClassifier(n_estimators=t, random_state=seed, warm_start=True, **kwargs)\n",
    "            clf.fit(X_train, y_train)\n",
    "            y_pred_t = clf.predict_proba(X_val)\n",
    "            z_t = np.mean(((y_pred_t - Y_val)**2).sum(axis=1))\n",
    "            clf.n_estimators += 10**4\n",
    "            clf.fit(X_train, y_train)\n",
    "            y_pred_inf = clf.predict_proba(X_val)\n",
    "            z_inf = np.mean(((y_pred_inf - Y_val)**2).sum(axis=1))\n",
    "            gap = z_t - z_inf\n",
    "            row.append(gap)\n",
    "        new_df = pd.DataFrame([row], columns=[\"seed\"] + [f\"gap_{u}\" for u in domain_t])\n",
    "        df_final_gaps = new_df if df_final_gaps is None else pd.concat([df_final_gaps, new_df])\n",
    "        df_final_gaps.to_csv(path, index=False)"
   ]
  },
  {
   "cell_type": "code",
   "execution_count": 6,
   "id": "0d523ce5-b614-43c0-a430-ff64ee5cf364",
   "metadata": {},
   "outputs": [],
   "source": [
    "from scipy.stats import bootstrap"
   ]
  },
  {
   "cell_type": "code",
   "execution_count": 7,
   "id": "f4ec7f81-66d5-4578-b1da-818154534f6e",
   "metadata": {},
   "outputs": [
    {
     "name": "stdout",
     "output_type": "stream",
     "text": [
      "0.0003609300879999844\n"
     ]
    }
   ],
   "source": [
    "print(np.var(df_final_gaps[\"gap_10\"]))"
   ]
  },
  {
   "cell_type": "code",
   "execution_count": 8,
   "id": "3832c1ec-dc4c-4874-a968-ec183c87b92b",
   "metadata": {},
   "outputs": [
    {
     "data": {
      "text/plain": [
       "ConfidenceInterval(low=np.float64(0.0003406143984868151), high=np.float64(0.0003848177334804742))"
      ]
     },
     "execution_count": 8,
     "metadata": {},
     "output_type": "execute_result"
    }
   ],
   "source": [
    "bootstrap(df_final_gaps[\"gap_10\"].values.reshape(1 ,-1), np.var).confidence_interval"
   ]
  },
  {
   "cell_type": "markdown",
   "id": "1d638f1d-c4e3-44c2-9a7d-4f9431cd320a",
   "metadata": {},
   "source": [
    "## Estimate"
   ]
  },
  {
   "cell_type": "code",
   "execution_count": 9,
   "id": "4eacc9b1-a85d-48bf-937b-1df47eaa664b",
   "metadata": {},
   "outputs": [
    {
     "name": "stdout",
     "output_type": "stream",
     "text": [
      "CPU times: user 16 μs, sys: 19 μs, total: 35 μs\n",
      "Wall time: 40.1 μs\n"
     ]
    }
   ],
   "source": [
    "%%time\n",
    "t_data = 10**4\n",
    "n_data = 10**4\n",
    "clf = ExtraTreesClassifier(n_estimators=t_data, **kwargs)"
   ]
  },
  {
   "cell_type": "code",
   "execution_count": 10,
   "id": "476b018f-1630-418a-9fa0-7df6190f5612",
   "metadata": {},
   "outputs": [
    {
     "name": "stdout",
     "output_type": "stream",
     "text": [
      "CPU times: user 10.8 s, sys: 3.96 s, total: 14.8 s\n",
      "Wall time: 14.8 s\n"
     ]
    },
    {
     "data": {
      "text/plain": [
       "(10000, 10000, 2)"
      ]
     },
     "execution_count": 10,
     "metadata": {},
     "output_type": "execute_result"
    }
   ],
   "source": [
    "%%time\n",
    "Y_hat = np.array([l.predict_proba(X_test[:n_data]) for l in clf.fit(X_train, y_train)])\n",
    "Y_hat.shape"
   ]
  },
  {
   "cell_type": "code",
   "execution_count": 18,
   "id": "16076725-4915-456d-bd58-7e9cc112e4d8",
   "metadata": {},
   "outputs": [
    {
     "data": {
      "application/vnd.jupyter.widget-view+json": {
       "model_id": "2c080b1702f24643a6081d1c755aa2b7",
       "version_major": 2,
       "version_minor": 0
      },
      "text/plain": [
       "  0%|          | 0/10000 [00:00<?, ?it/s]"
      ]
     },
     "metadata": {},
     "output_type": "display_data"
    }
   ],
   "source": [
    "terms_cov_1 = []\n",
    "terms_cov_2 = []\n",
    "terms_cov_3 = []\n",
    "for y_hat, y_true in zip(tqdm(Y_hat.transpose(1, 0, 2)), Y_test):\n",
    "    y_hat = y_hat.reshape(-1, 1, 2)\n",
    "\n",
    "    gaps = y_hat - y_true\n",
    "\n",
    "    # covariances 1 (all shared, i.e., a variance)\n",
    "    xis = []\n",
    "    for i in range(t):\n",
    "        xis.append((gaps[i] ** 2).sum())\n",
    "    terms_cov_1.append(np.var(xis))\n",
    "\n",
    "    # covariances 2 (only actual covariances)\n",
    "    xis = []\n",
    "    for i1, i2, i3 in it.combinations(range(t), 3):\n",
    "        xis.append([(gaps[i1] * gaps[i2]).sum(), (gaps[i1] * gaps[i3]).sum()])\n",
    "    xis = np.array(xis)\n",
    "    terms_cov_2.append(np.cov(xis[:,0], xis[:,1])[0, 1])\n",
    "\n",
    "    # covariances 3 (2 shared, i.e., a variance)\n",
    "    xis = []\n",
    "    for i1, i2 in it.combinations(range(t), 2):\n",
    "        xis.append((gaps[i1] * gaps[i2]).sum())\n",
    "    terms_cov_3.append(np.var(xis))\n",
    "\n",
    "v = (Y_hat.var(axis=0).sum(axis=1)).var()\n",
    "c1 = np.mean(terms_cov_1)\n",
    "c2 = np.mean(terms_cov_2)\n",
    "c3 = np.mean(terms_cov_3)"
   ]
  },
  {
   "cell_type": "code",
   "execution_count": 19,
   "id": "24532232-9509-4098-9ffe-6f38d625379e",
   "metadata": {},
   "outputs": [],
   "source": [
    "def estimate_variance_of_gap(t, n, v, c1, c2, c3):\n",
    "    return 1 / (t**3) * (t / n * v + c1 + 2 * (t - 1) * (2 * (t-2) * c2 + c3))"
   ]
  },
  {
   "cell_type": "code",
   "execution_count": 20,
   "id": "feb3654a-ce24-41de-b785-d5b0dbe09bac",
   "metadata": {},
   "outputs": [
    {
     "data": {
      "text/plain": [
       "np.float64(0.0027422017781290747)"
      ]
     },
     "execution_count": 20,
     "metadata": {},
     "output_type": "execute_result"
    }
   ],
   "source": [
    "estimate_variance_of_gap(t=t, n=n, v=v, c1=c1, c2=c2, c3=c3)"
   ]
  },
  {
   "cell_type": "code",
   "execution_count": 13,
   "id": "3f72063c-acc4-4df6-8617-bbedaa52e3ed",
   "metadata": {},
   "outputs": [
    {
     "name": "stdout",
     "output_type": "stream",
     "text": [
      "0.025602517675206833 0.03141217801349504\n",
      "0.008515465553221397 0.004815645307667405\n",
      "0.014665110859890081 0.01487484220160536\n"
     ]
    }
   ],
   "source": [
    "print(np.mean(terms_cov_1), np.std(terms_cov_1))\n",
    "print(np.mean(terms_cov_2), np.std(terms_cov_2))\n",
    "print(np.mean(terms_cov_3), np.std(terms_cov_3))"
   ]
  },
  {
   "cell_type": "code",
   "execution_count": 14,
   "id": "f1551004-cd07-42c1-abf7-4a8f989d7659",
   "metadata": {},
   "outputs": [
    {
     "data": {
      "image/png": "[encoded data removed]",
      "text/plain": [
       "<Figure size 640x480 with 1 Axes>"
      ]
     },
     "metadata": {},
     "output_type": "display_data"
    }
   ],
   "source": [
    "fig, ax = plt.subplots()\n",
    "ax.boxplot([terms_cov_1, terms_cov_2, terms_cov_3])\n",
    "plt.show()"
   ]
  },
  {
   "cell_type": "code",
   "execution_count": 27,
   "id": "56b59249-c46c-4def-9715-16f43cac62e6",
   "metadata": {},
   "outputs": [
    {
     "name": "stdout",
     "output_type": "stream",
     "text": [
      "0.020028253762591937\n",
      "0.022417000826807032\n"
     ]
    }
   ],
   "source": [
    "vals = []\n",
    "for i, df_i in lb.equals().combine(lb.equals(), lambda_filter=lambda r: (r[\"i\"] == r[\"ip\"]) & (r[\"s1\"] == r[\"s3\"])).lambdas.groupby(\"i\"):\n",
    "    vals.append(df_i[[\"lambda1\", \"lambda2\"]].cov().values[0, 1])\n",
    "c1 = np.mean(vals)\n",
    "print(c1)\n",
    "print(lb.equals().combine(lb.equals(), lambda_filter=lambda r: (r[\"i\"] == r[\"ip\"]) & (r[\"s1\"] == r[\"s3\"])).cov())"
   ]
  },
  {
   "cell_type": "code",
   "execution_count": 28,
   "id": "f37ac552-7c78-48cc-ac2e-4e8f74500a10",
   "metadata": {},
   "outputs": [
    {
     "name": "stdout",
     "output_type": "stream",
     "text": [
      "0.003863342446318873\n",
      "0.007832256316591133\n"
     ]
    }
   ],
   "source": [
    "vals = []\n",
    "sublb = lb.unequals().combine(lb.unequals(), on=\"i\", require_right_is_not_smaller=False, lambda_filter=lambda r: (r[\"s1\"] == r[\"s3\"]) & (r[\"s2\"] != r[\"s4\"]))\n",
    "for i, df_i in sublb.lambdas.groupby(\"i\"):\n",
    "    vals.append(df_i[[\"lambda1\", \"lambda2\"]].cov().values[0, 1])\n",
    "c2 = np.mean(vals)\n",
    "print(c2)\n",
    "print(sublb.cov())"
   ]
  },
  {
   "cell_type": "code",
   "execution_count": 29,
   "id": "eb3f5371-d2bf-4d08-9fcb-6647570205db",
   "metadata": {},
   "outputs": [
    {
     "name": "stdout",
     "output_type": "stream",
     "text": [
      "0.013707885443680323\n",
      "0.01818535410395965\n"
     ]
    }
   ],
   "source": [
    "vals = []\n",
    "sublb = lb.unequals().combine(lb.unequals(), on=\"i\", require_right_is_not_smaller=False, lambda_filter=lambda r: (r[\"s1\"] == r[\"s3\"]) & (r[\"s2\"] == r[\"s4\"]))\n",
    "for i, df_i in sublb.lambdas.groupby(\"i\"):\n",
    "    vals.append(df_i[[\"lambda1\", \"lambda2\"]].cov().values[0, 1])\n",
    "c3 = np.mean(vals)\n",
    "print(c3)\n",
    "print(sublb.cov())"
   ]
  },
  {
   "cell_type": "code",
   "execution_count": 107,
   "id": "9f3e4e53-f02b-42b8-8a38-22c275645d79",
   "metadata": {},
   "outputs": [
    {
     "data": {
      "text/plain": [
       "np.float64(0.22023340631808083)"
      ]
     },
     "execution_count": 107,
     "metadata": {},
     "output_type": "execute_result"
    }
   ],
   "source": [
    "gaps.var()"
   ]
  },
  {
   "cell_type": "code",
   "execution_count": 25,
   "id": "e8a0a4aa-90eb-40e1-b7e5-73eaecd18e15",
   "metadata": {},
   "outputs": [
    {
     "data": {
      "image/png": "[encoded data removed]",
      "text/plain": [
       "<Figure size 640x480 with 1 Axes>"
      ]
     },
     "metadata": {},
     "output_type": "display_data"
    }
   ],
   "source": [
    "fig, ax = plt.subplots()\n",
    "ax.plot(domain_t, gaps.var(axis=1))\n",
    "ax.set_xscale(\"log\")\n",
    "ax.set_yscale(\"log\")\n",
    "plt.show()"
   ]
  },
  {
   "cell_type": "code",
   "execution_count": 3,
   "id": "7f3fe662",
   "metadata": {},
   "outputs": [
    {
     "name": "stdout",
     "output_type": "stream",
     "text": [
      "CPU times: user 24min 13s, sys: 5 s, total: 24min 18s\n",
      "Wall time: 24min 21s\n"
     ]
    }
   ],
   "source": [
    "%%time\n",
    "class Predictor:\n",
    "    \n",
    "    def __init__(self, X_train, X_test, y_train, y_test, clf=None, n_estimators=10**3):\n",
    "        if clf is None:\n",
    "            clf = ExtraTreesClassifier(n_estimators=n_estimators, random_state=0, max_depth=1).fit(X_train, y_train)\n",
    "        self.clf = clf\n",
    "        self.y_test_oh = get_one_hot_encoding(y_test)\n",
    "        self.n = None\n",
    "        self.t = None\n",
    "        \n",
    "    def reset(self, n, t):\n",
    "        \n",
    "        self.n = n\n",
    "        self.t = t\n",
    "        num_ensembles = min([len(self.clf) // t, len(self.y_test_oh) // n])\n",
    "        \n",
    "        gaps = []\n",
    "        for i_ensemble in tqdm(range(num_ensembles)):\n",
    "            y_pred = np.array([\n",
    "                l.predict_proba(X_test[i_ensemble*n: (i_ensemble + 1) * n])\n",
    "                for l in self.clf[i_ensemble * t: (i_ensemble + 1) * t]\n",
    "            ])\n",
    "            gaps.append(y_pred - self.y_test_oh[i_ensemble*n: (i_ensemble + 1) * n])\n",
    "        self.gaps = np.array(gaps)\n",
    "        self.scores = (self.gaps.mean(axis=1)**2).sum(axis=2).mean(axis=1)\n",
    "        \n",
    "    def estimate_E_by_first_line(self):\n",
    "        ensemble_gaps_per_instance_and_target = self.gaps.mean(axis=1)\n",
    "        return (ensemble_gaps_per_instance_and_target**2).sum(axis=2).mean(axis=1).mean()\n",
    "    \n",
    "    def estimate_E_by_third_line(self):\n",
    "        ensemble_gaps_per_instance_and_target = self.gaps.mean(axis=1)\n",
    "        inner_term_per_instance_and_target = ensemble_gaps_per_instance_and_target.mean(axis=0)**2 + ensemble_gaps_per_instance_and_target.var(axis=0)\n",
    "        return inner_term_per_instance_and_target.sum(axis=1).mean()\n",
    "    \n",
    "    def estimate_E_by_seventh_line(self):\n",
    "        t = self.t\n",
    "        n = self.n\n",
    "        k = self.gaps.shape[-1]\n",
    "        \n",
    "        # expected values\n",
    "        term1 = (self.gaps.mean(axis=(0,1))**2).sum(axis=1).mean()\n",
    "        \n",
    "        # variances\n",
    "        term2 = self.gaps.var(axis=0).sum(axis=(0,2)).mean() / t**2\n",
    "        \n",
    "        # covariances\n",
    "        cov_sum = 0\n",
    "        for i in range(n):\n",
    "            for j in range(k):\n",
    "                for s in range(t):\n",
    "                    for sp in range(s):\n",
    "                        cov_sum += np.cov(self.gaps[:,[s,sp], i, j].T, ddof=0)[0, 1]\n",
    "        cov_sum /= (n * t**2)\n",
    "        term3 = 2 * cov_sum\n",
    "        \n",
    "        # sum up\n",
    "        return term1 + term2 + term3\n",
    "    \n",
    "    def estimate_E_by_iid_assumption(self):\n",
    "        \n",
    "        n, t = self.n, self.t\n",
    "        k = self.gaps.shape[-1]\n",
    "        \n",
    "        # mean\n",
    "        term1 = (self.gaps.mean(axis=(0,1,2))**2).sum()  # here we already sum up over the instances, ensemble members, and outer seeds\n",
    "        \n",
    "        # variance\n",
    "        term2 = self.gaps.var(axis=(0, 1, 2)).sum() / t\n",
    "        \n",
    "        # co-variances\n",
    "        covs = []\n",
    "        for j in range(k):\n",
    "            covs_for_j = []\n",
    "            for s in range(t):\n",
    "                c1 = self.gaps[:,s,:,j].flatten()\n",
    "                for sp in range(s):\n",
    "                    c2 = self.gaps[:,sp,:,j].flatten()\n",
    "                    covs_for_j.append(np.cov(c1, c2, ddof=0)[0, 1])\n",
    "            covs.append(np.mean(covs_for_j))\n",
    "        term3 = (1 - 1/t) * sum(covs)\n",
    "        return term1 + term2 + term3\n",
    "    \n",
    "    def test_prediction_of_E(self, n, t):\n",
    "        funs = [self.estimate_E_by_first_line, self.predict_E_by_third_line, self.predict_E_by_fourth_line, self.predict_E_by_fifth_line, self.predict_E_by_sixth_line, self.predict_E_by_seventh_line]\n",
    "        expected = df_results[(df_results[\"n\"] == n) & (df_results[\"t\"] == t)][\"error\"].mean()\n",
    "        if np.isnan(expected):\n",
    "            raise ValueError(\"No expected value found.\")\n",
    "        print(f\"Expecting: {expected}\")\n",
    "        for i, fun in enumerate(tqdm(funs)):\n",
    "            actual = fun(t=t, n=n) if i == 0 else fun(t=t)\n",
    "            assert np.abs(expected - actual) <= 0.001, f\"Expected {expected} but saw {actual}\"\n",
    "        \n",
    "        for fun in tqdm(funs[-2:]):\n",
    "            actual = fun(t, prob=0.1)\n",
    "            assert np.abs(expected - actual) <= 0.01, f\"Expected {expected} but saw {actual}\"\n",
    "            \n",
    "    def get_covariances_for_gap_products(self):\n",
    "        rows = []\n",
    "        i_domain = range(self.n)\n",
    "        s_domain = range(self.t)\n",
    "        pbar = tqdm(total=self.n**2 * self.t**4)\n",
    "        for i, ip, s1, s2, s1p, s2p in it.product(i_domain, i_domain, s_domain, s_domain, s_domain, s_domain):\n",
    "            col1 = (self.gaps[:,s1,i] * self.gaps[:,s2,i]).sum(axis=1)\n",
    "            col2 = (self.gaps[:,s1p,ip] * self.gaps[:,s2p,ip]).sum(axis=1)\n",
    "            rows.append([i,ip,s1,s2,s1p,s2p,np.cov(col1, col2, ddof=0)[0,1]])\n",
    "            pbar.update(1)\n",
    "        pbar.close()\n",
    "        return pd.DataFrame(rows, columns=[\"i\", \"ip\", \"s1\", \"s2\", \"s1p\", \"s2p\", \"cov\"])\n",
    "    \n",
    "    def estimate_V_by_first_line(self, n, t):\n",
    "        sample = self.get_error_sample(n, t, allow_crossings=True)\n",
    "        return sample.var()\n",
    "    \n",
    "    def estimate_V_by_full_sum_of_covariances(self, n, t):\n",
    "        covariances = self.get_covariances_for_gap_products(n=n, t=t)\n",
    "        return covariances[\"cov\"].sum() / (n**2 * t**4)\n",
    "    \n",
    "    def estimate_V_by_theorem(self, n, t):\n",
    "        i_domain = range(n)\n",
    "        for i, ip in it.product(i_domain, i_domain):\n",
    "            print(i, ip)\n",
    "\n",
    "predictor = Predictor(X_train, X_test, y_train, y_test, n_estimators=2*10**6)"
   ]
  },
  {
   "cell_type": "code",
   "execution_count": 5,
   "id": "2c2fa79e-f823-4a3d-b30c-b7593168dffc",
   "metadata": {},
   "outputs": [
    {
     "data": {
      "application/vnd.jupyter.widget-view+json": {
       "model_id": "141f8e64448d4dec801ce5de99c2e107",
       "version_major": 2,
       "version_minor": 0
      },
      "text/plain": [
       "  0%|          | 0/1000 [00:00<?, ?it/s]"
      ]
     },
     "metadata": {},
     "output_type": "display_data"
    }
   ],
   "source": [
    "predictor.reset(n=100, t=2000)\n",
    "EZ_inf = predictor.estimate_E_by_first_line()"
   ]
  },
  {
   "cell_type": "code",
   "execution_count": 6,
   "id": "7ddb45d6-d28a-48e2-855b-ac12b1a77018",
   "metadata": {},
   "outputs": [
    {
     "data": {
      "text/plain": [
       "(1000, 2000, 100, 2)"
      ]
     },
     "execution_count": 6,
     "metadata": {},
     "output_type": "execute_result"
    }
   ],
   "source": [
    "predictor.gaps.shape"
   ]
  },
  {
   "cell_type": "code",
   "execution_count": null,
   "id": "45adb70f-8acd-4b1e-a2c5-19ed06ead45b",
   "metadata": {},
   "outputs": [
    {
     "data": {
      "application/vnd.jupyter.widget-view+json": {
       "model_id": "0caf7c0122e34d6eaa8b8b67032982ed",
       "version_major": 2,
       "version_minor": 0
      },
      "text/plain": [
       "  0%|          | 0/20000 [00:00<?, ?it/s]"
      ]
     },
     "metadata": {},
     "output_type": "display_data"
    }
   ],
   "source": [
    "predictor.reset(n=1, t=100)\n",
    "EZ_t = predictor.estimate_E_by_first_line()"
   ]
  },
  {
   "cell_type": "code",
   "execution_count": null,
   "id": "39d78ca5-ee12-4673-adce-9c5f27c07249",
   "metadata": {},
   "outputs": [],
   "source": [
    "predictor.gaps.shape"
   ]
  },
  {
   "cell_type": "code",
   "execution_count": null,
   "id": "be525d63-ca66-4b3d-828b-5a6e8c0ef503",
   "metadata": {},
   "outputs": [],
   "source": [
    "diff = EZ_t - EZ_inf\n",
    "diff"
   ]
  },
  {
   "cell_type": "code",
   "execution_count": null,
   "id": "87021f60-4007-4910-a506-6bdefe0fc9e4",
   "metadata": {},
   "outputs": [],
   "source": [
    "def estimate_expected_gap_to_final_performance(self):\n",
    "    \n",
    "    n, t = self.n, self.t\n",
    "    k = self.gaps.shape[-1]\n",
    "    \n",
    "    # variance\n",
    "    term1 = self.gaps.var(axis=(0, 1, 2)).sum()\n",
    "    \n",
    "    # co-variances\n",
    "    covs = []\n",
    "    for j in range(k):\n",
    "        covs_for_j = []\n",
    "        for s in range(t):\n",
    "            c1 = self.gaps[:,s,:,j].flatten()\n",
    "            for sp in range(s):\n",
    "                c2 = self.gaps[:,sp,:,j].flatten()\n",
    "                covs_for_j.append(np.cov(c1, c2, ddof=0)[0, 1])\n",
    "        covs.append(np.mean(covs_for_j))\n",
    "    covs = np.array(covs)\n",
    "    term2 = sum(covs)\n",
    "    return (term1 - term2) / t\n",
    "\n",
    "diff_predicted = estimate_expected_gap_to_final_performance(predictor)"
   ]
  },
  {
   "cell_type": "code",
   "execution_count": null,
   "id": "6380b345-0143-442b-b1f4-16033c9dcef3",
   "metadata": {},
   "outputs": [],
   "source": [
    "diff_predicted"
   ]
  },
  {
   "cell_type": "code",
   "execution_count": null,
   "id": "f1ce14b0-9e25-4602-a70b-80af0d182cd4",
   "metadata": {},
   "outputs": [],
   "source": [
    "abs(diff_predicted - diff)"
   ]
  }
 ],
 "metadata": {
  "kernelspec": {
   "display_name": "Python 3 (ipykernel)",
   "language": "python",
   "name": "python3"
  },
  "language_info": {
   "codemirror_mode": {
    "name": "ipython",
    "version": 3
   },
   "file_extension": ".py",
   "mimetype": "text/x-python",
   "name": "python",
   "nbconvert_exporter": "python",
   "pygments_lexer": "ipython3",
   "version": "3.12.5"
  }
 },
 "nbformat": 4,
 "nbformat_minor": 5
}
