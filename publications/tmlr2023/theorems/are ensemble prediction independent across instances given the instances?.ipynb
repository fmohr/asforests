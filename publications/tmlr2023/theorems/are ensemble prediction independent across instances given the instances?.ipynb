{
 "cells": [
  {
   "cell_type": "code",
   "execution_count": 1,
   "id": "ed4120e4",
   "metadata": {},
   "outputs": [],
   "source": [
    "from utils import *"
   ]
  },
  {
   "cell_type": "code",
   "execution_count": 50,
   "id": "a20bed61",
   "metadata": {},
   "outputs": [],
   "source": [
    "X, y = make_classification(n_samples=10**5, n_features=5, n_informative=5, n_redundant=0, random_state=0)\n",
    "X_train, X_test, y_train, y_test = train_test_split(\n",
    "    X,\n",
    "    y,\n",
    "    random_state=0,\n",
    "    stratify=y,\n",
    "    train_size=100,\n",
    "    test_size=2\n",
    ")\n",
    "\n",
    "y_test_ohe = get_one_hot_encoding(y_test, k=2)"
   ]
  },
  {
   "cell_type": "code",
   "execution_count": 51,
   "id": "647bd16d",
   "metadata": {
    "scrolled": true
   },
   "outputs": [
    {
     "data": {
      "application/vnd.jupyter.widget-view+json": {
       "model_id": "0c9fa90b629841b6b89c5e1d099fb20d",
       "version_major": 2,
       "version_minor": 0
      },
      "text/plain": [
       "  0%|          | 0/10 [00:00<?, ?it/s]"
      ]
     },
     "metadata": {},
     "output_type": "display_data"
    }
   ],
   "source": [
    "sums = []\n",
    "for seed in tqdm(range(10)):\n",
    "    clf = ExtraTreesClassifier(random_state=seed).fit(X_train, y_train)\n",
    "    y_pred = np.array([l.predict_proba(X_test) for l in clf])\n",
    "    sums.append(((y_pred.mean(axis=0) - y_test_ohe)**2).sum(axis=1).sum())"
   ]
  },
  {
   "cell_type": "code",
   "execution_count": 52,
   "id": "9bfc3d7d",
   "metadata": {},
   "outputs": [
    {
     "data": {
      "text/plain": [
       "0.0011840736"
      ]
     },
     "execution_count": 52,
     "metadata": {},
     "output_type": "execute_result"
    }
   ],
   "source": [
    "np.var(sums, ddof=0)"
   ]
  },
  {
   "cell_type": "code",
   "execution_count": 53,
   "id": "f48588d4",
   "metadata": {},
   "outputs": [
    {
     "data": {
      "application/vnd.jupyter.widget-view+json": {
       "model_id": "c39ff476ff1948e090fa78fe53bae801",
       "version_major": 2,
       "version_minor": 0
      },
      "text/plain": [
       "  0%|          | 0/10 [00:00<?, ?it/s]"
      ]
     },
     "metadata": {},
     "output_type": "display_data"
    }
   ],
   "source": [
    "inner_vars = []\n",
    "for seed in tqdm(range(10)):\n",
    "    clf = ExtraTreesClassifier(random_state=seed).fit(X_train, y_train)\n",
    "    y_pred = np.array([l.predict_proba(X_test) for l in clf])\n",
    "    inner_vars.append(((y_pred.mean(axis=0) - y_test_ohe)**2).sum(axis=1))\n",
    "inner_vars = np.array(inner_vars)"
   ]
  },
  {
   "cell_type": "code",
   "execution_count": 54,
   "id": "42746421",
   "metadata": {},
   "outputs": [
    {
     "data": {
      "text/plain": [
       "0.0011840736000000003"
      ]
     },
     "execution_count": 54,
     "metadata": {},
     "output_type": "execute_result"
    }
   ],
   "source": [
    "covs = [np.cov(inner_vars[:,[i1, i2]], rowvar=False, ddof=0)[0, 1] for i1, i2 in it.combinations(range(X_test.shape[0]), 2)]\n",
    "inner_vars.var(axis=0).sum() + 2 * sum(covs)"
   ]
  },
  {
   "cell_type": "code",
   "execution_count": 55,
   "id": "7a861dc4",
   "metadata": {},
   "outputs": [
    {
     "data": {
      "text/plain": [
       "-1.0313999999999912e-05"
      ]
     },
     "execution_count": 55,
     "metadata": {},
     "output_type": "execute_result"
    }
   ],
   "source": [
    "sum(covs)"
   ]
  }
 ],
 "metadata": {
  "kernelspec": {
   "display_name": "Python 3 (ipykernel)",
   "language": "python",
   "name": "python3"
  },
  "language_info": {
   "codemirror_mode": {
    "name": "ipython",
    "version": 3
   },
   "file_extension": ".py",
   "mimetype": "text/x-python",
   "name": "python",
   "nbconvert_exporter": "python",
   "pygments_lexer": "ipython3",
   "version": "3.10.11"
  }
 },
 "nbformat": 4,
 "nbformat_minor": 5
}
