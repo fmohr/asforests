{
 "cells": [
  {
   "cell_type": "code",
   "execution_count": 63,
   "id": "ab5c1ae8",
   "metadata": {},
   "outputs": [],
   "source": [
    "import json\n",
    "import numpy as np\n",
    "import pandas as pd\n",
    "import zlib\n",
    "from tqdm.notebook import tqdm\n",
    "import matplotlib.pyplot as plt"
   ]
  },
  {
   "cell_type": "code",
   "execution_count": null,
   "id": "f0d2159f",
   "metadata": {},
   "outputs": [],
   "source": [
    "with open(\"results/3_0.json\", \"rb\") as f:\n",
    "    results = json.loads(json.load(f))"
   ]
  },
  {
   "cell_type": "code",
   "execution_count": 12,
   "id": "b7707429",
   "metadata": {},
   "outputs": [],
   "source": [
    "Y_train = np.array(results[1])\n",
    "Y_test = np.array(results[2])\n",
    "prob_history_oob = np.array(json.loads(zlib.decompress(eval(results[3])).decode().replace(\"nan\", \"-1\")))\n",
    "prob_history_val = np.array(json.loads(zlib.decompress(eval(results[4])).decode().replace(\"nan\", \"-1\")))\n",
    "\n",
    "num_classes = Y_train.shape[1]\n",
    "\n",
    "prob_history_oob[prob_history_oob < 0] = np.nan\n",
    "prob_history_val[prob_history_val < 0] = np.nan\n",
    "\n",
    "# times\n",
    "times_fit = results[-4]\n",
    "times_predict_train = results[-3]\n",
    "times_predict_val = results[-2]\n",
    "times_update = results[-1]"
   ]
  },
  {
   "cell_type": "code",
   "execution_count": 67,
   "id": "9dd2b998",
   "metadata": {
    "scrolled": true
   },
   "outputs": [
    {
     "data": {
      "application/vnd.jupyter.widget-view+json": {
       "model_id": "10295774da4541908d207753ad3f5638",
       "version_major": 2,
       "version_minor": 0
      },
      "text/plain": [
       "  0%|          | 0/100 [00:00<?, ?it/s]"
      ]
     },
     "metadata": {},
     "output_type": "display_data"
    }
   ],
   "source": [
    "def compute_forest_properties(prob_history_oob, prob_history_val, Y_train, Y_val, show_progress=False):\n",
    "    for key, probs_orig, Y in zip([\"oob\", \"val\"], [prob_history_oob, prob_history_val], [Y_train, Y_val]):\n",
    "\n",
    "        # compute distribution per forest size\n",
    "        counter = np.zeros((probs_orig.shape[1], probs_orig.shape[2]))  # count how many trees voted on each instance (also use classes for convenience)\n",
    "        probs_forest = np.zeros(counter.shape)\n",
    "        probs_forest[:] = np.nan\n",
    "        prob_vars_forest = np.zeros(counter.shape)\n",
    "        prob_vars_forest[:] = np.nan\n",
    "        probs_forests = []\n",
    "        single_tree_scores = []\n",
    "        single_tree_scores_mean_ests = []\n",
    "        single_tree_scores_std_ests = []\n",
    "        forest_scores = []\n",
    "        correction_terms = []\n",
    "\n",
    "        iterable = tqdm(probs_orig) if show_progress else probs_orig\n",
    "        for t, probs_tree in enumerate(iterable, start=1):\n",
    "            mask_for_validated_instances = ~np.isnan(probs_tree)[:, 0]\n",
    "            mask_insert = mask_for_validated_instances & np.isnan(probs_forest)[:, 0]\n",
    "            mask_update = mask_for_validated_instances & ~np.isnan(probs_forest)[:, 0]\n",
    "            old_counter = counter.copy()\n",
    "            counter[mask_for_validated_instances] += 1\n",
    "            probs_forest[mask_insert] = probs_tree[mask_insert]\n",
    "            probs_forest[mask_update] = (old_counter[mask_update] * probs_forest[mask_update] + probs_tree[\n",
    "                mask_update]) / counter[mask_update]\n",
    "            probs_forests.append(probs_forest.copy())\n",
    "\n",
    "            # check insertable instances\n",
    "            mask_for_scatter_insertable_instances = mask_for_validated_instances & (counter[:, 0] == 1)\n",
    "            prob_vars_forest[mask_for_scatter_insertable_instances, :] = 0\n",
    "\n",
    "            # compute probability variances\n",
    "            if t == 1:\n",
    "                correction_terms.append(0)  # no variance estimate for first tree\n",
    "            else:\n",
    "                mask_for_scatter_updateable_instances = mask_for_validated_instances & (counter[:, 0] >= 2)\n",
    "                previous_scatter = prob_vars_forest[mask_for_scatter_updateable_instances] * old_counter[\n",
    "                    mask_for_scatter_updateable_instances]\n",
    "                update_factor1 = probs_tree[mask_for_scatter_updateable_instances] - probs_forests[-2][\n",
    "                    mask_for_scatter_updateable_instances]\n",
    "                update_factor2 = probs_tree[mask_for_scatter_updateable_instances] - probs_forests[-1][\n",
    "                    mask_for_scatter_updateable_instances]\n",
    "                prob_vars_forest[mask_for_scatter_updateable_instances] = (previous_scatter + update_factor1 * update_factor2) / counter[mask_for_scatter_updateable_instances]  # this has slight bias\n",
    "                correction_term = np.nanmean(prob_vars_forest.sum(axis=1))\n",
    "                correction_terms.append(correction_term)\n",
    "\n",
    "            # compute actual scores for this tree and the forest including this tree\n",
    "            score_tree = np.nanmean(((probs_tree - Y) ** 2).sum(axis=1))\n",
    "            score_forest = np.nanmean(((probs_forest - Y) ** 2).sum(axis=1))\n",
    "            single_tree_scores.append(score_tree)\n",
    "            forest_scores.append(score_forest)\n",
    "\n",
    "            # compute empirical mean and std of performance of a single tree per forest size\n",
    "            # mu = single_tree_scores_mean_ests[-1] if single_tree_scores_mean_ests else 0\n",
    "            single_tree_scores_mean_ests.append(np.nanmean(single_tree_scores))  # ((t - 1) * mu + score_tree) / t)\n",
    "            single_tree_scores_std_ests.append(np.nanstd(single_tree_scores))\n",
    "    return pd.DataFrame({\n",
    "        \"t\": range(1, 1 + len(prob_history_oob)),\n",
    "        \"scores_oob\": forest_scores\n",
    "    })\n",
    "\n",
    "df_results = None\n",
    "num_trees_available = prob_history_oob.shape[0]\n",
    "for permutation_seed in tqdm(range(100)):\n",
    "    rs = np.random.RandomState(permutation_seed)\n",
    "    permutation = rs.choice(range(num_trees_available), num_trees_available, replace=False)\n",
    "    df = compute_forest_properties(prob_history_oob[permutation[:2000]], prob_history_val[permutation[:2000]], Y_train, Y_test)\n",
    "    df = df.rename(columns={\"scores_oob\": f\"scores_oob_{permutation_seed}\"})\n",
    "    if df_results is None:\n",
    "        df_results = df\n",
    "    else:\n",
    "        df_results = df_results.merge(df, on=\"t\")\n",
    "df_results = df_results.set_index(\"t\")"
   ]
  },
  {
   "cell_type": "code",
   "execution_count": 89,
   "id": "aa54366c",
   "metadata": {},
   "outputs": [],
   "source": [
    "df_results.var(axis=1).to_csv(\"variances.csv\")"
   ]
  },
  {
   "cell_type": "code",
   "execution_count": 86,
   "id": "142afde0",
   "metadata": {},
   "outputs": [
    {
     "data": {
      "text/plain": [
       "<matplotlib.lines.Line2D at 0x7fed18a77df0>"
      ]
     },
     "execution_count": 86,
     "metadata": {},
     "output_type": "execute_result"
    },
    {
     "data": {
      "image/png": "[encoded data removed]",
      "text/plain": [
       "<Figure size 640x480 with 1 Axes>"
      ]
     },
     "metadata": {},
     "output_type": "display_data"
    }
   ],
   "source": [
    "fig, ax = plt.subplots()\n",
    "df_results.var(axis=1).plot(ax=ax)\n",
    "ax.set_xscale(\"log\")\n",
    "ax.set_yscale(\"log\")\n",
    "ax.axhline(5*10**-6)\n",
    "ax.axvline(30)"
   ]
  },
  {
   "cell_type": "code",
   "execution_count": 25,
   "id": "4f20e8d6",
   "metadata": {},
   "outputs": [
    {
     "name": "stdout",
     "output_type": "stream",
     "text": [
      "[[nan nan]\n",
      " [nan nan]\n",
      " [nan nan]\n",
      " ...\n",
      " [nan nan]\n",
      " [nan nan]\n",
      " [nan nan]]\n",
      "[[nan nan]\n",
      " [nan nan]\n",
      " [nan nan]\n",
      " ...\n",
      " [nan nan]\n",
      " [nan nan]\n",
      " [nan nan]]\n",
      "[[nan nan]\n",
      " [nan nan]\n",
      " [nan nan]\n",
      " ...\n",
      " [nan nan]\n",
      " [nan nan]\n",
      " [nan nan]]\n",
      "[[nan nan]\n",
      " [nan nan]\n",
      " [nan nan]\n",
      " ...\n",
      " [nan nan]\n",
      " [nan nan]\n",
      " [nan nan]]\n",
      "[[nan nan]\n",
      " [nan nan]\n",
      " [nan nan]\n",
      " ...\n",
      " [nan nan]\n",
      " [nan nan]\n",
      " [nan nan]]\n",
      "[[nan nan]\n",
      " [nan nan]\n",
      " [nan nan]\n",
      " ...\n",
      " [nan nan]\n",
      " [nan nan]\n",
      " [nan nan]]\n",
      "[[nan nan]\n",
      " [nan nan]\n",
      " [nan nan]\n",
      " ...\n",
      " [nan nan]\n",
      " [nan nan]\n",
      " [nan nan]]\n",
      "[[nan nan]\n",
      " [nan nan]\n",
      " [nan nan]\n",
      " ...\n",
      " [nan nan]\n",
      " [nan nan]\n",
      " [nan nan]]\n",
      "[[nan nan]\n",
      " [nan nan]\n",
      " [nan nan]\n",
      " ...\n",
      " [nan nan]\n",
      " [nan nan]\n",
      " [nan nan]]\n",
      "[[nan nan]\n",
      " [nan nan]\n",
      " [nan nan]\n",
      " ...\n",
      " [nan nan]\n",
      " [nan nan]\n",
      " [nan nan]]\n"
     ]
    }
   ],
   "source": [
    "probs_orig = prob_history_oob\n",
    "num_trees_available = prob_history_oob.shape[0]\n",
    "for permutation_seed in range(10):\n",
    "    rs = np.random.RandomState(permutation_seed)\n",
    "    permutation = rs.choice(range(num_trees_available), num_trees_available, replace=False)\n",
    "    dist = None\n",
    "    for t, tree_index in enumerate(permutation, start = 1):\n",
    "        dist_tree = probs_orig[tree_index]\n",
    "        if t == 1:\n",
    "            dist = dist_tree\n",
    "        else:\n",
    "            dist = ((t - 1) * dist + dist_tree) / t"
   ]
  }
 ],
 "metadata": {
  "kernelspec": {
   "display_name": "Python 3 (ipykernel)",
   "language": "python",
   "name": "python3"
  },
  "language_info": {
   "codemirror_mode": {
    "name": "ipython",
    "version": 3
   },
   "file_extension": ".py",
   "mimetype": "text/x-python",
   "name": "python",
   "nbconvert_exporter": "python",
   "pygments_lexer": "ipython3",
   "version": "3.10.11"
  }
 },
 "nbformat": 4,
 "nbformat_minor": 5
}
