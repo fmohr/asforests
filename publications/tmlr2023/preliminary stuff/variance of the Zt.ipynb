{
 "cells": [
  {
   "cell_type": "code",
   "execution_count": 1,
   "id": "ad0be2eb",
   "metadata": {},
   "outputs": [],
   "source": [
    "from sklearn.ensemble import RandomForestClassifier, RandomForestRegressor\n",
    "from evalutils import *\n",
    "import matplotlib.pyplot as plt\n",
    "import seaborn as sb\n",
    "from tqdm.notebook import tqdm\n",
    "from os import path\n",
    "import json\n",
    "from scipy.stats import shapiro, kstest, norm, normaltest\n",
    "from py_experimenter import utils\n",
    "import sklearn.decomposition"
   ]
  },
  {
   "cell_type": "code",
   "execution_count": 2,
   "id": "d415b0a9",
   "metadata": {},
   "outputs": [
    {
     "data": {
      "text/html": [
       "<div>\n",
       "<style scoped>\n",
       "    .dataframe tbody tr th:only-of-type {\n",
       "        vertical-align: middle;\n",
       "    }\n",
       "\n",
       "    .dataframe tbody tr th {\n",
       "        vertical-align: top;\n",
       "    }\n",
       "\n",
       "    .dataframe thead th {\n",
       "        text-align: right;\n",
       "    }\n",
       "</style>\n",
       "<table border=\"1\" class=\"dataframe\">\n",
       "  <thead>\n",
       "    <tr style=\"text-align: right;\">\n",
       "      <th></th>\n",
       "      <th>openmlid</th>\n",
       "      <th>name</th>\n",
       "      <th>instances</th>\n",
       "      <th>features</th>\n",
       "      <th>numeric features</th>\n",
       "      <th>classes</th>\n",
       "      <th>% missing</th>\n",
       "    </tr>\n",
       "  </thead>\n",
       "  <tbody>\n",
       "    <tr>\n",
       "      <th>0</th>\n",
       "      <td>3</td>\n",
       "      <td>kr-vs-kp</td>\n",
       "      <td>3196</td>\n",
       "      <td>36</td>\n",
       "      <td>0</td>\n",
       "      <td>2</td>\n",
       "      <td>0</td>\n",
       "    </tr>\n",
       "    <tr>\n",
       "      <th>1</th>\n",
       "      <td>6</td>\n",
       "      <td>letter</td>\n",
       "      <td>20000</td>\n",
       "      <td>16</td>\n",
       "      <td>16</td>\n",
       "      <td>26</td>\n",
       "      <td>0</td>\n",
       "    </tr>\n",
       "    <tr>\n",
       "      <th>2</th>\n",
       "      <td>8</td>\n",
       "      <td>liver-disorders</td>\n",
       "      <td>345</td>\n",
       "      <td>6</td>\n",
       "      <td>6</td>\n",
       "      <td>0</td>\n",
       "      <td>0</td>\n",
       "    </tr>\n",
       "    <tr>\n",
       "      <th>3</th>\n",
       "      <td>12</td>\n",
       "      <td>mfeat-factors</td>\n",
       "      <td>2000</td>\n",
       "      <td>216</td>\n",
       "      <td>216</td>\n",
       "      <td>10</td>\n",
       "      <td>0</td>\n",
       "    </tr>\n",
       "    <tr>\n",
       "      <th>4</th>\n",
       "      <td>14</td>\n",
       "      <td>mfeat-fourier</td>\n",
       "      <td>2000</td>\n",
       "      <td>76</td>\n",
       "      <td>76</td>\n",
       "      <td>10</td>\n",
       "      <td>0</td>\n",
       "    </tr>\n",
       "    <tr>\n",
       "      <th>...</th>\n",
       "      <td>...</td>\n",
       "      <td>...</td>\n",
       "      <td>...</td>\n",
       "      <td>...</td>\n",
       "      <td>...</td>\n",
       "      <td>...</td>\n",
       "      <td>...</td>\n",
       "    </tr>\n",
       "    <tr>\n",
       "      <th>276</th>\n",
       "      <td>42730</td>\n",
       "      <td>us_crime</td>\n",
       "      <td>1994</td>\n",
       "      <td>127</td>\n",
       "      <td>127</td>\n",
       "      <td>0</td>\n",
       "      <td>15</td>\n",
       "    </tr>\n",
       "    <tr>\n",
       "      <th>277</th>\n",
       "      <td>42731</td>\n",
       "      <td>house_sales</td>\n",
       "      <td>21613</td>\n",
       "      <td>22</td>\n",
       "      <td>21</td>\n",
       "      <td>0</td>\n",
       "      <td>0</td>\n",
       "    </tr>\n",
       "    <tr>\n",
       "      <th>278</th>\n",
       "      <td>42733</td>\n",
       "      <td>Click_prediction_sma</td>\n",
       "      <td>39948</td>\n",
       "      <td>11</td>\n",
       "      <td>5</td>\n",
       "      <td>2</td>\n",
       "      <td>0</td>\n",
       "    </tr>\n",
       "    <tr>\n",
       "      <th>279</th>\n",
       "      <td>42734</td>\n",
       "      <td>okcupid-stem</td>\n",
       "      <td>50789</td>\n",
       "      <td>19</td>\n",
       "      <td>2</td>\n",
       "      <td>3</td>\n",
       "      <td>15</td>\n",
       "    </tr>\n",
       "    <tr>\n",
       "      <th>280</th>\n",
       "      <td>43071</td>\n",
       "      <td>MIP-2016-regression</td>\n",
       "      <td>1090</td>\n",
       "      <td>147</td>\n",
       "      <td>144</td>\n",
       "      <td>0</td>\n",
       "      <td>0</td>\n",
       "    </tr>\n",
       "  </tbody>\n",
       "</table>\n",
       "<p>281 rows × 7 columns</p>\n",
       "</div>"
      ],
      "text/plain": [
       "     openmlid                  name  instances  features  numeric features  \\\n",
       "0           3              kr-vs-kp       3196        36                 0   \n",
       "1           6                letter      20000        16                16   \n",
       "2           8       liver-disorders        345         6                 6   \n",
       "3          12         mfeat-factors       2000       216               216   \n",
       "4          14         mfeat-fourier       2000        76                76   \n",
       "..        ...                   ...        ...       ...               ...   \n",
       "276     42730              us_crime       1994       127               127   \n",
       "277     42731           house_sales      21613        22                21   \n",
       "278     42733  Click_prediction_sma      39948        11                 5   \n",
       "279     42734          okcupid-stem      50789        19                 2   \n",
       "280     43071   MIP-2016-regression       1090       147               144   \n",
       "\n",
       "     classes  % missing  \n",
       "0          2          0  \n",
       "1         26          0  \n",
       "2          0          0  \n",
       "3         10          0  \n",
       "4         10          0  \n",
       "..       ...        ...  \n",
       "276        0         15  \n",
       "277        0          0  \n",
       "278        2          0  \n",
       "279        3         15  \n",
       "280        0          0  \n",
       "\n",
       "[281 rows x 7 columns]"
      ]
     },
     "execution_count": 2,
     "metadata": {},
     "output_type": "execute_result"
    }
   ],
   "source": [
    "datasets_classification = [int(i) for i in utils.get_keyfield_data(utils.load_config(f\"config/experiments-fullforests-classification.cfg\"))[\"openmlid\"]]\n",
    "datasets_regression = [int(i) for i in utils.get_keyfield_data(utils.load_config(f\"config/experiments-fullforests-regression.cfg\"))[\"openmlid\"]]\n",
    "df_metafeatures = pd.read_csv(\"../analysis/datasets.csv\")\n",
    "df_metafeatures"
   ]
  },
  {
   "cell_type": "markdown",
   "id": "ca40d461",
   "metadata": {},
   "source": [
    "# Check Compliance with Theorems using Purely Random Data"
   ]
  },
  {
   "cell_type": "code",
   "execution_count": 3,
   "id": "565dd7b9",
   "metadata": {
    "scrolled": true
   },
   "outputs": [
    {
     "data": {
      "application/vnd.jupyter.widget-view+json": {
       "model_id": "3d93bf8babbc42d1beb37a43dc127b57",
       "version_major": 2,
       "version_minor": 0
      },
      "text/plain": [
       "  0%|          | 0/20 [00:00<?, ?it/s]"
      ]
     },
     "metadata": {},
     "output_type": "display_data"
    },
    {
     "name": "stdout",
     "output_type": "stream",
     "text": [
      "0 0.0018146962927182713 True\n"
     ]
    },
    {
     "data": {
      "application/vnd.jupyter.widget-view+json": {
       "model_id": "704a7c80ef0447f78aee445266b9cc1b",
       "version_major": 2,
       "version_minor": 0
      },
      "text/plain": [
       "  0%|          | 0/20 [00:00<?, ?it/s]"
      ]
     },
     "metadata": {},
     "output_type": "display_data"
    },
    {
     "name": "stdout",
     "output_type": "stream",
     "text": [
      "1 0.002749 True\n"
     ]
    },
    {
     "data": {
      "application/vnd.jupyter.widget-view+json": {
       "model_id": "b427abb3a28b4573a63a82d32ec0538a",
       "version_major": 2,
       "version_minor": 0
      },
      "text/plain": [
       "  0%|          | 0/20 [00:00<?, ?it/s]"
      ]
     },
     "metadata": {},
     "output_type": "display_data"
    },
    {
     "name": "stdout",
     "output_type": "stream",
     "text": [
      "2 0.0006673130193905817 True\n"
     ]
    },
    {
     "data": {
      "application/vnd.jupyter.widget-view+json": {
       "model_id": "c4e2d9a1b63646a8932ef0d851be5f9f",
       "version_major": 2,
       "version_minor": 0
      },
      "text/plain": [
       "  0%|          | 0/20 [00:00<?, ?it/s]"
      ]
     },
     "metadata": {},
     "output_type": "display_data"
    },
    {
     "name": "stdout",
     "output_type": "stream",
     "text": [
      "3 4.979378840164955e-05 True\n"
     ]
    },
    {
     "data": {
      "application/vnd.jupyter.widget-view+json": {
       "model_id": "71174145db094ac69a162354051354a6",
       "version_major": 2,
       "version_minor": 0
      },
      "text/plain": [
       "  0%|          | 0/20 [00:00<?, ?it/s]"
      ]
     },
     "metadata": {},
     "output_type": "display_data"
    },
    {
     "name": "stdout",
     "output_type": "stream",
     "text": [
      "4 1.8993675355890223e-05 True\n"
     ]
    },
    {
     "data": {
      "application/vnd.jupyter.widget-view+json": {
       "model_id": "2f6b63f65b85450b892e776ee6ae7767",
       "version_major": 2,
       "version_minor": 0
      },
      "text/plain": [
       "  0%|          | 0/20 [00:00<?, ?it/s]"
      ]
     },
     "metadata": {},
     "output_type": "display_data"
    },
    {
     "name": "stdout",
     "output_type": "stream",
     "text": [
      "5 1.9098766749849117e-06 True\n"
     ]
    },
    {
     "data": {
      "application/vnd.jupyter.widget-view+json": {
       "model_id": "f0b8bc5f08d348eead752376dcb75b1e",
       "version_major": 2,
       "version_minor": 0
      },
      "text/plain": [
       "  0%|          | 0/20 [00:00<?, ?it/s]"
      ]
     },
     "metadata": {},
     "output_type": "display_data"
    },
    {
     "name": "stdout",
     "output_type": "stream",
     "text": [
      "6 1.9469581317659263e-07 True\n"
     ]
    }
   ],
   "source": [
    "rs = np.random.RandomState(1)\n",
    "\n",
    "def get_rf_variance_on_data(X, y, n_train = 10, n_sample = 20):\n",
    "    scores = []\n",
    "    for i in tqdm(range(n_sample)):\n",
    "        rf = RandomForestClassifier(n_estimators = 1, random_state = i)\n",
    "        rf.fit(X[:n_train], y[:n_train])\n",
    "        y_hat = rf.predict_proba(X[n_train:])\n",
    "        scores.append(sklearn.metrics.brier_score_loss(y[n_train:], y_hat[:,0]))\n",
    "    return np.var(scores)\n",
    "\n",
    "\n",
    "for j in range(7):\n",
    "    X = np.round(rs.rand(10**j+100, 2), 2)\n",
    "    y = rs.randint(2, size=10**j+100)\n",
    "\n",
    "    var = get_rf_variance_on_data(X, y)\n",
    "    print(j, var, var < 1/(4*10**j))"
   ]
  },
  {
   "cell_type": "markdown",
   "id": "60d7011a",
   "metadata": {},
   "source": [
    "# Pre-Compute Results"
   ]
  },
  {
   "cell_type": "code",
   "execution_count": 4,
   "id": "a1dafad9",
   "metadata": {},
   "outputs": [],
   "source": [
    "binarizing_datasets = [1111, 41147, 41150, 42732, 42733]\n",
    "datasets_with_small_trees = [3, 12, 14, 16, 18, 21, 22, 23, 24, 26, 28, 30, 31, 32, 36, 38, 44, 46, 54, 57, 60, 181, 182, 185, 188, 300, 389, 391, 392, 393, 395, 396, 398, 401, 679, 715, 718, 720, 722, 723, 727, 728, 734, 735, 737, 740, 741, 743, 751, 752, 761, 772, 797, 799, 803, 806, 807, 813, 816, 819, 821, 822, 823, 833, 837, 843, 845, 846, 847, 849, 866, 871, 881, 897, 901, 903, 904, 910, 912, 913, 914, 917, 923, 930, 934, 953, 958, 959, 962, 966, 971, 976, 977, 978, 979, 980, 991, 995, 1000, 1002, 1019, 1020, 1021, 1036, 1037, 1039, 1040, 1041, 1042, 1049, 1050, 1053, 1059, 1067, 1068, 1069, 1116, 1119, 1120, 1128, 1130, 1134, 1138, 1139, 1142, 1146, 1161, 1166, 1457, 1461, 1464, 1468, 1475, 1485, 1486, 1487, 1489, 1494, 1501, 1515, 4134, 4136, 4137, 4534, 4538, 23380, 40497, 40498, 40670, 40691, 40701, 40900, 40971, 40975, 40978, 40981, 40982, 40983, 40984, 41026, 41066, 41142, 41143, 41144, 41145, 41146, 41156, 41157, 41158, 41159, 41161, 41163, 41164, 41165, 41946]"
   ]
  },
  {
   "cell_type": "markdown",
   "id": "80679141",
   "metadata": {},
   "source": [
    "## Brier Score Curves"
   ]
  },
  {
   "cell_type": "code",
   "execution_count": 5,
   "id": "f0e99bdb",
   "metadata": {},
   "outputs": [
    {
     "name": "stdout",
     "output_type": "stream",
     "text": [
      "Getting scores for 24\n",
      "dataset info loaded\n",
      "Data in memory, now creating X and y\n",
      "Data read. Shape is (8124, 22).\n",
      "Training 200 trees on 6499 many data points.\n",
      "Training is done.\n",
      "Acquiring predictions for all the instances\n"
     ]
    },
    {
     "data": {
      "application/vnd.jupyter.widget-view+json": {
       "model_id": "f6d6b82839304e75aab80318f7102a8d",
       "version_major": 2,
       "version_minor": 0
      },
      "text/plain": [
       "  0%|          | 0/200 [00:00<?, ?it/s]"
      ]
     },
     "metadata": {},
     "output_type": "display_data"
    },
    {
     "name": "stdout",
     "output_type": "stream",
     "text": [
      "Finding unique labels\n",
      "Encoding ground truth\n",
      "Initializing scores\n",
      "Compute bootstraps\n"
     ]
    },
    {
     "data": {
      "application/vnd.jupyter.widget-view+json": {
       "model_id": "c50000ceb30d48d6998e7bd2e70dc14f",
       "version_major": 2,
       "version_minor": 0
      },
      "text/plain": [
       "  0%|          | 0/1000 [00:00<?, ?it/s]"
      ]
     },
     "metadata": {},
     "output_type": "display_data"
    },
    {
     "data": {
      "text/plain": [
       "(array([[[0., 0., 0., ..., 0., 0., 0.],\n",
       "         [0., 0., 0., ..., 0., 0., 0.],\n",
       "         [0., 0., 0., ..., 0., 0., 0.],\n",
       "         ...,\n",
       "         [0., 0., 0., ..., 0., 0., 0.],\n",
       "         [0., 0., 0., ..., 0., 0., 0.],\n",
       "         [0., 0., 0., ..., 0., 0., 0.]],\n",
       " \n",
       "        [[0., 0., 0., ..., 0., 0., 0.],\n",
       "         [0., 0., 0., ..., 0., 0., 0.],\n",
       "         [0., 0., 0., ..., 0., 0., 0.],\n",
       "         ...,\n",
       "         [0., 0., 0., ..., 0., 0., 0.],\n",
       "         [0., 0., 0., ..., 0., 0., 0.],\n",
       "         [0., 0., 0., ..., 0., 0., 0.]],\n",
       " \n",
       "        [[0., 0., 0., ..., 0., 0., 0.],\n",
       "         [0., 0., 0., ..., 0., 0., 0.],\n",
       "         [0., 0., 0., ..., 0., 0., 0.],\n",
       "         ...,\n",
       "         [0., 0., 0., ..., 0., 0., 0.],\n",
       "         [0., 0., 0., ..., 0., 0., 0.],\n",
       "         [0., 0., 0., ..., 0., 0., 0.]],\n",
       " \n",
       "        ...,\n",
       " \n",
       "        [[0., 0., 0., ..., 0., 0., 0.],\n",
       "         [0., 0., 0., ..., 0., 0., 0.],\n",
       "         [0., 0., 0., ..., 0., 0., 0.],\n",
       "         ...,\n",
       "         [0., 0., 0., ..., 0., 0., 0.],\n",
       "         [0., 0., 0., ..., 0., 0., 0.],\n",
       "         [0., 0., 0., ..., 0., 0., 0.]],\n",
       " \n",
       "        [[0., 0., 0., ..., 0., 0., 0.],\n",
       "         [0., 0., 0., ..., 0., 0., 0.],\n",
       "         [0., 0., 0., ..., 0., 0., 0.],\n",
       "         ...,\n",
       "         [0., 0., 0., ..., 0., 0., 0.],\n",
       "         [0., 0., 0., ..., 0., 0., 0.],\n",
       "         [0., 0., 0., ..., 0., 0., 0.]],\n",
       " \n",
       "        [[0., 0., 0., ..., 0., 0., 0.],\n",
       "         [0., 0., 0., ..., 0., 0., 0.],\n",
       "         [0., 0., 0., ..., 0., 0., 0.],\n",
       "         ...,\n",
       "         [0., 0., 0., ..., 0., 0., 0.],\n",
       "         [0., 0., 0., ..., 0., 0., 0.],\n",
       "         [0., 0., 0., ..., 0., 0., 0.]]]),\n",
       " array([[[0., 1.],\n",
       "         [1., 0.],\n",
       "         [1., 0.],\n",
       "         ...,\n",
       "         [1., 0.],\n",
       "         [0., 1.],\n",
       "         [1., 0.]],\n",
       " \n",
       "        [[0., 1.],\n",
       "         [1., 0.],\n",
       "         [1., 0.],\n",
       "         ...,\n",
       "         [1., 0.],\n",
       "         [0., 1.],\n",
       "         [1., 0.]],\n",
       " \n",
       "        [[0., 1.],\n",
       "         [1., 0.],\n",
       "         [1., 0.],\n",
       "         ...,\n",
       "         [1., 0.],\n",
       "         [0., 1.],\n",
       "         [1., 0.]],\n",
       " \n",
       "        ...,\n",
       " \n",
       "        [[0., 1.],\n",
       "         [1., 0.],\n",
       "         [1., 0.],\n",
       "         ...,\n",
       "         [1., 0.],\n",
       "         [0., 1.],\n",
       "         [1., 0.]],\n",
       " \n",
       "        [[0., 1.],\n",
       "         [1., 0.],\n",
       "         [1., 0.],\n",
       "         ...,\n",
       "         [1., 0.],\n",
       "         [0., 1.],\n",
       "         [1., 0.]],\n",
       " \n",
       "        [[0., 1.],\n",
       "         [1., 0.],\n",
       "         [1., 0.],\n",
       "         ...,\n",
       "         [1., 0.],\n",
       "         [0., 1.],\n",
       "         [1., 0.]]]))"
      ]
     },
     "execution_count": 5,
     "metadata": {},
     "output_type": "execute_result"
    }
   ],
   "source": [
    "def get_brier_curve(openmlid = None, X = None, y = None, max_trees = 100, max_test_instances = 1000, n_bootstrap = 1000, random_state = None):\n",
    "    \n",
    "    print(f\"Getting scores for {openmlid}\")\n",
    "    \n",
    "    # get data\n",
    "    if openmlid is not None:\n",
    "        X, y = get_dataset(openmlid)\n",
    "        \n",
    "    # define training size and split data\n",
    "    min_train_instances = min(10**4, int(X.shape[0] * 0.2))\n",
    "    max_possible_test_instances = X.shape[0] - min_train_instances\n",
    "    num_test_instances = min(max_test_instances, max_possible_test_instances)\n",
    "    num_train_instances = int(np.min([X.shape[0] - num_test_instances, 0.8 * X.shape[0]]))\n",
    "    X_train, X_test, y_train, y_true = sklearn.model_selection.train_test_split(X, y, train_size = num_train_instances, test_size = num_test_instances, random_state = 0)\n",
    "    \n",
    "    # training a large forest\n",
    "    preprocessing = get_mandatory_preprocessing(X, y, drop = None)\n",
    "    rf = RandomForestClassifier(n_estimators = 2 * max_trees, n_jobs = 1 if X_train.shape[0] < 1000 else 8, random_state = random_state)\n",
    "    if preprocessing:\n",
    "        pl = sklearn.pipeline.Pipeline(preprocessing + [(\"rf\", rf)])\n",
    "    else:\n",
    "        pl = rf\n",
    "    print(f\"Training {2 * max_trees} trees on {len(X_train)} many data points.\")\n",
    "    pl.fit(X_train, y_train)\n",
    "    print(f\"Training is done.\")\n",
    "    \n",
    "    # extract predictions for the sub-forests\n",
    "    X_test_transformed = pl[:-1].transform(X_test) if preprocessing else X_test\n",
    "    print(f\"Acquiring predictions for all the instances\")\n",
    "    Y_by_trees = np.array([dt.predict_proba(X_test_transformed) for dt in tqdm(rf.estimators_)])\n",
    "    \n",
    "    # memorize labels\n",
    "    print(f\"Finding unique labels\")\n",
    "    labels = list(np.unique(y)) # it is ok to use all labels here, even if validation is used\n",
    "    \n",
    "    print(f\"Encoding ground truth\")\n",
    "    # one hot encoding of target\n",
    "    n, k = len(y_true), len(labels)\n",
    "    Y = np.zeros((n, k))\n",
    "    for i, true_label in enumerate(y_true):\n",
    "        Y[i,labels.index(true_label)] = 1\n",
    "\n",
    "    # create a function that can efficiently compute the Brier score for a probability distribution\n",
    "    def get_instance_wise_brier_score(Y_prob, simplified = False):\n",
    "        if simplified:\n",
    "            return (Y_prob[:,0] - Y[:len(Y_prob),0])**2\n",
    "        else:\n",
    "            return np.sum((Y_prob - Y)**2, axis=1)\n",
    "    \n",
    "    print(f\"Initializing scores\")\n",
    "    scores = np.zeros((n_bootstrap, max_trees, len(y_true)))\n",
    "    \n",
    "    T = len(Y_by_trees)\n",
    "    \n",
    "    if type(random_state) != np.random.RandomState:\n",
    "        random_state = np.random.RandomState(random_state)\n",
    "    \n",
    "    print(f\"Compute bootstraps\")\n",
    "    for i in tqdm(range(n_bootstrap)):\n",
    "        permutation = random_state.choice(list(range(rf.n_estimators)), max_trees, False) # create a random sequence of trees\n",
    "        dist = None\n",
    "        for t, tree_index in enumerate(permutation, start = 1):\n",
    "            dist_tree = Y_by_trees[tree_index]\n",
    "            if t == 1:\n",
    "                dist = dist_tree\n",
    "            else:\n",
    "                dist = ((t - 1) * dist + dist_tree) / t\n",
    "            scores[i,t-1] = get_instance_wise_brier_score(dist, simplified = True)\n",
    "    \n",
    "    '''\n",
    "        At position i,j,k of \"scores\": brier score of i-th RF with j trees on k-th instance \n",
    "    '''\n",
    "    \n",
    "    return scores, Y_by_trees\n",
    "\n",
    "def get_mse_curve(openmlid = None, X = None, y = None, max_trees = 100, max_test_instances = 1000, n_bootstrap = 1000, random_state = None):\n",
    "    \n",
    "    print(f\"Getting scores for {openmlid}\")\n",
    "    \n",
    "    # get data\n",
    "    if openmlid is not None:\n",
    "        X, y = get_dataset(openmlid)\n",
    "    \n",
    "    v_min = min(y)\n",
    "    v_max = max(y)\n",
    "    v_range = v_max - v_min\n",
    "    \n",
    "    # define training size and split data\n",
    "    min_train_instances = min(10**4, int(X.shape[0] * 0.2))\n",
    "    max_possible_test_instances = X.shape[0] - min_train_instances\n",
    "    num_test_instances = min(max_test_instances, max_possible_test_instances)\n",
    "    num_train_instances = int(np.min([X.shape[0] - num_test_instances, 0.8 * X.shape[0]]))\n",
    "    X_train, X_test, y_train, y_true = sklearn.model_selection.train_test_split(X, y, train_size = num_train_instances, test_size = num_test_instances, random_state = 0)\n",
    "    \n",
    "    # scale y_true\n",
    "    y_true = (y_true - v_min) / v_range\n",
    "    \n",
    "    # training a large forest\n",
    "    preprocessing = get_mandatory_preprocessing(X, y, drop = None)\n",
    "    rf = RandomForestRegressor(n_estimators = 2 * max_trees, n_jobs = 1 if X_train.shape[0] < 1000 else 8, random_state = random_state)\n",
    "    if preprocessing:\n",
    "        pl = sklearn.pipeline.Pipeline(preprocessing + [(\"rf\", rf)])\n",
    "    else:\n",
    "        pl = rf\n",
    "    print(f\"Training {2 * max_trees} trees on {len(X_train)} many data points.\")\n",
    "    pl.fit(X_train, y_train)\n",
    "    print(f\"Training is done.\")\n",
    "    \n",
    "    # extract predictions for the sub-forests\n",
    "    X_test_transformed = pl[:-1].transform(X_test) if preprocessing else X_test\n",
    "    print(f\"Acquiring predictions for all the instances\")\n",
    "    Y_by_trees = np.array([(dt.predict(X_test_transformed) - v_min) / v_range for dt in tqdm(rf.estimators_)])\n",
    "    \n",
    "    # memorize labels\n",
    "    print(f\"Finding unique labels\")\n",
    "    labels = list(np.unique(y)) # it is ok to use all labels here, even if validation is used\n",
    "\n",
    "    # create a function that can efficiently compute the Brier score for a probability distribution\n",
    "    def get_instance_wise_mse(y_pred):\n",
    "        return (y_pred - y_true)**2\n",
    "    \n",
    "    print(f\"Initializing scores\")\n",
    "    scores = np.zeros((n_bootstrap, max_trees, len(y_true)))\n",
    "    \n",
    "    T = len(Y_by_trees)\n",
    "    \n",
    "    if type(random_state) != np.random.RandomState:\n",
    "        random_state = np.random.RandomState(random_state)\n",
    "    \n",
    "    print(f\"Compute bootstraps\")\n",
    "    for i in tqdm(range(n_bootstrap)):\n",
    "        permutation = random_state.choice(list(range(rf.n_estimators)), max_trees, False) # create a random sequence of trees\n",
    "        dist = None\n",
    "        for t, tree_index in enumerate(permutation, start = 1):\n",
    "            pred_tree = Y_by_trees[tree_index]\n",
    "            if t == 1:\n",
    "                pred = pred_tree\n",
    "            else:\n",
    "                pred = ((t - 1) * pred + pred_tree) / t\n",
    "            scores[i,t-1] = get_instance_wise_mse(pred)\n",
    "    \n",
    "    '''\n",
    "        At position i,j,k of \"scores\": brier score of i-th RF with j trees on k-th instance \n",
    "    '''\n",
    "    \n",
    "    return scores, Y_by_trees\n",
    "\n",
    "get_brier_curve(24)"
   ]
  },
  {
   "cell_type": "code",
   "execution_count": 6,
   "id": "b9164cfa",
   "metadata": {},
   "outputs": [],
   "source": [
    "def collect_rf_behavior_and_scores(task_type, openmlid = None, X = None, y = None, random_state = None, max_trees = 20, min_test_instances = 1, max_test_instances = 10**5, n_bootstrap = 20, granularity = 5):\n",
    "    \n",
    "    if min_test_instances < 1:\n",
    "        if openmlid is not None:\n",
    "            X_tmp, y_tmp = get_dataset(openmlid)\n",
    "        else:\n",
    "            X_tmp, y_tmp = X, y\n",
    "        min_test_instances = int(np.round(min_test_instances * X_tmp.shape[0]))\n",
    "        \n",
    "    # get tree-wise score and distribution\n",
    "    if task_type == \"classification\":\n",
    "        Z_treewise, dists_by_trees = get_brier_curve(openmlid, X, y, max_trees = max_trees, max_test_instances = max_test_instances, n_bootstrap = n_bootstrap, random_state = random_state)\n",
    "    elif task_type == \"regression\":\n",
    "        Z_treewise, dists_by_trees = get_mse_curve(openmlid, X, y, max_trees = max_trees, max_test_instances = max_test_instances, n_bootstrap = n_bootstrap, random_state = random_state)\n",
    "    else:\n",
    "        raise Exception()\n",
    "    \n",
    "    # get forest score\n",
    "    Z = []\n",
    "    \n",
    "    # outer split is to define a data split over which the whole remaining experiment runs\n",
    "    for outer_seed in range(1):\n",
    "        scores_for_outer_seed = []\n",
    "        #permutation_of_datapoints = np.random.choice(list(range(Z_treewise.shape[2])), Z_treewise.shape[2], False)\n",
    "        \n",
    "        # now go over the inner repetitions. Here the order of datapoints is already fixed\n",
    "        print(f\"Computing scores for {Z_treewise.shape[0]} RFs, for each of which scores for {int(np.floor(Z_treewise.shape[-1] / granularity))} sizes will be recorded.\")\n",
    "        for data_for_seed in tqdm(Z_treewise[:,::granularity]):\n",
    "            scores_for_seed = []\n",
    "            \n",
    "            # now go over the forest sizes\n",
    "            for t, scores_on_instances_for_forest_size in enumerate(data_for_seed, start=1):\n",
    "                #print (\"next row\", np.round(scores_on_instances_for_forest_size[:10], 2))\n",
    "                avg_scores_for_seed_and_forest_size = []\n",
    "                \n",
    "                # go over validation fold sizes\n",
    "                n_test_from = min_test_instances\n",
    "                n_test_to = len(scores_on_instances_for_forest_size) + 1\n",
    "                for n_test in range(n_test_from, n_test_to, granularity):\n",
    "                    mean_brier_score = np.mean(scores_on_instances_for_forest_size[:n_test])\n",
    "                    #print(\"\\t\", np.round(scores_on_instances_for_forest_size[:n_test], 2), np.round(mean_brier_score, 2))\n",
    "                    \n",
    "                    avg_scores_for_seed_and_forest_size.append(mean_brier_score)\n",
    "                scores_for_seed.append(avg_scores_for_seed_and_forest_size)\n",
    "            scores_for_outer_seed.append(scores_for_seed)\n",
    "        Z.append(scores_for_outer_seed)\n",
    "    Z = np.array(Z)\n",
    "    \n",
    "    return Z_treewise, dists_by_trees, Z"
   ]
  },
  {
   "cell_type": "code",
   "execution_count": 7,
   "id": "0f974dd2",
   "metadata": {},
   "outputs": [],
   "source": [
    "def collect_scorecurves(task_type, filename = \"scorecurves.csv\", datasets = datasets_with_small_trees):\n",
    "    \n",
    "    df = pd.read_csv(filename) if path.exists(filename) else None\n",
    "    for openmlid in datasets:\n",
    "        if df is None or np.count_nonzero(df[\"openmlid\"] == openmlid) == 0:\n",
    "            Z_treewise, dists_by_trees, Z = collect_rf_behavior_and_scores(task_type, openmlid)\n",
    "            df_new = pd.DataFrame([[openmlid, np.round(Z_treewise, 4).tolist(), np.round(dists_by_trees, 4).tolist(), np.round(Z, 4).tolist()]], columns=[\"openmlid\", \"z_treewise\", \"dist_treewise\", \"z_forest\"])\n",
    "            if df is None:\n",
    "                df = df_new\n",
    "            else:\n",
    "                df = pd.concat([df, df_new])\n",
    "            df.to_csv(filename, index=False)"
   ]
  },
  {
   "cell_type": "markdown",
   "id": "8feb2327",
   "metadata": {},
   "source": [
    "## Standard Deviation in Curves"
   ]
  },
  {
   "cell_type": "code",
   "execution_count": 8,
   "id": "754fd585",
   "metadata": {
    "scrolled": true
   },
   "outputs": [],
   "source": [
    "def collect_curve_standardeviations(task_type, filename = \"curvestds.csv\", datasets = datasets_with_small_trees, granularity = 1, n_repeats_per_size = 10):\n",
    "    \n",
    "    df = pd.read_csv(filename) if path.exists(filename) else None\n",
    "    forest_sizes = range(1, 2001, granularity)\n",
    "    for openmlid in tqdm(datasets):\n",
    "        if df is None or np.count_nonzero(df[\"openmlid\"] == openmlid) == 0:\n",
    "            Z_treewise, dists_by_trees, Z = collect_rf_behavior_and_scores(task_type, openmlid, max_trees = 2000, min_test_instances = 0.2, max_test_instances = 0.2, granularity = granularity, n_bootstrap = n_repeats_per_size)\n",
    "            stds = np.std(Z[0,:,:,-1], axis=0)\n",
    "            df_new = pd.DataFrame([[openmlid] + np.round(stds, 6).tolist()], columns=[\"openmlid\"] + [f\"std_{s}\" for s in forest_sizes])\n",
    "            if df is None:\n",
    "                df = df_new\n",
    "            else:\n",
    "                df = pd.concat([df, df_new])\n",
    "            df.to_csv(filename, index=False)"
   ]
  },
  {
   "cell_type": "code",
   "execution_count": 9,
   "id": "3f200d38",
   "metadata": {
    "scrolled": true
   },
   "outputs": [
    {
     "data": {
      "application/vnd.jupyter.widget-view+json": {
       "model_id": "df3b1ba899574b0b80239e959a96047f",
       "version_major": 2,
       "version_minor": 0
      },
      "text/plain": [
       "  0%|          | 0/175 [00:00<?, ?it/s]"
      ]
     },
     "metadata": {},
     "output_type": "display_data"
    }
   ],
   "source": [
    "collect_curve_standardeviations(\"classification\", n_repeats_per_size = 100)"
   ]
  },
  {
   "cell_type": "code",
   "execution_count": 10,
   "id": "e27b088a",
   "metadata": {
    "scrolled": true
   },
   "outputs": [
    {
     "data": {
      "application/vnd.jupyter.widget-view+json": {
       "model_id": "cde6bc228c3046abb9641f798067d662",
       "version_major": 2,
       "version_minor": 0
      },
      "text/plain": [
       "  0%|          | 0/47 [00:00<?, ?it/s]"
      ]
     },
     "metadata": {},
     "output_type": "display_data"
    }
   ],
   "source": [
    "collect_curve_standardeviations(\"regression\", datasets=[d for d in datasets_regression if not d in [344, 405, 564, 574, 4549, 41540, 42225, 42571, 42571, 42572, 42705, 42724, 42728, 42729]], n_repeats_per_size = 100)"
   ]
  },
  {
   "cell_type": "markdown",
   "id": "c90be99d",
   "metadata": {},
   "source": [
    "## P-Values of D'Agostino Test"
   ]
  },
  {
   "cell_type": "code",
   "execution_count": 53,
   "id": "eb491bb6",
   "metadata": {},
   "outputs": [],
   "source": [
    "def get_pval_curve(task_type, openmlid, random_state = None, max_forest_size = 500, step_size = 20, num_samples = 5, sample_size = 1000):\n",
    "    if task_type == \"classification\":\n",
    "        dists_by_trees = get_brier_curve(openmlid, max_trees = 2 * max_forest_size, max_test_instances = 100, n_bootstrap = 1, random_state = random_state)[1]\n",
    "    elif task_type == \"regression\":\n",
    "        dists_by_trees = get_mse_curve(openmlid, max_trees = 2 * max_forest_size, max_test_instances = 100, n_bootstrap = 1, random_state = random_state)[1]\n",
    "    forest_sizes = list(np.linspace(1, max_forest_size, step_size).astype(int))\n",
    "    \n",
    "    if type(random_state) != np.random.RandomState:\n",
    "        random_state = np.random.RandomState(random_state)\n",
    "    \n",
    "    probs_of_first_label = dists_by_trees[:,:,0] if task_type == \"classification\" else dists_by_trees\n",
    "    mean_std_of_trees = probs_of_first_label.std(axis=0).mean()\n",
    "    if mean_std_of_trees < 0.01 or probs_of_first_label.shape[1] < 100:\n",
    "        return None\n",
    "    \n",
    "    pvals = []\n",
    "    \n",
    "    for i, probs_assigned_to_first_label_of_instance_by_trees in enumerate(tqdm(probs_of_first_label.T)):\n",
    "        \n",
    "        '''\n",
    "            probs_assigned_to_first_label_of_instance_by_trees is a vector that contains one element per tree.\n",
    "            It contains the probability assigned to the first label\n",
    "        '''\n",
    "        pvals_on_instance_for_forest_sizes = []\n",
    "        for t in forest_sizes:\n",
    "            \n",
    "            #fig, axs = plt.subplots(1, num_samples, figsize=(16, 4))\n",
    "            pvals_for_forest_size = []\n",
    "            for k in range(num_samples):\n",
    "                sample = []\n",
    "                for j in range(sample_size):\n",
    "                    avg_prob_for_first_label = np.mean(random_state.choice(probs_assigned_to_first_label_of_instance_by_trees, t, False))\n",
    "                    sample.append(avg_prob_for_first_label)\n",
    "                pval = normaltest(sample)[1]\n",
    "                pvals_for_forest_size.append(pval)\n",
    "                \n",
    "                #axs[k].hist(sample, bins = 20)\n",
    "                #axs[k].set_title(f\"{pval}\")\n",
    "            #fig.tight_layout()\n",
    "            #plt.show()\n",
    "            pvals_on_instance_for_forest_sizes.append(np.mean(pvals_for_forest_size))\n",
    "        pvals.append(pvals_on_instance_for_forest_sizes)\n",
    "    return forest_sizes, np.round(np.array(pvals), 2)"
   ]
  },
  {
   "cell_type": "code",
   "execution_count": 63,
   "id": "8a32751a",
   "metadata": {
    "scrolled": true
   },
   "outputs": [
    {
     "data": {
      "application/vnd.jupyter.widget-view+json": {
       "model_id": "2214de89445a47d49c77d2842594d38a",
       "version_major": 2,
       "version_minor": 0
      },
      "text/plain": [
       "  0%|          | 0/221 [00:00<?, ?it/s]"
      ]
     },
     "metadata": {},
     "output_type": "display_data"
    },
    {
     "data": {
      "application/vnd.jupyter.widget-view+json": {
       "model_id": "32b0c90b07cf4700a76cdc100f3ac98b",
       "version_major": 2,
       "version_minor": 0
      },
      "text/plain": [
       "  0%|          | 0/60 [00:00<?, ?it/s]"
      ]
     },
     "metadata": {},
     "output_type": "display_data"
    },
    {
     "name": "stdout",
     "output_type": "stream",
     "text": [
      "Getting scores for 507\n",
      "dataset info loaded\n",
      "Data in memory, now creating X and y\n",
      "Data read. Shape is (3107, 6).\n",
      "Training 2000 trees on 2485 many data points.\n",
      "Training is done.\n",
      "Acquiring predictions for all the instances\n"
     ]
    },
    {
     "data": {
      "application/vnd.jupyter.widget-view+json": {
       "model_id": "5f558369be9c4481b459aab6f6a2d52c",
       "version_major": 2,
       "version_minor": 0
      },
      "text/plain": [
       "  0%|          | 0/2000 [00:00<?, ?it/s]"
      ]
     },
     "metadata": {},
     "output_type": "display_data"
    },
    {
     "name": "stdout",
     "output_type": "stream",
     "text": [
      "Finding unique labels\n",
      "Initializing scores\n",
      "Compute bootstraps\n"
     ]
    },
    {
     "data": {
      "application/vnd.jupyter.widget-view+json": {
       "model_id": "5ad83a3eacf640b6b1177860b5a8bc0b",
       "version_major": 2,
       "version_minor": 0
      },
      "text/plain": [
       "  0%|          | 0/1 [00:00<?, ?it/s]"
      ]
     },
     "metadata": {},
     "output_type": "display_data"
    },
    {
     "data": {
      "application/vnd.jupyter.widget-view+json": {
       "model_id": "608c320a090642d289498c6bccdc0dd8",
       "version_major": 2,
       "version_minor": 0
      },
      "text/plain": [
       "  0%|          | 0/100 [00:00<?, ?it/s]"
      ]
     },
     "metadata": {},
     "output_type": "display_data"
    },
    {
     "name": "stdout",
     "output_type": "stream",
     "text": [
      "18\n",
      "Getting scores for 509\n",
      "dataset info loaded\n",
      "Data in memory, now creating X and y\n",
      "Data read. Shape is (329, 8).\n",
      "Training 2000 trees on 229 many data points.\n",
      "Training is done.\n",
      "Acquiring predictions for all the instances\n"
     ]
    },
    {
     "data": {
      "application/vnd.jupyter.widget-view+json": {
       "model_id": "2b0cad4ac656435db5aa2af6568f5956",
       "version_major": 2,
       "version_minor": 0
      },
      "text/plain": [
       "  0%|          | 0/2000 [00:00<?, ?it/s]"
      ]
     },
     "metadata": {},
     "output_type": "display_data"
    },
    {
     "name": "stdout",
     "output_type": "stream",
     "text": [
      "Finding unique labels\n",
      "Initializing scores\n",
      "Compute bootstraps\n"
     ]
    },
    {
     "data": {
      "application/vnd.jupyter.widget-view+json": {
       "model_id": "ca89d96f71e346ec8dd67dba51ba95b0",
       "version_major": 2,
       "version_minor": 0
      },
      "text/plain": [
       "  0%|          | 0/1 [00:00<?, ?it/s]"
      ]
     },
     "metadata": {},
     "output_type": "display_data"
    },
    {
     "data": {
      "application/vnd.jupyter.widget-view+json": {
       "model_id": "317ac48613b54a64b1ed094690675a0a",
       "version_major": 2,
       "version_minor": 0
      },
      "text/plain": [
       "  0%|          | 0/100 [00:00<?, ?it/s]"
      ]
     },
     "metadata": {},
     "output_type": "display_data"
    },
    {
     "name": "stdout",
     "output_type": "stream",
     "text": [
      "19\n",
      "Getting scores for 511\n",
      "dataset info loaded\n",
      "Data in memory, now creating X and y\n",
      "Data read. Shape is (315, 13).\n",
      "Training 2000 trees on 215 many data points.\n",
      "Training is done.\n",
      "Acquiring predictions for all the instances\n"
     ]
    },
    {
     "data": {
      "application/vnd.jupyter.widget-view+json": {
       "model_id": "0ba89e6b92764bd095c4cd1744c9f46c",
       "version_major": 2,
       "version_minor": 0
      },
      "text/plain": [
       "  0%|          | 0/2000 [00:00<?, ?it/s]"
      ]
     },
     "metadata": {},
     "output_type": "display_data"
    },
    {
     "name": "stdout",
     "output_type": "stream",
     "text": [
      "Finding unique labels\n",
      "Initializing scores\n",
      "Compute bootstraps\n"
     ]
    },
    {
     "data": {
      "application/vnd.jupyter.widget-view+json": {
       "model_id": "d864e4c4281c4ec982eeede1918cb1fd",
       "version_major": 2,
       "version_minor": 0
      },
      "text/plain": [
       "  0%|          | 0/1 [00:00<?, ?it/s]"
      ]
     },
     "metadata": {},
     "output_type": "display_data"
    },
    {
     "data": {
      "application/vnd.jupyter.widget-view+json": {
       "model_id": "14f435717dbe45febca8871f428ee736",
       "version_major": 2,
       "version_minor": 0
      },
      "text/plain": [
       "  0%|          | 0/100 [00:00<?, ?it/s]"
      ]
     },
     "metadata": {},
     "output_type": "display_data"
    },
    {
     "name": "stdout",
     "output_type": "stream",
     "text": [
      "20\n",
      "Getting scores for 512\n",
      "dataset info loaded\n",
      "Data in memory, now creating X and y\n",
      "Data read. Shape is (2001, 1).\n",
      "Training 2000 trees on 1600 many data points.\n",
      "Training is done.\n",
      "Acquiring predictions for all the instances\n"
     ]
    },
    {
     "data": {
      "application/vnd.jupyter.widget-view+json": {
       "model_id": "5c3de8a3036a4705aae2b0d21ce17bef",
       "version_major": 2,
       "version_minor": 0
      },
      "text/plain": [
       "  0%|          | 0/2000 [00:00<?, ?it/s]"
      ]
     },
     "metadata": {},
     "output_type": "display_data"
    },
    {
     "name": "stdout",
     "output_type": "stream",
     "text": [
      "Finding unique labels\n",
      "Initializing scores\n",
      "Compute bootstraps\n"
     ]
    },
    {
     "data": {
      "application/vnd.jupyter.widget-view+json": {
       "model_id": "488ea0e3a26b4b5ba97a251f37e3bad3",
       "version_major": 2,
       "version_minor": 0
      },
      "text/plain": [
       "  0%|          | 0/1 [00:00<?, ?it/s]"
      ]
     },
     "metadata": {},
     "output_type": "display_data"
    },
    {
     "data": {
      "application/vnd.jupyter.widget-view+json": {
       "model_id": "6cd12df5fa094fd98616ad9dc8d6cf33",
       "version_major": 2,
       "version_minor": 0
      },
      "text/plain": [
       "  0%|          | 0/100 [00:00<?, ?it/s]"
      ]
     },
     "metadata": {},
     "output_type": "display_data"
    },
    {
     "name": "stdout",
     "output_type": "stream",
     "text": [
      "21\n",
      "Getting scores for 531\n",
      "dataset info loaded\n",
      "Data in memory, now creating X and y\n",
      "Data read. Shape is (506, 13).\n",
      "Training 2000 trees on 404 many data points.\n",
      "Training is done.\n",
      "Acquiring predictions for all the instances\n"
     ]
    },
    {
     "data": {
      "application/vnd.jupyter.widget-view+json": {
       "model_id": "5961c0ea0899466f92a64af089ed5861",
       "version_major": 2,
       "version_minor": 0
      },
      "text/plain": [
       "  0%|          | 0/2000 [00:00<?, ?it/s]"
      ]
     },
     "metadata": {},
     "output_type": "display_data"
    },
    {
     "name": "stdout",
     "output_type": "stream",
     "text": [
      "Finding unique labels\n",
      "Initializing scores\n",
      "Compute bootstraps\n"
     ]
    },
    {
     "data": {
      "application/vnd.jupyter.widget-view+json": {
       "model_id": "e487d24843914af29c2b0fe206125a4f",
       "version_major": 2,
       "version_minor": 0
      },
      "text/plain": [
       "  0%|          | 0/1 [00:00<?, ?it/s]"
      ]
     },
     "metadata": {},
     "output_type": "display_data"
    },
    {
     "data": {
      "application/vnd.jupyter.widget-view+json": {
       "model_id": "d4fb5286b84c4745aad83b0264bda148",
       "version_major": 2,
       "version_minor": 0
      },
      "text/plain": [
       "  0%|          | 0/100 [00:00<?, ?it/s]"
      ]
     },
     "metadata": {},
     "output_type": "display_data"
    },
    {
     "name": "stdout",
     "output_type": "stream",
     "text": [
      "22\n",
      "Getting scores for 536\n",
      "dataset info loaded\n",
      "Data in memory, now creating X and y\n",
      "Data read. Shape is (559, 4).\n",
      "Training 2000 trees on 447 many data points.\n",
      "Training is done.\n",
      "Acquiring predictions for all the instances\n"
     ]
    },
    {
     "data": {
      "application/vnd.jupyter.widget-view+json": {
       "model_id": "cd0074cfcc9b471aa9fb3b699b604714",
       "version_major": 2,
       "version_minor": 0
      },
      "text/plain": [
       "  0%|          | 0/2000 [00:00<?, ?it/s]"
      ]
     },
     "metadata": {},
     "output_type": "display_data"
    },
    {
     "name": "stdout",
     "output_type": "stream",
     "text": [
      "Finding unique labels\n",
      "Initializing scores\n",
      "Compute bootstraps\n"
     ]
    },
    {
     "data": {
      "application/vnd.jupyter.widget-view+json": {
       "model_id": "516c2b19dddd4a24b2b90c7c36b4eb99",
       "version_major": 2,
       "version_minor": 0
      },
      "text/plain": [
       "  0%|          | 0/1 [00:00<?, ?it/s]"
      ]
     },
     "metadata": {},
     "output_type": "display_data"
    },
    {
     "name": "stdout",
     "output_type": "stream",
     "text": [
      "Too little variance among trees, problem seems trivial.\n",
      "23\n",
      "Getting scores for 541\n",
      "dataset info loaded\n",
      "Data in memory, now creating X and y\n",
      "Data read. Shape is (1156, 5).\n",
      "Training 2000 trees on 924 many data points.\n",
      "Training is done.\n",
      "Acquiring predictions for all the instances\n"
     ]
    },
    {
     "data": {
      "application/vnd.jupyter.widget-view+json": {
       "model_id": "f8943a4a45574c76b157377c9784efea",
       "version_major": 2,
       "version_minor": 0
      },
      "text/plain": [
       "  0%|          | 0/2000 [00:00<?, ?it/s]"
      ]
     },
     "metadata": {},
     "output_type": "display_data"
    },
    {
     "name": "stdout",
     "output_type": "stream",
     "text": [
      "Finding unique labels\n",
      "Initializing scores\n",
      "Compute bootstraps\n"
     ]
    },
    {
     "data": {
      "application/vnd.jupyter.widget-view+json": {
       "model_id": "e112ffc087df46f58798abb168fa7627",
       "version_major": 2,
       "version_minor": 0
      },
      "text/plain": [
       "  0%|          | 0/1 [00:00<?, ?it/s]"
      ]
     },
     "metadata": {},
     "output_type": "display_data"
    },
    {
     "data": {
      "application/vnd.jupyter.widget-view+json": {
       "model_id": "0c41d86d619b47078662a1646cdc3c3f",
       "version_major": 2,
       "version_minor": 0
      },
      "text/plain": [
       "  0%|          | 0/100 [00:00<?, ?it/s]"
      ]
     },
     "metadata": {},
     "output_type": "display_data"
    },
    {
     "name": "stdout",
     "output_type": "stream",
     "text": [
      "24\n",
      "Getting scores for 546\n",
      "dataset info loaded\n",
      "Data in memory, now creating X and y\n",
      "Data read. Shape is (576, 11).\n",
      "Training 2000 trees on 460 many data points.\n",
      "Training is done.\n",
      "Acquiring predictions for all the instances\n"
     ]
    },
    {
     "data": {
      "application/vnd.jupyter.widget-view+json": {
       "model_id": "9bb1c6e82f3f4fceb962893efe5a985f",
       "version_major": 2,
       "version_minor": 0
      },
      "text/plain": [
       "  0%|          | 0/2000 [00:00<?, ?it/s]"
      ]
     },
     "metadata": {},
     "output_type": "display_data"
    },
    {
     "name": "stdout",
     "output_type": "stream",
     "text": [
      "Finding unique labels\n",
      "Initializing scores\n",
      "Compute bootstraps\n"
     ]
    },
    {
     "data": {
      "application/vnd.jupyter.widget-view+json": {
       "model_id": "d17def33ae1c47d5975c2f11b5da000c",
       "version_major": 2,
       "version_minor": 0
      },
      "text/plain": [
       "  0%|          | 0/1 [00:00<?, ?it/s]"
      ]
     },
     "metadata": {},
     "output_type": "display_data"
    },
    {
     "data": {
      "application/vnd.jupyter.widget-view+json": {
       "model_id": "63948415ce814dfd98bdf8169c71c004",
       "version_major": 2,
       "version_minor": 0
      },
      "text/plain": [
       "  0%|          | 0/100 [00:00<?, ?it/s]"
      ]
     },
     "metadata": {},
     "output_type": "display_data"
    },
    {
     "name": "stdout",
     "output_type": "stream",
     "text": [
      "25\n",
      "Getting scores for 547\n",
      "dataset info loaded\n",
      "Data in memory, now creating X and y\n",
      "Data read. Shape is (500, 7).\n",
      "Training 2000 trees on 400 many data points.\n",
      "Training is done.\n",
      "Acquiring predictions for all the instances\n"
     ]
    },
    {
     "data": {
      "application/vnd.jupyter.widget-view+json": {
       "model_id": "49656b889ca44424a6abb87e8ed914ac",
       "version_major": 2,
       "version_minor": 0
      },
      "text/plain": [
       "  0%|          | 0/2000 [00:00<?, ?it/s]"
      ]
     },
     "metadata": {},
     "output_type": "display_data"
    },
    {
     "name": "stdout",
     "output_type": "stream",
     "text": [
      "Finding unique labels\n",
      "Initializing scores\n",
      "Compute bootstraps\n"
     ]
    },
    {
     "data": {
      "application/vnd.jupyter.widget-view+json": {
       "model_id": "1a3f55b2f0de466dbc128c9b8fe9cba2",
       "version_major": 2,
       "version_minor": 0
      },
      "text/plain": [
       "  0%|          | 0/1 [00:00<?, ?it/s]"
      ]
     },
     "metadata": {},
     "output_type": "display_data"
    },
    {
     "data": {
      "application/vnd.jupyter.widget-view+json": {
       "model_id": "c4d93204eb6647a196fe94a90a0e09bd",
       "version_major": 2,
       "version_minor": 0
      },
      "text/plain": [
       "  0%|          | 0/100 [00:00<?, ?it/s]"
      ]
     },
     "metadata": {},
     "output_type": "display_data"
    },
    {
     "name": "stdout",
     "output_type": "stream",
     "text": [
      "26\n",
      "Getting scores for 549\n",
      "dataset info loaded\n",
      "Data in memory, now creating X and y\n",
      "Data read. Shape is (625, 6).\n",
      "Training 2000 trees on 500 many data points.\n",
      "Training is done.\n",
      "Acquiring predictions for all the instances\n"
     ]
    },
    {
     "data": {
      "application/vnd.jupyter.widget-view+json": {
       "model_id": "fe8cafe58f7148429f09cdd97a795398",
       "version_major": 2,
       "version_minor": 0
      },
      "text/plain": [
       "  0%|          | 0/2000 [00:00<?, ?it/s]"
      ]
     },
     "metadata": {},
     "output_type": "display_data"
    },
    {
     "name": "stdout",
     "output_type": "stream",
     "text": [
      "Finding unique labels\n",
      "Initializing scores\n",
      "Compute bootstraps\n"
     ]
    },
    {
     "data": {
      "application/vnd.jupyter.widget-view+json": {
       "model_id": "66f7abe91842442a8b895389dea65d8d",
       "version_major": 2,
       "version_minor": 0
      },
      "text/plain": [
       "  0%|          | 0/1 [00:00<?, ?it/s]"
      ]
     },
     "metadata": {},
     "output_type": "display_data"
    },
    {
     "data": {
      "application/vnd.jupyter.widget-view+json": {
       "model_id": "bf9f661ddca54459a28f362de4e6c1c8",
       "version_major": 2,
       "version_minor": 0
      },
      "text/plain": [
       "  0%|          | 0/100 [00:00<?, ?it/s]"
      ]
     },
     "metadata": {},
     "output_type": "display_data"
    },
    {
     "name": "stdout",
     "output_type": "stream",
     "text": [
      "27\n",
      "Getting scores for 550\n",
      "dataset info loaded\n",
      "Data in memory, now creating X and y\n",
      "Data read. Shape is (2178, 3).\n",
      "Training 2000 trees on 1742 many data points.\n",
      "Training is done.\n",
      "Acquiring predictions for all the instances\n"
     ]
    },
    {
     "data": {
      "application/vnd.jupyter.widget-view+json": {
       "model_id": "f89330cd483143748ad04cae34cff824",
       "version_major": 2,
       "version_minor": 0
      },
      "text/plain": [
       "  0%|          | 0/2000 [00:00<?, ?it/s]"
      ]
     },
     "metadata": {},
     "output_type": "display_data"
    },
    {
     "name": "stdout",
     "output_type": "stream",
     "text": [
      "Finding unique labels\n",
      "Initializing scores\n",
      "Compute bootstraps\n"
     ]
    },
    {
     "data": {
      "application/vnd.jupyter.widget-view+json": {
       "model_id": "7e8fb016f97d4558aae64ee20b345b0a",
       "version_major": 2,
       "version_minor": 0
      },
      "text/plain": [
       "  0%|          | 0/1 [00:00<?, ?it/s]"
      ]
     },
     "metadata": {},
     "output_type": "display_data"
    },
    {
     "data": {
      "application/vnd.jupyter.widget-view+json": {
       "model_id": "5e75807a178b47778c48729ec1b1ad17",
       "version_major": 2,
       "version_minor": 0
      },
      "text/plain": [
       "  0%|          | 0/100 [00:00<?, ?it/s]"
      ]
     },
     "metadata": {},
     "output_type": "display_data"
    },
    {
     "name": "stdout",
     "output_type": "stream",
     "text": [
      "28\n",
      "Getting scores for 558\n",
      "dataset info loaded\n",
      "Data in memory, now creating X and y\n",
      "Data read. Shape is (8192, 32).\n",
      "Training 2000 trees on 6553 many data points.\n",
      "Training is done.\n",
      "Acquiring predictions for all the instances\n"
     ]
    },
    {
     "data": {
      "application/vnd.jupyter.widget-view+json": {
       "model_id": "e5ab63f80c074c898c65df8dabb36cc5",
       "version_major": 2,
       "version_minor": 0
      },
      "text/plain": [
       "  0%|          | 0/2000 [00:00<?, ?it/s]"
      ]
     },
     "metadata": {},
     "output_type": "display_data"
    },
    {
     "name": "stdout",
     "output_type": "stream",
     "text": [
      "Finding unique labels\n",
      "Initializing scores\n",
      "Compute bootstraps\n"
     ]
    },
    {
     "data": {
      "application/vnd.jupyter.widget-view+json": {
       "model_id": "a19e578686dc4893950c3265bc6be51f",
       "version_major": 2,
       "version_minor": 0
      },
      "text/plain": [
       "  0%|          | 0/1 [00:00<?, ?it/s]"
      ]
     },
     "metadata": {},
     "output_type": "display_data"
    },
    {
     "data": {
      "application/vnd.jupyter.widget-view+json": {
       "model_id": "98e6b870ffbc4894953461aaec08300b",
       "version_major": 2,
       "version_minor": 0
      },
      "text/plain": [
       "  0%|          | 0/100 [00:00<?, ?it/s]"
      ]
     },
     "metadata": {},
     "output_type": "display_data"
    },
    {
     "name": "stdout",
     "output_type": "stream",
     "text": [
      "29\n",
      "Getting scores for 560\n",
      "dataset info loaded\n",
      "Data in memory, now creating X and y\n",
      "Data read. Shape is (252, 14).\n",
      "Training 2000 trees on 152 many data points.\n",
      "Training is done.\n",
      "Acquiring predictions for all the instances\n"
     ]
    },
    {
     "data": {
      "application/vnd.jupyter.widget-view+json": {
       "model_id": "90f23d098c7142d8875a6561c1564b3a",
       "version_major": 2,
       "version_minor": 0
      },
      "text/plain": [
       "  0%|          | 0/2000 [00:00<?, ?it/s]"
      ]
     },
     "metadata": {},
     "output_type": "display_data"
    },
    {
     "name": "stdout",
     "output_type": "stream",
     "text": [
      "Finding unique labels\n",
      "Initializing scores\n",
      "Compute bootstraps\n"
     ]
    },
    {
     "data": {
      "application/vnd.jupyter.widget-view+json": {
       "model_id": "0a37606eb05f4c7aa1dc9e1b034829b3",
       "version_major": 2,
       "version_minor": 0
      },
      "text/plain": [
       "  0%|          | 0/1 [00:00<?, ?it/s]"
      ]
     },
     "metadata": {},
     "output_type": "display_data"
    },
    {
     "data": {
      "application/vnd.jupyter.widget-view+json": {
       "model_id": "395476282ab04c49b5586a27cfb96a58",
       "version_major": 2,
       "version_minor": 0
      },
      "text/plain": [
       "  0%|          | 0/100 [00:00<?, ?it/s]"
      ]
     },
     "metadata": {},
     "output_type": "display_data"
    },
    {
     "name": "stdout",
     "output_type": "stream",
     "text": [
      "30\n",
      "Getting scores for 673\n",
      "dataset info loaded\n",
      "Data in memory, now creating X and y\n",
      "Data read. Shape is (400, 7).\n",
      "Training 2000 trees on 300 many data points.\n",
      "Training is done.\n",
      "Acquiring predictions for all the instances\n"
     ]
    },
    {
     "data": {
      "application/vnd.jupyter.widget-view+json": {
       "model_id": "e443a112060f4884a8450e5c1270d304",
       "version_major": 2,
       "version_minor": 0
      },
      "text/plain": [
       "  0%|          | 0/2000 [00:00<?, ?it/s]"
      ]
     },
     "metadata": {},
     "output_type": "display_data"
    },
    {
     "name": "stdout",
     "output_type": "stream",
     "text": [
      "Finding unique labels\n",
      "Initializing scores\n",
      "Compute bootstraps\n"
     ]
    },
    {
     "data": {
      "application/vnd.jupyter.widget-view+json": {
       "model_id": "8cec42afe25f45acaa5772b91c849066",
       "version_major": 2,
       "version_minor": 0
      },
      "text/plain": [
       "  0%|          | 0/1 [00:00<?, ?it/s]"
      ]
     },
     "metadata": {},
     "output_type": "display_data"
    },
    {
     "data": {
      "application/vnd.jupyter.widget-view+json": {
       "model_id": "dd3b7aa1211e4efca3f87a9e286e1e7b",
       "version_major": 2,
       "version_minor": 0
      },
      "text/plain": [
       "  0%|          | 0/100 [00:00<?, ?it/s]"
      ]
     },
     "metadata": {},
     "output_type": "display_data"
    },
    {
     "name": "stdout",
     "output_type": "stream",
     "text": [
      "31\n",
      "Getting scores for 3050\n",
      "dataset info loaded\n",
      "Data in memory, now creating X and y\n",
      "Data read. Shape is (5742, 1024).\n",
      "Training 2000 trees on 4593 many data points.\n",
      "Training is done.\n",
      "Acquiring predictions for all the instances\n"
     ]
    },
    {
     "data": {
      "application/vnd.jupyter.widget-view+json": {
       "model_id": "98be7248552e441fb7d71687e104e32d",
       "version_major": 2,
       "version_minor": 0
      },
      "text/plain": [
       "  0%|          | 0/2000 [00:00<?, ?it/s]"
      ]
     },
     "metadata": {},
     "output_type": "display_data"
    },
    {
     "name": "stdout",
     "output_type": "stream",
     "text": [
      "Finding unique labels\n",
      "Initializing scores\n",
      "Compute bootstraps\n"
     ]
    },
    {
     "data": {
      "application/vnd.jupyter.widget-view+json": {
       "model_id": "067f3776205f46b2b18ed97c36f5e321",
       "version_major": 2,
       "version_minor": 0
      },
      "text/plain": [
       "  0%|          | 0/1 [00:00<?, ?it/s]"
      ]
     },
     "metadata": {},
     "output_type": "display_data"
    },
    {
     "data": {
      "application/vnd.jupyter.widget-view+json": {
       "model_id": "83ac21011a1643adb255e08f64a680dc",
       "version_major": 2,
       "version_minor": 0
      },
      "text/plain": [
       "  0%|          | 0/100 [00:00<?, ?it/s]"
      ]
     },
     "metadata": {},
     "output_type": "display_data"
    },
    {
     "name": "stdout",
     "output_type": "stream",
     "text": [
      "32\n",
      "Getting scores for 3277\n",
      "dataset info loaded\n",
      "Data in memory, now creating X and y\n",
      "Data read. Shape is (5766, 1024).\n",
      "Training 2000 trees on 4612 many data points.\n",
      "Training is done.\n",
      "Acquiring predictions for all the instances\n"
     ]
    },
    {
     "data": {
      "application/vnd.jupyter.widget-view+json": {
       "model_id": "1830dddaaebe4202909fe29a1e089f65",
       "version_major": 2,
       "version_minor": 0
      },
      "text/plain": [
       "  0%|          | 0/2000 [00:00<?, ?it/s]"
      ]
     },
     "metadata": {},
     "output_type": "display_data"
    },
    {
     "name": "stdout",
     "output_type": "stream",
     "text": [
      "Finding unique labels\n",
      "Initializing scores\n",
      "Compute bootstraps\n"
     ]
    },
    {
     "data": {
      "application/vnd.jupyter.widget-view+json": {
       "model_id": "c9ddca263dd14849860e99ba6da00aba",
       "version_major": 2,
       "version_minor": 0
      },
      "text/plain": [
       "  0%|          | 0/1 [00:00<?, ?it/s]"
      ]
     },
     "metadata": {},
     "output_type": "display_data"
    },
    {
     "data": {
      "application/vnd.jupyter.widget-view+json": {
       "model_id": "d9fc25854f994131beef86b2e56347de",
       "version_major": 2,
       "version_minor": 0
      },
      "text/plain": [
       "  0%|          | 0/100 [00:00<?, ?it/s]"
      ]
     },
     "metadata": {},
     "output_type": "display_data"
    },
    {
     "name": "stdout",
     "output_type": "stream",
     "text": [
      "33\n",
      "Getting scores for 41021\n",
      "dataset info loaded\n",
      "Data in memory, now creating X and y\n",
      "Data read. Shape is (1232, 14).\n",
      "Training 2000 trees on 985 many data points.\n",
      "Training is done.\n",
      "Acquiring predictions for all the instances\n"
     ]
    },
    {
     "data": {
      "application/vnd.jupyter.widget-view+json": {
       "model_id": "76ae091bd7c04cb38657dcf7201bd43a",
       "version_major": 2,
       "version_minor": 0
      },
      "text/plain": [
       "  0%|          | 0/2000 [00:00<?, ?it/s]"
      ]
     },
     "metadata": {},
     "output_type": "display_data"
    },
    {
     "name": "stdout",
     "output_type": "stream",
     "text": [
      "Finding unique labels\n",
      "Initializing scores\n",
      "Compute bootstraps\n"
     ]
    },
    {
     "data": {
      "application/vnd.jupyter.widget-view+json": {
       "model_id": "9032cd97f4124cd2936c60f49a649e47",
       "version_major": 2,
       "version_minor": 0
      },
      "text/plain": [
       "  0%|          | 0/1 [00:00<?, ?it/s]"
      ]
     },
     "metadata": {},
     "output_type": "display_data"
    },
    {
     "data": {
      "application/vnd.jupyter.widget-view+json": {
       "model_id": "a6430db8212a4f61a0428e1492ada9ab",
       "version_major": 2,
       "version_minor": 0
      },
      "text/plain": [
       "  0%|          | 0/100 [00:00<?, ?it/s]"
      ]
     },
     "metadata": {},
     "output_type": "display_data"
    },
    {
     "name": "stdout",
     "output_type": "stream",
     "text": [
      "34\n",
      "Getting scores for 41928\n",
      "dataset info loaded\n",
      "Data in memory, now creating X and y\n",
      "Data read. Shape is (2108, 23).\n",
      "Training 2000 trees on 1686 many data points.\n",
      "Training is done.\n",
      "Acquiring predictions for all the instances\n"
     ]
    },
    {
     "data": {
      "application/vnd.jupyter.widget-view+json": {
       "model_id": "29d1dcb881cc4192ac146b89d023b188",
       "version_major": 2,
       "version_minor": 0
      },
      "text/plain": [
       "  0%|          | 0/2000 [00:00<?, ?it/s]"
      ]
     },
     "metadata": {},
     "output_type": "display_data"
    },
    {
     "name": "stdout",
     "output_type": "stream",
     "text": [
      "Finding unique labels\n",
      "Initializing scores\n",
      "Compute bootstraps\n"
     ]
    },
    {
     "data": {
      "application/vnd.jupyter.widget-view+json": {
       "model_id": "6c17b979e5a14776954e568ba2a02f26",
       "version_major": 2,
       "version_minor": 0
      },
      "text/plain": [
       "  0%|          | 0/1 [00:00<?, ?it/s]"
      ]
     },
     "metadata": {},
     "output_type": "display_data"
    },
    {
     "data": {
      "application/vnd.jupyter.widget-view+json": {
       "model_id": "8951f44d14bb42e38bd06aef240688d0",
       "version_major": 2,
       "version_minor": 0
      },
      "text/plain": [
       "  0%|          | 0/100 [00:00<?, ?it/s]"
      ]
     },
     "metadata": {},
     "output_type": "display_data"
    },
    {
     "name": "stdout",
     "output_type": "stream",
     "text": [
      "35\n",
      "Getting scores for 41980\n",
      "dataset info loaded\n",
      "Data in memory, now creating X and y\n",
      "Data read. Shape is (4440, 116).\n",
      "Training 2000 trees on 3552 many data points.\n",
      "Training is done.\n",
      "Acquiring predictions for all the instances\n"
     ]
    },
    {
     "data": {
      "application/vnd.jupyter.widget-view+json": {
       "model_id": "d7ef06bc45f94033a3261f89335cd521",
       "version_major": 2,
       "version_minor": 0
      },
      "text/plain": [
       "  0%|          | 0/2000 [00:00<?, ?it/s]"
      ]
     },
     "metadata": {},
     "output_type": "display_data"
    },
    {
     "name": "stdout",
     "output_type": "stream",
     "text": [
      "Finding unique labels\n",
      "Initializing scores\n",
      "Compute bootstraps\n"
     ]
    },
    {
     "data": {
      "application/vnd.jupyter.widget-view+json": {
       "model_id": "afe65a02e0e1413ebf89df55fe7e138f",
       "version_major": 2,
       "version_minor": 0
      },
      "text/plain": [
       "  0%|          | 0/1 [00:00<?, ?it/s]"
      ]
     },
     "metadata": {},
     "output_type": "display_data"
    },
    {
     "data": {
      "application/vnd.jupyter.widget-view+json": {
       "model_id": "f61bc9f03e0a492ab08b9124fc8182a9",
       "version_major": 2,
       "version_minor": 0
      },
      "text/plain": [
       "  0%|          | 0/100 [00:00<?, ?it/s]"
      ]
     },
     "metadata": {},
     "output_type": "display_data"
    },
    {
     "name": "stdout",
     "output_type": "stream",
     "text": [
      "36\n",
      "Getting scores for 42563\n",
      "dataset info loaded\n",
      "Data in memory, now creating X and y\n",
      "Data read. Shape is (1460, 79).\n",
      "Training 2000 trees on 1168 many data points.\n",
      "Training is done.\n",
      "Acquiring predictions for all the instances\n"
     ]
    },
    {
     "data": {
      "application/vnd.jupyter.widget-view+json": {
       "model_id": "4b907ae7b2874af29e768fa6d450cddb",
       "version_major": 2,
       "version_minor": 0
      },
      "text/plain": [
       "  0%|          | 0/2000 [00:00<?, ?it/s]"
      ]
     },
     "metadata": {},
     "output_type": "display_data"
    },
    {
     "name": "stdout",
     "output_type": "stream",
     "text": [
      "Finding unique labels\n",
      "Initializing scores\n",
      "Compute bootstraps\n"
     ]
    },
    {
     "data": {
      "application/vnd.jupyter.widget-view+json": {
       "model_id": "a4efe4726c1f4905b9139b5d1a04648f",
       "version_major": 2,
       "version_minor": 0
      },
      "text/plain": [
       "  0%|          | 0/1 [00:00<?, ?it/s]"
      ]
     },
     "metadata": {},
     "output_type": "display_data"
    },
    {
     "data": {
      "application/vnd.jupyter.widget-view+json": {
       "model_id": "24ba0730e291468187458c02fff80a87",
       "version_major": 2,
       "version_minor": 0
      },
      "text/plain": [
       "  0%|          | 0/100 [00:00<?, ?it/s]"
      ]
     },
     "metadata": {},
     "output_type": "display_data"
    },
    {
     "name": "stdout",
     "output_type": "stream",
     "text": [
      "37\n",
      "Getting scores for 42570\n",
      "dataset info loaded\n",
      "Data in memory, now creating X and y\n",
      "Data read. Shape is (4209, 376).\n",
      "Training 2000 trees on 3367 many data points.\n",
      "Training is done.\n",
      "Acquiring predictions for all the instances\n"
     ]
    },
    {
     "data": {
      "application/vnd.jupyter.widget-view+json": {
       "model_id": "e5fdb7c2bc754090ae66915f7cf39cae",
       "version_major": 2,
       "version_minor": 0
      },
      "text/plain": [
       "  0%|          | 0/2000 [00:00<?, ?it/s]"
      ]
     },
     "metadata": {},
     "output_type": "display_data"
    },
    {
     "name": "stdout",
     "output_type": "stream",
     "text": [
      "Finding unique labels\n",
      "Initializing scores\n",
      "Compute bootstraps\n"
     ]
    },
    {
     "data": {
      "application/vnd.jupyter.widget-view+json": {
       "model_id": "61072fb789b94393b0e22b4a6d891f08",
       "version_major": 2,
       "version_minor": 0
      },
      "text/plain": [
       "  0%|          | 0/1 [00:00<?, ?it/s]"
      ]
     },
     "metadata": {},
     "output_type": "display_data"
    },
    {
     "data": {
      "application/vnd.jupyter.widget-view+json": {
       "model_id": "832ad2fcd53f49e4a963c0480a61c3c3",
       "version_major": 2,
       "version_minor": 0
      },
      "text/plain": [
       "  0%|          | 0/100 [00:00<?, ?it/s]"
      ]
     },
     "metadata": {},
     "output_type": "display_data"
    },
    {
     "name": "stdout",
     "output_type": "stream",
     "text": [
      "38\n",
      "Getting scores for 42572\n",
      "dataset info loaded\n",
      "Data in memory, now creating X and y\n",
      "Data read. Shape is (4459, 4991).\n",
      "Training 2000 trees on 3567 many data points.\n",
      "Training is done.\n",
      "Acquiring predictions for all the instances\n"
     ]
    },
    {
     "data": {
      "application/vnd.jupyter.widget-view+json": {
       "model_id": "44b84eee658f4bd397f50fb033ee5b22",
       "version_major": 2,
       "version_minor": 0
      },
      "text/plain": [
       "  0%|          | 0/2000 [00:00<?, ?it/s]"
      ]
     },
     "metadata": {},
     "output_type": "display_data"
    },
    {
     "name": "stdout",
     "output_type": "stream",
     "text": [
      "Finding unique labels\n",
      "Initializing scores\n",
      "Compute bootstraps\n"
     ]
    },
    {
     "data": {
      "application/vnd.jupyter.widget-view+json": {
       "model_id": "028eaf22bf7e4487958ac1c8cc554be7",
       "version_major": 2,
       "version_minor": 0
      },
      "text/plain": [
       "  0%|          | 0/1 [00:00<?, ?it/s]"
      ]
     },
     "metadata": {},
     "output_type": "display_data"
    },
    {
     "data": {
      "application/vnd.jupyter.widget-view+json": {
       "model_id": "06e2683782d34d6b97401a883874a066",
       "version_major": 2,
       "version_minor": 0
      },
      "text/plain": [
       "  0%|          | 0/100 [00:00<?, ?it/s]"
      ]
     },
     "metadata": {},
     "output_type": "display_data"
    },
    {
     "name": "stdout",
     "output_type": "stream",
     "text": [
      "39\n",
      "Getting scores for 42726\n",
      "dataset info loaded\n",
      "Data in memory, now creating X and y\n",
      "Data read. Shape is (4177, 8).\n",
      "Training 2000 trees on 3341 many data points.\n",
      "Training is done.\n",
      "Acquiring predictions for all the instances\n"
     ]
    },
    {
     "data": {
      "application/vnd.jupyter.widget-view+json": {
       "model_id": "b9285d192b6b43d69ffea630ea79c1fb",
       "version_major": 2,
       "version_minor": 0
      },
      "text/plain": [
       "  0%|          | 0/2000 [00:00<?, ?it/s]"
      ]
     },
     "metadata": {},
     "output_type": "display_data"
    },
    {
     "name": "stdout",
     "output_type": "stream",
     "text": [
      "Finding unique labels\n",
      "Initializing scores\n",
      "Compute bootstraps\n"
     ]
    },
    {
     "data": {
      "application/vnd.jupyter.widget-view+json": {
       "model_id": "6b04117c04ae4815a88c8794f8251f28",
       "version_major": 2,
       "version_minor": 0
      },
      "text/plain": [
       "  0%|          | 0/1 [00:00<?, ?it/s]"
      ]
     },
     "metadata": {},
     "output_type": "display_data"
    },
    {
     "data": {
      "application/vnd.jupyter.widget-view+json": {
       "model_id": "16c33f7bcebc49d5a7a8c655bd828381",
       "version_major": 2,
       "version_minor": 0
      },
      "text/plain": [
       "  0%|          | 0/100 [00:00<?, ?it/s]"
      ]
     },
     "metadata": {},
     "output_type": "display_data"
    },
    {
     "name": "stdout",
     "output_type": "stream",
     "text": [
      "40\n",
      "Getting scores for 42727\n",
      "dataset info loaded\n",
      "Data in memory, now creating X and y\n",
      "Data read. Shape is (7063, 44).\n",
      "Training 2000 trees on 5650 many data points.\n",
      "Training is done.\n",
      "Acquiring predictions for all the instances\n"
     ]
    },
    {
     "data": {
      "application/vnd.jupyter.widget-view+json": {
       "model_id": "f5d95c84657446c4bb235789dfc038fb",
       "version_major": 2,
       "version_minor": 0
      },
      "text/plain": [
       "  0%|          | 0/2000 [00:00<?, ?it/s]"
      ]
     },
     "metadata": {},
     "output_type": "display_data"
    },
    {
     "name": "stdout",
     "output_type": "stream",
     "text": [
      "Finding unique labels\n",
      "Initializing scores\n",
      "Compute bootstraps\n"
     ]
    },
    {
     "data": {
      "application/vnd.jupyter.widget-view+json": {
       "model_id": "b8ee2c1025db445da2c556a5630f8334",
       "version_major": 2,
       "version_minor": 0
      },
      "text/plain": [
       "  0%|          | 0/1 [00:00<?, ?it/s]"
      ]
     },
     "metadata": {},
     "output_type": "display_data"
    },
    {
     "data": {
      "application/vnd.jupyter.widget-view+json": {
       "model_id": "22666d2f81c34d9ca15556de7c3276b0",
       "version_major": 2,
       "version_minor": 0
      },
      "text/plain": [
       "  0%|          | 0/100 [00:00<?, ?it/s]"
      ]
     },
     "metadata": {},
     "output_type": "display_data"
    },
    {
     "name": "stdout",
     "output_type": "stream",
     "text": [
      "41\n",
      "Getting scores for 42730\n",
      "dataset info loaded\n",
      "Data in memory, now creating X and y\n",
      "Data read. Shape is (1994, 126).\n",
      "Training 2000 trees on 1595 many data points.\n",
      "Training is done.\n",
      "Acquiring predictions for all the instances\n"
     ]
    },
    {
     "data": {
      "application/vnd.jupyter.widget-view+json": {
       "model_id": "4bd94e887dfd4e539b45f97db9ba9ce2",
       "version_major": 2,
       "version_minor": 0
      },
      "text/plain": [
       "  0%|          | 0/2000 [00:00<?, ?it/s]"
      ]
     },
     "metadata": {},
     "output_type": "display_data"
    },
    {
     "name": "stdout",
     "output_type": "stream",
     "text": [
      "Finding unique labels\n",
      "Initializing scores\n",
      "Compute bootstraps\n"
     ]
    },
    {
     "data": {
      "application/vnd.jupyter.widget-view+json": {
       "model_id": "84480f95fd5945a4979963b34233fb40",
       "version_major": 2,
       "version_minor": 0
      },
      "text/plain": [
       "  0%|          | 0/1 [00:00<?, ?it/s]"
      ]
     },
     "metadata": {},
     "output_type": "display_data"
    },
    {
     "data": {
      "application/vnd.jupyter.widget-view+json": {
       "model_id": "dd035deea4ca41ef963d499341c4f8a2",
       "version_major": 2,
       "version_minor": 0
      },
      "text/plain": [
       "  0%|          | 0/100 [00:00<?, ?it/s]"
      ]
     },
     "metadata": {},
     "output_type": "display_data"
    },
    {
     "name": "stdout",
     "output_type": "stream",
     "text": [
      "42\n",
      "Getting scores for 43071\n",
      "dataset info loaded\n",
      "Data in memory, now creating X and y\n",
      "Data read. Shape is (1090, 144).\n",
      "Training 2000 trees on 872 many data points.\n",
      "Training is done.\n",
      "Acquiring predictions for all the instances\n"
     ]
    },
    {
     "data": {
      "application/vnd.jupyter.widget-view+json": {
       "model_id": "ed6fd74e610e4e8184209f651af268c7",
       "version_major": 2,
       "version_minor": 0
      },
      "text/plain": [
       "  0%|          | 0/2000 [00:00<?, ?it/s]"
      ]
     },
     "metadata": {},
     "output_type": "display_data"
    },
    {
     "name": "stdout",
     "output_type": "stream",
     "text": [
      "Finding unique labels\n",
      "Initializing scores\n",
      "Compute bootstraps\n"
     ]
    },
    {
     "data": {
      "application/vnd.jupyter.widget-view+json": {
       "model_id": "16345b0f886444fd9cf6c1eeb20b59fd",
       "version_major": 2,
       "version_minor": 0
      },
      "text/plain": [
       "  0%|          | 0/1 [00:00<?, ?it/s]"
      ]
     },
     "metadata": {},
     "output_type": "display_data"
    },
    {
     "data": {
      "application/vnd.jupyter.widget-view+json": {
       "model_id": "4e5709eb0bb44d95bbd61f4a2fb3c1e6",
       "version_major": 2,
       "version_minor": 0
      },
      "text/plain": [
       "  0%|          | 0/100 [00:00<?, ?it/s]"
      ]
     },
     "metadata": {},
     "output_type": "display_data"
    },
    {
     "name": "stdout",
     "output_type": "stream",
     "text": [
      "43\n"
     ]
    }
   ],
   "source": [
    "def collect_pvalcurves(task_type, filename = None, datasets = datasets_with_small_trees):\n",
    "    \n",
    "    if filename is None:\n",
    "        filename = f\"pvals_{task_type}.csv\"\n",
    "    \n",
    "    df = pd.read_csv(filename) if path.exists(filename) else None\n",
    "    for openmlid in tqdm(datasets):\n",
    "        num_instances = df_metafeatures[df_metafeatures[\"openmlid\"] == openmlid][\"instances\"].values[0]\n",
    "        num_classes = df_metafeatures[df_metafeatures[\"openmlid\"] == openmlid][\"classes\"].values[0]\n",
    "        if (task_type == \"regression\" or num_classes == 2) and num_instances >= 150 and num_instances < 10**4 and (df is None or np.count_nonzero(df[\"openmlid\"] == openmlid) == 0):\n",
    "            response = get_pval_curve(task_type, openmlid, random_state = 0, num_samples = 5, sample_size = 100)\n",
    "            if response is None:\n",
    "                print(\"Too little variance among trees, problem seems trivial.\")\n",
    "                df_new = pd.DataFrame([[openmlid, None, None]], columns=[\"openmlid\", \"forest_sizes\", \"pvalues\"])\n",
    "            else:\n",
    "                forest_sizes, pvalues = response\n",
    "                pvalues_as_list = pvalues.tolist()\n",
    "                df_new = pd.DataFrame([[openmlid, forest_sizes, pvalues_as_list]], columns=[\"openmlid\", \"forest_sizes\", \"pvalues\"])\n",
    "            \n",
    "            if df is None:\n",
    "                df = df_new\n",
    "            else:\n",
    "                df = pd.concat([df, df_new])\n",
    "            print(len(df))\n",
    "            df.to_csv(filename, index=False)\n",
    "            \n",
    "    \n",
    "collect_pvalcurves(task_type = \"classification\", datasets = datasets_classification)\n",
    "collect_pvalcurves(task_type = \"regression\", datasets = datasets_regression)"
   ]
  },
  {
   "cell_type": "markdown",
   "id": "d3999a81",
   "metadata": {},
   "source": [
    "# Checks"
   ]
  },
  {
   "cell_type": "code",
   "execution_count": 13,
   "id": "62f0b951",
   "metadata": {},
   "outputs": [],
   "source": [
    "def create_std_plots(Z_treewise = None, Z = None, granularity = 10, openmlid = None, eps = 0.001):\n",
    "    if openmlid is not None:\n",
    "        row = pd.read_csv(\"scorecurves.csv\").query(f\"openmlid == {openmlid}\").iloc[0]\n",
    "        Z_treewise, Z = np.array(json.loads(row[\"z_treewise\"])), np.array(json.loads(row[\"z_forest\"]))\n",
    "    \n",
    "    # standard deviation tree-wise\n",
    "    V_treewise = np.std(Z_treewise, axis=0)\n",
    "    B_treewise = np.tile([2 / t for t in range(1, V_treewise.shape[0] + 1)], (V_treewise.shape[1], 1)).T\n",
    "    fig, ax = plt.subplots()\n",
    "    ax.imshow(V_treewise, cmap=\"seismic\", vmin = 0, vmax=2 * eps, aspect='auto')\n",
    "    plt.show()\n",
    "    fig, ax = plt.subplots()\n",
    "    ax.imshow(V_treewise - B_treewise, cmap=\"seismic\", vmin=-eps, vmax=eps, aspect='auto')\n",
    "    plt.show()\n",
    "    \n",
    "    # for the whole forest\n",
    "    V = np.mean(np.std(Z, axis=1), axis=0)\n",
    "    B = np.array([[2 / ((1 + (n - 1) * granularity) * (1 + (t - 1) * granularity)) for n in range(1, V.shape[1] + 1)] for t in range(1, V.shape[0] + 1)])\n",
    "    if np.count_nonzero(V**2 > B):\n",
    "        print(f\"WARNING, the proven standard deviation threshold is violated in {np.count_nonzero(V**2 > B)} cases.\")\n",
    "\n",
    "    print(V[0,-1])\n",
    "    fig, ax = plt.subplots(figsize=(6, 4))\n",
    "    sb.heatmap(V, cmap=\"seismic\", vmin = 0, vmax=2 * eps)\n",
    "    xticklabels = np.arange(0, V.shape[0] + 1, granularity)\n",
    "    yticklabels = np.arange(0, V.shape[1] + 1, granularity)\n",
    "    ax.set_xticks(xticklabels)\n",
    "    ax.set_xticklabels(granularity * xticklabels)\n",
    "    ax.set_yticks(yticklabels)\n",
    "    ax.set_yticklabels(granularity * yticklabels)\n",
    "    ax.set_xlabel(\"Number of points in $X_{val}$\")\n",
    "    ax.set_ylabel(\"Number $t$ of trees\")\n",
    "    ax.set_title(\"Empirical Standard Deviation in $Z_t$\")\n",
    "    fig.savefig(f\"plots/stds/{openmlid}.pdf\", bbox_inches=\"tight\")\n",
    "    fig.savefig(f\"plots/stds/{openmlid}.png\", dpi=300, bbox_inches=\"tight\")\n",
    "    plt.show()"
   ]
  },
  {
   "cell_type": "markdown",
   "id": "5dd12e19",
   "metadata": {},
   "source": [
    "## Hypothesis Test to see whether Normality of data can be Rejected"
   ]
  },
  {
   "cell_type": "code",
   "execution_count": 66,
   "id": "df8e62b2",
   "metadata": {},
   "outputs": [
    {
     "name": "stdout",
     "output_type": "stream",
     "text": [
      "Aggregating over 103 datasets.\n",
      "Aggregating over 42 datasets.\n"
     ]
    },
    {
     "data": {
      "image/png": "[encoded data removed]",
      "text/plain": [
       "<Figure size 360x288 with 2 Axes>"
      ]
     },
     "metadata": {
      "needs_background": "light"
     },
     "output_type": "display_data"
    }
   ],
   "source": [
    "fig, axs = plt.subplots(2, 1, figsize=(5, 4))\n",
    "\n",
    "for task_type, ax in zip([\"classification\", \"regression\"], axs):\n",
    "    df = pd.read_csv(f\"pvals_{task_type}.csv\").dropna()\n",
    "    df[\"forest_sizes\"] = [json.loads(e) for e in df[\"forest_sizes\"]]\n",
    "    pvals = [json.loads(e) for e in df[\"pvalues\"]]\n",
    "    df[\"pvalues\"] = pvals\n",
    "\n",
    "    forest_sizes = df.iloc[0][\"forest_sizes\"]\n",
    "    mean_pvals = np.mean(pvals, axis = 1)\n",
    "    print(f\"Aggregating over {mean_pvals.shape[0]} datasets.\")\n",
    "\n",
    "    ax.plot(forest_sizes, mean_pvals.mean(axis=0), linestyle=\"dotted\")\n",
    "    ax.fill_between(forest_sizes, np.percentile(mean_pvals, 25, axis=0), np.percentile(mean_pvals, 75, axis=0), alpha=0.2, color=f\"C{0}\")\n",
    "    ax.fill_between(forest_sizes, np.percentile(mean_pvals, 1, axis=0), np.percentile(mean_pvals, 99, axis=0), alpha=0.1, color=f\"C{0}\")\n",
    "    ax.plot(forest_sizes, np.median(pvals, axis=1).mean(axis=0), color=f\"C{0}\")\n",
    "    for threshold in [0.1, 0.2, 0.3]:\n",
    "        ax.axhline(threshold, color=\"black\", linestyle=\"--\", linewidth=1)\n",
    "    ax.axvline(10, color=\"black\", linestyle=\"--\", linewidth=1)\n",
    "    ax.axvline(100, color=\"black\", linestyle=\"--\", linewidth=1)\n",
    "\n",
    "    ax.set_xlabel(\"Number of trees\")\n",
    "    ax.set_ylabel(\"p-value\")\n",
    "    ax.set_title(f\"p-value of D'Agostino-Pearson test for {task_type} tasks\")\n",
    "\n",
    "axs[0].set_xticks([])\n",
    "axs[0].set_xlabel(None)\n",
    "fig.tight_layout()\n",
    "fig.savefig(\"plots/pvals.pdf\", bbox_inches=\"tight\")"
   ]
  },
  {
   "cell_type": "markdown",
   "id": "8cdb7738",
   "metadata": {},
   "source": [
    "## Tests that Variance is within Proven Bounds"
   ]
  },
  {
   "cell_type": "code",
   "execution_count": 15,
   "id": "8b01d49f",
   "metadata": {},
   "outputs": [
    {
     "data": {
      "image/png": "[encoded data removed]",
      "text/plain": [
       "<Figure size 432x288 with 1 Axes>"
      ]
     },
     "metadata": {
      "needs_background": "light"
     },
     "output_type": "display_data"
    },
    {
     "data": {
      "image/png": "[encoded data removed]",
      "text/plain": [
       "<Figure size 432x288 with 1 Axes>"
      ]
     },
     "metadata": {
      "needs_background": "light"
     },
     "output_type": "display_data"
    },
    {
     "name": "stdout",
     "output_type": "stream",
     "text": [
      "0.020358120189703774\n"
     ]
    },
    {
     "data": {
      "image/png": "[encoded data removed]",
      "text/plain": [
       "<Figure size 432x288 with 2 Axes>"
      ]
     },
     "metadata": {
      "needs_background": "light"
     },
     "output_type": "display_data"
    }
   ],
   "source": [
    "create_std_plots(openmlid=1485)"
   ]
  },
  {
   "cell_type": "markdown",
   "id": "0db7090e",
   "metadata": {},
   "source": [
    "## Show Standard-Dev as a function of t assuming 80% for training and 20% for testing\n",
    "Plot shows this for all datasets."
   ]
  },
  {
   "cell_type": "code",
   "execution_count": 16,
   "id": "d97f2f66",
   "metadata": {},
   "outputs": [
    {
     "data": {
      "text/plain": [
       "(222, 2000)"
      ]
     },
     "execution_count": 16,
     "metadata": {},
     "output_type": "execute_result"
    }
   ],
   "source": [
    "stds = pd.read_csv(\"curvestds.csv\").drop(columns=[\"openmlid\"]).values\n",
    "stds.shape"
   ]
  },
  {
   "cell_type": "code",
   "execution_count": 17,
   "id": "e176cefa",
   "metadata": {},
   "outputs": [],
   "source": [
    "def plot_stds(task_type, stds, scale = 0.8, ax = None):\n",
    "    \n",
    "    if ax is None:\n",
    "        fig, ax = plt.subplots(figsize=(scale * 5,  scale * 2))\n",
    "    else:\n",
    "        fig = None\n",
    "    print(f\"Plotting summary of {len(stds)} {task_type} datasets.\")\n",
    "    ax.plot(range(stds.shape[-1]), stds.mean(axis=0))\n",
    "    ax.fill_between(range(stds.shape[-1]), stds.min(axis=0), stds.max(axis=0), color=\"C0\", alpha=0.1)\n",
    "    ax.fill_between(range(stds.shape[-1]), np.percentile(stds, 25, axis=0), np.percentile(stds, 75, axis=0), color=\"C0\", alpha=0.2)\n",
    "    ax.axhline(0.0, color=\"black\")\n",
    "    #ax.axhline(0.003, color=\"black\", linestyle=\"--\")\n",
    "    ax.axhline(0.001, color=\"black\", linestyle=\"--\", linewidth=1)\n",
    "    ax.axvline(100, color=\"black\", linestyle=\"--\", linewidth=1)\n",
    "    ax.axvline(500, color=\"black\", linestyle=\"--\", linewidth=1)\n",
    "    ax.axvline(1000, color=\"black\", linestyle=\"--\", linewidth=1)\n",
    "    ax.set_xlabel(\"t\")\n",
    "    ax.set_ylabel(\"std ($Z_t$)\")\n",
    "    ax.set_ylim([0, 0.005])\n",
    "    \n",
    "    if fig is not None:\n",
    "        fig.savefig(f\"plots/stds_by_numtrees_over_datasets_{task_type}.pdf\", bbox_inches=\"tight\")"
   ]
  },
  {
   "cell_type": "code",
   "execution_count": 18,
   "id": "50aa317c",
   "metadata": {},
   "outputs": [],
   "source": [
    "stds = pd.read_csv(\"curvestds.csv\")\n",
    "scale = 1"
   ]
  },
  {
   "cell_type": "code",
   "execution_count": 19,
   "id": "a2cf27d6",
   "metadata": {},
   "outputs": [
    {
     "name": "stdout",
     "output_type": "stream",
     "text": [
      "Plotting summary of 176 classification datasets.\n",
      "Plotting summary of 47 regression datasets.\n"
     ]
    },
    {
     "data": {
      "image/png": "[encoded data removed]",
      "text/plain": [
       "<Figure size 360x288 with 2 Axes>"
      ]
     },
     "metadata": {
      "needs_background": "light"
     },
     "output_type": "display_data"
    }
   ],
   "source": [
    "fig, axs = plt.subplots(2, 1, figsize=(scale * 5,  scale * 4))\n",
    "plot_stds(\"classification\", stds[stds[\"openmlid\"].isin(datasets_classification)].drop(columns=[\"openmlid\"]).values.astype(float), ax = axs[0])\n",
    "plot_stds(\"regression\", stds[stds[\"openmlid\"].isin(datasets_regression)].drop(columns=[\"openmlid\"]).values.astype(float), ax=axs[1])\n",
    "axs[0].set_title(\"Classification\")\n",
    "axs[0].set_xticks([])\n",
    "axs[0].set_xlabel(None)\n",
    "axs[1].set_title(\"Regression\")\n",
    "fig.savefig(\"plots/stds_by_numtrees_over_datasets.pdf\", bbox_inches=\"tight\")"
   ]
  },
  {
   "cell_type": "code",
   "execution_count": null,
   "id": "83c382cf",
   "metadata": {},
   "outputs": [],
   "source": []
  }
 ],
 "metadata": {
  "kernelspec": {
   "display_name": "Python 3",
   "language": "python",
   "name": "python3"
  },
  "language_info": {
   "codemirror_mode": {
    "name": "ipython",
    "version": 3
   },
   "file_extension": ".py",
   "mimetype": "text/x-python",
   "name": "python",
   "nbconvert_exporter": "python",
   "pygments_lexer": "ipython3",
   "version": "3.7.11"
  }
 },
 "nbformat": 4,
 "nbformat_minor": 5
}
