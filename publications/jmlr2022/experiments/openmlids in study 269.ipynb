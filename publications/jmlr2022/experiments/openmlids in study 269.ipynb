{
 "cells": [
  {
   "cell_type": "code",
   "execution_count": 2,
   "id": "511e3313",
   "metadata": {},
   "outputs": [],
   "source": [
    "import openml\n",
    "import statistics\n",
    "\n",
    "study = openml.study.get_suite(269)\n",
    "\n",
    "data_list = openml.datasets.list_datasets(data_id=study.data)"
   ]
  },
  {
   "cell_type": "code",
   "execution_count": 10,
   "id": "281b65b3",
   "metadata": {},
   "outputs": [
    {
     "name": "stdout",
     "output_type": "stream",
     "text": [
      "[201, 216, 287, 416, 422, 505, 507, 531, 541, 546, 550, 574, 3050, 3277, 4549, 41021, 41540, 41980, 42225, 42563, 42570, 42571, 42572, 42688, 42705, 42724, 42726, 42727, 42728, 42729, 42730, 42731, 43071]\n"
     ]
    }
   ],
   "source": [
    "print(sorted(data_list.keys()))"
   ]
  },
  {
   "cell_type": "code",
   "execution_count": 13,
   "id": "74705ebe",
   "metadata": {},
   "outputs": [
    {
     "data": {
      "text/plain": [
       "['abalone',\n",
       " 'airlines_depdelay_10m',\n",
       " 'allstate_claims_severity',\n",
       " 'black_friday',\n",
       " 'boston',\n",
       " 'brazilian_houses',\n",
       " 'buzzinsocialmedia_twitter',\n",
       " 'colleges',\n",
       " 'diamonds',\n",
       " 'elevators',\n",
       " 'house_16h',\n",
       " 'house_prices_nominal',\n",
       " 'house_sales',\n",
       " 'mercedes_benz_greener_manufacturing',\n",
       " 'mip-2016-regression',\n",
       " 'moneyball',\n",
       " 'nyc-taxi-green-dec-2016',\n",
       " 'onlinenewspopularity',\n",
       " 'pol',\n",
       " 'qsar-tid-10980',\n",
       " 'qsar-tid-11',\n",
       " 'quake',\n",
       " 'santander_transaction_value',\n",
       " 'sat11-hand-runtime-regression',\n",
       " 'sensory',\n",
       " 'socmob',\n",
       " 'space_ga',\n",
       " 'tecator',\n",
       " 'topo_2_1',\n",
       " 'us_crime',\n",
       " 'wine_quality',\n",
       " 'yolanda',\n",
       " 'yprop_4_1']"
      ]
     },
     "execution_count": 13,
     "metadata": {},
     "output_type": "execute_result"
    }
   ],
   "source": [
    "sorted([e[\"name\"].lower() for e in data_list.values()])"
   ]
  },
  {
   "cell_type": "code",
   "execution_count": 16,
   "id": "9f469c36",
   "metadata": {},
   "outputs": [
    {
     "data": {
      "text/plain": [
       "59"
      ]
     },
     "execution_count": 16,
     "metadata": {},
     "output_type": "execute_result"
    }
   ],
   "source": [
    "len([ 8, 189, 190, 191, 194, 196, 201, 204, 210, 216, 227, 231, 287, 308, 315, 405, 416, 422, 482, 503, 505, 507, 509, 511, 512, 531, 536, 541, 546, 547, 549, 550, 558, 560, 564, 574, 673, 3050, 3277, 4549, 41021, 41540, 41928, 41980, 42225, 42563, 42570, 42571, 42572, 42688, 42705, 42724, 42726, 42727, 42728, 42729, 42730, 42731, 43071])"
   ]
  }
 ],
 "metadata": {
  "kernelspec": {
   "display_name": "Python 3",
   "language": "python",
   "name": "python3"
  },
  "language_info": {
   "codemirror_mode": {
    "name": "ipython",
    "version": 3
   },
   "file_extension": ".py",
   "mimetype": "text/x-python",
   "name": "python",
   "nbconvert_exporter": "python",
   "pygments_lexer": "ipython3",
   "version": "3.7.11"
  }
 },
 "nbformat": 4,
 "nbformat_minor": 5
}
