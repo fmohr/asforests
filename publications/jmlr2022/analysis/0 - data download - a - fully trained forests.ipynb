{
 "cells": [
  {
   "cell_type": "code",
   "execution_count": 1,
   "id": "e7ff58fe",
   "metadata": {
    "scrolled": false
   },
   "outputs": [],
   "source": [
    "import matplotlib.pyplot as plt\n",
    "import json\n",
    "import numpy as np\n",
    "import pandas as pd\n",
    "from tqdm.notebook import tqdm"
   ]
  },
  {
   "cell_type": "code",
   "execution_count": 2,
   "id": "5431081b",
   "metadata": {
    "scrolled": true
   },
   "outputs": [],
   "source": [
    "datasets_classification = list(pd.read_csv(\"../../../../lcdb/python/lcdb/datasets.csv\")[\"openmlid\"].values)"
   ]
  },
  {
   "cell_type": "code",
   "execution_count": 3,
   "id": "095c3c7e",
   "metadata": {},
   "outputs": [],
   "source": [
    "def prepare_result_dataset(df_results_bare):\n",
    "    \n",
    "    df_results = df_results_bare[df_results_bare[\"status\"] == \"done\"]\n",
    "    \n",
    "    # decompose score field\n",
    "    times_train = []\n",
    "    times_dist = []\n",
    "    scores_train = []\n",
    "    scores_val = []\n",
    "    memory = []\n",
    "    for info in tqdm(df_results[\"scores\"]):\n",
    "        history = json.loads(info)\n",
    "        times_train.append([t[1] for t in history])\n",
    "        times_dist.append([t[2] for t in history])\n",
    "        scores_train.append(list(np.round([t[3] for t in history], 6)))\n",
    "        scores_val.append(list(np.round([t[4] for t in history], 6)))\n",
    "        memory.append([t[-1] for t in history])\n",
    "    \n",
    "    # compute new result frame\n",
    "    slopes = []\n",
    "    for memory_hist in memory:\n",
    "        cov = np.cov(range(1000), memory_hist[-1000:])\n",
    "        slopes.append(np.round(cov[1,0] / cov[0,0], 6))\n",
    "    return pd.DataFrame({\n",
    "        \"openmlid\": df_results[\"openmlid\"],\n",
    "        \"seed\": df_results[\"seed\"],\n",
    "        \"memory_per_tree\": slopes,\n",
    "        \"train_time_per_tree_in_ms\": [np.round(np.mean(e), 1) for e in times_train],\n",
    "        \"dist_time_per_tree_in_ms\": [np.round(np.mean(e), 1) for e in times_dist],\n",
    "        \"scores_oob\": scores_train,\n",
    "        \"scores_val\": scores_val\n",
    "    })\n",
    "    \n",
    "def plot_result_availability(df_results, expteded_datasets = None):\n",
    "    \n",
    "    if expteded_datasets is None:\n",
    "        expteded_datasets = sorted(list(pd.unique(df_results[\"openmlid\"])))\n",
    "    \n",
    "    # compute matrix of what we have available\n",
    "    Z = np.zeros((len(expteded_datasets), 10))\n",
    "    for i, openmlid in enumerate(expteded_datasets):\n",
    "        m1 = df_results[\"openmlid\"].astype(int) == openmlid\n",
    "        for j in range(10):\n",
    "            m2 = df_results[\"seed\"].astype(int) == j\n",
    "            Z[i,j] = np.count_nonzero(m1 & m2)\n",
    "    \n",
    "    # show availability\n",
    "    fig, ax = plt.subplots(figsize=(10,len(expteded_datasets) * 0.4))\n",
    "    ax.imshow(-Z, cmap=\"coolwarm\")\n",
    "    ax.set_yticks(range(len(expteded_datasets)))\n",
    "    ax.set_yticklabels(expteded_datasets)\n",
    "    ax.set_xticks(np.arange(-.5, 10, 1), minor=True)\n",
    "    ax.set_yticks(np.arange(-.5, len(expteded_datasets), 1), minor=True)\n",
    "    ax.grid(which='minor', color='w', linestyle='-', linewidth=2)\n",
    "    plt.show()"
   ]
  },
  {
   "cell_type": "code",
   "execution_count": null,
   "id": "eabd4be2",
   "metadata": {},
   "outputs": [
    {
     "name": "stdout",
     "output_type": "stream",
     "text": [
      "Preparing results for regression.\n"
     ]
    },
    {
     "data": {
      "application/vnd.jupyter.widget-view+json": {
       "model_id": "e00c8699ff364932813d6c93405ebf4e",
       "version_major": 2,
       "version_minor": 0
      },
      "text/plain": [
       "  0%|          | 0/550 [00:00<?, ?it/s]"
      ]
     },
     "metadata": {},
     "output_type": "display_data"
    }
   ],
   "source": [
    "for key, expected_datasets in zip([\"classification\", \"regression\"], [datasets_classification, None]):\n",
    "    if key != \"regression\":\n",
    "        continue\n",
    "    print(f\"Preparing results for {key}.\")\n",
    "    df_results = prepare_result_dataset(pd.read_csv(f\"results_{key}_bare.csv\", sep=\";\"))\n",
    "    plot_result_availability(df_results, expected_datasets)\n",
    "    file = f\"results_{key}_base.csv\"\n",
    "    print(f\"Results for {key} ready, storing them in {file}.\")\n",
    "    df_results.to_csv(file, index=False, sep=\";\")\n",
    "    print(f\"Results for {key} stored in {file}.\")"
   ]
  }
 ],
 "metadata": {
  "kernelspec": {
   "display_name": "Python 3",
   "language": "python",
   "name": "python3"
  },
  "language_info": {
   "codemirror_mode": {
    "name": "ipython",
    "version": 3
   },
   "file_extension": ".py",
   "mimetype": "text/x-python",
   "name": "python",
   "nbconvert_exporter": "python",
   "pygments_lexer": "ipython3",
   "version": "3.7.11"
  }
 },
 "nbformat": 4,
 "nbformat_minor": 5
}
