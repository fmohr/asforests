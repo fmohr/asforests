{
 "cells": [
  {
   "cell_type": "code",
   "execution_count": 1,
   "id": "2bd363b8",
   "metadata": {},
   "outputs": [],
   "source": [
    "from py_experimenter.experimenter import PyExperimenter\n",
    "import zlib\n",
    "import json\n",
    "import numpy as np\n",
    "import matplotlib.pyplot as plt\n",
    "import pandas as pd\n",
    "import seaborn as sb\n",
    "import pickle"
   ]
  },
  {
   "cell_type": "code",
   "execution_count": 2,
   "id": "3d78a4ed",
   "metadata": {},
   "outputs": [
    {
     "name": "stderr",
     "output_type": "stream",
     "text": [
      "2023-10-03 23:43:48,866  | py-experimenter - INFO     | Initialized and connected to database\n"
     ]
    }
   ],
   "source": [
    "job_type = \"classification\"\n",
    "experimenter = PyExperimenter(\n",
    "            experiment_configuration_file_path=f\"config/experiments-fullforests-{job_type}.cfg\",\n",
    "            use_codecarbon=False\n",
    "        )"
   ]
  },
  {
   "cell_type": "code",
   "execution_count": 3,
   "id": "04dc51d9",
   "metadata": {},
   "outputs": [],
   "source": [
    "df = experimenter.get_table()"
   ]
  },
  {
   "cell_type": "code",
   "execution_count": 4,
   "id": "bb0cf650",
   "metadata": {},
   "outputs": [],
   "source": [
    "df = df[df[\"scores\"].notna()]"
   ]
  },
  {
   "cell_type": "code",
   "execution_count": 5,
   "id": "7d9f4495",
   "metadata": {},
   "outputs": [
    {
     "data": {
      "text/html": [
       "<div>\n",
       "<style scoped>\n",
       "    .dataframe tbody tr th:only-of-type {\n",
       "        vertical-align: middle;\n",
       "    }\n",
       "\n",
       "    .dataframe tbody tr th {\n",
       "        vertical-align: top;\n",
       "    }\n",
       "\n",
       "    .dataframe thead th {\n",
       "        text-align: right;\n",
       "    }\n",
       "</style>\n",
       "<table border=\"1\" class=\"dataframe\">\n",
       "  <thead>\n",
       "    <tr style=\"text-align: right;\">\n",
       "      <th></th>\n",
       "      <th>ID</th>\n",
       "      <th>openmlid</th>\n",
       "      <th>seed</th>\n",
       "      <th>eps</th>\n",
       "      <th>zfactor</th>\n",
       "      <th>creation_date</th>\n",
       "      <th>status</th>\n",
       "      <th>start_date</th>\n",
       "      <th>name</th>\n",
       "      <th>machine</th>\n",
       "      <th>scores</th>\n",
       "      <th>end_date</th>\n",
       "      <th>error</th>\n",
       "    </tr>\n",
       "  </thead>\n",
       "  <tbody>\n",
       "    <tr>\n",
       "      <th>0</th>\n",
       "      <td>1</td>\n",
       "      <td>3</td>\n",
       "      <td>0</td>\n",
       "      <td>0.005</td>\n",
       "      <td>2.0</td>\n",
       "      <td>2023-10-03 21:57:28</td>\n",
       "      <td>done</td>\n",
       "      <td>2023-10-03 21:57:31</td>\n",
       "      <td>lappy</td>\n",
       "      <td>frank</td>\n",
       "      <td>[[[\"f\", \"f\", \"f\", \"f\", \"f\", \"f\", \"f\", \"f\", \"f\"...</td>\n",
       "      <td>2023-10-03 21:57:34</td>\n",
       "      <td>None</td>\n",
       "    </tr>\n",
       "    <tr>\n",
       "      <th>1</th>\n",
       "      <td>2</td>\n",
       "      <td>14</td>\n",
       "      <td>0</td>\n",
       "      <td>0.005</td>\n",
       "      <td>2.0</td>\n",
       "      <td>2023-10-03 21:57:28</td>\n",
       "      <td>done</td>\n",
       "      <td>2023-10-03 21:57:34</td>\n",
       "      <td>lappy</td>\n",
       "      <td>frank</td>\n",
       "      <td>[[[0.06588172, 0.19731169, 0.10382563, 0.27036...</td>\n",
       "      <td>2023-10-03 21:57:46</td>\n",
       "      <td>None</td>\n",
       "    </tr>\n",
       "    <tr>\n",
       "      <th>2</th>\n",
       "      <td>3</td>\n",
       "      <td>16</td>\n",
       "      <td>0</td>\n",
       "      <td>0.005</td>\n",
       "      <td>2.0</td>\n",
       "      <td>2023-10-03 21:57:28</td>\n",
       "      <td>done</td>\n",
       "      <td>2023-10-03 21:57:46</td>\n",
       "      <td>lappy</td>\n",
       "      <td>frank</td>\n",
       "      <td>[[[-10.29700756, -11.66678905, 11.56066895, -2...</td>\n",
       "      <td>2023-10-03 21:58:00</td>\n",
       "      <td>None</td>\n",
       "    </tr>\n",
       "    <tr>\n",
       "      <th>3</th>\n",
       "      <td>4</td>\n",
       "      <td>18</td>\n",
       "      <td>0</td>\n",
       "      <td>0.005</td>\n",
       "      <td>2.0</td>\n",
       "      <td>2023-10-03 21:57:28</td>\n",
       "      <td>done</td>\n",
       "      <td>2023-10-03 21:58:00</td>\n",
       "      <td>lappy</td>\n",
       "      <td>frank</td>\n",
       "      <td>[[[1.0, 0.0, 0.0, 133.1508614, 1.31169276, 162...</td>\n",
       "      <td>2023-10-03 21:58:07</td>\n",
       "      <td>None</td>\n",
       "    </tr>\n",
       "    <tr>\n",
       "      <th>4</th>\n",
       "      <td>5</td>\n",
       "      <td>21</td>\n",
       "      <td>0</td>\n",
       "      <td>0.005</td>\n",
       "      <td>2.0</td>\n",
       "      <td>2023-10-03 21:57:28</td>\n",
       "      <td>done</td>\n",
       "      <td>2023-10-03 21:58:08</td>\n",
       "      <td>lappy</td>\n",
       "      <td>frank</td>\n",
       "      <td>[[[\"vhigh\", \"vhigh\", \"2\", \"2\", \"small\", \"low\"]...</td>\n",
       "      <td>2023-10-03 21:58:16</td>\n",
       "      <td>None</td>\n",
       "    </tr>\n",
       "    <tr>\n",
       "      <th>...</th>\n",
       "      <td>...</td>\n",
       "      <td>...</td>\n",
       "      <td>...</td>\n",
       "      <td>...</td>\n",
       "      <td>...</td>\n",
       "      <td>...</td>\n",
       "      <td>...</td>\n",
       "      <td>...</td>\n",
       "      <td>...</td>\n",
       "      <td>...</td>\n",
       "      <td>...</td>\n",
       "      <td>...</td>\n",
       "      <td>...</td>\n",
       "    </tr>\n",
       "    <tr>\n",
       "      <th>76</th>\n",
       "      <td>77</td>\n",
       "      <td>849</td>\n",
       "      <td>0</td>\n",
       "      <td>0.005</td>\n",
       "      <td>2.0</td>\n",
       "      <td>2023-10-03 21:57:28</td>\n",
       "      <td>done</td>\n",
       "      <td>2023-10-03 23:23:03</td>\n",
       "      <td>lappy</td>\n",
       "      <td>frank</td>\n",
       "      <td>[[[0.843376, 1.128392, -1.684857, 1.017291, 0....</td>\n",
       "      <td>2023-10-03 23:23:07</td>\n",
       "      <td>None</td>\n",
       "    </tr>\n",
       "    <tr>\n",
       "      <th>77</th>\n",
       "      <td>78</td>\n",
       "      <td>866</td>\n",
       "      <td>0</td>\n",
       "      <td>0.005</td>\n",
       "      <td>2.0</td>\n",
       "      <td>2023-10-03 21:57:28</td>\n",
       "      <td>done</td>\n",
       "      <td>2023-10-03 23:23:07</td>\n",
       "      <td>lappy</td>\n",
       "      <td>frank</td>\n",
       "      <td>[[[0.394484, 0.228851, 0.819326, 0.736256, 1.1...</td>\n",
       "      <td>2023-10-03 23:23:14</td>\n",
       "      <td>None</td>\n",
       "    </tr>\n",
       "    <tr>\n",
       "      <th>78</th>\n",
       "      <td>79</td>\n",
       "      <td>871</td>\n",
       "      <td>0</td>\n",
       "      <td>0.005</td>\n",
       "      <td>2.0</td>\n",
       "      <td>2023-10-03 21:57:28</td>\n",
       "      <td>done</td>\n",
       "      <td>2023-10-03 23:23:14</td>\n",
       "      <td>lappy</td>\n",
       "      <td>frank</td>\n",
       "      <td>[[[-2.3482, 3.6314, 5.0289, 10.8721, -1.3852],...</td>\n",
       "      <td>2023-10-03 23:23:18</td>\n",
       "      <td>None</td>\n",
       "    </tr>\n",
       "    <tr>\n",
       "      <th>79</th>\n",
       "      <td>80</td>\n",
       "      <td>881</td>\n",
       "      <td>0</td>\n",
       "      <td>0.005</td>\n",
       "      <td>2.0</td>\n",
       "      <td>2023-10-03 21:57:28</td>\n",
       "      <td>done</td>\n",
       "      <td>2023-10-03 23:23:18</td>\n",
       "      <td>lappy</td>\n",
       "      <td>frank</td>\n",
       "      <td>[[[3.50591, -13.114, \"brown\", -6.55701, 0.0188...</td>\n",
       "      <td>2023-10-03 23:23:31</td>\n",
       "      <td>None</td>\n",
       "    </tr>\n",
       "    <tr>\n",
       "      <th>80</th>\n",
       "      <td>81</td>\n",
       "      <td>897</td>\n",
       "      <td>0</td>\n",
       "      <td>0.005</td>\n",
       "      <td>2.0</td>\n",
       "      <td>2023-10-03 21:57:28</td>\n",
       "      <td>done</td>\n",
       "      <td>2023-10-03 23:23:32</td>\n",
       "      <td>lappy</td>\n",
       "      <td>frank</td>\n",
       "      <td>[[[1061.0, \"AK\", \"IIB\", 454.0, 382.0, 362.0, 3...</td>\n",
       "      <td>2023-10-03 23:23:33</td>\n",
       "      <td>None</td>\n",
       "    </tr>\n",
       "  </tbody>\n",
       "</table>\n",
       "<p>76 rows × 13 columns</p>\n",
       "</div>"
      ],
      "text/plain": [
       "    ID openmlid  seed    eps  zfactor        creation_date status  \\\n",
       "0    1        3     0  0.005      2.0  2023-10-03 21:57:28   done   \n",
       "1    2       14     0  0.005      2.0  2023-10-03 21:57:28   done   \n",
       "2    3       16     0  0.005      2.0  2023-10-03 21:57:28   done   \n",
       "3    4       18     0  0.005      2.0  2023-10-03 21:57:28   done   \n",
       "4    5       21     0  0.005      2.0  2023-10-03 21:57:28   done   \n",
       "..  ..      ...   ...    ...      ...                  ...    ...   \n",
       "76  77      849     0  0.005      2.0  2023-10-03 21:57:28   done   \n",
       "77  78      866     0  0.005      2.0  2023-10-03 21:57:28   done   \n",
       "78  79      871     0  0.005      2.0  2023-10-03 21:57:28   done   \n",
       "79  80      881     0  0.005      2.0  2023-10-03 21:57:28   done   \n",
       "80  81      897     0  0.005      2.0  2023-10-03 21:57:28   done   \n",
       "\n",
       "             start_date   name machine  \\\n",
       "0   2023-10-03 21:57:31  lappy   frank   \n",
       "1   2023-10-03 21:57:34  lappy   frank   \n",
       "2   2023-10-03 21:57:46  lappy   frank   \n",
       "3   2023-10-03 21:58:00  lappy   frank   \n",
       "4   2023-10-03 21:58:08  lappy   frank   \n",
       "..                  ...    ...     ...   \n",
       "76  2023-10-03 23:23:03  lappy   frank   \n",
       "77  2023-10-03 23:23:07  lappy   frank   \n",
       "78  2023-10-03 23:23:14  lappy   frank   \n",
       "79  2023-10-03 23:23:18  lappy   frank   \n",
       "80  2023-10-03 23:23:32  lappy   frank   \n",
       "\n",
       "                                               scores             end_date  \\\n",
       "0   [[[\"f\", \"f\", \"f\", \"f\", \"f\", \"f\", \"f\", \"f\", \"f\"...  2023-10-03 21:57:34   \n",
       "1   [[[0.06588172, 0.19731169, 0.10382563, 0.27036...  2023-10-03 21:57:46   \n",
       "2   [[[-10.29700756, -11.66678905, 11.56066895, -2...  2023-10-03 21:58:00   \n",
       "3   [[[1.0, 0.0, 0.0, 133.1508614, 1.31169276, 162...  2023-10-03 21:58:07   \n",
       "4   [[[\"vhigh\", \"vhigh\", \"2\", \"2\", \"small\", \"low\"]...  2023-10-03 21:58:16   \n",
       "..                                                ...                  ...   \n",
       "76  [[[0.843376, 1.128392, -1.684857, 1.017291, 0....  2023-10-03 23:23:07   \n",
       "77  [[[0.394484, 0.228851, 0.819326, 0.736256, 1.1...  2023-10-03 23:23:14   \n",
       "78  [[[-2.3482, 3.6314, 5.0289, 10.8721, -1.3852],...  2023-10-03 23:23:18   \n",
       "79  [[[3.50591, -13.114, \"brown\", -6.55701, 0.0188...  2023-10-03 23:23:31   \n",
       "80  [[[1061.0, \"AK\", \"IIB\", 454.0, 382.0, 362.0, 3...  2023-10-03 23:23:33   \n",
       "\n",
       "   error  \n",
       "0   None  \n",
       "1   None  \n",
       "2   None  \n",
       "3   None  \n",
       "4   None  \n",
       "..   ...  \n",
       "76  None  \n",
       "77  None  \n",
       "78  None  \n",
       "79  None  \n",
       "80  None  \n",
       "\n",
       "[76 rows x 13 columns]"
      ]
     },
     "execution_count": 5,
     "metadata": {},
     "output_type": "execute_result"
    }
   ],
   "source": [
    "df"
   ]
  },
  {
   "cell_type": "code",
   "execution_count": 6,
   "id": "356ae5d9",
   "metadata": {},
   "outputs": [],
   "source": [
    "import itertools as it\n",
    "from tqdm.notebook import tqdm\n",
    "from scipy import stats\n",
    "\n",
    "class Analyzer:\n",
    "    \n",
    "    def __init__(self,\n",
    "                 openmlid,\n",
    "                 prob_history_oob,\n",
    "                 prob_history_val,\n",
    "                 Y_train,\n",
    "                 Y_val,\n",
    "                 times_fit,\n",
    "                 times_predict_train,\n",
    "                 times_predict_val,\n",
    "                 times_update\n",
    "                ):\n",
    "        self.openmlid = openmlid\n",
    "        self.prob_history_oob = prob_history_oob\n",
    "        self.prob_history_val = prob_history_val\n",
    "        self.Y_train = Y_train\n",
    "        self.Y_val = Y_val\n",
    "        self.num_trees = prob_history_oob.shape[0]\n",
    "        if prob_history_oob.shape[0] != prob_history_val.shape[0]:\n",
    "            raise ValueError(\"Inconsistent tree count!\")\n",
    "        self.times_fit = times_fit\n",
    "        self.times_predict_train = times_predict_train\n",
    "        self.times_predict_val = times_predict_val\n",
    "        self.times_update = times_update\n",
    "        \n",
    "        # compute probabilistic behavior of forest\n",
    "        self.scores_of_single_trees = {}\n",
    "        self.single_tree_scores_mean_ests = {}\n",
    "        self.single_tree_scores_std_ests = {}\n",
    "        self.scores_of_forests = {}\n",
    "        self.prob_history_forests = {} # contains for each forest size the probability distribution\n",
    "        self.correction_terms_for_t1_per_time = {}\n",
    "        self.num_trees_used_on_avg_for_oob_estimates_at_forest_size = []\n",
    "        for key, probs_orig, Y in zip([\"oob\", \"val\"], [self.prob_history_oob, self.prob_history_val], [self.Y_train, self.Y_val]):\n",
    "            \n",
    "            # compute distribution per forest size\n",
    "            counter = np.zeros((probs_orig.shape[1], probs_orig.shape[2])) # count how many trees voted on each instance (also use classes for convenience)\n",
    "            probs_forest = np.zeros(counter.shape)\n",
    "            probs_forest[:] = np.nan\n",
    "            prob_vars_forest = np.zeros(counter.shape)\n",
    "            probs_forests = []\n",
    "            single_tree_scores = []\n",
    "            single_tree_scores_mean_ests = []\n",
    "            single_tree_scores_std_ests = []\n",
    "            forest_scores = []\n",
    "            correction_terms = []\n",
    "            \n",
    "            for t, probs_tree in enumerate(tqdm(probs_orig), start=1):\n",
    "                mask = ~np.isnan(probs_tree)[:,0]\n",
    "                mask_insert = mask & np.isnan(probs_forest)[:,0]\n",
    "                mask_update = mask & ~np.isnan(probs_forest)[:,0]\n",
    "                old_counter = counter.copy()\n",
    "                counter[mask] += 1\n",
    "                probs_forest[mask_insert] = probs_tree[mask_insert]\n",
    "                probs_forest[mask_update] = (old_counter[mask_update] * probs_forest[mask_update] + probs_tree[mask_update]) / counter[mask_update]\n",
    "                probs_forests.append(probs_forest.copy())\n",
    "                \n",
    "                # compute probability variances\n",
    "                if t == 1:\n",
    "                    correction_terms.append(0) # no variance estimate for first tree\n",
    "                else:\n",
    "                    prob_vars_forest[mask] = (prob_vars_forest[mask] * old_counter[mask] + (probs_tree[mask] - probs_forests[-2][mask]) * (probs_tree[mask] - probs_forests[-1][mask])) / counter[mask] # this has slight bias\n",
    "                    correction_term = np.nanmean(prob_vars_forest.sum(axis=1))\n",
    "                    correction_terms.append(correction_term)\n",
    "                \n",
    "                # compute actual scores for this tree and the forest including this tree\n",
    "                score_tree = np.nanmean(((probs_tree - Y)**2).sum(axis=1))\n",
    "                score_forest = np.nanmean(((probs_forest - Y)**2).sum(axis=1))\n",
    "                single_tree_scores.append(score_tree)\n",
    "                forest_scores.append(score_forest)\n",
    "                \n",
    "                # update average number of trees used for an assessment\n",
    "                if key == \"oob\":\n",
    "                    self.num_trees_used_on_avg_for_oob_estimates_at_forest_size.append(int((~np.isnan(probs_orig))[:t,:,0].sum(axis=0).mean()))\n",
    "                \n",
    "                # compute empirical mean and std of performance of a single tree per forest size\n",
    "                #mu = single_tree_scores_mean_ests[-1] if single_tree_scores_mean_ests else 0\n",
    "                single_tree_scores_mean_ests.append(np.nanmean(single_tree_scores))#((t - 1) * mu + score_tree) / t)\n",
    "                single_tree_scores_std_ests.append(np.nanstd(single_tree_scores))\n",
    "            \n",
    "            # compute probabilities and scores\n",
    "            self.prob_history_forests[key] = probs_forests\n",
    "            self.scores_of_single_trees[key] = tuple(single_tree_scores)\n",
    "            self.single_tree_scores_mean_ests[key] = single_tree_scores_mean_ests\n",
    "            self.single_tree_scores_std_ests[key] = single_tree_scores_std_ests\n",
    "            self.scores_of_forests[key] = tuple(forest_scores)\n",
    "            self.correction_terms_for_t1_per_time[key] = tuple(correction_terms)\n",
    "\n",
    "        # things to compute lazy\n",
    "        self.ci_histories = {\n",
    "            \"oob\": {},\n",
    "            \"val\": {}\n",
    "        }\n",
    "\n",
    "    def sample_rf_behavior_from_probs(probs_orig, Y, forest_size=None):\n",
    "        if forest_size is None:\n",
    "            forest_size = probs_orig.shape[0]\n",
    "        permutation = np.random.choice(range(len(probs_orig)), forest_size, replace=False)\n",
    "        permuted_probs = probs_orig[permutation]\n",
    "\n",
    "        sums_per_timestep = np.zeros(Y.shape)\n",
    "        counts_per_timestep = np.zeros(Y.shape)\n",
    "        mean_distributions_per_forest_size = []\n",
    "        for t, probs_in_t in enumerate(permuted_probs):\n",
    "            mask = ~np.isnan(probs_in_t[:,0])\n",
    "            covered_indices = list(np.where(mask)[0])\n",
    "            sums_per_timestep[covered_indices] += probs_in_t[covered_indices]\n",
    "            counts_per_timestep += np.tile(mask, (Y.shape[1], 1)).T\n",
    "            mean_distributions_per_forest_size.append(sums_per_timestep / counts_per_timestep)\n",
    "        mean_distributions_per_forest_size = np.array(mean_distributions_per_forest_size)    \n",
    "\n",
    "        estimated_limit_performance_per_timestep = np.nanmean(((mean_distributions_per_forest_size[:] - Y) ** 2).sum(axis=2), axis=1)\n",
    "        brier_score_per_forest_size = np.nanmean(((mean_distributions_per_forest_size[:] - Y)**2).sum(axis=2), axis=1)\n",
    "        return permuted_probs, brier_score_per_forest_size, estimated_limit_performance_per_timestep\n",
    "\n",
    "    def get_ci_for_expected_performance_at_size_t_based_on_normality(self, forest_size, alpha, sub_forest_size=1, oob=True):\n",
    "        key = \"oob\" if oob else \"val\"\n",
    "        trees_to_be_considered_for_ci = self.num_trees_used_on_avg_for_oob_estimates_at_forest_size[forest_size-1] if oob else forest_size # this is always t, even for OOB\n",
    "        est_mean = self.single_tree_scores_mean_ests[key][forest_size - 1]\n",
    "        est_std = self.single_tree_scores_std_ests[key][forest_size - 1]\n",
    "        ci = stats.norm.interval(alpha, loc=est_mean, scale=est_std/np.sqrt(trees_to_be_considered_for_ci))\n",
    "        return ci\n",
    "\n",
    "    def compute_ci_sequence_for_expected_performance_at_size_t_based_on_normality(self, alpha, sub_forest_size=1, offset=10, oob=True):\n",
    "        max_forest_size = self.num_trees\n",
    "        cis = []\n",
    "        ci_intersection = [-np.inf, np.inf]\n",
    "        ci_intersection_history = []\n",
    "        for forest_size in range(offset, max_forest_size + 1):\n",
    "            ci = self.get_ci_for_expected_performance_at_size_t_based_on_normality(\n",
    "                forest_size=forest_size,\n",
    "                alpha=alpha,\n",
    "                sub_forest_size=sub_forest_size,\n",
    "                oob=oob\n",
    "            )\n",
    "            cis.append(ci)\n",
    "\n",
    "            ci_intersection[0] = max([ci_intersection[0], ci[0]])\n",
    "            ci_intersection[1] = min([ci_intersection[1], ci[1]])\n",
    "            if ci_intersection[0] > ci_intersection[1]:\n",
    "                #print(f\"WARNING: INCONSISTENT CI\")\n",
    "                #raise ValueError(\"INCONSISTENT\")\n",
    "                pass\n",
    "            \n",
    "            ci_intersection_history.append([i for i in ci_intersection])\n",
    "\n",
    "        ci_intersection_history = np.array(ci_intersection_history)\n",
    "        first_key = \"oob\" if oob else \"val\"\n",
    "        second_key = alpha\n",
    "        self.ci_histories[first_key][second_key] = {\n",
    "            \"orig\": cis,\n",
    "            \"intersect\": ci_intersection_history\n",
    "        }\n",
    "    \n",
    "    def get_num_trees_used_on_avg_for_oob_estimates_at_forest_size(self, forest_size):\n",
    "        return int((~np.isnan(analyzer.prob_history_oob))[:forest_size,:,0].sum(axis=0).mean())\n",
    "    \n",
    "    def get_num_trees_required_for_stable_correction_term_estimate(self, max_iterations_without_new_max = 5, do_discount=True, oob=True):\n",
    "        new_max_indices = []\n",
    "        first_plateau_max_index = -1\n",
    "        cur_max = 0\n",
    "        cnt_no_new_max = 0\n",
    "        key = \"oob\" if oob else \"val\"\n",
    "        for t, v in enumerate(self.correction_terms_for_t1_per_time[key], start = 1):\n",
    "            if do_discount:\n",
    "                v /= t\n",
    "            if v < cur_max:\n",
    "                cnt_no_new_max += 1\n",
    "            else:\n",
    "                cur_max = v\n",
    "                cnt_no_new_max = 0\n",
    "            \n",
    "            if cnt_no_new_max >= max_iterations_without_new_max:\n",
    "                return t\n",
    "        return np.nan\n",
    "        \n",
    "\n",
    "    def get_stopping_point(self, alpha, eps, mode, min_trees=5, use_conservative_correction_term=False, oob=True, use_oob_forest_size_estimate_for_correction_term=False):\n",
    "\n",
    "        if mode not in [\"oracle\", \"realistic\"]:\n",
    "            raise ValueError(\"mode must be 'oracle' or 'realistic'\")\n",
    "\n",
    "        key = \"oob\" if oob else \"val\"\n",
    "\n",
    "        tree_scores = self.scores_of_single_trees[key]\n",
    "        correction_terms = self.correction_terms_for_t1_per_time[key]\n",
    "        num_tree_count_for_stable_correction_term_estimate = self.get_num_trees_required_for_stable_correction_term_estimate(\n",
    "            max_iterations_without_new_max=5,\n",
    "            do_discount=True,\n",
    "            oob=oob\n",
    "        )\n",
    "        \n",
    "        if mode == \"oracle\":\n",
    "            std_of_scores = np.std(tree_scores)\n",
    "            correction_term = correction_terms[-1]\n",
    "        for t in range(min_trees, len(tree_scores) + 1):\n",
    "\n",
    "            # define base of operation if no oracle is used\n",
    "            if mode != \"oracle\":\n",
    "                std_of_scores = np.std(tree_scores[:t])\n",
    "                correction_term = (self.Y_train.shape[1] / 4) if use_conservative_correction_term else correction_terms[t - 1]\n",
    "\n",
    "            # compute pessimistic gap to asymptotic performance (uncertainty + noise)\n",
    "            # for VAL curves, one uses t. For OOB curves, one pretends a smaller forest, of the avg number of trees used for predictions\n",
    "            trees_to_be_considered_for_ci = self.num_trees_used_on_avg_for_oob_estimates_at_forest_size[t-1] if oob else t # this is always t, even for OOB\n",
    "            ci = stats.norm.interval(alpha, loc=0, scale=std_of_scores / np.sqrt(trees_to_be_considered_for_ci))\n",
    "            gap = ci[1] + correction_term / (trees_to_be_considered_for_ci if use_oob_forest_size_estimate_for_correction_term else t)\n",
    "\n",
    "            # accept t if the gap is small enough\n",
    "            if t >= num_tree_count_for_stable_correction_term_estimate and gap <= eps:\n",
    "                return t\n",
    "        \n",
    "    def create_ci_plot(self, alpha, eps, oob=True, ax=None):\n",
    "        first_key = \"oob\" if oob else \"val\"\n",
    "        second_key = alpha\n",
    "        cis = self.ci_histories[first_key][second_key][\"orig\"]\n",
    "        ci_intersections = self.ci_histories[first_key][second_key][\"intersect\"]\n",
    "        times = range(1, self.prob_history_oob.shape[0] + 1)\n",
    "\n",
    "        if ax is None:\n",
    "            fig, ax = plt.subplots()\n",
    "        else:\n",
    "            fig = None\n",
    "\n",
    "        expected_limit_performance = sum(cis[-1]) / 2\n",
    "        ax.fill_between(times[offset-1:], [e[0] for e in cis], [e[1] for e in cis], alpha=0.2)\n",
    "        ax.fill_between(times[offset-1:], [e[0] for e in ci_intersections], [e[1] for e in ci_intersections], color=\"red\", alpha=0.2)\n",
    "        ax.fill_between(times, expected_limit_performance - eps, expected_limit_performance + eps, alpha=0.2)\n",
    "        ax.set_ylim([expected_limit_performance - 5 * eps, expected_limit_performance + 5 * eps])\n",
    "\n",
    "        if fig is not None:\n",
    "            plt.show()\n",
    "\n",
    "    def create_full_belief_plot(self, alpha, eps, min_trees=5, decision_oob=True, scoring_oob=True, eps_limit_multiplier=3, ax=None):\n",
    "        first_key_decision = \"oob\" if decision_oob else \"val\"\n",
    "        first_key_scoring = \"oob\" if scoring_oob else \"val\"\n",
    "        second_key = alpha\n",
    "        cis = np.array([list(e) for e in self.ci_histories[first_key_scoring][second_key][\"orig\"]])\n",
    "        #ci_intersections = analyzer.ci_histories[first_key][second_key][\"intersect\"]\n",
    "\n",
    "        scores_oob = self.scores_of_forests[\"oob\"]\n",
    "        scores_val = self.scores_of_forests[\"val\"]\n",
    "        correction_terms_over_time = self.correction_terms_for_t1_per_time[first_key_scoring]\n",
    "\n",
    "        times = range(1, len(scores_oob) + 1)\n",
    "\n",
    "        if ax is None:\n",
    "            fig, ax = plt.subplots(figsize=(16, 5))\n",
    "        else:\n",
    "            fig = None\n",
    "\n",
    "        # actual performance\n",
    "        ax.plot(times, scores_oob, label=\"$Z_t^{oob}$\")\n",
    "        ax.plot(times, scores_val, label=\"$Z_t^{val}$\")\n",
    "\n",
    "        # expected performance (approximated)\n",
    "        final_belief_of_correction_term_at_t1 = correction_terms_over_time[-1]\n",
    "        correction_terms_over_time_based_on_final_belief = final_belief_of_correction_term_at_t1 / times\n",
    "        expected_limit_performance = sum(cis[-1]) / 2 - final_belief_of_correction_term_at_t1 # take the last estimate (as best estimate), but do NOT divide by t here, because this is inferred via the estimate on t = 1\n",
    "        ax.axhline(expected_limit_performance, linestyle=\"--\", color=\"black\", linewidth=1, label=\"$\\mathbb{E}[Z_\\infty]$\")\n",
    "        ax.plot(times, expected_limit_performance + correction_terms_over_time_based_on_final_belief, color=\"red\", label=\"$\\mathbb{E}[Z_t]$\")\n",
    "        ax.fill_between(times, expected_limit_performance - eps, expected_limit_performance + eps, color=\"green\", alpha=0.2)\n",
    "\n",
    "        # add confidence intervals around actual observations\n",
    "        ax.fill_between(\n",
    "            times[offset-1:],\n",
    "            [e[0] - final_belief_of_correction_term_at_t1 for e in cis],\n",
    "            [e[1] - final_belief_of_correction_term_at_t1 for e in cis],\n",
    "            alpha=0.2\n",
    "        )\n",
    "\n",
    "        # plot decision lines\n",
    "        #decision_line_oracle = self.get_stopping_point(alpha, eps, \"oracle\", oob=decision_oob)\n",
    "        decision_line_oob = self.get_stopping_point(alpha, eps, \"realistic\", min_trees=min_trees, oob=True)\n",
    "        decision_line_val = self.get_stopping_point(alpha, eps, \"oracle\", min_trees=min_trees, oob=False)\n",
    "        ax.axvline(decision_line_oob, color=\"C0\", linestyle=\"--\", linewidth=1, label=\"$t^{oob}$\")\n",
    "        ax.axvline(decision_line_val, color=\"C1\", linestyle=\"--\", linewidth=1, label=\"$t^{val}$\")\n",
    "\n",
    "        ax.set_ylim([expected_limit_performance - eps_limit_multiplier * eps, expected_limit_performance + eps_limit_multiplier * eps])\n",
    "\n",
    "        ax.legend()\n",
    "        ax.set_title(f\"Stopping after {decision_line_oob} trees (OOB). Perfect decision would be {decision_line_val} (VAL orcale)\")\n",
    "\n",
    "        if fig is not None:\n",
    "            plt.show()\n",
    "            \n",
    "    def plot_gap_over_time(self, alpha, eps, oob, min_trees=2, ax = None):\n",
    "        if ax is None:\n",
    "            fig, axs = plt.subplots(3, 1, figsize=(16, 12))\n",
    "        else:\n",
    "            fig = None\n",
    "\n",
    "        \n",
    "        key = \"oob\" if oob else \"val\"\n",
    "\n",
    "        times = np.arange(1, self.num_trees + 1)\n",
    "        correction_terms_over_time_real = self.correction_terms_for_t1_per_time[key] / times\n",
    "        correction_terms_over_time_omniscient = self.correction_terms_for_t1_per_time[key][-1] / times\n",
    "        correction_terms_over_time_pessimistic = (self.Y_train.shape[1] / (4 * times))\n",
    "        confidence_band_sizes = np.array([(e[1] - e[0]) / 2 for e in self.ci_histories[key][alpha][\"orig\"]])\n",
    "\n",
    "        #print(correction_terms_over_time_real[:10])\n",
    "        #print(correction_terms_over_time_omniscient[:10])\n",
    "\n",
    "        offset = len(times) - len(confidence_band_sizes)\n",
    "        gaps_real = confidence_band_sizes + correction_terms_over_time_real[offset:]\n",
    "        gaps_known_variance = confidence_band_sizes + correction_terms_over_time_omniscient[offset:]\n",
    "        gaps_pessimistic_estimate = confidence_band_sizes + correction_terms_over_time_pessimistic[offset:]\n",
    "\n",
    "        # real plot\n",
    "        max_xlim = 0\n",
    "        max_gap = np.max([np.max(gaps_real), np.max(gaps_known_variance)])\n",
    "        for ax, gaps in zip(axs, [gaps_real, gaps_known_variance, gaps_pessimistic_estimate]):\n",
    "            ax.fill_between(times[offset:], 0, confidence_band_sizes, alpha=0.2, label=\"uncertainty about $\\mu$\")\n",
    "            ax.fill_between(times[offset:], confidence_band_sizes, gaps, alpha=0.2, label=\"variance deviation\")\n",
    "            ax.plot(times[offset:], gaps, color=\"red\", alpha=0.5, label=\"Total Gap to $\\\\mu$.\")\n",
    "            ax.axhline(0, linestyle=\"-\", color=\"black\", linewidth=1)\n",
    "            ax.fill_between(times, 0, eps, alpha=0.2, color=\"green\", label=f\"acceptance area for $\\\\varepsilon = {eps}$\")\n",
    "\n",
    "            accepting_indices = np.where(gaps < eps)[0]\n",
    "            \n",
    "            num_trees_required_for_stable_correction_term_estimate = self.get_num_trees_required_for_stable_correction_term_estimate()\n",
    "            ax.fill_between([1, num_trees_required_for_stable_correction_term_estimate], [0, 0], [1, 1], color=\"red\", alpha=0.2)\n",
    "            \n",
    "            if len(accepting_indices) > 0:\n",
    "                stopping_point = np.max([min_trees, offset + accepting_indices[0], num_trees_required_for_stable_correction_term_estimate])\n",
    "                ax.axvline(stopping_point, color=\"black\", linestyle=\"--\", label=\"Oracle Stopping Point\")\n",
    "            else:\n",
    "                stopping_point = np.nan\n",
    "\n",
    "            if not np.isnan(stopping_point):\n",
    "                max_xlim = np.max([max_xlim, min([2 * stopping_point, len(gaps_real)])])\n",
    "\n",
    "            ax.set_title(f\"Stopping point: {stopping_point} trees\")\n",
    "            #ax.set_xscale(\"log\")\n",
    "        #ax.plot(range(1, self.num_trees + 1), self.correction_terms_for_t1_per_time_val, label=\"$\\mathbb{V}_{val}$\")\n",
    "\n",
    "            ax.legend()\n",
    "            ax.set_ylim([0, 2 * eps])\n",
    "\n",
    "        for ax in axs:\n",
    "            ax.set_xlim([offset, max_xlim])\n",
    "\n",
    "        if fig is not None:\n",
    "            plt.show()\n",
    "            \n",
    "    def plot_estimates_of_correction_term(self, ax = None):\n",
    "        if ax is None:\n",
    "            fig, ax = plt.subplots(figsize=(20, 4))\n",
    "        else:\n",
    "            fig = None\n",
    "\n",
    "        ax.plot(range(1, self.num_trees + 1), self.correction_terms_for_t1_per_time[\"oob\"], label=\"$\\mathbb{V}_{oob}$\")\n",
    "        ax.plot(range(1, self.num_trees + 1), self.correction_terms_for_t1_per_time[\"val\"], label=\"$\\mathbb{V}_{val}$\")\n",
    "        \n",
    "        x_limit = 150\n",
    "        for (key, oob), do_discount in it.product(zip([\"oob\", \"val\"], [True, False]), [True, False]):\n",
    "            color = f\"C{0 if oob else 1}\"\n",
    "            linestyle=\"--\" if do_discount else \"dotted\"\n",
    "            num_tree_count_for_stable_correction_term_estimate = self.get_num_trees_required_for_stable_correction_term_estimate(oob=oob, do_discount=do_discount)\n",
    "            ax.axvline(num_tree_count_for_stable_correction_term_estimate, linestyle=linestyle, color=color, label=\"num trees for stable estimate of $\\mathbb{V}_{\" + key + \"}$ \" + (\"\" if do_discount else \"not\") + \" discounting\")\n",
    "            x_limit = max([x_limit, num_tree_count_for_stable_correction_term_estimate + 10])\n",
    "        \n",
    "        ax.set_xlim([1, x_limit])\n",
    "        ax.set_xscale(\"log\")\n",
    "\n",
    "        if fig is not None:\n",
    "            ax.legend()\n",
    "            ax.set_title(\"Estimates of correction term $\\\\varphi(1)$ over time.\")\n",
    "            plt.show()"
   ]
  },
  {
   "cell_type": "code",
   "execution_count": 7,
   "id": "a9853f7f",
   "metadata": {},
   "outputs": [],
   "source": [
    "import os\n",
    "\n",
    "def get_analyzer_for_row(row):\n",
    "    results = json.loads(row[\"scores\"])\n",
    "    \n",
    "    Y_train = np.array(results[1])\n",
    "    Y_test = np.array(results[2])\n",
    "    prob_history_oob = np.array(json.loads(zlib.decompress(eval(results[3])).decode().replace(\"nan\", \"-1\")))\n",
    "    prob_history_val = np.array(json.loads(zlib.decompress(eval(results[4])).decode().replace(\"nan\", \"-1\")))\n",
    "    \n",
    "    num_classes = Y_train.shape[1]\n",
    "    \n",
    "    prob_history_oob[prob_history_oob < 0] = np.nan\n",
    "    prob_history_val[prob_history_val < 0] = np.nan\n",
    "    \n",
    "    # times\n",
    "    times_fit = results[-4]\n",
    "    times_predict_train = results[-3]\n",
    "    times_predict_val = results[-2]\n",
    "    times_update = results[-1]\n",
    "    \n",
    "    analyzer = Analyzer(int(openmlid), prob_history_oob, prob_history_val, Y_train, Y_test, times_fit, times_predict_train, times_predict_val, times_update)\n",
    "    return analyzer\n",
    "\n",
    "def write_analyzer_to_disk(openmlid, seed):\n",
    "    row = df[(df[\"openmlid\"] == str(openmlid)) & (df[\"seed\"] == seed)].iloc[0]\n",
    "    analyzer = get_analyzer_for_row(row)\n",
    "    with open(f\"analyzers/{openmlid}_{seed}.ana\", \"wb\") as f:\n",
    "        pickle.dump(analyzer, f)\n",
    "\n",
    "def get_analyzer_from_disk(openmlid, seed):\n",
    "    with open(f\"analyzers/{openmlid}_{seed}.ana\", \"rb\") as f:\n",
    "        return pickle.load(f)\n",
    "    \n",
    "def is_analyzer_serialized(openmlid, seed):\n",
    "    return os.path.exists(f\"analyzers/{openmlid}_{seed}.ana\")"
   ]
  },
  {
   "cell_type": "code",
   "execution_count": 14,
   "id": "04fd4c02",
   "metadata": {
    "scrolled": true
   },
   "outputs": [
    {
     "data": {
      "application/vnd.jupyter.widget-view+json": {
       "model_id": "5022f010261c4dc9a7e2d769ed474044",
       "version_major": 2,
       "version_minor": 0
      },
      "text/plain": [
       "  0%|          | 0/76 [00:00<?, ?it/s]"
      ]
     },
     "metadata": {},
     "output_type": "display_data"
    },
    {
     "name": "stdout",
     "output_type": "stream",
     "text": [
      "3\n"
     ]
    },
    {
     "data": {
      "application/vnd.jupyter.widget-view+json": {
       "model_id": "56bc471070084a16a1f58d1456c5a1aa",
       "version_major": 2,
       "version_minor": 0
      },
      "text/plain": [
       "  0%|          | 0/340 [00:00<?, ?it/s]"
      ]
     },
     "metadata": {},
     "output_type": "display_data"
    },
    {
     "data": {
      "application/vnd.jupyter.widget-view+json": {
       "model_id": "b5ac861c0e8a4ec08dc05da6592728a6",
       "version_major": 2,
       "version_minor": 0
      },
      "text/plain": [
       "  0%|          | 0/340 [00:00<?, ?it/s]"
      ]
     },
     "metadata": {},
     "output_type": "display_data"
    },
    {
     "name": "stdout",
     "output_type": "stream",
     "text": [
      "14\n"
     ]
    },
    {
     "data": {
      "application/vnd.jupyter.widget-view+json": {
       "model_id": "7d245e7eb2f24e0ea7e5e06a72b23644",
       "version_major": 2,
       "version_minor": 0
      },
      "text/plain": [
       "  0%|          | 0/1380 [00:00<?, ?it/s]"
      ]
     },
     "metadata": {},
     "output_type": "display_data"
    },
    {
     "data": {
      "application/vnd.jupyter.widget-view+json": {
       "model_id": "cc8679714fb74fab97a5f870070bbf93",
       "version_major": 2,
       "version_minor": 0
      },
      "text/plain": [
       "  0%|          | 0/1380 [00:00<?, ?it/s]"
      ]
     },
     "metadata": {},
     "output_type": "display_data"
    },
    {
     "name": "stdout",
     "output_type": "stream",
     "text": [
      "16\n"
     ]
    },
    {
     "data": {
      "application/vnd.jupyter.widget-view+json": {
       "model_id": "084c1672d7a04f77a819f157d2d3812f",
       "version_major": 2,
       "version_minor": 0
      },
      "text/plain": [
       "  0%|          | 0/1552 [00:00<?, ?it/s]"
      ]
     },
     "metadata": {},
     "output_type": "display_data"
    },
    {
     "data": {
      "application/vnd.jupyter.widget-view+json": {
       "model_id": "ee9a6abe2d164428bd9edc64b70733c9",
       "version_major": 2,
       "version_minor": 0
      },
      "text/plain": [
       "  0%|          | 0/1552 [00:00<?, ?it/s]"
      ]
     },
     "metadata": {},
     "output_type": "display_data"
    },
    {
     "name": "stdout",
     "output_type": "stream",
     "text": [
      "18\n"
     ]
    },
    {
     "data": {
      "application/vnd.jupyter.widget-view+json": {
       "model_id": "079e3a61e1d54d4da107e807c9a96e1b",
       "version_major": 2,
       "version_minor": 0
      },
      "text/plain": [
       "  0%|          | 0/921 [00:00<?, ?it/s]"
      ]
     },
     "metadata": {},
     "output_type": "display_data"
    },
    {
     "data": {
      "application/vnd.jupyter.widget-view+json": {
       "model_id": "192fc27d28a842a8bc982184a59a80af",
       "version_major": 2,
       "version_minor": 0
      },
      "text/plain": [
       "  0%|          | 0/921 [00:00<?, ?it/s]"
      ]
     },
     "metadata": {},
     "output_type": "display_data"
    },
    {
     "name": "stdout",
     "output_type": "stream",
     "text": [
      "21\n"
     ]
    },
    {
     "data": {
      "application/vnd.jupyter.widget-view+json": {
       "model_id": "e4b89617ceb945059f4e72b18ef97e26",
       "version_major": 2,
       "version_minor": 0
      },
      "text/plain": [
       "  0%|          | 0/889 [00:00<?, ?it/s]"
      ]
     },
     "metadata": {},
     "output_type": "display_data"
    },
    {
     "data": {
      "application/vnd.jupyter.widget-view+json": {
       "model_id": "dec525e8ace94a178e75a30aa028ab48",
       "version_major": 2,
       "version_minor": 0
      },
      "text/plain": [
       "  0%|          | 0/889 [00:00<?, ?it/s]"
      ]
     },
     "metadata": {},
     "output_type": "display_data"
    },
    {
     "name": "stdout",
     "output_type": "stream",
     "text": [
      "22\n"
     ]
    },
    {
     "data": {
      "application/vnd.jupyter.widget-view+json": {
       "model_id": "9a793d3e30cd426bbb1f37035f792f93",
       "version_major": 2,
       "version_minor": 0
      },
      "text/plain": [
       "  0%|          | 0/1137 [00:00<?, ?it/s]"
      ]
     },
     "metadata": {},
     "output_type": "display_data"
    },
    {
     "data": {
      "application/vnd.jupyter.widget-view+json": {
       "model_id": "3bef2c352a244234b86a40f78d26336f",
       "version_major": 2,
       "version_minor": 0
      },
      "text/plain": [
       "  0%|          | 0/1137 [00:00<?, ?it/s]"
      ]
     },
     "metadata": {},
     "output_type": "display_data"
    },
    {
     "name": "stdout",
     "output_type": "stream",
     "text": [
      "23\n"
     ]
    },
    {
     "data": {
      "application/vnd.jupyter.widget-view+json": {
       "model_id": "e6b0b312e1b54a11b4e9d5a34423f19e",
       "version_major": 2,
       "version_minor": 0
      },
      "text/plain": [
       "  0%|          | 0/628 [00:00<?, ?it/s]"
      ]
     },
     "metadata": {},
     "output_type": "display_data"
    },
    {
     "data": {
      "application/vnd.jupyter.widget-view+json": {
       "model_id": "8519ae3d4c0d42a79318acd9292b22be",
       "version_major": 2,
       "version_minor": 0
      },
      "text/plain": [
       "  0%|          | 0/628 [00:00<?, ?it/s]"
      ]
     },
     "metadata": {},
     "output_type": "display_data"
    },
    {
     "name": "stdout",
     "output_type": "stream",
     "text": [
      "24\n"
     ]
    },
    {
     "data": {
      "application/vnd.jupyter.widget-view+json": {
       "model_id": "7cc63a53451f4de1a27199a43061296b",
       "version_major": 2,
       "version_minor": 0
      },
      "text/plain": [
       "  0%|          | 0/105 [00:00<?, ?it/s]"
      ]
     },
     "metadata": {},
     "output_type": "display_data"
    },
    {
     "data": {
      "application/vnd.jupyter.widget-view+json": {
       "model_id": "d139040073f848e49f5f9a52bc353111",
       "version_major": 2,
       "version_minor": 0
      },
      "text/plain": [
       "  0%|          | 0/105 [00:00<?, ?it/s]"
      ]
     },
     "metadata": {},
     "output_type": "display_data"
    },
    {
     "name": "stdout",
     "output_type": "stream",
     "text": [
      "26\n"
     ]
    },
    {
     "data": {
      "application/vnd.jupyter.widget-view+json": {
       "model_id": "1e70395fa71e4bfdb3541ee98798dd43",
       "version_major": 2,
       "version_minor": 0
      },
      "text/plain": [
       "  0%|          | 0/730 [00:00<?, ?it/s]"
      ]
     },
     "metadata": {},
     "output_type": "display_data"
    },
    {
     "data": {
      "application/vnd.jupyter.widget-view+json": {
       "model_id": "46a338415e6943059a32245063381bf7",
       "version_major": 2,
       "version_minor": 0
      },
      "text/plain": [
       "  0%|          | 0/730 [00:00<?, ?it/s]"
      ]
     },
     "metadata": {},
     "output_type": "display_data"
    },
    {
     "name": "stdout",
     "output_type": "stream",
     "text": [
      "28\n"
     ]
    },
    {
     "data": {
      "application/vnd.jupyter.widget-view+json": {
       "model_id": "70ec9b676a3d40248420fc1d65214980",
       "version_major": 2,
       "version_minor": 0
      },
      "text/plain": [
       "  0%|          | 0/837 [00:00<?, ?it/s]"
      ]
     },
     "metadata": {},
     "output_type": "display_data"
    },
    {
     "data": {
      "application/vnd.jupyter.widget-view+json": {
       "model_id": "be17f3da59424f578de21d902c40fcf5",
       "version_major": 2,
       "version_minor": 0
      },
      "text/plain": [
       "  0%|          | 0/837 [00:00<?, ?it/s]"
      ]
     },
     "metadata": {},
     "output_type": "display_data"
    },
    {
     "name": "stdout",
     "output_type": "stream",
     "text": [
      "30\n"
     ]
    },
    {
     "data": {
      "application/vnd.jupyter.widget-view+json": {
       "model_id": "dc98250cc571443bbd106ec0782eee3b",
       "version_major": 2,
       "version_minor": 0
      },
      "text/plain": [
       "  0%|          | 0/324 [00:00<?, ?it/s]"
      ]
     },
     "metadata": {},
     "output_type": "display_data"
    },
    {
     "data": {
      "application/vnd.jupyter.widget-view+json": {
       "model_id": "962a8ed08416492bad573d21f392d24b",
       "version_major": 2,
       "version_minor": 0
      },
      "text/plain": [
       "  0%|          | 0/324 [00:00<?, ?it/s]"
      ]
     },
     "metadata": {},
     "output_type": "display_data"
    },
    {
     "name": "stdout",
     "output_type": "stream",
     "text": [
      "31\n"
     ]
    },
    {
     "data": {
      "application/vnd.jupyter.widget-view+json": {
       "model_id": "3a2628a6a9364a00bc215d2e1313027b",
       "version_major": 2,
       "version_minor": 0
      },
      "text/plain": [
       "  0%|          | 0/819 [00:00<?, ?it/s]"
      ]
     },
     "metadata": {},
     "output_type": "display_data"
    },
    {
     "data": {
      "application/vnd.jupyter.widget-view+json": {
       "model_id": "5b7360af278c4a5d8bfb520201c31982",
       "version_major": 2,
       "version_minor": 0
      },
      "text/plain": [
       "  0%|          | 0/819 [00:00<?, ?it/s]"
      ]
     },
     "metadata": {},
     "output_type": "display_data"
    },
    {
     "name": "stdout",
     "output_type": "stream",
     "text": [
      "32\n"
     ]
    },
    {
     "data": {
      "application/vnd.jupyter.widget-view+json": {
       "model_id": "567ca752c2be4a638fca03db86e01721",
       "version_major": 2,
       "version_minor": 0
      },
      "text/plain": [
       "  0%|          | 0/639 [00:00<?, ?it/s]"
      ]
     },
     "metadata": {},
     "output_type": "display_data"
    },
    {
     "data": {
      "application/vnd.jupyter.widget-view+json": {
       "model_id": "10eb12be89ad46e3ae20367454d82711",
       "version_major": 2,
       "version_minor": 0
      },
      "text/plain": [
       "  0%|          | 0/639 [00:00<?, ?it/s]"
      ]
     },
     "metadata": {},
     "output_type": "display_data"
    },
    {
     "name": "stdout",
     "output_type": "stream",
     "text": [
      "33\n"
     ]
    },
    {
     "data": {
      "application/vnd.jupyter.widget-view+json": {
       "model_id": "5fdd84a7d46240f788ab956ae3bbcfea",
       "version_major": 2,
       "version_minor": 0
      },
      "text/plain": [
       "  0%|          | 0/1396 [00:00<?, ?it/s]"
      ]
     },
     "metadata": {},
     "output_type": "display_data"
    },
    {
     "data": {
      "application/vnd.jupyter.widget-view+json": {
       "model_id": "ef70705ebaa54ef5b79349022c6d7355",
       "version_major": 2,
       "version_minor": 0
      },
      "text/plain": [
       "  0%|          | 0/1396 [00:00<?, ?it/s]"
      ]
     },
     "metadata": {},
     "output_type": "display_data"
    },
    {
     "name": "stdout",
     "output_type": "stream",
     "text": [
      "36\n"
     ]
    },
    {
     "data": {
      "application/vnd.jupyter.widget-view+json": {
       "model_id": "4ac9e244bf1a44148b55db7f5f33cc11",
       "version_major": 2,
       "version_minor": 0
      },
      "text/plain": [
       "  0%|          | 0/594 [00:00<?, ?it/s]"
      ]
     },
     "metadata": {},
     "output_type": "display_data"
    },
    {
     "data": {
      "application/vnd.jupyter.widget-view+json": {
       "model_id": "e29333fee9c748e5bde7d5511be27ef1",
       "version_major": 2,
       "version_minor": 0
      },
      "text/plain": [
       "  0%|          | 0/594 [00:00<?, ?it/s]"
      ]
     },
     "metadata": {},
     "output_type": "display_data"
    },
    {
     "name": "stdout",
     "output_type": "stream",
     "text": [
      "38\n"
     ]
    },
    {
     "data": {
      "application/vnd.jupyter.widget-view+json": {
       "model_id": "6ecd0dd4edce48618dae7e065f62e36d",
       "version_major": 2,
       "version_minor": 0
      },
      "text/plain": [
       "  0%|          | 0/284 [00:00<?, ?it/s]"
      ]
     },
     "metadata": {},
     "output_type": "display_data"
    },
    {
     "data": {
      "application/vnd.jupyter.widget-view+json": {
       "model_id": "a96decc33af34e46ac23f647cdda5130",
       "version_major": 2,
       "version_minor": 0
      },
      "text/plain": [
       "  0%|          | 0/284 [00:00<?, ?it/s]"
      ]
     },
     "metadata": {},
     "output_type": "display_data"
    },
    {
     "name": "stdout",
     "output_type": "stream",
     "text": [
      "44\n"
     ]
    },
    {
     "data": {
      "application/vnd.jupyter.widget-view+json": {
       "model_id": "0a076cea20b448e0ac216119f5007fdf",
       "version_major": 2,
       "version_minor": 0
      },
      "text/plain": [
       "  0%|          | 0/223 [00:00<?, ?it/s]"
      ]
     },
     "metadata": {},
     "output_type": "display_data"
    },
    {
     "data": {
      "application/vnd.jupyter.widget-view+json": {
       "model_id": "a4c9430133f645aab6588d295c682c8b",
       "version_major": 2,
       "version_minor": 0
      },
      "text/plain": [
       "  0%|          | 0/223 [00:00<?, ?it/s]"
      ]
     },
     "metadata": {},
     "output_type": "display_data"
    },
    {
     "name": "stdout",
     "output_type": "stream",
     "text": [
      "46\n"
     ]
    },
    {
     "data": {
      "application/vnd.jupyter.widget-view+json": {
       "model_id": "ea006977fbe446ec9dd5a36c124b9e36",
       "version_major": 2,
       "version_minor": 0
      },
      "text/plain": [
       "  0%|          | 0/1069 [00:00<?, ?it/s]"
      ]
     },
     "metadata": {},
     "output_type": "display_data"
    },
    {
     "data": {
      "application/vnd.jupyter.widget-view+json": {
       "model_id": "512455c4354642e9b8c4ee193d5bfbde",
       "version_major": 2,
       "version_minor": 0
      },
      "text/plain": [
       "  0%|          | 0/1069 [00:00<?, ?it/s]"
      ]
     },
     "metadata": {},
     "output_type": "display_data"
    },
    {
     "name": "stdout",
     "output_type": "stream",
     "text": [
      "54\n"
     ]
    },
    {
     "data": {
      "application/vnd.jupyter.widget-view+json": {
       "model_id": "25c4d02a8adc4377bb85c52072e30b62",
       "version_major": 2,
       "version_minor": 0
      },
      "text/plain": [
       "  0%|          | 0/984 [00:00<?, ?it/s]"
      ]
     },
     "metadata": {},
     "output_type": "display_data"
    },
    {
     "data": {
      "application/vnd.jupyter.widget-view+json": {
       "model_id": "63f1d2ab558f46e3b00e4d1f1b1663b0",
       "version_major": 2,
       "version_minor": 0
      },
      "text/plain": [
       "  0%|          | 0/984 [00:00<?, ?it/s]"
      ]
     },
     "metadata": {},
     "output_type": "display_data"
    },
    {
     "name": "stdout",
     "output_type": "stream",
     "text": [
      "57\n"
     ]
    },
    {
     "data": {
      "application/vnd.jupyter.widget-view+json": {
       "model_id": "57517edf8188462e9e278a1dc7da7b8c",
       "version_major": 2,
       "version_minor": 0
      },
      "text/plain": [
       "  0%|          | 0/559 [00:00<?, ?it/s]"
      ]
     },
     "metadata": {},
     "output_type": "display_data"
    },
    {
     "data": {
      "application/vnd.jupyter.widget-view+json": {
       "model_id": "67e40ecd6e124b9c94e66a92c8723239",
       "version_major": 2,
       "version_minor": 0
      },
      "text/plain": [
       "  0%|          | 0/559 [00:00<?, ?it/s]"
      ]
     },
     "metadata": {},
     "output_type": "display_data"
    },
    {
     "name": "stdout",
     "output_type": "stream",
     "text": [
      "60\n"
     ]
    },
    {
     "data": {
      "application/vnd.jupyter.widget-view+json": {
       "model_id": "d4d0cc4dfbdd4da595a797e6c6cf6d74",
       "version_major": 2,
       "version_minor": 0
      },
      "text/plain": [
       "  0%|          | 0/392 [00:00<?, ?it/s]"
      ]
     },
     "metadata": {},
     "output_type": "display_data"
    },
    {
     "data": {
      "application/vnd.jupyter.widget-view+json": {
       "model_id": "8adbd59451d14a708e82ba2d62b88588",
       "version_major": 2,
       "version_minor": 0
      },
      "text/plain": [
       "  0%|          | 0/392 [00:00<?, ?it/s]"
      ]
     },
     "metadata": {},
     "output_type": "display_data"
    },
    {
     "name": "stdout",
     "output_type": "stream",
     "text": [
      "61\n"
     ]
    },
    {
     "data": {
      "application/vnd.jupyter.widget-view+json": {
       "model_id": "4902d0394eb44b7681cf79d3b1c177f7",
       "version_major": 2,
       "version_minor": 0
      },
      "text/plain": [
       "  0%|          | 0/1396 [00:00<?, ?it/s]"
      ]
     },
     "metadata": {},
     "output_type": "display_data"
    },
    {
     "data": {
      "application/vnd.jupyter.widget-view+json": {
       "model_id": "5b8968adb343413ebff9ec6b1fcdd621",
       "version_major": 2,
       "version_minor": 0
      },
      "text/plain": [
       "  0%|          | 0/1396 [00:00<?, ?it/s]"
      ]
     },
     "metadata": {},
     "output_type": "display_data"
    },
    {
     "name": "stdout",
     "output_type": "stream",
     "text": [
      "179\n"
     ]
    },
    {
     "data": {
      "application/vnd.jupyter.widget-view+json": {
       "model_id": "e190c05835c948aa9e176751bb1b42cd",
       "version_major": 2,
       "version_minor": 0
      },
      "text/plain": [
       "  0%|          | 0/129 [00:00<?, ?it/s]"
      ]
     },
     "metadata": {},
     "output_type": "display_data"
    },
    {
     "data": {
      "application/vnd.jupyter.widget-view+json": {
       "model_id": "cc24f0101c4b4113b022264fb3cc72b9",
       "version_major": 2,
       "version_minor": 0
      },
      "text/plain": [
       "  0%|          | 0/129 [00:00<?, ?it/s]"
      ]
     },
     "metadata": {},
     "output_type": "display_data"
    },
    {
     "name": "stdout",
     "output_type": "stream",
     "text": [
      "181\n"
     ]
    },
    {
     "data": {
      "application/vnd.jupyter.widget-view+json": {
       "model_id": "f6e33687172e421b8afedbbaee52d656",
       "version_major": 2,
       "version_minor": 0
      },
      "text/plain": [
       "  0%|          | 0/1304 [00:00<?, ?it/s]"
      ]
     },
     "metadata": {},
     "output_type": "display_data"
    },
    {
     "data": {
      "application/vnd.jupyter.widget-view+json": {
       "model_id": "20098dae0ff745f7b64f3e575a95aef9",
       "version_major": 2,
       "version_minor": 0
      },
      "text/plain": [
       "  0%|          | 0/1304 [00:00<?, ?it/s]"
      ]
     },
     "metadata": {},
     "output_type": "display_data"
    },
    {
     "name": "stdout",
     "output_type": "stream",
     "text": [
      "182\n"
     ]
    },
    {
     "data": {
      "application/vnd.jupyter.widget-view+json": {
       "model_id": "d7a6ba9457a64e6ea37746f2218e2644",
       "version_major": 2,
       "version_minor": 0
      },
      "text/plain": [
       "  0%|          | 0/452 [00:00<?, ?it/s]"
      ]
     },
     "metadata": {},
     "output_type": "display_data"
    },
    {
     "data": {
      "application/vnd.jupyter.widget-view+json": {
       "model_id": "24c5f33fbbe44b57ad715eb59e6fd4b9",
       "version_major": 2,
       "version_minor": 0
      },
      "text/plain": [
       "  0%|          | 0/452 [00:00<?, ?it/s]"
      ]
     },
     "metadata": {},
     "output_type": "display_data"
    },
    {
     "name": "stdout",
     "output_type": "stream",
     "text": [
      "185\n"
     ]
    },
    {
     "data": {
      "application/vnd.jupyter.widget-view+json": {
       "model_id": "dbd8db5bb43c4e298f9f0615b8561887",
       "version_major": 2,
       "version_minor": 0
      },
      "text/plain": [
       "  0%|          | 0/362 [00:00<?, ?it/s]"
      ]
     },
     "metadata": {},
     "output_type": "display_data"
    },
    {
     "data": {
      "application/vnd.jupyter.widget-view+json": {
       "model_id": "589b07bb26c74a6c86d9521d0b9166e3",
       "version_major": 2,
       "version_minor": 0
      },
      "text/plain": [
       "  0%|          | 0/362 [00:00<?, ?it/s]"
      ]
     },
     "metadata": {},
     "output_type": "display_data"
    },
    {
     "name": "stdout",
     "output_type": "stream",
     "text": [
      "188\n"
     ]
    },
    {
     "data": {
      "application/vnd.jupyter.widget-view+json": {
       "model_id": "11da5673ea294272b32e0fc1a16c2ffe",
       "version_major": 2,
       "version_minor": 0
      },
      "text/plain": [
       "  0%|          | 0/1572 [00:00<?, ?it/s]"
      ]
     },
     "metadata": {},
     "output_type": "display_data"
    },
    {
     "data": {
      "application/vnd.jupyter.widget-view+json": {
       "model_id": "639b19c3abce456fba2e34fa7e70efd6",
       "version_major": 2,
       "version_minor": 0
      },
      "text/plain": [
       "  0%|          | 0/1572 [00:00<?, ?it/s]"
      ]
     },
     "metadata": {},
     "output_type": "display_data"
    },
    {
     "name": "stdout",
     "output_type": "stream",
     "text": [
      "351\n"
     ]
    },
    {
     "data": {
      "application/vnd.jupyter.widget-view+json": {
       "model_id": "405d910496474809bce08c4cea723ffe",
       "version_major": 2,
       "version_minor": 0
      },
      "text/plain": [
       "  0%|          | 0/121 [00:00<?, ?it/s]"
      ]
     },
     "metadata": {},
     "output_type": "display_data"
    },
    {
     "data": {
      "application/vnd.jupyter.widget-view+json": {
       "model_id": "59dd0a8fb7fd4be48d1447cf4ac826a5",
       "version_major": 2,
       "version_minor": 0
      },
      "text/plain": [
       "  0%|          | 0/121 [00:00<?, ?it/s]"
      ]
     },
     "metadata": {},
     "output_type": "display_data"
    },
    {
     "name": "stdout",
     "output_type": "stream",
     "text": [
      "357\n"
     ]
    },
    {
     "data": {
      "application/vnd.jupyter.widget-view+json": {
       "model_id": "f60f06e3ebf94a27b2d68cca7602f40f",
       "version_major": 2,
       "version_minor": 0
      },
      "text/plain": [
       "  0%|          | 0/125 [00:00<?, ?it/s]"
      ]
     },
     "metadata": {},
     "output_type": "display_data"
    },
    {
     "data": {
      "application/vnd.jupyter.widget-view+json": {
       "model_id": "6b230d8b4a3643e6b7fce67bc1e1533d",
       "version_major": 2,
       "version_minor": 0
      },
      "text/plain": [
       "  0%|          | 0/125 [00:00<?, ?it/s]"
      ]
     },
     "metadata": {},
     "output_type": "display_data"
    },
    {
     "name": "stdout",
     "output_type": "stream",
     "text": [
      "389\n"
     ]
    },
    {
     "data": {
      "application/vnd.jupyter.widget-view+json": {
       "model_id": "e4e480f69af84986901d21d17ad28064",
       "version_major": 2,
       "version_minor": 0
      },
      "text/plain": [
       "  0%|          | 0/2040 [00:00<?, ?it/s]"
      ]
     },
     "metadata": {},
     "output_type": "display_data"
    },
    {
     "data": {
      "application/vnd.jupyter.widget-view+json": {
       "model_id": "70b59b7e70094cb3a9465dc93c919862",
       "version_major": 2,
       "version_minor": 0
      },
      "text/plain": [
       "  0%|          | 0/2040 [00:00<?, ?it/s]"
      ]
     },
     "metadata": {},
     "output_type": "display_data"
    },
    {
     "name": "stdout",
     "output_type": "stream",
     "text": [
      "391\n"
     ]
    },
    {
     "data": {
      "application/vnd.jupyter.widget-view+json": {
       "model_id": "0df90591deda4d9fb669a4d4dd13e208",
       "version_major": 2,
       "version_minor": 0
      },
      "text/plain": [
       "  0%|          | 0/1639 [00:00<?, ?it/s]"
      ]
     },
     "metadata": {},
     "output_type": "display_data"
    },
    {
     "data": {
      "application/vnd.jupyter.widget-view+json": {
       "model_id": "85687f3a3fc84aabbb3625ac070092f8",
       "version_major": 2,
       "version_minor": 0
      },
      "text/plain": [
       "  0%|          | 0/1639 [00:00<?, ?it/s]"
      ]
     },
     "metadata": {},
     "output_type": "display_data"
    },
    {
     "name": "stdout",
     "output_type": "stream",
     "text": [
      "392\n"
     ]
    },
    {
     "data": {
      "application/vnd.jupyter.widget-view+json": {
       "model_id": "5e66621c976746558ac57c0830adefdf",
       "version_major": 2,
       "version_minor": 0
      },
      "text/plain": [
       "  0%|          | 0/2522 [00:00<?, ?it/s]"
      ]
     },
     "metadata": {},
     "output_type": "display_data"
    },
    {
     "data": {
      "application/vnd.jupyter.widget-view+json": {
       "model_id": "88a58e209e804f4688aad4653c4b1d95",
       "version_major": 2,
       "version_minor": 0
      },
      "text/plain": [
       "  0%|          | 0/2522 [00:00<?, ?it/s]"
      ]
     },
     "metadata": {},
     "output_type": "display_data"
    },
    {
     "name": "stdout",
     "output_type": "stream",
     "text": [
      "395\n"
     ]
    },
    {
     "data": {
      "application/vnd.jupyter.widget-view+json": {
       "model_id": "ad4df1fe926241a5bb8ec64fe24db86b",
       "version_major": 2,
       "version_minor": 0
      },
      "text/plain": [
       "  0%|          | 0/3273 [00:00<?, ?it/s]"
      ]
     },
     "metadata": {},
     "output_type": "display_data"
    },
    {
     "data": {
      "application/vnd.jupyter.widget-view+json": {
       "model_id": "54cd3467f7594f5f9a3ba5407777026c",
       "version_major": 2,
       "version_minor": 0
      },
      "text/plain": [
       "  0%|          | 0/3273 [00:00<?, ?it/s]"
      ]
     },
     "metadata": {},
     "output_type": "display_data"
    },
    {
     "name": "stdout",
     "output_type": "stream",
     "text": [
      "396\n"
     ]
    },
    {
     "data": {
      "application/vnd.jupyter.widget-view+json": {
       "model_id": "082a661a0ed74ec4b436ff496d76c2d8",
       "version_major": 2,
       "version_minor": 0
      },
      "text/plain": [
       "  0%|          | 0/906 [00:00<?, ?it/s]"
      ]
     },
     "metadata": {},
     "output_type": "display_data"
    },
    {
     "data": {
      "application/vnd.jupyter.widget-view+json": {
       "model_id": "53c30a516dc2472b8d28ee0a631ac07f",
       "version_major": 2,
       "version_minor": 0
      },
      "text/plain": [
       "  0%|          | 0/906 [00:00<?, ?it/s]"
      ]
     },
     "metadata": {},
     "output_type": "display_data"
    },
    {
     "name": "stdout",
     "output_type": "stream",
     "text": [
      "398\n"
     ]
    },
    {
     "data": {
      "application/vnd.jupyter.widget-view+json": {
       "model_id": "bc79b3564ee1451d991374daf4975ce9",
       "version_major": 2,
       "version_minor": 0
      },
      "text/plain": [
       "  0%|          | 0/2180 [00:00<?, ?it/s]"
      ]
     },
     "metadata": {},
     "output_type": "display_data"
    },
    {
     "data": {
      "application/vnd.jupyter.widget-view+json": {
       "model_id": "2f64b27ade3a4178b9f5283d67857f0d",
       "version_major": 2,
       "version_minor": 0
      },
      "text/plain": [
       "  0%|          | 0/2180 [00:00<?, ?it/s]"
      ]
     },
     "metadata": {},
     "output_type": "display_data"
    },
    {
     "name": "stdout",
     "output_type": "stream",
     "text": [
      "401\n"
     ]
    },
    {
     "data": {
      "application/vnd.jupyter.widget-view+json": {
       "model_id": "2fd3d6c5d0a2438490fcc15cd45eea8a",
       "version_major": 2,
       "version_minor": 0
      },
      "text/plain": [
       "  0%|          | 0/2655 [00:00<?, ?it/s]"
      ]
     },
     "metadata": {},
     "output_type": "display_data"
    },
    {
     "data": {
      "application/vnd.jupyter.widget-view+json": {
       "model_id": "9a4449c7475b40858f3b84fc400d09bc",
       "version_major": 2,
       "version_minor": 0
      },
      "text/plain": [
       "  0%|          | 0/2655 [00:00<?, ?it/s]"
      ]
     },
     "metadata": {},
     "output_type": "display_data"
    },
    {
     "name": "stdout",
     "output_type": "stream",
     "text": [
      "679\n"
     ]
    },
    {
     "data": {
      "application/vnd.jupyter.widget-view+json": {
       "model_id": "35ac37adf7bc4676bbb26069c04694cf",
       "version_major": 2,
       "version_minor": 0
      },
      "text/plain": [
       "  0%|          | 0/649 [00:00<?, ?it/s]"
      ]
     },
     "metadata": {},
     "output_type": "display_data"
    },
    {
     "data": {
      "application/vnd.jupyter.widget-view+json": {
       "model_id": "c08060f2f3cd4662bedcdfbac4af1430",
       "version_major": 2,
       "version_minor": 0
      },
      "text/plain": [
       "  0%|          | 0/649 [00:00<?, ?it/s]"
      ]
     },
     "metadata": {},
     "output_type": "display_data"
    },
    {
     "name": "stdout",
     "output_type": "stream",
     "text": [
      "715\n"
     ]
    },
    {
     "data": {
      "application/vnd.jupyter.widget-view+json": {
       "model_id": "96f61e181a0747cdacea6831da3e10de",
       "version_major": 2,
       "version_minor": 0
      },
      "text/plain": [
       "  0%|          | 0/1909 [00:00<?, ?it/s]"
      ]
     },
     "metadata": {},
     "output_type": "display_data"
    },
    {
     "data": {
      "application/vnd.jupyter.widget-view+json": {
       "model_id": "7264c38d51454a459401838f46e695b2",
       "version_major": 2,
       "version_minor": 0
      },
      "text/plain": [
       "  0%|          | 0/1909 [00:00<?, ?it/s]"
      ]
     },
     "metadata": {},
     "output_type": "display_data"
    },
    {
     "name": "stdout",
     "output_type": "stream",
     "text": [
      "718\n"
     ]
    },
    {
     "data": {
      "application/vnd.jupyter.widget-view+json": {
       "model_id": "7d45708b2f854d03932f5c828592ea0c",
       "version_major": 2,
       "version_minor": 0
      },
      "text/plain": [
       "  0%|          | 0/2545 [00:00<?, ?it/s]"
      ]
     },
     "metadata": {},
     "output_type": "display_data"
    },
    {
     "data": {
      "application/vnd.jupyter.widget-view+json": {
       "model_id": "9f86451c78fa460eba26ae179b241ca7",
       "version_major": 2,
       "version_minor": 0
      },
      "text/plain": [
       "  0%|          | 0/2545 [00:00<?, ?it/s]"
      ]
     },
     "metadata": {},
     "output_type": "display_data"
    },
    {
     "name": "stdout",
     "output_type": "stream",
     "text": [
      "720\n"
     ]
    },
    {
     "data": {
      "application/vnd.jupyter.widget-view+json": {
       "model_id": "2258fa3ca38647a490dfc9a2810131d5",
       "version_major": 2,
       "version_minor": 0
      },
      "text/plain": [
       "  0%|          | 0/253 [00:00<?, ?it/s]"
      ]
     },
     "metadata": {},
     "output_type": "display_data"
    },
    {
     "data": {
      "application/vnd.jupyter.widget-view+json": {
       "model_id": "d8d08e8745134a4fb9e92750c86bbb42",
       "version_major": 2,
       "version_minor": 0
      },
      "text/plain": [
       "  0%|          | 0/253 [00:00<?, ?it/s]"
      ]
     },
     "metadata": {},
     "output_type": "display_data"
    },
    {
     "name": "stdout",
     "output_type": "stream",
     "text": [
      "722\n"
     ]
    },
    {
     "data": {
      "application/vnd.jupyter.widget-view+json": {
       "model_id": "08bbe0673d4e4899878bb58deb3d464f",
       "version_major": 2,
       "version_minor": 0
      },
      "text/plain": [
       "  0%|          | 0/198 [00:00<?, ?it/s]"
      ]
     },
     "metadata": {},
     "output_type": "display_data"
    },
    {
     "data": {
      "application/vnd.jupyter.widget-view+json": {
       "model_id": "f6c081518be44a9ab73812e3902ba15e",
       "version_major": 2,
       "version_minor": 0
      },
      "text/plain": [
       "  0%|          | 0/198 [00:00<?, ?it/s]"
      ]
     },
     "metadata": {},
     "output_type": "display_data"
    },
    {
     "name": "stdout",
     "output_type": "stream",
     "text": [
      "723\n"
     ]
    },
    {
     "data": {
      "application/vnd.jupyter.widget-view+json": {
       "model_id": "d078f36538084dfaa1b9a33a6f8a6644",
       "version_major": 2,
       "version_minor": 0
      },
      "text/plain": [
       "  0%|          | 0/1801 [00:00<?, ?it/s]"
      ]
     },
     "metadata": {},
     "output_type": "display_data"
    },
    {
     "data": {
      "application/vnd.jupyter.widget-view+json": {
       "model_id": "c3d65413f4884f80b5ed2c1a80e1fe1b",
       "version_major": 2,
       "version_minor": 0
      },
      "text/plain": [
       "  0%|          | 0/1801 [00:00<?, ?it/s]"
      ]
     },
     "metadata": {},
     "output_type": "display_data"
    },
    {
     "name": "stdout",
     "output_type": "stream",
     "text": [
      "727\n"
     ]
    },
    {
     "data": {
      "application/vnd.jupyter.widget-view+json": {
       "model_id": "bcbb95f8b45a43dfaf6cae29f3126889",
       "version_major": 2,
       "version_minor": 0
      },
      "text/plain": [
       "  0%|          | 0/147 [00:00<?, ?it/s]"
      ]
     },
     "metadata": {},
     "output_type": "display_data"
    },
    {
     "data": {
      "application/vnd.jupyter.widget-view+json": {
       "model_id": "a8f6f1ca78924b35838c739c26de1dad",
       "version_major": 2,
       "version_minor": 0
      },
      "text/plain": [
       "  0%|          | 0/147 [00:00<?, ?it/s]"
      ]
     },
     "metadata": {},
     "output_type": "display_data"
    },
    {
     "name": "stdout",
     "output_type": "stream",
     "text": [
      "728\n"
     ]
    },
    {
     "data": {
      "application/vnd.jupyter.widget-view+json": {
       "model_id": "ce3542c86f9e4937bd1819e88981886e",
       "version_major": 2,
       "version_minor": 0
      },
      "text/plain": [
       "  0%|          | 0/122 [00:00<?, ?it/s]"
      ]
     },
     "metadata": {},
     "output_type": "display_data"
    },
    {
     "data": {
      "application/vnd.jupyter.widget-view+json": {
       "model_id": "440e2a46129c489bbca87ab994482368",
       "version_major": 2,
       "version_minor": 0
      },
      "text/plain": [
       "  0%|          | 0/122 [00:00<?, ?it/s]"
      ]
     },
     "metadata": {},
     "output_type": "display_data"
    },
    {
     "name": "stdout",
     "output_type": "stream",
     "text": [
      "734\n"
     ]
    },
    {
     "data": {
      "application/vnd.jupyter.widget-view+json": {
       "model_id": "16652cda654c4e60bffc2e01c397a757",
       "version_major": 2,
       "version_minor": 0
      },
      "text/plain": [
       "  0%|          | 0/273 [00:00<?, ?it/s]"
      ]
     },
     "metadata": {},
     "output_type": "display_data"
    },
    {
     "data": {
      "application/vnd.jupyter.widget-view+json": {
       "model_id": "2f95481f1c984823bda967a1525f11d7",
       "version_major": 2,
       "version_minor": 0
      },
      "text/plain": [
       "  0%|          | 0/273 [00:00<?, ?it/s]"
      ]
     },
     "metadata": {},
     "output_type": "display_data"
    },
    {
     "name": "stdout",
     "output_type": "stream",
     "text": [
      "735\n"
     ]
    },
    {
     "data": {
      "application/vnd.jupyter.widget-view+json": {
       "model_id": "64c0cceef3a04523b220f538c3f31a10",
       "version_major": 2,
       "version_minor": 0
      },
      "text/plain": [
       "  0%|          | 0/168 [00:00<?, ?it/s]"
      ]
     },
     "metadata": {},
     "output_type": "display_data"
    },
    {
     "data": {
      "application/vnd.jupyter.widget-view+json": {
       "model_id": "029eaf8db1ea4d408bb43a88865cc640",
       "version_major": 2,
       "version_minor": 0
      },
      "text/plain": [
       "  0%|          | 0/168 [00:00<?, ?it/s]"
      ]
     },
     "metadata": {},
     "output_type": "display_data"
    },
    {
     "name": "stdout",
     "output_type": "stream",
     "text": [
      "737\n"
     ]
    },
    {
     "data": {
      "application/vnd.jupyter.widget-view+json": {
       "model_id": "190e6485fb844caa8b9d6fc9ece26b95",
       "version_major": 2,
       "version_minor": 0
      },
      "text/plain": [
       "  0%|          | 0/320 [00:00<?, ?it/s]"
      ]
     },
     "metadata": {},
     "output_type": "display_data"
    },
    {
     "data": {
      "application/vnd.jupyter.widget-view+json": {
       "model_id": "5941dc90664844b6ad292878215b01ee",
       "version_major": 2,
       "version_minor": 0
      },
      "text/plain": [
       "  0%|          | 0/320 [00:00<?, ?it/s]"
      ]
     },
     "metadata": {},
     "output_type": "display_data"
    },
    {
     "name": "stdout",
     "output_type": "stream",
     "text": [
      "740\n"
     ]
    },
    {
     "data": {
      "application/vnd.jupyter.widget-view+json": {
       "model_id": "20d7002b52e245ec887cac93f8ecadb6",
       "version_major": 2,
       "version_minor": 0
      },
      "text/plain": [
       "  0%|          | 0/849 [00:00<?, ?it/s]"
      ]
     },
     "metadata": {},
     "output_type": "display_data"
    },
    {
     "data": {
      "application/vnd.jupyter.widget-view+json": {
       "model_id": "34f05b25180040b9b05ba63af7091486",
       "version_major": 2,
       "version_minor": 0
      },
      "text/plain": [
       "  0%|          | 0/849 [00:00<?, ?it/s]"
      ]
     },
     "metadata": {},
     "output_type": "display_data"
    },
    {
     "name": "stdout",
     "output_type": "stream",
     "text": [
      "741\n"
     ]
    },
    {
     "data": {
      "application/vnd.jupyter.widget-view+json": {
       "model_id": "ef37c334228b425cb5684d6c62cb6e2f",
       "version_major": 2,
       "version_minor": 0
      },
      "text/plain": [
       "  0%|          | 0/376 [00:00<?, ?it/s]"
      ]
     },
     "metadata": {},
     "output_type": "display_data"
    },
    {
     "data": {
      "application/vnd.jupyter.widget-view+json": {
       "model_id": "0042fc8cf8ba499595eb252be86510a9",
       "version_major": 2,
       "version_minor": 0
      },
      "text/plain": [
       "  0%|          | 0/376 [00:00<?, ?it/s]"
      ]
     },
     "metadata": {},
     "output_type": "display_data"
    },
    {
     "name": "stdout",
     "output_type": "stream",
     "text": [
      "743\n"
     ]
    },
    {
     "data": {
      "application/vnd.jupyter.widget-view+json": {
       "model_id": "15a48af909b24c38b686479dd54230a4",
       "version_major": 2,
       "version_minor": 0
      },
      "text/plain": [
       "  0%|          | 0/518 [00:00<?, ?it/s]"
      ]
     },
     "metadata": {},
     "output_type": "display_data"
    },
    {
     "data": {
      "application/vnd.jupyter.widget-view+json": {
       "model_id": "13583634320f4152a734d6898b389c2a",
       "version_major": 2,
       "version_minor": 0
      },
      "text/plain": [
       "  0%|          | 0/518 [00:00<?, ?it/s]"
      ]
     },
     "metadata": {},
     "output_type": "display_data"
    },
    {
     "name": "stdout",
     "output_type": "stream",
     "text": [
      "751\n"
     ]
    },
    {
     "data": {
      "application/vnd.jupyter.widget-view+json": {
       "model_id": "813b9978aed445e78314b3a136f7fbd9",
       "version_major": 2,
       "version_minor": 0
      },
      "text/plain": [
       "  0%|          | 0/853 [00:00<?, ?it/s]"
      ]
     },
     "metadata": {},
     "output_type": "display_data"
    },
    {
     "data": {
      "application/vnd.jupyter.widget-view+json": {
       "model_id": "4b8ae11094524ea28692f36ba1578d1c",
       "version_major": 2,
       "version_minor": 0
      },
      "text/plain": [
       "  0%|          | 0/853 [00:00<?, ?it/s]"
      ]
     },
     "metadata": {},
     "output_type": "display_data"
    },
    {
     "name": "stdout",
     "output_type": "stream",
     "text": [
      "752\n"
     ]
    },
    {
     "data": {
      "application/vnd.jupyter.widget-view+json": {
       "model_id": "f4418f0b4ce6452fa66b43200750afe2",
       "version_major": 2,
       "version_minor": 0
      },
      "text/plain": [
       "  0%|          | 0/2580 [00:00<?, ?it/s]"
      ]
     },
     "metadata": {},
     "output_type": "display_data"
    },
    {
     "data": {
      "application/vnd.jupyter.widget-view+json": {
       "model_id": "dda4ccd8c05e4cc8a5a0610b1dcf2deb",
       "version_major": 2,
       "version_minor": 0
      },
      "text/plain": [
       "  0%|          | 0/2580 [00:00<?, ?it/s]"
      ]
     },
     "metadata": {},
     "output_type": "display_data"
    },
    {
     "name": "stdout",
     "output_type": "stream",
     "text": [
      "761\n"
     ]
    },
    {
     "data": {
      "application/vnd.jupyter.widget-view+json": {
       "model_id": "3ff234b36f75448fb532b8d72b6cf5a1",
       "version_major": 2,
       "version_minor": 0
      },
      "text/plain": [
       "  0%|          | 0/172 [00:00<?, ?it/s]"
      ]
     },
     "metadata": {},
     "output_type": "display_data"
    },
    {
     "data": {
      "application/vnd.jupyter.widget-view+json": {
       "model_id": "4eabbea770914344a237b1d3ea8ac8d8",
       "version_major": 2,
       "version_minor": 0
      },
      "text/plain": [
       "  0%|          | 0/172 [00:00<?, ?it/s]"
      ]
     },
     "metadata": {},
     "output_type": "display_data"
    },
    {
     "name": "stdout",
     "output_type": "stream",
     "text": [
      "772\n"
     ]
    },
    {
     "data": {
      "application/vnd.jupyter.widget-view+json": {
       "model_id": "983c5475742f4a658ada518926bc963c",
       "version_major": 2,
       "version_minor": 0
      },
      "text/plain": [
       "  0%|          | 0/549 [00:00<?, ?it/s]"
      ]
     },
     "metadata": {},
     "output_type": "display_data"
    },
    {
     "data": {
      "application/vnd.jupyter.widget-view+json": {
       "model_id": "ec4f4a039b6145f2a88d7b0ef526e81d",
       "version_major": 2,
       "version_minor": 0
      },
      "text/plain": [
       "  0%|          | 0/549 [00:00<?, ?it/s]"
      ]
     },
     "metadata": {},
     "output_type": "display_data"
    },
    {
     "name": "stdout",
     "output_type": "stream",
     "text": [
      "797\n"
     ]
    },
    {
     "data": {
      "application/vnd.jupyter.widget-view+json": {
       "model_id": "3694e1b8c920452d9b9b7fd7e540dfc0",
       "version_major": 2,
       "version_minor": 0
      },
      "text/plain": [
       "  0%|          | 0/2475 [00:00<?, ?it/s]"
      ]
     },
     "metadata": {},
     "output_type": "display_data"
    },
    {
     "data": {
      "application/vnd.jupyter.widget-view+json": {
       "model_id": "c50b917fbea8473dba67b1653987689d",
       "version_major": 2,
       "version_minor": 0
      },
      "text/plain": [
       "  0%|          | 0/2475 [00:00<?, ?it/s]"
      ]
     },
     "metadata": {},
     "output_type": "display_data"
    },
    {
     "name": "stdout",
     "output_type": "stream",
     "text": [
      "799\n"
     ]
    },
    {
     "data": {
      "application/vnd.jupyter.widget-view+json": {
       "model_id": "8413dcb98980457992277ee1ea6bd417",
       "version_major": 2,
       "version_minor": 0
      },
      "text/plain": [
       "  0%|          | 0/522 [00:00<?, ?it/s]"
      ]
     },
     "metadata": {},
     "output_type": "display_data"
    },
    {
     "data": {
      "application/vnd.jupyter.widget-view+json": {
       "model_id": "883ea39b53284fecb691ac4bb08ed6d9",
       "version_major": 2,
       "version_minor": 0
      },
      "text/plain": [
       "  0%|          | 0/522 [00:00<?, ?it/s]"
      ]
     },
     "metadata": {},
     "output_type": "display_data"
    },
    {
     "name": "stdout",
     "output_type": "stream",
     "text": [
      "803\n"
     ]
    },
    {
     "data": {
      "application/vnd.jupyter.widget-view+json": {
       "model_id": "8a06540d06f145d4a8393030cc10e232",
       "version_major": 2,
       "version_minor": 0
      },
      "text/plain": [
       "  0%|          | 0/171 [00:00<?, ?it/s]"
      ]
     },
     "metadata": {},
     "output_type": "display_data"
    },
    {
     "data": {
      "application/vnd.jupyter.widget-view+json": {
       "model_id": "fd4e48bb31ca4fc7852c7f2f6e4a880d",
       "version_major": 2,
       "version_minor": 0
      },
      "text/plain": [
       "  0%|          | 0/171 [00:00<?, ?it/s]"
      ]
     },
     "metadata": {},
     "output_type": "display_data"
    },
    {
     "name": "stdout",
     "output_type": "stream",
     "text": [
      "806\n"
     ]
    },
    {
     "data": {
      "application/vnd.jupyter.widget-view+json": {
       "model_id": "f9b4eae6418f4646982dc3e31b050806",
       "version_major": 2,
       "version_minor": 0
      },
      "text/plain": [
       "  0%|          | 0/2017 [00:00<?, ?it/s]"
      ]
     },
     "metadata": {},
     "output_type": "display_data"
    },
    {
     "data": {
      "application/vnd.jupyter.widget-view+json": {
       "model_id": "5acc3b5ea6624243a301785dcff180f8",
       "version_major": 2,
       "version_minor": 0
      },
      "text/plain": [
       "  0%|          | 0/2017 [00:00<?, ?it/s]"
      ]
     },
     "metadata": {},
     "output_type": "display_data"
    },
    {
     "name": "stdout",
     "output_type": "stream",
     "text": [
      "807\n"
     ]
    },
    {
     "data": {
      "application/vnd.jupyter.widget-view+json": {
       "model_id": "d55f09368c534623be3c062e4ee96e26",
       "version_major": 2,
       "version_minor": 0
      },
      "text/plain": [
       "  0%|          | 0/303 [00:00<?, ?it/s]"
      ]
     },
     "metadata": {},
     "output_type": "display_data"
    },
    {
     "data": {
      "application/vnd.jupyter.widget-view+json": {
       "model_id": "3a5a2f2a6d774e2ba1f3b3bab32b14e6",
       "version_major": 2,
       "version_minor": 0
      },
      "text/plain": [
       "  0%|          | 0/303 [00:00<?, ?it/s]"
      ]
     },
     "metadata": {},
     "output_type": "display_data"
    },
    {
     "name": "stdout",
     "output_type": "stream",
     "text": [
      "813\n"
     ]
    },
    {
     "data": {
      "application/vnd.jupyter.widget-view+json": {
       "model_id": "be8032def69445be9d5c4fe85041a737",
       "version_major": 2,
       "version_minor": 0
      },
      "text/plain": [
       "  0%|          | 0/613 [00:00<?, ?it/s]"
      ]
     },
     "metadata": {},
     "output_type": "display_data"
    },
    {
     "data": {
      "application/vnd.jupyter.widget-view+json": {
       "model_id": "a1d85c1ada7e4a57aacd36e2bb85c6ed",
       "version_major": 2,
       "version_minor": 0
      },
      "text/plain": [
       "  0%|          | 0/613 [00:00<?, ?it/s]"
      ]
     },
     "metadata": {},
     "output_type": "display_data"
    },
    {
     "name": "stdout",
     "output_type": "stream",
     "text": [
      "816\n"
     ]
    },
    {
     "data": {
      "application/vnd.jupyter.widget-view+json": {
       "model_id": "a14f48bfebf940aeb8d87dd96b2abf10",
       "version_major": 2,
       "version_minor": 0
      },
      "text/plain": [
       "  0%|          | 0/327 [00:00<?, ?it/s]"
      ]
     },
     "metadata": {},
     "output_type": "display_data"
    },
    {
     "data": {
      "application/vnd.jupyter.widget-view+json": {
       "model_id": "d4233459434f4b98a2719cb8ff3cc188",
       "version_major": 2,
       "version_minor": 0
      },
      "text/plain": [
       "  0%|          | 0/327 [00:00<?, ?it/s]"
      ]
     },
     "metadata": {},
     "output_type": "display_data"
    },
    {
     "name": "stdout",
     "output_type": "stream",
     "text": [
      "819\n"
     ]
    },
    {
     "data": {
      "application/vnd.jupyter.widget-view+json": {
       "model_id": "4ca5c06b0be44c68a3b65f743688dc02",
       "version_major": 2,
       "version_minor": 0
      },
      "text/plain": [
       "  0%|          | 0/179 [00:00<?, ?it/s]"
      ]
     },
     "metadata": {},
     "output_type": "display_data"
    },
    {
     "data": {
      "application/vnd.jupyter.widget-view+json": {
       "model_id": "32b4b708468c45dfba98f3f67544ddf5",
       "version_major": 2,
       "version_minor": 0
      },
      "text/plain": [
       "  0%|          | 0/179 [00:00<?, ?it/s]"
      ]
     },
     "metadata": {},
     "output_type": "display_data"
    },
    {
     "name": "stdout",
     "output_type": "stream",
     "text": [
      "821\n"
     ]
    },
    {
     "data": {
      "application/vnd.jupyter.widget-view+json": {
       "model_id": "8eb07629fbbc4eae93f850f7c9c920cb",
       "version_major": 2,
       "version_minor": 0
      },
      "text/plain": [
       "  0%|          | 0/165 [00:00<?, ?it/s]"
      ]
     },
     "metadata": {},
     "output_type": "display_data"
    },
    {
     "data": {
      "application/vnd.jupyter.widget-view+json": {
       "model_id": "f4f7c36f333a4e988d9c762fcc9037cf",
       "version_major": 2,
       "version_minor": 0
      },
      "text/plain": [
       "  0%|          | 0/165 [00:00<?, ?it/s]"
      ]
     },
     "metadata": {},
     "output_type": "display_data"
    },
    {
     "name": "stdout",
     "output_type": "stream",
     "text": [
      "822\n"
     ]
    },
    {
     "data": {
      "application/vnd.jupyter.widget-view+json": {
       "model_id": "ff4735352a204f1ab8e9f33e232a44c4",
       "version_major": 2,
       "version_minor": 0
      },
      "text/plain": [
       "  0%|          | 0/323 [00:00<?, ?it/s]"
      ]
     },
     "metadata": {},
     "output_type": "display_data"
    },
    {
     "data": {
      "application/vnd.jupyter.widget-view+json": {
       "model_id": "980f046e138141ad80fe179bbd10c67a",
       "version_major": 2,
       "version_minor": 0
      },
      "text/plain": [
       "  0%|          | 0/323 [00:00<?, ?it/s]"
      ]
     },
     "metadata": {},
     "output_type": "display_data"
    },
    {
     "name": "stdout",
     "output_type": "stream",
     "text": [
      "823\n"
     ]
    },
    {
     "data": {
      "application/vnd.jupyter.widget-view+json": {
       "model_id": "35b873f3c8694730b7cbfe539d06e740",
       "version_major": 2,
       "version_minor": 0
      },
      "text/plain": [
       "  0%|          | 0/211 [00:00<?, ?it/s]"
      ]
     },
     "metadata": {},
     "output_type": "display_data"
    },
    {
     "data": {
      "application/vnd.jupyter.widget-view+json": {
       "model_id": "7dcf1d977a05453987ed250a41bd55fe",
       "version_major": 2,
       "version_minor": 0
      },
      "text/plain": [
       "  0%|          | 0/211 [00:00<?, ?it/s]"
      ]
     },
     "metadata": {},
     "output_type": "display_data"
    },
    {
     "name": "stdout",
     "output_type": "stream",
     "text": [
      "833\n"
     ]
    },
    {
     "data": {
      "application/vnd.jupyter.widget-view+json": {
       "model_id": "64fbffd552f045d2ae941a8165609035",
       "version_major": 2,
       "version_minor": 0
      },
      "text/plain": [
       "  0%|          | 0/332 [00:00<?, ?it/s]"
      ]
     },
     "metadata": {},
     "output_type": "display_data"
    },
    {
     "data": {
      "application/vnd.jupyter.widget-view+json": {
       "model_id": "927f0d8b91d94c69953965814786f5cb",
       "version_major": 2,
       "version_minor": 0
      },
      "text/plain": [
       "  0%|          | 0/332 [00:00<?, ?it/s]"
      ]
     },
     "metadata": {},
     "output_type": "display_data"
    },
    {
     "name": "stdout",
     "output_type": "stream",
     "text": [
      "837\n"
     ]
    },
    {
     "data": {
      "application/vnd.jupyter.widget-view+json": {
       "model_id": "4d3945e4d0a940a18044febd173a7672",
       "version_major": 2,
       "version_minor": 0
      },
      "text/plain": [
       "  0%|          | 0/2188 [00:00<?, ?it/s]"
      ]
     },
     "metadata": {},
     "output_type": "display_data"
    },
    {
     "data": {
      "application/vnd.jupyter.widget-view+json": {
       "model_id": "e68f01bc79cf42759c9d443ed20e8d1d",
       "version_major": 2,
       "version_minor": 0
      },
      "text/plain": [
       "  0%|          | 0/2188 [00:00<?, ?it/s]"
      ]
     },
     "metadata": {},
     "output_type": "display_data"
    },
    {
     "name": "stdout",
     "output_type": "stream",
     "text": [
      "843\n"
     ]
    },
    {
     "data": {
      "application/vnd.jupyter.widget-view+json": {
       "model_id": "a72ac48dd6a048198efdf0f45974dc6b",
       "version_major": 2,
       "version_minor": 0
      },
      "text/plain": [
       "  0%|          | 0/154 [00:00<?, ?it/s]"
      ]
     },
     "metadata": {},
     "output_type": "display_data"
    },
    {
     "data": {
      "application/vnd.jupyter.widget-view+json": {
       "model_id": "856cf84985084e7ba3b5e94db351395a",
       "version_major": 2,
       "version_minor": 0
      },
      "text/plain": [
       "  0%|          | 0/154 [00:00<?, ?it/s]"
      ]
     },
     "metadata": {},
     "output_type": "display_data"
    },
    {
     "name": "stdout",
     "output_type": "stream",
     "text": [
      "845\n"
     ]
    },
    {
     "data": {
      "application/vnd.jupyter.widget-view+json": {
       "model_id": "9de41742f486472fb9be642c8a8bd8c4",
       "version_major": 2,
       "version_minor": 0
      },
      "text/plain": [
       "  0%|          | 0/1018 [00:00<?, ?it/s]"
      ]
     },
     "metadata": {},
     "output_type": "display_data"
    },
    {
     "data": {
      "application/vnd.jupyter.widget-view+json": {
       "model_id": "60f1adc9b4b245e780013fa381832071",
       "version_major": 2,
       "version_minor": 0
      },
      "text/plain": [
       "  0%|          | 0/1018 [00:00<?, ?it/s]"
      ]
     },
     "metadata": {},
     "output_type": "display_data"
    },
    {
     "name": "stdout",
     "output_type": "stream",
     "text": [
      "846\n"
     ]
    },
    {
     "data": {
      "application/vnd.jupyter.widget-view+json": {
       "model_id": "0186fbe2d70a4aeab6fcccdd0d2be96e",
       "version_major": 2,
       "version_minor": 0
      },
      "text/plain": [
       "  0%|          | 0/205 [00:00<?, ?it/s]"
      ]
     },
     "metadata": {},
     "output_type": "display_data"
    },
    {
     "data": {
      "application/vnd.jupyter.widget-view+json": {
       "model_id": "6ee2d6714f7c4070b7f728795a8e7404",
       "version_major": 2,
       "version_minor": 0
      },
      "text/plain": [
       "  0%|          | 0/205 [00:00<?, ?it/s]"
      ]
     },
     "metadata": {},
     "output_type": "display_data"
    },
    {
     "name": "stdout",
     "output_type": "stream",
     "text": [
      "847\n"
     ]
    },
    {
     "data": {
      "application/vnd.jupyter.widget-view+json": {
       "model_id": "9bb4f05a7bcb42dfbb2ed8588100f9d8",
       "version_major": 2,
       "version_minor": 0
      },
      "text/plain": [
       "  0%|          | 0/217 [00:00<?, ?it/s]"
      ]
     },
     "metadata": {},
     "output_type": "display_data"
    },
    {
     "data": {
      "application/vnd.jupyter.widget-view+json": {
       "model_id": "865a39fdefb6431d8d21afefa48405fd",
       "version_major": 2,
       "version_minor": 0
      },
      "text/plain": [
       "  0%|          | 0/217 [00:00<?, ?it/s]"
      ]
     },
     "metadata": {},
     "output_type": "display_data"
    },
    {
     "name": "stdout",
     "output_type": "stream",
     "text": [
      "849\n"
     ]
    },
    {
     "data": {
      "application/vnd.jupyter.widget-view+json": {
       "model_id": "6c38da9633ed4672a449c5727870e00c",
       "version_major": 2,
       "version_minor": 0
      },
      "text/plain": [
       "  0%|          | 0/1360 [00:00<?, ?it/s]"
      ]
     },
     "metadata": {},
     "output_type": "display_data"
    },
    {
     "data": {
      "application/vnd.jupyter.widget-view+json": {
       "model_id": "6f6daa68cd4745e8aa1be75a11889a94",
       "version_major": 2,
       "version_minor": 0
      },
      "text/plain": [
       "  0%|          | 0/1360 [00:00<?, ?it/s]"
      ]
     },
     "metadata": {},
     "output_type": "display_data"
    },
    {
     "name": "stdout",
     "output_type": "stream",
     "text": [
      "866\n"
     ]
    },
    {
     "data": {
      "application/vnd.jupyter.widget-view+json": {
       "model_id": "35a67e44c12d48a0a474d1352731d689",
       "version_major": 2,
       "version_minor": 0
      },
      "text/plain": [
       "  0%|          | 0/1963 [00:00<?, ?it/s]"
      ]
     },
     "metadata": {},
     "output_type": "display_data"
    },
    {
     "data": {
      "application/vnd.jupyter.widget-view+json": {
       "model_id": "1ada73b530a544d182c82d36bae1b54b",
       "version_major": 2,
       "version_minor": 0
      },
      "text/plain": [
       "  0%|          | 0/1963 [00:00<?, ?it/s]"
      ]
     },
     "metadata": {},
     "output_type": "display_data"
    },
    {
     "name": "stdout",
     "output_type": "stream",
     "text": [
      "871\n"
     ]
    },
    {
     "data": {
      "application/vnd.jupyter.widget-view+json": {
       "model_id": "f4eb682c895b43e4924645278a5a3393",
       "version_major": 2,
       "version_minor": 0
      },
      "text/plain": [
       "  0%|          | 0/317 [00:00<?, ?it/s]"
      ]
     },
     "metadata": {},
     "output_type": "display_data"
    },
    {
     "data": {
      "application/vnd.jupyter.widget-view+json": {
       "model_id": "ad979481b0c145749befbd5a0a8bfb8d",
       "version_major": 2,
       "version_minor": 0
      },
      "text/plain": [
       "  0%|          | 0/317 [00:00<?, ?it/s]"
      ]
     },
     "metadata": {},
     "output_type": "display_data"
    },
    {
     "name": "stdout",
     "output_type": "stream",
     "text": [
      "881\n"
     ]
    },
    {
     "data": {
      "application/vnd.jupyter.widget-view+json": {
       "model_id": "655a828dbeb443a6b6983af725352706",
       "version_major": 2,
       "version_minor": 0
      },
      "text/plain": [
       "  0%|          | 0/165 [00:00<?, ?it/s]"
      ]
     },
     "metadata": {},
     "output_type": "display_data"
    },
    {
     "data": {
      "application/vnd.jupyter.widget-view+json": {
       "model_id": "2cdf7ccf68e342a0b767ece393ba7aa6",
       "version_major": 2,
       "version_minor": 0
      },
      "text/plain": [
       "  0%|          | 0/165 [00:00<?, ?it/s]"
      ]
     },
     "metadata": {},
     "output_type": "display_data"
    },
    {
     "name": "stdout",
     "output_type": "stream",
     "text": [
      "897\n"
     ]
    },
    {
     "data": {
      "application/vnd.jupyter.widget-view+json": {
       "model_id": "588dd4924e3c4142a958ac96eb14292b",
       "version_major": 2,
       "version_minor": 0
      },
      "text/plain": [
       "  0%|          | 0/361 [00:00<?, ?it/s]"
      ]
     },
     "metadata": {},
     "output_type": "display_data"
    },
    {
     "data": {
      "application/vnd.jupyter.widget-view+json": {
       "model_id": "2e3bdf8c360342ca8294f7193786b2b6",
       "version_major": 2,
       "version_minor": 0
      },
      "text/plain": [
       "  0%|          | 0/361 [00:00<?, ?it/s]"
      ]
     },
     "metadata": {},
     "output_type": "display_data"
    }
   ],
   "source": [
    "for openmlid in tqdm(pd.unique(df[\"openmlid\"])):\n",
    "    seed = 0\n",
    "    if int(openmlid) <= 1000 and not is_analyzer_serialized(openmlid, seed):\n",
    "        print(openmlid)\n",
    "        write_analyzer_to_disk(openmlid, 0)"
   ]
  },
  {
   "cell_type": "code",
   "execution_count": 9,
   "id": "7e778d00",
   "metadata": {},
   "outputs": [
    {
     "name": "stdout",
     "output_type": "stream",
     "text": [
      "3\n",
      "24 Saving compared to sklearn: 76 0.008 0.0012 True\n"
     ]
    },
    {
     "name": "stderr",
     "output_type": "stream",
     "text": [
      "/tmp/ipykernel_23214/3681261353.py:126: RuntimeWarning: divide by zero encountered in scalar divide\n",
      "  ci = stats.norm.interval(alpha, loc=est_mean, scale=est_std/np.sqrt(trees_to_be_considered_for_ci))\n"
     ]
    },
    {
     "name": "stdout",
     "output_type": "stream",
     "text": [
      "14\n",
      "112 Saving compared to sklearn: -12 0.0095 0.0075 True\n",
      "16\n",
      "147 Saving compared to sklearn: -47 0.0095 0.0026 True\n",
      "18\n",
      "57 Saving compared to sklearn: 43 0.0173 0.0032 False\n",
      "21\n",
      "101 Saving compared to sklearn: -1 0.0077 0.0047 True\n",
      "22\n",
      "95 Saving compared to sklearn: 5 0.0081 0.0048 True\n",
      "23\n",
      "101 Saving compared to sklearn: -1 0.0089 0.0086 True\n",
      "24\n",
      "13 Saving compared to sklearn: 87 0.0006 0.0 True\n",
      "26\n"
     ]
    },
    {
     "name": "stderr",
     "output_type": "stream",
     "text": [
      "/home/felix/anaconda3/lib/python3.10/site-packages/scipy/stats/_distn_infrastructure.py:2241: RuntimeWarning: invalid value encountered in multiply\n",
      "  lower_bound = _a * scale + loc\n",
      "/home/felix/anaconda3/lib/python3.10/site-packages/scipy/stats/_distn_infrastructure.py:2242: RuntimeWarning: invalid value encountered in multiply\n",
      "  upper_bound = _b * scale + loc\n"
     ]
    },
    {
     "name": "stdout",
     "output_type": "stream",
     "text": [
      "55 Saving compared to sklearn: 45 0.0083 0.0026 True\n",
      "28\n"
     ]
    },
    {
     "ename": "KeyboardInterrupt",
     "evalue": "",
     "output_type": "error",
     "traceback": [
      "\u001b[0;31m---------------------------------------------------------------------------\u001b[0m",
      "\u001b[0;31mKeyboardInterrupt\u001b[0m                         Traceback (most recent call last)",
      "Cell \u001b[0;32mIn[9], line 174\u001b[0m\n\u001b[1;32m    172\u001b[0m     \u001b[38;5;28;01mcontinue\u001b[39;00m\n\u001b[1;32m    173\u001b[0m \u001b[38;5;28mprint\u001b[39m(openmlid)\n\u001b[0;32m--> 174\u001b[0m analyzer \u001b[38;5;241m=\u001b[39m \u001b[43mget_analyzer_from_disk\u001b[49m\u001b[43m(\u001b[49m\u001b[43mopenmlid\u001b[49m\u001b[43m,\u001b[49m\u001b[43m \u001b[49m\u001b[43mseed\u001b[49m\u001b[43m)\u001b[49m\n\u001b[1;32m    175\u001b[0m times \u001b[38;5;241m=\u001b[39m np\u001b[38;5;241m.\u001b[39marange(\u001b[38;5;241m1\u001b[39m, \u001b[38;5;241m21\u001b[39m)\n\u001b[1;32m    176\u001b[0m alpha_eps_combos \u001b[38;5;241m=\u001b[39m \u001b[38;5;28mlist\u001b[39m(\u001b[38;5;28mzip\u001b[39m([\u001b[38;5;241m0.5\u001b[39m, \u001b[38;5;241m0.6\u001b[39m, \u001b[38;5;241m0.8\u001b[39m, \u001b[38;5;241m0.95\u001b[39m], [\u001b[38;5;241m0.8\u001b[39m \u001b[38;5;241m*\u001b[39m eps_base, \u001b[38;5;241m0.9\u001b[39m \u001b[38;5;241m*\u001b[39m eps_base, eps_base, \u001b[38;5;241m2\u001b[39m \u001b[38;5;241m*\u001b[39m eps_base]))\n",
      "Cell \u001b[0;32mIn[7], line 33\u001b[0m, in \u001b[0;36mget_analyzer_from_disk\u001b[0;34m(openmlid, seed)\u001b[0m\n\u001b[1;32m     31\u001b[0m \u001b[38;5;28;01mdef\u001b[39;00m \u001b[38;5;21mget_analyzer_from_disk\u001b[39m(openmlid, seed):\n\u001b[1;32m     32\u001b[0m     \u001b[38;5;28;01mwith\u001b[39;00m \u001b[38;5;28mopen\u001b[39m(\u001b[38;5;124mf\u001b[39m\u001b[38;5;124m\"\u001b[39m\u001b[38;5;124manalyzers/\u001b[39m\u001b[38;5;132;01m{\u001b[39;00mopenmlid\u001b[38;5;132;01m}\u001b[39;00m\u001b[38;5;124m_\u001b[39m\u001b[38;5;132;01m{\u001b[39;00mseed\u001b[38;5;132;01m}\u001b[39;00m\u001b[38;5;124m.ana\u001b[39m\u001b[38;5;124m\"\u001b[39m, \u001b[38;5;124m\"\u001b[39m\u001b[38;5;124mrb\u001b[39m\u001b[38;5;124m\"\u001b[39m) \u001b[38;5;28;01mas\u001b[39;00m f:\n\u001b[0;32m---> 33\u001b[0m         \u001b[38;5;28;01mreturn\u001b[39;00m \u001b[43mpickle\u001b[49m\u001b[38;5;241;43m.\u001b[39;49m\u001b[43mload\u001b[49m\u001b[43m(\u001b[49m\u001b[43mf\u001b[49m\u001b[43m)\u001b[49m\n",
      "\u001b[0;31mKeyboardInterrupt\u001b[0m: "
     ]
    }
   ],
   "source": [
    "def create_full_belief_plot(self, alpha, eps, min_trees=5, decision_oob=True, scoring_oob=True, eps_limit_multiplier=3, ax=None):\n",
    "    first_key_decision = \"oob\" if decision_oob else \"val\"\n",
    "    first_key_scoring = \"oob\" if scoring_oob else \"val\"\n",
    "    second_key = alpha\n",
    "\n",
    "    if ax is None:\n",
    "        fig, ax = plt.subplots(figsize=(16, 5))\n",
    "    else:\n",
    "        fig = None\n",
    "    \n",
    "    decision_lines = {}\n",
    "    x_lim = 400\n",
    "    for i, key in enumerate([\"oob\", \"val\"]):\n",
    "        color = f\"C{i}\"\n",
    "        scores = self.scores_of_forests[key]\n",
    "        correction_terms_over_time = self.correction_terms_for_t1_per_time[key]\n",
    "        cis = np.array([list(e) for e in self.ci_histories[key][second_key][\"orig\"]])\n",
    "\n",
    "        times = range(1, len(scores) + 1)\n",
    "\n",
    "        # actual performance\n",
    "        ax.plot(times, scores, color=color, label=\"$Z_t^{\" + key + \"}$\")\n",
    "\n",
    "        # expected performance (approximated)\n",
    "        final_belief_of_correction_term_at_t1 = correction_terms_over_time[-1]\n",
    "        correction_terms_over_time_based_on_final_belief = final_belief_of_correction_term_at_t1 / times\n",
    "        expected_limit_performance = sum(cis[-1]) / 2 - final_belief_of_correction_term_at_t1 # take the last estimate (as best estimate), but do NOT divide by t here, because this is inferred via the estimate on t = 1\n",
    "        ax.axhline(expected_limit_performance, linestyle=\"--\", color=color, linewidth=1, label=\"$\\mathbb{E}[Z_\\infty]$\")\n",
    "        ax.plot(times, expected_limit_performance + correction_terms_over_time_based_on_final_belief, color=color, linestyle=\"dotted\", label=\"$\\mathbb{E}[Z_t]$\")\n",
    "        if key == \"val\":\n",
    "            ax.fill_between(times, expected_limit_performance - eps, expected_limit_performance + eps, color=\"green\", alpha=0.2)\n",
    "\n",
    "        # add confidence intervals for what is believed to be the true final performance\n",
    "        ax.fill_between(\n",
    "            times[offset-1:],\n",
    "            [e[0] - final_belief_of_correction_term_at_t1 for e in cis],\n",
    "            [e[1] - final_belief_of_correction_term_at_t1 for e in cis],\n",
    "            alpha=0.2\n",
    "        )\n",
    "\n",
    "        # plot decision lines\n",
    "        oob = key==\"oob\"\n",
    "        decision_line = self.get_stopping_point(alpha, eps, \"realistic\" if oob else \"oracle\", min_trees=min_trees, oob=oob)\n",
    "        decision_lines[key] = decision_line\n",
    "        ax.axvline(decision_line, color=color, linestyle=\"--\", linewidth=1, label=\"$t^{\" + key + \"}$\")\n",
    "        if oob:\n",
    "            decision_line = self.get_stopping_point(alpha, eps, \"realistic\" if oob else \"oracle\", min_trees=min_trees, oob=oob, use_oob_forest_size_estimate_for_correction_term=True)\n",
    "            decision_lines[key + \"_conservative\"] = decision_line\n",
    "            ax.axvline(decision_line, color=color, linestyle=\"dotted\", linewidth=1, label=\"$t^{\" + key + \"}$ OOB pure\")\n",
    "            x_lim = np.max([x_lim, decision_line * 1.2])\n",
    "\n",
    "    ax.set_xlim([1, x_lim])\n",
    "    ax.set_xscale(\"log\")\n",
    "    ax.set_ylim([expected_limit_performance - eps_limit_multiplier * eps, expected_limit_performance + eps_limit_multiplier * eps])\n",
    "\n",
    "    ax.legend()\n",
    "    ax.set_title(f\"Stopping after {decision_lines['oob']} trees (OOB). Perfect decision would be {decision_lines['val']} (VAL orcale)\")\n",
    "\n",
    "    if fig is not None:\n",
    "        plt.show()\n",
    "        \n",
    "def plot_estimates_of_correction_term(self, axs = None):\n",
    "    if axs is None:\n",
    "        fig, axs = plt.subplots(1, 2, figsize=(20, 4))\n",
    "    else:\n",
    "        fig = None\n",
    "\n",
    "    times = np.arange(1, self.num_trees + 1)\n",
    "        \n",
    "    # correction term without t\n",
    "    ax = axs[0]\n",
    "    ax.plot(times, self.correction_terms_for_t1_per_time[\"oob\"], label=\"$\\mathbb{V}_{oob}$\")\n",
    "    ax.plot(times, self.correction_terms_for_t1_per_time[\"val\"], label=\"$\\mathbb{V}_{val}$\")\n",
    "    x_limit = 150\n",
    "    for (key, oob), do_discount in it.product(zip([\"oob\", \"val\"], [True, False]), [True, False]):\n",
    "        color = f\"C{0 if oob else 1}\"\n",
    "        linestyle=\"--\" if do_discount else \"dotted\"\n",
    "        num_tree_count_for_stable_correction_term_estimate = self.get_num_trees_required_for_stable_correction_term_estimate(oob=oob, do_discount=do_discount)\n",
    "        ax.axvline(num_tree_count_for_stable_correction_term_estimate, linestyle=linestyle, color=color, label=\"num trees for stable estimate of $\\mathbb{V}_{\" + key + \"}$ \" + (\"\" if do_discount else \"not\") + \" discounting\")\n",
    "        x_limit = max([x_limit, num_tree_count_for_stable_correction_term_estimate + 10])\n",
    "\n",
    "    ax.set_xlim([1, x_limit])\n",
    "    ax.set_xscale(\"log\")\n",
    "    \n",
    "    # correction term with t\n",
    "    ax = axs[1]\n",
    "    ax.plot(times, self.correction_terms_for_t1_per_time[\"oob\"] / times, label=\"$\\mathbb{V}_{oob}$\")\n",
    "    ax.plot(times, self.correction_terms_for_t1_per_time[\"val\"] / times, label=\"$\\mathbb{V}_{val}$\")\n",
    "    x_limit = 150\n",
    "    for (key, oob), do_discount in it.product(zip([\"oob\", \"val\"], [True, False]), [True, False]):\n",
    "        color = f\"C{0 if oob else 1}\"\n",
    "        linestyle=\"--\" if do_discount else \"dotted\"\n",
    "        num_tree_count_for_stable_correction_term_estimate = self.get_num_trees_required_for_stable_correction_term_estimate(oob=oob, do_discount=do_discount)\n",
    "        ax.axvline(num_tree_count_for_stable_correction_term_estimate, linestyle=linestyle, color=color, label=\"num trees for stable estimate of $\\mathbb{V}_{\" + key + \"}$ \" + (\"\" if do_discount else \"not\") + \" discounting\")\n",
    "        x_limit = max([x_limit, num_tree_count_for_stable_correction_term_estimate + 10])\n",
    "\n",
    "    ax.set_xlim([1, x_limit])\n",
    "    ax.set_xscale(\"log\")\n",
    "\n",
    "    if fig is not None:\n",
    "        ax.legend()\n",
    "        ax.set_title(\"Estimates of correction term $\\\\varphi(1)$ over time.\")\n",
    "        plt.show()\n",
    "        \n",
    "def plot_gap_over_time(self, alpha, eps, oob, min_trees=2, ax = None):\n",
    "    if ax is None:\n",
    "        fig, axs = plt.subplots(2, 1, figsize=(16, 8))\n",
    "    else:\n",
    "        fig = None\n",
    "\n",
    "\n",
    "    key = \"oob\" if oob else \"val\"\n",
    "\n",
    "    times = np.arange(1, self.num_trees + 1) # here we need to use times for both OOB and validation curves\n",
    "    num_trees_for_estimates_oob = np.array(self.num_trees_used_on_avg_for_oob_estimates_at_forest_size)\n",
    "    correction_terms_over_time_real_oob = self.correction_terms_for_t1_per_time[key] / num_trees_for_estimates_oob\n",
    "    correction_terms_over_time_real_estimated_for_val = self.correction_terms_for_t1_per_time[key] / times\n",
    "    #correction_terms_over_time_omniscient = self.correction_terms_for_t1_per_time[key][-1] / num_trees_for_estimates\n",
    "    #correction_terms_over_time_pessimistic = (self.Y_train.shape[1] / (4 * num_trees_for_estimates))\n",
    "    confidence_band_sizes = np.array([(e[1] - e[0]) / 2 for e in self.ci_histories[key][alpha][\"orig\"]])\n",
    "\n",
    "    #print(correction_terms_over_time_real[:10])\n",
    "    #print(correction_terms_over_time_omniscient[:10])\n",
    "\n",
    "    offset = len(times) - len(confidence_band_sizes)\n",
    "    gaps_real = confidence_band_sizes + correction_terms_over_time_real_oob[offset:]\n",
    "    gaps_anticipated_for_val = confidence_band_sizes + correction_terms_over_time_real_estimated_for_val[offset:]\n",
    "    #gaps_known_variance = confidence_band_sizes + correction_terms_over_time_omniscient[offset:]\n",
    "    #gaps_pessimistic_estimate = confidence_band_sizes + correction_terms_over_time_pessimistic[offset:]\n",
    "\n",
    "    # real plot\n",
    "    max_xlim = 0\n",
    "    max_gap = np.max([np.max(gaps_real), np.max(gaps_anticipated_for_val)])\n",
    "    for ax, gaps in zip(axs, [gaps_real, gaps_anticipated_for_val]):\n",
    "        ax.fill_between(times[offset:], 0, confidence_band_sizes, color=f\"C{0 if oob else 1}\", alpha=0.2, label=\"uncertainty about $\\mu$\")\n",
    "        ax.fill_between(times[offset:], confidence_band_sizes, gaps, color=\"purple\", alpha=0.2, label=\"variance deviation\")\n",
    "        ax.plot(times[offset:], gaps, color=\"red\", alpha=0.5, label=\"Total Gap to $\\\\mu$.\")\n",
    "        ax.axhline(0, linestyle=\"-\", color=\"black\", linewidth=1)\n",
    "        ax.fill_between(times, 0, eps, alpha=0.2, color=\"green\", label=f\"acceptance area for $\\\\varepsilon = {eps}$\")\n",
    "\n",
    "        accepting_indices = [t + 1 for t in np.where(gaps < eps)[0] if t >= min_trees]\n",
    "        \n",
    "        num_trees_required_for_stable_correction_term_estimate = self.get_num_trees_required_for_stable_correction_term_estimate()\n",
    "        ax.fill_between([1, num_trees_required_for_stable_correction_term_estimate], [0, 0], [1, 1], color=\"red\", alpha=0.2)\n",
    "\n",
    "        if len(accepting_indices) > 0:\n",
    "            stopping_point = np.max([min_trees, offset + accepting_indices[0], num_trees_required_for_stable_correction_term_estimate])\n",
    "            ax.axvline(stopping_point, color=\"black\", linestyle=\"--\", label=\"Oracle Stopping Point\")\n",
    "        else:\n",
    "            stopping_point = np.nan\n",
    "\n",
    "        if not np.isnan(stopping_point):\n",
    "            max_xlim = np.max([max_xlim, min([2 * stopping_point, len(gaps_real)])])\n",
    "\n",
    "        ax.set_title(f\"Stopping point: {stopping_point} trees\")\n",
    "        #ax.set_xscale(\"log\")\n",
    "    #ax.plot(range(1, self.num_trees + 1), self.correction_terms_for_t1_per_time_val, label=\"$\\mathbb{V}_{val}$\")\n",
    "\n",
    "        ax.legend()\n",
    "        ax.set_ylim([0, 2 * eps])\n",
    "\n",
    "    for ax in axs:\n",
    "        ax.set_xlim([offset, max_xlim])\n",
    "\n",
    "    if fig is not None:\n",
    "        plt.show()\n",
    "\n",
    "eps_base = 0.01\n",
    "for openmlid in pd.unique(df[\"openmlid\"]):\n",
    "    seed = 0\n",
    "    if not is_analyzer_serialized(openmlid, seed):\n",
    "        continue\n",
    "    print(openmlid)\n",
    "    analyzer = get_analyzer_from_disk(openmlid, seed)\n",
    "    times = np.arange(1, 21)\n",
    "    alpha_eps_combos = list(zip([0.5, 0.6, 0.8, 0.95], [0.8 * eps_base, 0.9 * eps_base, eps_base, 2 * eps_base]))\n",
    "    offset=2\n",
    "    alpha = 0.5\n",
    "    alphas = [alpha]\n",
    "    for oob in [False, True]:\n",
    "        for alpha in alphas:\n",
    "            analyzer.compute_ci_sequence_for_expected_performance_at_size_t_based_on_normality(\n",
    "                alpha=alpha,\n",
    "                offset=offset,\n",
    "                oob=oob\n",
    "            )\n",
    "    \n",
    "    #stopping_points_for_profiles = []\n",
    "    #for alpha, eps in alpha_eps_combos:\n",
    "        #stopping_points_for_profiles.append(analyzer.get_stopping_point(alpha=alpha, eps=eps, mode=\"realistic\", min_trees=5, oob=True))\n",
    "    singular_stopping_point = analyzer.get_stopping_point(alpha=alpha, eps=eps_base, mode=\"realistic\", min_trees=5, oob=True, use_oob_forest_size_estimate_for_correction_term=False)\n",
    "    #actual_stopping_point = max(stopping_points_for_profiles)\n",
    "    actual_stopping_point = singular_stopping_point\n",
    "    if actual_stopping_point is not None and not np.isnan(actual_stopping_point):\n",
    "        #print(stopping_points_for_profiles, actual_stopping_point, f\"Saving compare to singular stopping point: {singular_stopping_point - actual_stopping_point}.\")\n",
    "        val_curve = analyzer.scores_of_forests[\"val\"]\n",
    "        oob_curve = analyzer.scores_of_forests[\"oob\"]\n",
    "        val_gap = np.abs(val_curve[actual_stopping_point] - np.mean(val_curve[-10:]))\n",
    "        oob_gap = np.abs(oob_curve[actual_stopping_point] - np.mean(oob_curve[-10:]))\n",
    "        print(actual_stopping_point, f\"Saving compared to sklearn: {100 - actual_stopping_point}\", np.round(oob_gap, 4), np.round(val_gap, 4), max([val_gap, oob_gap]) < eps_base)\n",
    "        if val_gap > eps_base:\n",
    "            create_full_belief_plot(analyzer, alpha=alpha, eps=eps_base, decision_oob=True, scoring_oob=False, eps_limit_multiplier=5)\n",
    "            plt.show()\n",
    "            plot_estimates_of_correction_term(analyzer)\n",
    "            plt.show()\n",
    "\n",
    "            plot_gap_over_time(analyzer,\n",
    "                alpha=alpha, # deliberately use some higher alpha here.\n",
    "                oob=True,\n",
    "                eps = eps_base,\n",
    "                min_trees=5\n",
    "            )\n",
    "            plt.show()"
   ]
  },
  {
   "cell_type": "code",
   "execution_count": 15,
   "id": "37c1dfe1",
   "metadata": {},
   "outputs": [
    {
     "data": {
      "application/vnd.jupyter.widget-view+json": {
       "model_id": "2f24b5009caa48a49c3c37ed1e3d7211",
       "version_major": 2,
       "version_minor": 0
      },
      "text/plain": [
       "  0%|          | 0/836 [00:00<?, ?it/s]"
      ]
     },
     "metadata": {},
     "output_type": "display_data"
    },
    {
     "name": "stdout",
     "output_type": "stream",
     "text": [
      "3\n"
     ]
    },
    {
     "name": "stderr",
     "output_type": "stream",
     "text": [
      "/tmp/ipykernel_23214/3681261353.py:126: RuntimeWarning: divide by zero encountered in scalar divide\n",
      "  ci = stats.norm.interval(alpha, loc=est_mean, scale=est_std/np.sqrt(trees_to_be_considered_for_ci))\n"
     ]
    },
    {
     "name": "stdout",
     "output_type": "stream",
     "text": [
      "14\n",
      "16\n",
      "18\n",
      "21\n",
      "22\n",
      "23\n",
      "24\n",
      "26\n",
      "28\n",
      "30\n",
      "31\n",
      "32\n",
      "33\n",
      "36\n",
      "38\n",
      "44\n",
      "46\n",
      "54\n",
      "57\n",
      "60\n",
      "61\n",
      "179\n",
      "181\n",
      "182\n",
      "185\n",
      "188\n",
      "351\n",
      "357\n",
      "389\n",
      "391\n",
      "392\n",
      "395\n",
      "396\n",
      "398\n",
      "401\n",
      "679\n",
      "715\n",
      "718\n",
      "720\n",
      "722\n",
      "723\n",
      "727\n",
      "728\n",
      "734\n",
      "735\n",
      "737\n",
      "740\n"
     ]
    },
    {
     "ename": "IndexError",
     "evalue": "tuple index out of range",
     "output_type": "error",
     "traceback": [
      "\u001b[0;31m---------------------------------------------------------------------------\u001b[0m",
      "\u001b[0;31mIndexError\u001b[0m                                Traceback (most recent call last)",
      "Cell \u001b[0;32mIn[15], line 30\u001b[0m\n\u001b[1;32m     28\u001b[0m val_curve \u001b[38;5;241m=\u001b[39m analyzer\u001b[38;5;241m.\u001b[39mscores_of_forests[\u001b[38;5;124m\"\u001b[39m\u001b[38;5;124mval\u001b[39m\u001b[38;5;124m\"\u001b[39m]\n\u001b[1;32m     29\u001b[0m oob_curve \u001b[38;5;241m=\u001b[39m analyzer\u001b[38;5;241m.\u001b[39mscores_of_forests[\u001b[38;5;124m\"\u001b[39m\u001b[38;5;124moob\u001b[39m\u001b[38;5;124m\"\u001b[39m]\n\u001b[0;32m---> 30\u001b[0m val_gap \u001b[38;5;241m=\u001b[39m np\u001b[38;5;241m.\u001b[39mabs(\u001b[43mval_curve\u001b[49m\u001b[43m[\u001b[49m\u001b[43mstopping_point\u001b[49m\u001b[43m]\u001b[49m \u001b[38;5;241m-\u001b[39m np\u001b[38;5;241m.\u001b[39mmean(val_curve[\u001b[38;5;241m-\u001b[39m\u001b[38;5;241m10\u001b[39m:]))\n\u001b[1;32m     31\u001b[0m oob_gap \u001b[38;5;241m=\u001b[39m np\u001b[38;5;241m.\u001b[39mabs(oob_curve[stopping_point] \u001b[38;5;241m-\u001b[39m np\u001b[38;5;241m.\u001b[39mmean(oob_curve[\u001b[38;5;241m-\u001b[39m\u001b[38;5;241m10\u001b[39m:]))\n\u001b[1;32m     32\u001b[0m times_fit \u001b[38;5;241m=\u001b[39m np\u001b[38;5;241m.\u001b[39marray(analyzer\u001b[38;5;241m.\u001b[39mtimes_fit)\n",
      "\u001b[0;31mIndexError\u001b[0m: tuple index out of range"
     ]
    }
   ],
   "source": [
    "eps_base = 0.01\n",
    "alphas = [0.1, 0.2, 0.3, 0.4, 0.5, 0.6, 0.7, 0.8, 0.9, 0.95, 0.99]\n",
    "datasets = [i for i in pd.unique(df[\"openmlid\"]) if is_analyzer_serialized(i, 0)]\n",
    "rows = []\n",
    "\n",
    "pbar = tqdm(total=len(alphas) * len(datasets))\n",
    "for openmlid in datasets:\n",
    "    \n",
    "    # initialize analyzer\n",
    "    seed = 0\n",
    "    print(openmlid)\n",
    "    analyzer = get_analyzer_from_disk(openmlid, seed)\n",
    "    times = np.arange(1, 21)\n",
    "    offset=2\n",
    "    \n",
    "    # check regrets for different alphas\n",
    "    row = [openmlid]\n",
    "    for alpha in alphas:\n",
    "        for oob in [False, True]:\n",
    "            analyzer.compute_ci_sequence_for_expected_performance_at_size_t_based_on_normality(\n",
    "                alpha=alpha,\n",
    "                offset=offset,\n",
    "                oob=oob\n",
    "            )\n",
    "\n",
    "        stopping_point = analyzer.get_stopping_point(alpha=alpha, eps=eps_base, mode=\"realistic\", min_trees=5, oob=True, use_oob_forest_size_estimate_for_correction_term=False)\n",
    "        if stopping_point is not None and not np.isnan(stopping_point):\n",
    "            val_curve = analyzer.scores_of_forests[\"val\"]\n",
    "            oob_curve = analyzer.scores_of_forests[\"oob\"]\n",
    "            val_gap = np.abs(val_curve[stopping_point] - np.mean(val_curve[-10:]))\n",
    "            oob_gap = np.abs(oob_curve[stopping_point] - np.mean(oob_curve[-10:]))\n",
    "            times_fit = np.array(analyzer.times_fit)\n",
    "            times_overhead = np.array(analyzer.times_predict_train) + np.array(analyzer.times_update)\n",
    "            \n",
    "            time_100 = times_fit[:100].sum()\n",
    "            time_we = (times_fit[:stopping_point] + times_overhead[:stopping_point]).sum()\n",
    "            row.extend([stopping_point, oob_gap, val_gap, val_gap <= eps_base, time_100, time_we])\n",
    "        pbar.update(1)\n",
    "    rows.append(row)\n",
    "pbar.close()"
   ]
  },
  {
   "cell_type": "code",
   "execution_count": 19,
   "id": "255c5c60",
   "metadata": {
    "scrolled": true
   },
   "outputs": [
    {
     "data": {
      "text/html": [
       "<div>\n",
       "<style scoped>\n",
       "    .dataframe tbody tr th:only-of-type {\n",
       "        vertical-align: middle;\n",
       "    }\n",
       "\n",
       "    .dataframe tbody tr th {\n",
       "        vertical-align: top;\n",
       "    }\n",
       "\n",
       "    .dataframe thead th {\n",
       "        text-align: right;\n",
       "    }\n",
       "</style>\n",
       "<table border=\"1\" class=\"dataframe\">\n",
       "  <thead>\n",
       "    <tr style=\"text-align: right;\">\n",
       "      <th></th>\n",
       "      <th>openmlid</th>\n",
       "      <th>t_0.1</th>\n",
       "      <th>oob_val_0.1</th>\n",
       "      <th>gap_val_0.1</th>\n",
       "      <th>ok_0.1</th>\n",
       "      <th>time_100_0.1</th>\n",
       "      <th>time_asrf_0.1</th>\n",
       "      <th>t_0.2</th>\n",
       "      <th>oob_val_0.2</th>\n",
       "      <th>gap_val_0.2</th>\n",
       "      <th>...</th>\n",
       "      <th>gap_val_0.95</th>\n",
       "      <th>ok_0.95</th>\n",
       "      <th>time_100_0.95</th>\n",
       "      <th>time_asrf_0.95</th>\n",
       "      <th>t_0.99</th>\n",
       "      <th>oob_val_0.99</th>\n",
       "      <th>gap_val_0.99</th>\n",
       "      <th>ok_0.99</th>\n",
       "      <th>time_100_0.99</th>\n",
       "      <th>time_asrf_0.99</th>\n",
       "    </tr>\n",
       "  </thead>\n",
       "  <tbody>\n",
       "    <tr>\n",
       "      <th>0</th>\n",
       "      <td>3</td>\n",
       "      <td>10</td>\n",
       "      <td>0.026564</td>\n",
       "      <td>0.003181</td>\n",
       "      <td>True</td>\n",
       "      <td>1.075290</td>\n",
       "      <td>0.113410</td>\n",
       "      <td>10</td>\n",
       "      <td>0.026564</td>\n",
       "      <td>0.003181</td>\n",
       "      <td>...</td>\n",
       "      <td>0.000355</td>\n",
       "      <td>True</td>\n",
       "      <td>1.075290</td>\n",
       "      <td>1.261446</td>\n",
       "      <td>245.0</td>\n",
       "      <td>0.000161</td>\n",
       "      <td>0.000064</td>\n",
       "      <td>True</td>\n",
       "      <td>1.075290</td>\n",
       "      <td>1.429247</td>\n",
       "    </tr>\n",
       "    <tr>\n",
       "      <th>1</th>\n",
       "      <td>14</td>\n",
       "      <td>54</td>\n",
       "      <td>0.022319</td>\n",
       "      <td>0.010370</td>\n",
       "      <td>False</td>\n",
       "      <td>0.354864</td>\n",
       "      <td>0.218839</td>\n",
       "      <td>64</td>\n",
       "      <td>0.019133</td>\n",
       "      <td>0.007310</td>\n",
       "      <td>...</td>\n",
       "      <td>0.000908</td>\n",
       "      <td>True</td>\n",
       "      <td>0.354864</td>\n",
       "      <td>1.276616</td>\n",
       "      <td>695.0</td>\n",
       "      <td>0.000256</td>\n",
       "      <td>0.000311</td>\n",
       "      <td>True</td>\n",
       "      <td>0.354864</td>\n",
       "      <td>1.919868</td>\n",
       "    </tr>\n",
       "    <tr>\n",
       "      <th>2</th>\n",
       "      <td>16</td>\n",
       "      <td>60</td>\n",
       "      <td>0.024309</td>\n",
       "      <td>0.011886</td>\n",
       "      <td>False</td>\n",
       "      <td>0.350425</td>\n",
       "      <td>0.241864</td>\n",
       "      <td>75</td>\n",
       "      <td>0.018876</td>\n",
       "      <td>0.007318</td>\n",
       "      <td>...</td>\n",
       "      <td>0.000048</td>\n",
       "      <td>True</td>\n",
       "      <td>0.350425</td>\n",
       "      <td>1.581892</td>\n",
       "      <td>924.0</td>\n",
       "      <td>0.000227</td>\n",
       "      <td>0.000320</td>\n",
       "      <td>True</td>\n",
       "      <td>0.350425</td>\n",
       "      <td>2.366345</td>\n",
       "    </tr>\n",
       "    <tr>\n",
       "      <th>3</th>\n",
       "      <td>18</td>\n",
       "      <td>32</td>\n",
       "      <td>0.029082</td>\n",
       "      <td>0.007564</td>\n",
       "      <td>True</td>\n",
       "      <td>0.228633</td>\n",
       "      <td>0.091084</td>\n",
       "      <td>37</td>\n",
       "      <td>0.023784</td>\n",
       "      <td>0.005812</td>\n",
       "      <td>...</td>\n",
       "      <td>0.001524</td>\n",
       "      <td>True</td>\n",
       "      <td>0.228633</td>\n",
       "      <td>0.405789</td>\n",
       "      <td>253.0</td>\n",
       "      <td>0.003043</td>\n",
       "      <td>0.000949</td>\n",
       "      <td>True</td>\n",
       "      <td>0.228633</td>\n",
       "      <td>0.543736</td>\n",
       "    </tr>\n",
       "    <tr>\n",
       "      <th>4</th>\n",
       "      <td>21</td>\n",
       "      <td>32</td>\n",
       "      <td>0.023299</td>\n",
       "      <td>0.010071</td>\n",
       "      <td>False</td>\n",
       "      <td>0.123453</td>\n",
       "      <td>0.052381</td>\n",
       "      <td>42</td>\n",
       "      <td>0.020930</td>\n",
       "      <td>0.007458</td>\n",
       "      <td>...</td>\n",
       "      <td>0.000141</td>\n",
       "      <td>True</td>\n",
       "      <td>0.123453</td>\n",
       "      <td>0.547752</td>\n",
       "      <td>726.0</td>\n",
       "      <td>0.001194</td>\n",
       "      <td>0.000169</td>\n",
       "      <td>True</td>\n",
       "      <td>0.123453</td>\n",
       "      <td>0.853677</td>\n",
       "    </tr>\n",
       "    <tr>\n",
       "      <th>5</th>\n",
       "      <td>22</td>\n",
       "      <td>50</td>\n",
       "      <td>0.019875</td>\n",
       "      <td>0.008199</td>\n",
       "      <td>True</td>\n",
       "      <td>0.311194</td>\n",
       "      <td>0.180822</td>\n",
       "      <td>59</td>\n",
       "      <td>0.017263</td>\n",
       "      <td>0.007455</td>\n",
       "      <td>...</td>\n",
       "      <td>0.003775</td>\n",
       "      <td>True</td>\n",
       "      <td>0.311194</td>\n",
       "      <td>0.873987</td>\n",
       "      <td>538.0</td>\n",
       "      <td>0.001893</td>\n",
       "      <td>0.002219</td>\n",
       "      <td>True</td>\n",
       "      <td>0.311194</td>\n",
       "      <td>1.341830</td>\n",
       "    </tr>\n",
       "    <tr>\n",
       "      <th>6</th>\n",
       "      <td>23</td>\n",
       "      <td>53</td>\n",
       "      <td>0.018700</td>\n",
       "      <td>0.016328</td>\n",
       "      <td>False</td>\n",
       "      <td>0.140440</td>\n",
       "      <td>0.095713</td>\n",
       "      <td>63</td>\n",
       "      <td>0.016125</td>\n",
       "      <td>0.011945</td>\n",
       "      <td>...</td>\n",
       "      <td>0.001907</td>\n",
       "      <td>True</td>\n",
       "      <td>0.140440</td>\n",
       "      <td>0.472220</td>\n",
       "      <td>519.0</td>\n",
       "      <td>0.001007</td>\n",
       "      <td>0.000690</td>\n",
       "      <td>True</td>\n",
       "      <td>0.140440</td>\n",
       "      <td>0.702407</td>\n",
       "    </tr>\n",
       "    <tr>\n",
       "      <th>7</th>\n",
       "      <td>24</td>\n",
       "      <td>13</td>\n",
       "      <td>0.000556</td>\n",
       "      <td>0.000029</td>\n",
       "      <td>True</td>\n",
       "      <td>0.360464</td>\n",
       "      <td>0.090813</td>\n",
       "      <td>13</td>\n",
       "      <td>0.000556</td>\n",
       "      <td>0.000029</td>\n",
       "      <td>...</td>\n",
       "      <td>0.000029</td>\n",
       "      <td>True</td>\n",
       "      <td>0.360464</td>\n",
       "      <td>0.090813</td>\n",
       "      <td>13.0</td>\n",
       "      <td>0.000556</td>\n",
       "      <td>0.000029</td>\n",
       "      <td>True</td>\n",
       "      <td>0.360464</td>\n",
       "      <td>0.090813</td>\n",
       "    </tr>\n",
       "    <tr>\n",
       "      <th>8</th>\n",
       "      <td>26</td>\n",
       "      <td>20</td>\n",
       "      <td>0.023537</td>\n",
       "      <td>0.008507</td>\n",
       "      <td>True</td>\n",
       "      <td>0.460104</td>\n",
       "      <td>0.311151</td>\n",
       "      <td>28</td>\n",
       "      <td>0.018757</td>\n",
       "      <td>0.005430</td>\n",
       "      <td>...</td>\n",
       "      <td>0.000524</td>\n",
       "      <td>True</td>\n",
       "      <td>0.460104</td>\n",
       "      <td>1.064097</td>\n",
       "      <td>357.0</td>\n",
       "      <td>0.000303</td>\n",
       "      <td>0.000522</td>\n",
       "      <td>True</td>\n",
       "      <td>0.460104</td>\n",
       "      <td>1.496482</td>\n",
       "    </tr>\n",
       "    <tr>\n",
       "      <th>9</th>\n",
       "      <td>28</td>\n",
       "      <td>27</td>\n",
       "      <td>0.023334</td>\n",
       "      <td>0.010761</td>\n",
       "      <td>False</td>\n",
       "      <td>0.547024</td>\n",
       "      <td>0.211848</td>\n",
       "      <td>32</td>\n",
       "      <td>0.021296</td>\n",
       "      <td>0.009240</td>\n",
       "      <td>...</td>\n",
       "      <td>0.003671</td>\n",
       "      <td>True</td>\n",
       "      <td>0.547024</td>\n",
       "      <td>0.783791</td>\n",
       "      <td>191.0</td>\n",
       "      <td>0.003267</td>\n",
       "      <td>0.002160</td>\n",
       "      <td>True</td>\n",
       "      <td>0.547024</td>\n",
       "      <td>1.042683</td>\n",
       "    </tr>\n",
       "    <tr>\n",
       "      <th>10</th>\n",
       "      <td>30</td>\n",
       "      <td>12</td>\n",
       "      <td>0.009758</td>\n",
       "      <td>0.004078</td>\n",
       "      <td>True</td>\n",
       "      <td>0.457011</td>\n",
       "      <td>0.063834</td>\n",
       "      <td>12</td>\n",
       "      <td>0.009758</td>\n",
       "      <td>0.004078</td>\n",
       "      <td>...</td>\n",
       "      <td>0.004078</td>\n",
       "      <td>True</td>\n",
       "      <td>0.457011</td>\n",
       "      <td>0.063834</td>\n",
       "      <td>25.0</td>\n",
       "      <td>0.005797</td>\n",
       "      <td>0.002240</td>\n",
       "      <td>True</td>\n",
       "      <td>0.457011</td>\n",
       "      <td>0.132232</td>\n",
       "    </tr>\n",
       "    <tr>\n",
       "      <th>11</th>\n",
       "      <td>31</td>\n",
       "      <td>42</td>\n",
       "      <td>0.019148</td>\n",
       "      <td>0.013927</td>\n",
       "      <td>False</td>\n",
       "      <td>0.179354</td>\n",
       "      <td>0.092903</td>\n",
       "      <td>51</td>\n",
       "      <td>0.015431</td>\n",
       "      <td>0.014018</td>\n",
       "      <td>...</td>\n",
       "      <td>0.000930</td>\n",
       "      <td>True</td>\n",
       "      <td>0.179354</td>\n",
       "      <td>1.875507</td>\n",
       "      <td>656.0</td>\n",
       "      <td>0.001739</td>\n",
       "      <td>0.001188</td>\n",
       "      <td>True</td>\n",
       "      <td>0.179354</td>\n",
       "      <td>2.975205</td>\n",
       "    </tr>\n",
       "    <tr>\n",
       "      <th>12</th>\n",
       "      <td>32</td>\n",
       "      <td>11</td>\n",
       "      <td>0.026217</td>\n",
       "      <td>0.006473</td>\n",
       "      <td>True</td>\n",
       "      <td>0.526812</td>\n",
       "      <td>0.291150</td>\n",
       "      <td>11</td>\n",
       "      <td>0.026217</td>\n",
       "      <td>0.006473</td>\n",
       "      <td>...</td>\n",
       "      <td>0.002621</td>\n",
       "      <td>True</td>\n",
       "      <td>0.526812</td>\n",
       "      <td>0.364510</td>\n",
       "      <td>39.0</td>\n",
       "      <td>0.007814</td>\n",
       "      <td>0.002150</td>\n",
       "      <td>True</td>\n",
       "      <td>0.526812</td>\n",
       "      <td>0.405354</td>\n",
       "    </tr>\n",
       "    <tr>\n",
       "      <th>13</th>\n",
       "      <td>33</td>\n",
       "      <td>50</td>\n",
       "      <td>0.036001</td>\n",
       "      <td>0.013597</td>\n",
       "      <td>False</td>\n",
       "      <td>0.261683</td>\n",
       "      <td>0.152471</td>\n",
       "      <td>68</td>\n",
       "      <td>0.020474</td>\n",
       "      <td>0.007146</td>\n",
       "      <td>...</td>\n",
       "      <td>0.001347</td>\n",
       "      <td>True</td>\n",
       "      <td>0.261683</td>\n",
       "      <td>1.548983</td>\n",
       "      <td>1329.0</td>\n",
       "      <td>0.000391</td>\n",
       "      <td>0.000205</td>\n",
       "      <td>True</td>\n",
       "      <td>0.261683</td>\n",
       "      <td>2.609653</td>\n",
       "    </tr>\n",
       "    <tr>\n",
       "      <th>14</th>\n",
       "      <td>36</td>\n",
       "      <td>10</td>\n",
       "      <td>0.036999</td>\n",
       "      <td>0.004322</td>\n",
       "      <td>True</td>\n",
       "      <td>0.192198</td>\n",
       "      <td>0.024200</td>\n",
       "      <td>11</td>\n",
       "      <td>0.036430</td>\n",
       "      <td>0.004124</td>\n",
       "      <td>...</td>\n",
       "      <td>0.000450</td>\n",
       "      <td>True</td>\n",
       "      <td>0.192198</td>\n",
       "      <td>0.289592</td>\n",
       "      <td>198.0</td>\n",
       "      <td>0.001907</td>\n",
       "      <td>0.000752</td>\n",
       "      <td>True</td>\n",
       "      <td>0.192198</td>\n",
       "      <td>0.393709</td>\n",
       "    </tr>\n",
       "    <tr>\n",
       "      <th>15</th>\n",
       "      <td>38</td>\n",
       "      <td>11</td>\n",
       "      <td>0.012864</td>\n",
       "      <td>0.014376</td>\n",
       "      <td>False</td>\n",
       "      <td>0.175294</td>\n",
       "      <td>0.025823</td>\n",
       "      <td>11</td>\n",
       "      <td>0.012864</td>\n",
       "      <td>0.014376</td>\n",
       "      <td>...</td>\n",
       "      <td>0.001508</td>\n",
       "      <td>True</td>\n",
       "      <td>0.175294</td>\n",
       "      <td>0.134739</td>\n",
       "      <td>109.0</td>\n",
       "      <td>0.001232</td>\n",
       "      <td>0.000323</td>\n",
       "      <td>True</td>\n",
       "      <td>0.175294</td>\n",
       "      <td>0.253697</td>\n",
       "    </tr>\n",
       "    <tr>\n",
       "      <th>16</th>\n",
       "      <td>44</td>\n",
       "      <td>12</td>\n",
       "      <td>0.030686</td>\n",
       "      <td>0.009189</td>\n",
       "      <td>True</td>\n",
       "      <td>0.283056</td>\n",
       "      <td>0.042895</td>\n",
       "      <td>14</td>\n",
       "      <td>0.027719</td>\n",
       "      <td>0.008598</td>\n",
       "      <td>...</td>\n",
       "      <td>0.001985</td>\n",
       "      <td>True</td>\n",
       "      <td>0.283056</td>\n",
       "      <td>0.234926</td>\n",
       "      <td>106.0</td>\n",
       "      <td>0.002491</td>\n",
       "      <td>0.000552</td>\n",
       "      <td>True</td>\n",
       "      <td>0.283056</td>\n",
       "      <td>0.375408</td>\n",
       "    </tr>\n",
       "    <tr>\n",
       "      <th>17</th>\n",
       "      <td>46</td>\n",
       "      <td>41</td>\n",
       "      <td>0.023754</td>\n",
       "      <td>0.014330</td>\n",
       "      <td>False</td>\n",
       "      <td>0.313256</td>\n",
       "      <td>0.196462</td>\n",
       "      <td>55</td>\n",
       "      <td>0.019005</td>\n",
       "      <td>0.008483</td>\n",
       "      <td>...</td>\n",
       "      <td>0.000867</td>\n",
       "      <td>True</td>\n",
       "      <td>0.313256</td>\n",
       "      <td>1.427077</td>\n",
       "      <td>821.0</td>\n",
       "      <td>0.000497</td>\n",
       "      <td>0.000671</td>\n",
       "      <td>True</td>\n",
       "      <td>0.313256</td>\n",
       "      <td>2.141871</td>\n",
       "    </tr>\n",
       "    <tr>\n",
       "      <th>18</th>\n",
       "      <td>54</td>\n",
       "      <td>41</td>\n",
       "      <td>0.026393</td>\n",
       "      <td>0.010056</td>\n",
       "      <td>False</td>\n",
       "      <td>0.324733</td>\n",
       "      <td>0.148740</td>\n",
       "      <td>52</td>\n",
       "      <td>0.022559</td>\n",
       "      <td>0.014514</td>\n",
       "      <td>...</td>\n",
       "      <td>0.002859</td>\n",
       "      <td>True</td>\n",
       "      <td>0.324733</td>\n",
       "      <td>1.244035</td>\n",
       "      <td>863.0</td>\n",
       "      <td>0.000094</td>\n",
       "      <td>0.000824</td>\n",
       "      <td>True</td>\n",
       "      <td>0.324733</td>\n",
       "      <td>2.035265</td>\n",
       "    </tr>\n",
       "    <tr>\n",
       "      <th>19</th>\n",
       "      <td>57</td>\n",
       "      <td>13</td>\n",
       "      <td>0.008861</td>\n",
       "      <td>0.003604</td>\n",
       "      <td>True</td>\n",
       "      <td>0.228737</td>\n",
       "      <td>0.038137</td>\n",
       "      <td>13</td>\n",
       "      <td>0.008861</td>\n",
       "      <td>0.003604</td>\n",
       "      <td>...</td>\n",
       "      <td>0.000723</td>\n",
       "      <td>True</td>\n",
       "      <td>0.228737</td>\n",
       "      <td>0.323071</td>\n",
       "      <td>204.0</td>\n",
       "      <td>0.000529</td>\n",
       "      <td>0.000709</td>\n",
       "      <td>True</td>\n",
       "      <td>0.228737</td>\n",
       "      <td>0.482910</td>\n",
       "    </tr>\n",
       "    <tr>\n",
       "      <th>20</th>\n",
       "      <td>60</td>\n",
       "      <td>39</td>\n",
       "      <td>0.029563</td>\n",
       "      <td>0.011636</td>\n",
       "      <td>False</td>\n",
       "      <td>0.864617</td>\n",
       "      <td>0.367684</td>\n",
       "      <td>44</td>\n",
       "      <td>0.025208</td>\n",
       "      <td>0.009488</td>\n",
       "      <td>...</td>\n",
       "      <td>0.002425</td>\n",
       "      <td>True</td>\n",
       "      <td>0.864617</td>\n",
       "      <td>1.227326</td>\n",
       "      <td>210.0</td>\n",
       "      <td>0.003508</td>\n",
       "      <td>0.000554</td>\n",
       "      <td>True</td>\n",
       "      <td>0.864617</td>\n",
       "      <td>1.685435</td>\n",
       "    </tr>\n",
       "    <tr>\n",
       "      <th>21</th>\n",
       "      <td>61</td>\n",
       "      <td>10</td>\n",
       "      <td>0.018129</td>\n",
       "      <td>0.014908</td>\n",
       "      <td>False</td>\n",
       "      <td>0.204722</td>\n",
       "      <td>0.023423</td>\n",
       "      <td>16</td>\n",
       "      <td>0.002880</td>\n",
       "      <td>0.018097</td>\n",
       "      <td>...</td>\n",
       "      <td>0.000210</td>\n",
       "      <td>True</td>\n",
       "      <td>0.204722</td>\n",
       "      <td>0.964300</td>\n",
       "      <td>1059.0</td>\n",
       "      <td>0.000278</td>\n",
       "      <td>0.000171</td>\n",
       "      <td>True</td>\n",
       "      <td>0.204722</td>\n",
       "      <td>1.578005</td>\n",
       "    </tr>\n",
       "    <tr>\n",
       "      <th>22</th>\n",
       "      <td>179</td>\n",
       "      <td>14</td>\n",
       "      <td>0.033448</td>\n",
       "      <td>0.009554</td>\n",
       "      <td>True</td>\n",
       "      <td>5.142925</td>\n",
       "      <td>2.336165</td>\n",
       "      <td>15</td>\n",
       "      <td>0.030545</td>\n",
       "      <td>0.008588</td>\n",
       "      <td>...</td>\n",
       "      <td>0.005399</td>\n",
       "      <td>True</td>\n",
       "      <td>5.142925</td>\n",
       "      <td>2.727174</td>\n",
       "      <td>27.0</td>\n",
       "      <td>0.013795</td>\n",
       "      <td>0.004471</td>\n",
       "      <td>True</td>\n",
       "      <td>5.142925</td>\n",
       "      <td>2.897423</td>\n",
       "    </tr>\n",
       "    <tr>\n",
       "      <th>23</th>\n",
       "      <td>181</td>\n",
       "      <td>60</td>\n",
       "      <td>0.026829</td>\n",
       "      <td>0.007432</td>\n",
       "      <td>True</td>\n",
       "      <td>1.195943</td>\n",
       "      <td>0.748215</td>\n",
       "      <td>71</td>\n",
       "      <td>0.023054</td>\n",
       "      <td>0.005822</td>\n",
       "      <td>...</td>\n",
       "      <td>0.000157</td>\n",
       "      <td>True</td>\n",
       "      <td>1.195943</td>\n",
       "      <td>1.603966</td>\n",
       "      <td>598.0</td>\n",
       "      <td>0.001567</td>\n",
       "      <td>0.001443</td>\n",
       "      <td>True</td>\n",
       "      <td>1.195943</td>\n",
       "      <td>1.925275</td>\n",
       "    </tr>\n",
       "    <tr>\n",
       "      <th>24</th>\n",
       "      <td>182</td>\n",
       "      <td>19</td>\n",
       "      <td>0.032078</td>\n",
       "      <td>0.011516</td>\n",
       "      <td>False</td>\n",
       "      <td>0.475302</td>\n",
       "      <td>0.109132</td>\n",
       "      <td>22</td>\n",
       "      <td>0.028072</td>\n",
       "      <td>0.009107</td>\n",
       "      <td>...</td>\n",
       "      <td>0.002506</td>\n",
       "      <td>True</td>\n",
       "      <td>0.475302</td>\n",
       "      <td>0.388102</td>\n",
       "      <td>90.0</td>\n",
       "      <td>0.005695</td>\n",
       "      <td>0.000892</td>\n",
       "      <td>True</td>\n",
       "      <td>0.475302</td>\n",
       "      <td>0.513150</td>\n",
       "    </tr>\n",
       "    <tr>\n",
       "      <th>25</th>\n",
       "      <td>185</td>\n",
       "      <td>12</td>\n",
       "      <td>0.024236</td>\n",
       "      <td>0.005846</td>\n",
       "      <td>True</td>\n",
       "      <td>0.199063</td>\n",
       "      <td>0.029438</td>\n",
       "      <td>12</td>\n",
       "      <td>0.024236</td>\n",
       "      <td>0.005846</td>\n",
       "      <td>...</td>\n",
       "      <td>0.001857</td>\n",
       "      <td>True</td>\n",
       "      <td>0.199063</td>\n",
       "      <td>0.241822</td>\n",
       "      <td>163.0</td>\n",
       "      <td>0.001023</td>\n",
       "      <td>0.001894</td>\n",
       "      <td>True</td>\n",
       "      <td>0.199063</td>\n",
       "      <td>0.362158</td>\n",
       "    </tr>\n",
       "    <tr>\n",
       "      <th>26</th>\n",
       "      <td>188</td>\n",
       "      <td>64</td>\n",
       "      <td>0.028357</td>\n",
       "      <td>0.013427</td>\n",
       "      <td>False</td>\n",
       "      <td>0.342033</td>\n",
       "      <td>0.251600</td>\n",
       "      <td>80</td>\n",
       "      <td>0.023276</td>\n",
       "      <td>0.010152</td>\n",
       "      <td>...</td>\n",
       "      <td>0.002002</td>\n",
       "      <td>True</td>\n",
       "      <td>0.342033</td>\n",
       "      <td>1.641066</td>\n",
       "      <td>1057.0</td>\n",
       "      <td>0.002044</td>\n",
       "      <td>0.000418</td>\n",
       "      <td>True</td>\n",
       "      <td>0.342033</td>\n",
       "      <td>2.608828</td>\n",
       "    </tr>\n",
       "    <tr>\n",
       "      <th>27</th>\n",
       "      <td>351</td>\n",
       "      <td>10</td>\n",
       "      <td>0.015989</td>\n",
       "      <td>0.004501</td>\n",
       "      <td>True</td>\n",
       "      <td>394.978027</td>\n",
       "      <td>158.912134</td>\n",
       "      <td>10</td>\n",
       "      <td>0.015989</td>\n",
       "      <td>0.004501</td>\n",
       "      <td>...</td>\n",
       "      <td>0.004097</td>\n",
       "      <td>True</td>\n",
       "      <td>394.978027</td>\n",
       "      <td>161.638283</td>\n",
       "      <td>14.0</td>\n",
       "      <td>0.010665</td>\n",
       "      <td>0.003254</td>\n",
       "      <td>True</td>\n",
       "      <td>394.978027</td>\n",
       "      <td>169.639751</td>\n",
       "    </tr>\n",
       "    <tr>\n",
       "      <th>28</th>\n",
       "      <td>357</td>\n",
       "      <td>22</td>\n",
       "      <td>0.026785</td>\n",
       "      <td>0.007215</td>\n",
       "      <td>True</td>\n",
       "      <td>991.071292</td>\n",
       "      <td>439.253640</td>\n",
       "      <td>23</td>\n",
       "      <td>0.025134</td>\n",
       "      <td>0.006865</td>\n",
       "      <td>...</td>\n",
       "      <td>0.003893</td>\n",
       "      <td>True</td>\n",
       "      <td>991.071292</td>\n",
       "      <td>517.294149</td>\n",
       "      <td>38.0</td>\n",
       "      <td>0.012173</td>\n",
       "      <td>0.003490</td>\n",
       "      <td>True</td>\n",
       "      <td>991.071292</td>\n",
       "      <td>552.778908</td>\n",
       "    </tr>\n",
       "    <tr>\n",
       "      <th>29</th>\n",
       "      <td>389</td>\n",
       "      <td>64</td>\n",
       "      <td>0.024781</td>\n",
       "      <td>0.017761</td>\n",
       "      <td>False</td>\n",
       "      <td>5.013582</td>\n",
       "      <td>3.380882</td>\n",
       "      <td>76</td>\n",
       "      <td>0.018853</td>\n",
       "      <td>0.015269</td>\n",
       "      <td>...</td>\n",
       "      <td>0.002142</td>\n",
       "      <td>True</td>\n",
       "      <td>5.013582</td>\n",
       "      <td>15.065208</td>\n",
       "      <td>802.0</td>\n",
       "      <td>0.000287</td>\n",
       "      <td>0.001839</td>\n",
       "      <td>True</td>\n",
       "      <td>5.013582</td>\n",
       "      <td>22.836455</td>\n",
       "    </tr>\n",
       "    <tr>\n",
       "      <th>30</th>\n",
       "      <td>391</td>\n",
       "      <td>55</td>\n",
       "      <td>0.023449</td>\n",
       "      <td>0.011827</td>\n",
       "      <td>False</td>\n",
       "      <td>4.065800</td>\n",
       "      <td>2.348215</td>\n",
       "      <td>70</td>\n",
       "      <td>0.017686</td>\n",
       "      <td>0.008815</td>\n",
       "      <td>...</td>\n",
       "      <td>0.001474</td>\n",
       "      <td>True</td>\n",
       "      <td>4.065800</td>\n",
       "      <td>11.561123</td>\n",
       "      <td>838.0</td>\n",
       "      <td>0.000719</td>\n",
       "      <td>0.000170</td>\n",
       "      <td>True</td>\n",
       "      <td>4.065800</td>\n",
       "      <td>17.997434</td>\n",
       "    </tr>\n",
       "    <tr>\n",
       "      <th>31</th>\n",
       "      <td>392</td>\n",
       "      <td>68</td>\n",
       "      <td>0.014509</td>\n",
       "      <td>0.015150</td>\n",
       "      <td>False</td>\n",
       "      <td>4.699976</td>\n",
       "      <td>3.286415</td>\n",
       "      <td>100</td>\n",
       "      <td>0.014874</td>\n",
       "      <td>0.011551</td>\n",
       "      <td>...</td>\n",
       "      <td>0.000306</td>\n",
       "      <td>True</td>\n",
       "      <td>4.699976</td>\n",
       "      <td>27.125152</td>\n",
       "      <td>1932.0</td>\n",
       "      <td>0.000347</td>\n",
       "      <td>0.000224</td>\n",
       "      <td>True</td>\n",
       "      <td>4.699976</td>\n",
       "      <td>44.370768</td>\n",
       "    </tr>\n",
       "    <tr>\n",
       "      <th>32</th>\n",
       "      <td>395</td>\n",
       "      <td>66</td>\n",
       "      <td>0.019707</td>\n",
       "      <td>0.016725</td>\n",
       "      <td>False</td>\n",
       "      <td>15.717375</td>\n",
       "      <td>10.548633</td>\n",
       "      <td>86</td>\n",
       "      <td>0.012621</td>\n",
       "      <td>0.015750</td>\n",
       "      <td>...</td>\n",
       "      <td>0.002768</td>\n",
       "      <td>True</td>\n",
       "      <td>15.717375</td>\n",
       "      <td>43.765376</td>\n",
       "      <td>1365.0</td>\n",
       "      <td>0.000898</td>\n",
       "      <td>0.001116</td>\n",
       "      <td>True</td>\n",
       "      <td>15.717375</td>\n",
       "      <td>62.085882</td>\n",
       "    </tr>\n",
       "    <tr>\n",
       "      <th>33</th>\n",
       "      <td>396</td>\n",
       "      <td>57</td>\n",
       "      <td>0.026785</td>\n",
       "      <td>0.011427</td>\n",
       "      <td>False</td>\n",
       "      <td>38.305521</td>\n",
       "      <td>22.500102</td>\n",
       "      <td>66</td>\n",
       "      <td>0.021240</td>\n",
       "      <td>0.011151</td>\n",
       "      <td>...</td>\n",
       "      <td>0.002067</td>\n",
       "      <td>True</td>\n",
       "      <td>38.305521</td>\n",
       "      <td>110.819916</td>\n",
       "      <td>593.0</td>\n",
       "      <td>0.000466</td>\n",
       "      <td>0.000714</td>\n",
       "      <td>True</td>\n",
       "      <td>38.305521</td>\n",
       "      <td>159.002057</td>\n",
       "    </tr>\n",
       "    <tr>\n",
       "      <th>34</th>\n",
       "      <td>398</td>\n",
       "      <td>70</td>\n",
       "      <td>0.029247</td>\n",
       "      <td>0.002184</td>\n",
       "      <td>True</td>\n",
       "      <td>11.084650</td>\n",
       "      <td>8.079253</td>\n",
       "      <td>83</td>\n",
       "      <td>0.024484</td>\n",
       "      <td>0.000732</td>\n",
       "      <td>...</td>\n",
       "      <td>0.001785</td>\n",
       "      <td>True</td>\n",
       "      <td>11.084650</td>\n",
       "      <td>33.943155</td>\n",
       "      <td>840.0</td>\n",
       "      <td>0.000190</td>\n",
       "      <td>0.001884</td>\n",
       "      <td>True</td>\n",
       "      <td>11.084650</td>\n",
       "      <td>48.614763</td>\n",
       "    </tr>\n",
       "    <tr>\n",
       "      <th>35</th>\n",
       "      <td>401</td>\n",
       "      <td>80</td>\n",
       "      <td>0.007574</td>\n",
       "      <td>0.017414</td>\n",
       "      <td>False</td>\n",
       "      <td>3.388052</td>\n",
       "      <td>2.851561</td>\n",
       "      <td>110</td>\n",
       "      <td>0.002406</td>\n",
       "      <td>0.012237</td>\n",
       "      <td>...</td>\n",
       "      <td>0.001473</td>\n",
       "      <td>True</td>\n",
       "      <td>3.388052</td>\n",
       "      <td>18.421017</td>\n",
       "      <td>1885.0</td>\n",
       "      <td>0.001520</td>\n",
       "      <td>0.000983</td>\n",
       "      <td>True</td>\n",
       "      <td>3.388052</td>\n",
       "      <td>29.543531</td>\n",
       "    </tr>\n",
       "    <tr>\n",
       "      <th>36</th>\n",
       "      <td>679</td>\n",
       "      <td>26</td>\n",
       "      <td>0.007980</td>\n",
       "      <td>0.006273</td>\n",
       "      <td>True</td>\n",
       "      <td>9.089830</td>\n",
       "      <td>2.375377</td>\n",
       "      <td>32</td>\n",
       "      <td>0.008113</td>\n",
       "      <td>0.009444</td>\n",
       "      <td>...</td>\n",
       "      <td>0.000479</td>\n",
       "      <td>True</td>\n",
       "      <td>9.089830</td>\n",
       "      <td>10.340787</td>\n",
       "      <td>438.0</td>\n",
       "      <td>0.000588</td>\n",
       "      <td>0.001630</td>\n",
       "      <td>True</td>\n",
       "      <td>9.089830</td>\n",
       "      <td>11.683794</td>\n",
       "    </tr>\n",
       "    <tr>\n",
       "      <th>37</th>\n",
       "      <td>715</td>\n",
       "      <td>44</td>\n",
       "      <td>0.020284</td>\n",
       "      <td>0.009609</td>\n",
       "      <td>True</td>\n",
       "      <td>1.403553</td>\n",
       "      <td>0.634407</td>\n",
       "      <td>61</td>\n",
       "      <td>0.012022</td>\n",
       "      <td>0.002313</td>\n",
       "      <td>...</td>\n",
       "      <td>0.001100</td>\n",
       "      <td>True</td>\n",
       "      <td>1.403553</td>\n",
       "      <td>7.889626</td>\n",
       "      <td>1614.0</td>\n",
       "      <td>0.000081</td>\n",
       "      <td>0.000041</td>\n",
       "      <td>True</td>\n",
       "      <td>1.403553</td>\n",
       "      <td>13.007262</td>\n",
       "    </tr>\n",
       "    <tr>\n",
       "      <th>39</th>\n",
       "      <td>720</td>\n",
       "      <td>28</td>\n",
       "      <td>0.022286</td>\n",
       "      <td>0.011129</td>\n",
       "      <td>False</td>\n",
       "      <td>2.881260</td>\n",
       "      <td>0.950403</td>\n",
       "      <td>30</td>\n",
       "      <td>0.020727</td>\n",
       "      <td>0.010914</td>\n",
       "      <td>...</td>\n",
       "      <td>0.001937</td>\n",
       "      <td>True</td>\n",
       "      <td>2.881260</td>\n",
       "      <td>3.840398</td>\n",
       "      <td>164.0</td>\n",
       "      <td>0.000657</td>\n",
       "      <td>0.001493</td>\n",
       "      <td>True</td>\n",
       "      <td>2.881260</td>\n",
       "      <td>5.784108</td>\n",
       "    </tr>\n",
       "    <tr>\n",
       "      <th>40</th>\n",
       "      <td>722</td>\n",
       "      <td>11</td>\n",
       "      <td>0.021502</td>\n",
       "      <td>0.003940</td>\n",
       "      <td>True</td>\n",
       "      <td>5.697229</td>\n",
       "      <td>2.864402</td>\n",
       "      <td>11</td>\n",
       "      <td>0.021502</td>\n",
       "      <td>0.003940</td>\n",
       "      <td>...</td>\n",
       "      <td>0.001035</td>\n",
       "      <td>True</td>\n",
       "      <td>5.697229</td>\n",
       "      <td>4.204648</td>\n",
       "      <td>82.0</td>\n",
       "      <td>0.001639</td>\n",
       "      <td>0.000133</td>\n",
       "      <td>True</td>\n",
       "      <td>5.697229</td>\n",
       "      <td>5.281510</td>\n",
       "    </tr>\n",
       "    <tr>\n",
       "      <th>41</th>\n",
       "      <td>723</td>\n",
       "      <td>51</td>\n",
       "      <td>0.024017</td>\n",
       "      <td>0.000150</td>\n",
       "      <td>True</td>\n",
       "      <td>1.404964</td>\n",
       "      <td>0.735850</td>\n",
       "      <td>71</td>\n",
       "      <td>0.019543</td>\n",
       "      <td>0.002897</td>\n",
       "      <td>...</td>\n",
       "      <td>0.000913</td>\n",
       "      <td>True</td>\n",
       "      <td>1.404964</td>\n",
       "      <td>8.314528</td>\n",
       "      <td>1654.0</td>\n",
       "      <td>0.000526</td>\n",
       "      <td>0.000048</td>\n",
       "      <td>True</td>\n",
       "      <td>1.404964</td>\n",
       "      <td>13.293545</td>\n",
       "    </tr>\n",
       "    <tr>\n",
       "      <th>42</th>\n",
       "      <td>727</td>\n",
       "      <td>12</td>\n",
       "      <td>0.019219</td>\n",
       "      <td>0.005474</td>\n",
       "      <td>True</td>\n",
       "      <td>9.405461</td>\n",
       "      <td>4.386584</td>\n",
       "      <td>12</td>\n",
       "      <td>0.019219</td>\n",
       "      <td>0.005474</td>\n",
       "      <td>...</td>\n",
       "      <td>0.003346</td>\n",
       "      <td>True</td>\n",
       "      <td>9.405461</td>\n",
       "      <td>4.770183</td>\n",
       "      <td>22.0</td>\n",
       "      <td>0.008813</td>\n",
       "      <td>0.002613</td>\n",
       "      <td>True</td>\n",
       "      <td>9.405461</td>\n",
       "      <td>5.012993</td>\n",
       "    </tr>\n",
       "    <tr>\n",
       "      <th>43</th>\n",
       "      <td>728</td>\n",
       "      <td>15</td>\n",
       "      <td>0.001650</td>\n",
       "      <td>0.000726</td>\n",
       "      <td>True</td>\n",
       "      <td>1.373257</td>\n",
       "      <td>0.215901</td>\n",
       "      <td>15</td>\n",
       "      <td>0.001650</td>\n",
       "      <td>0.000726</td>\n",
       "      <td>...</td>\n",
       "      <td>0.000726</td>\n",
       "      <td>True</td>\n",
       "      <td>1.373257</td>\n",
       "      <td>0.215901</td>\n",
       "      <td>15.0</td>\n",
       "      <td>0.001650</td>\n",
       "      <td>0.000726</td>\n",
       "      <td>True</td>\n",
       "      <td>1.373257</td>\n",
       "      <td>0.215901</td>\n",
       "    </tr>\n",
       "    <tr>\n",
       "      <th>44</th>\n",
       "      <td>734</td>\n",
       "      <td>25</td>\n",
       "      <td>0.022105</td>\n",
       "      <td>0.011955</td>\n",
       "      <td>False</td>\n",
       "      <td>9.446098</td>\n",
       "      <td>5.726236</td>\n",
       "      <td>29</td>\n",
       "      <td>0.019433</td>\n",
       "      <td>0.009988</td>\n",
       "      <td>...</td>\n",
       "      <td>0.002292</td>\n",
       "      <td>True</td>\n",
       "      <td>9.446098</td>\n",
       "      <td>10.477241</td>\n",
       "      <td>162.0</td>\n",
       "      <td>0.001579</td>\n",
       "      <td>0.001761</td>\n",
       "      <td>True</td>\n",
       "      <td>9.446098</td>\n",
       "      <td>12.958302</td>\n",
       "    </tr>\n",
       "    <tr>\n",
       "      <th>45</th>\n",
       "      <td>735</td>\n",
       "      <td>12</td>\n",
       "      <td>0.036361</td>\n",
       "      <td>0.016027</td>\n",
       "      <td>False</td>\n",
       "      <td>5.114622</td>\n",
       "      <td>0.623381</td>\n",
       "      <td>13</td>\n",
       "      <td>0.035008</td>\n",
       "      <td>0.014731</td>\n",
       "      <td>...</td>\n",
       "      <td>0.005194</td>\n",
       "      <td>True</td>\n",
       "      <td>5.114622</td>\n",
       "      <td>2.026542</td>\n",
       "      <td>58.0</td>\n",
       "      <td>0.006520</td>\n",
       "      <td>0.003050</td>\n",
       "      <td>True</td>\n",
       "      <td>5.114622</td>\n",
       "      <td>3.014351</td>\n",
       "    </tr>\n",
       "    <tr>\n",
       "      <th>46</th>\n",
       "      <td>737</td>\n",
       "      <td>27</td>\n",
       "      <td>0.026317</td>\n",
       "      <td>0.009232</td>\n",
       "      <td>True</td>\n",
       "      <td>2.543709</td>\n",
       "      <td>0.701798</td>\n",
       "      <td>32</td>\n",
       "      <td>0.019995</td>\n",
       "      <td>0.008743</td>\n",
       "      <td>...</td>\n",
       "      <td>0.002122</td>\n",
       "      <td>True</td>\n",
       "      <td>2.543709</td>\n",
       "      <td>3.261556</td>\n",
       "      <td>199.0</td>\n",
       "      <td>0.000897</td>\n",
       "      <td>0.001222</td>\n",
       "      <td>True</td>\n",
       "      <td>2.543709</td>\n",
       "      <td>4.424769</td>\n",
       "    </tr>\n",
       "  </tbody>\n",
       "</table>\n",
       "<p>46 rows × 67 columns</p>\n",
       "</div>"
      ],
      "text/plain": [
       "   openmlid  t_0.1  oob_val_0.1  gap_val_0.1  ok_0.1  time_100_0.1  \\\n",
       "0         3     10     0.026564     0.003181    True      1.075290   \n",
       "1        14     54     0.022319     0.010370   False      0.354864   \n",
       "2        16     60     0.024309     0.011886   False      0.350425   \n",
       "3        18     32     0.029082     0.007564    True      0.228633   \n",
       "4        21     32     0.023299     0.010071   False      0.123453   \n",
       "5        22     50     0.019875     0.008199    True      0.311194   \n",
       "6        23     53     0.018700     0.016328   False      0.140440   \n",
       "7        24     13     0.000556     0.000029    True      0.360464   \n",
       "8        26     20     0.023537     0.008507    True      0.460104   \n",
       "9        28     27     0.023334     0.010761   False      0.547024   \n",
       "10       30     12     0.009758     0.004078    True      0.457011   \n",
       "11       31     42     0.019148     0.013927   False      0.179354   \n",
       "12       32     11     0.026217     0.006473    True      0.526812   \n",
       "13       33     50     0.036001     0.013597   False      0.261683   \n",
       "14       36     10     0.036999     0.004322    True      0.192198   \n",
       "15       38     11     0.012864     0.014376   False      0.175294   \n",
       "16       44     12     0.030686     0.009189    True      0.283056   \n",
       "17       46     41     0.023754     0.014330   False      0.313256   \n",
       "18       54     41     0.026393     0.010056   False      0.324733   \n",
       "19       57     13     0.008861     0.003604    True      0.228737   \n",
       "20       60     39     0.029563     0.011636   False      0.864617   \n",
       "21       61     10     0.018129     0.014908   False      0.204722   \n",
       "22      179     14     0.033448     0.009554    True      5.142925   \n",
       "23      181     60     0.026829     0.007432    True      1.195943   \n",
       "24      182     19     0.032078     0.011516   False      0.475302   \n",
       "25      185     12     0.024236     0.005846    True      0.199063   \n",
       "26      188     64     0.028357     0.013427   False      0.342033   \n",
       "27      351     10     0.015989     0.004501    True    394.978027   \n",
       "28      357     22     0.026785     0.007215    True    991.071292   \n",
       "29      389     64     0.024781     0.017761   False      5.013582   \n",
       "30      391     55     0.023449     0.011827   False      4.065800   \n",
       "31      392     68     0.014509     0.015150   False      4.699976   \n",
       "32      395     66     0.019707     0.016725   False     15.717375   \n",
       "33      396     57     0.026785     0.011427   False     38.305521   \n",
       "34      398     70     0.029247     0.002184    True     11.084650   \n",
       "35      401     80     0.007574     0.017414   False      3.388052   \n",
       "36      679     26     0.007980     0.006273    True      9.089830   \n",
       "37      715     44     0.020284     0.009609    True      1.403553   \n",
       "39      720     28     0.022286     0.011129   False      2.881260   \n",
       "40      722     11     0.021502     0.003940    True      5.697229   \n",
       "41      723     51     0.024017     0.000150    True      1.404964   \n",
       "42      727     12     0.019219     0.005474    True      9.405461   \n",
       "43      728     15     0.001650     0.000726    True      1.373257   \n",
       "44      734     25     0.022105     0.011955   False      9.446098   \n",
       "45      735     12     0.036361     0.016027   False      5.114622   \n",
       "46      737     27     0.026317     0.009232    True      2.543709   \n",
       "\n",
       "    time_asrf_0.1  t_0.2  oob_val_0.2  gap_val_0.2  ...  gap_val_0.95  \\\n",
       "0        0.113410     10     0.026564     0.003181  ...      0.000355   \n",
       "1        0.218839     64     0.019133     0.007310  ...      0.000908   \n",
       "2        0.241864     75     0.018876     0.007318  ...      0.000048   \n",
       "3        0.091084     37     0.023784     0.005812  ...      0.001524   \n",
       "4        0.052381     42     0.020930     0.007458  ...      0.000141   \n",
       "5        0.180822     59     0.017263     0.007455  ...      0.003775   \n",
       "6        0.095713     63     0.016125     0.011945  ...      0.001907   \n",
       "7        0.090813     13     0.000556     0.000029  ...      0.000029   \n",
       "8        0.311151     28     0.018757     0.005430  ...      0.000524   \n",
       "9        0.211848     32     0.021296     0.009240  ...      0.003671   \n",
       "10       0.063834     12     0.009758     0.004078  ...      0.004078   \n",
       "11       0.092903     51     0.015431     0.014018  ...      0.000930   \n",
       "12       0.291150     11     0.026217     0.006473  ...      0.002621   \n",
       "13       0.152471     68     0.020474     0.007146  ...      0.001347   \n",
       "14       0.024200     11     0.036430     0.004124  ...      0.000450   \n",
       "15       0.025823     11     0.012864     0.014376  ...      0.001508   \n",
       "16       0.042895     14     0.027719     0.008598  ...      0.001985   \n",
       "17       0.196462     55     0.019005     0.008483  ...      0.000867   \n",
       "18       0.148740     52     0.022559     0.014514  ...      0.002859   \n",
       "19       0.038137     13     0.008861     0.003604  ...      0.000723   \n",
       "20       0.367684     44     0.025208     0.009488  ...      0.002425   \n",
       "21       0.023423     16     0.002880     0.018097  ...      0.000210   \n",
       "22       2.336165     15     0.030545     0.008588  ...      0.005399   \n",
       "23       0.748215     71     0.023054     0.005822  ...      0.000157   \n",
       "24       0.109132     22     0.028072     0.009107  ...      0.002506   \n",
       "25       0.029438     12     0.024236     0.005846  ...      0.001857   \n",
       "26       0.251600     80     0.023276     0.010152  ...      0.002002   \n",
       "27     158.912134     10     0.015989     0.004501  ...      0.004097   \n",
       "28     439.253640     23     0.025134     0.006865  ...      0.003893   \n",
       "29       3.380882     76     0.018853     0.015269  ...      0.002142   \n",
       "30       2.348215     70     0.017686     0.008815  ...      0.001474   \n",
       "31       3.286415    100     0.014874     0.011551  ...      0.000306   \n",
       "32      10.548633     86     0.012621     0.015750  ...      0.002768   \n",
       "33      22.500102     66     0.021240     0.011151  ...      0.002067   \n",
       "34       8.079253     83     0.024484     0.000732  ...      0.001785   \n",
       "35       2.851561    110     0.002406     0.012237  ...      0.001473   \n",
       "36       2.375377     32     0.008113     0.009444  ...      0.000479   \n",
       "37       0.634407     61     0.012022     0.002313  ...      0.001100   \n",
       "39       0.950403     30     0.020727     0.010914  ...      0.001937   \n",
       "40       2.864402     11     0.021502     0.003940  ...      0.001035   \n",
       "41       0.735850     71     0.019543     0.002897  ...      0.000913   \n",
       "42       4.386584     12     0.019219     0.005474  ...      0.003346   \n",
       "43       0.215901     15     0.001650     0.000726  ...      0.000726   \n",
       "44       5.726236     29     0.019433     0.009988  ...      0.002292   \n",
       "45       0.623381     13     0.035008     0.014731  ...      0.005194   \n",
       "46       0.701798     32     0.019995     0.008743  ...      0.002122   \n",
       "\n",
       "    ok_0.95  time_100_0.95  time_asrf_0.95  t_0.99  oob_val_0.99  \\\n",
       "0      True       1.075290        1.261446   245.0      0.000161   \n",
       "1      True       0.354864        1.276616   695.0      0.000256   \n",
       "2      True       0.350425        1.581892   924.0      0.000227   \n",
       "3      True       0.228633        0.405789   253.0      0.003043   \n",
       "4      True       0.123453        0.547752   726.0      0.001194   \n",
       "5      True       0.311194        0.873987   538.0      0.001893   \n",
       "6      True       0.140440        0.472220   519.0      0.001007   \n",
       "7      True       0.360464        0.090813    13.0      0.000556   \n",
       "8      True       0.460104        1.064097   357.0      0.000303   \n",
       "9      True       0.547024        0.783791   191.0      0.003267   \n",
       "10     True       0.457011        0.063834    25.0      0.005797   \n",
       "11     True       0.179354        1.875507   656.0      0.001739   \n",
       "12     True       0.526812        0.364510    39.0      0.007814   \n",
       "13     True       0.261683        1.548983  1329.0      0.000391   \n",
       "14     True       0.192198        0.289592   198.0      0.001907   \n",
       "15     True       0.175294        0.134739   109.0      0.001232   \n",
       "16     True       0.283056        0.234926   106.0      0.002491   \n",
       "17     True       0.313256        1.427077   821.0      0.000497   \n",
       "18     True       0.324733        1.244035   863.0      0.000094   \n",
       "19     True       0.228737        0.323071   204.0      0.000529   \n",
       "20     True       0.864617        1.227326   210.0      0.003508   \n",
       "21     True       0.204722        0.964300  1059.0      0.000278   \n",
       "22     True       5.142925        2.727174    27.0      0.013795   \n",
       "23     True       1.195943        1.603966   598.0      0.001567   \n",
       "24     True       0.475302        0.388102    90.0      0.005695   \n",
       "25     True       0.199063        0.241822   163.0      0.001023   \n",
       "26     True       0.342033        1.641066  1057.0      0.002044   \n",
       "27     True     394.978027      161.638283    14.0      0.010665   \n",
       "28     True     991.071292      517.294149    38.0      0.012173   \n",
       "29     True       5.013582       15.065208   802.0      0.000287   \n",
       "30     True       4.065800       11.561123   838.0      0.000719   \n",
       "31     True       4.699976       27.125152  1932.0      0.000347   \n",
       "32     True      15.717375       43.765376  1365.0      0.000898   \n",
       "33     True      38.305521      110.819916   593.0      0.000466   \n",
       "34     True      11.084650       33.943155   840.0      0.000190   \n",
       "35     True       3.388052       18.421017  1885.0      0.001520   \n",
       "36     True       9.089830       10.340787   438.0      0.000588   \n",
       "37     True       1.403553        7.889626  1614.0      0.000081   \n",
       "39     True       2.881260        3.840398   164.0      0.000657   \n",
       "40     True       5.697229        4.204648    82.0      0.001639   \n",
       "41     True       1.404964        8.314528  1654.0      0.000526   \n",
       "42     True       9.405461        4.770183    22.0      0.008813   \n",
       "43     True       1.373257        0.215901    15.0      0.001650   \n",
       "44     True       9.446098       10.477241   162.0      0.001579   \n",
       "45     True       5.114622        2.026542    58.0      0.006520   \n",
       "46     True       2.543709        3.261556   199.0      0.000897   \n",
       "\n",
       "    gap_val_0.99  ok_0.99  time_100_0.99  time_asrf_0.99  \n",
       "0       0.000064     True       1.075290        1.429247  \n",
       "1       0.000311     True       0.354864        1.919868  \n",
       "2       0.000320     True       0.350425        2.366345  \n",
       "3       0.000949     True       0.228633        0.543736  \n",
       "4       0.000169     True       0.123453        0.853677  \n",
       "5       0.002219     True       0.311194        1.341830  \n",
       "6       0.000690     True       0.140440        0.702407  \n",
       "7       0.000029     True       0.360464        0.090813  \n",
       "8       0.000522     True       0.460104        1.496482  \n",
       "9       0.002160     True       0.547024        1.042683  \n",
       "10      0.002240     True       0.457011        0.132232  \n",
       "11      0.001188     True       0.179354        2.975205  \n",
       "12      0.002150     True       0.526812        0.405354  \n",
       "13      0.000205     True       0.261683        2.609653  \n",
       "14      0.000752     True       0.192198        0.393709  \n",
       "15      0.000323     True       0.175294        0.253697  \n",
       "16      0.000552     True       0.283056        0.375408  \n",
       "17      0.000671     True       0.313256        2.141871  \n",
       "18      0.000824     True       0.324733        2.035265  \n",
       "19      0.000709     True       0.228737        0.482910  \n",
       "20      0.000554     True       0.864617        1.685435  \n",
       "21      0.000171     True       0.204722        1.578005  \n",
       "22      0.004471     True       5.142925        2.897423  \n",
       "23      0.001443     True       1.195943        1.925275  \n",
       "24      0.000892     True       0.475302        0.513150  \n",
       "25      0.001894     True       0.199063        0.362158  \n",
       "26      0.000418     True       0.342033        2.608828  \n",
       "27      0.003254     True     394.978027      169.639751  \n",
       "28      0.003490     True     991.071292      552.778908  \n",
       "29      0.001839     True       5.013582       22.836455  \n",
       "30      0.000170     True       4.065800       17.997434  \n",
       "31      0.000224     True       4.699976       44.370768  \n",
       "32      0.001116     True      15.717375       62.085882  \n",
       "33      0.000714     True      38.305521      159.002057  \n",
       "34      0.001884     True      11.084650       48.614763  \n",
       "35      0.000983     True       3.388052       29.543531  \n",
       "36      0.001630     True       9.089830       11.683794  \n",
       "37      0.000041     True       1.403553       13.007262  \n",
       "39      0.001493     True       2.881260        5.784108  \n",
       "40      0.000133     True       5.697229        5.281510  \n",
       "41      0.000048     True       1.404964       13.293545  \n",
       "42      0.002613     True       9.405461        5.012993  \n",
       "43      0.000726     True       1.373257        0.215901  \n",
       "44      0.001761     True       9.446098       12.958302  \n",
       "45      0.003050     True       5.114622        3.014351  \n",
       "46      0.001222     True       2.543709        4.424769  \n",
       "\n",
       "[46 rows x 67 columns]"
      ]
     },
     "execution_count": 19,
     "metadata": {},
     "output_type": "execute_result"
    }
   ],
   "source": [
    "cols = [\"openmlid\"]\n",
    "for alpha in alphas:\n",
    "    cols.extend([f\"t_{alpha}\", f\"oob_val_{alpha}\", f\"gap_val_{alpha}\", f\"ok_{alpha}\", f\"time_100_{alpha}\", f\"time_asrf_{alpha}\"])\n",
    "df_results = pd.DataFrame(rows, columns=cols).dropna()\n",
    "df_results"
   ]
  },
  {
   "cell_type": "code",
   "execution_count": 29,
   "id": "ad3e7bee",
   "metadata": {
    "scrolled": false
   },
   "outputs": [
    {
     "data": {
      "image/png": "[encoded data removed]",
      "text/plain": [
       "<Figure size 640x480 with 1 Axes>"
      ]
     },
     "metadata": {},
     "output_type": "display_data"
    }
   ],
   "source": [
    "ok_proportion_by_alphas = [df_results[f\"ok_{alpha}\"].astype(int).mean() for alpha in alphas]\n",
    "fig, ax = plt.subplots()\n",
    "ax.plot(alphas, ok_proportion_by_alphas)\n",
    "ax.grid()\n",
    "ax.set_xlabel(\"$\\\\alpha$\")\n",
    "ax.set_ylabel(\"$\\\\mathbb{P}(|Z_t - \\\\mathbb{E}[Z_\\\\infty]| \\leq \\\\varepsilon$\")\n",
    "plt.show()"
   ]
  },
  {
   "cell_type": "code",
   "execution_count": 30,
   "id": "65dfe6c1",
   "metadata": {},
   "outputs": [
    {
     "data": {
      "image/png": "[encoded data removed]",
      "text/plain": [
       "<Figure size 1600x400 with 1 Axes>"
      ]
     },
     "metadata": {},
     "output_type": "display_data"
    },
    {
     "data": {
      "image/png": "[encoded data removed]",
      "text/plain": [
       "<Figure size 1600x400 with 1 Axes>"
      ]
     },
     "metadata": {},
     "output_type": "display_data"
    }
   ],
   "source": [
    "fig, ax = plt.subplots(figsize=(16, 4))\n",
    "df_results[[c for c in df_results.columns if \"gap_val\" in c]].boxplot(ax=ax)\n",
    "ax.axhline(eps_base, linestyle=\"-\", color=\"red\", linewidth=2)\n",
    "ax.set_title(\"Achieved validation gap\")\n",
    "plt.show()\n",
    "\n",
    "fig, ax = plt.subplots(figsize=(16, 4))\n",
    "df_results[[c for c in df_results.columns if \"t_\" in c]].boxplot(ax=ax)\n",
    "ax.axhline(100, linestyle=\"-\", color=\"red\", linewidth=2)\n",
    "ax.axhline(50, linestyle=\"-\", color=\"green\", linewidth=2)\n",
    "ax.set_yscale(\"log\")\n",
    "ax.set_title(\"Constructed Trees\")\n",
    "plt.show()"
   ]
  },
  {
   "cell_type": "code",
   "execution_count": 31,
   "id": "e938cd34",
   "metadata": {},
   "outputs": [
    {
     "name": "stderr",
     "output_type": "stream",
     "text": [
      "/tmp/ipykernel_23214/3742570544.py:18: UserWarning: All values for SymLogScale are below linthresh, making it effectively linear. You likely should lower the value of linthresh. \n",
      "  ax.axhline(-1, color=\"blue\", linestyle=\"--\")\n",
      "/tmp/ipykernel_23214/3742570544.py:19: UserWarning: All values for SymLogScale are below linthresh, making it effectively linear. You likely should lower the value of linthresh. \n",
      "  ax.axhline(0, color=\"green\", linestyle=\"--\")\n",
      "/tmp/ipykernel_23214/3742570544.py:20: UserWarning: All values for SymLogScale are below linthresh, making it effectively linear. You likely should lower the value of linthresh. \n",
      "  ax.axhline(1, color=\"orange\", linestyle=\"--\")\n"
     ]
    },
    {
     "data": {
      "image/png": "[encoded data removed]",
      "text/plain": [
       "<Figure size 1400x300 with 3 Axes>"
      ]
     },
     "metadata": {},
     "output_type": "display_data"
    }
   ],
   "source": [
    "runtimes_asrf = df_results[[c for c in df_results.columns if \"time_asrf\" in c]].values\n",
    "runtimes_baseline = df_results[\"time_100_0.1\"].values\n",
    "fig, axs = plt.subplots(1, 3, figsize=(14, 3))\n",
    "ax = axs[0]\n",
    "ax.boxplot([row / runtimes_baseline for row in runtimes_asrf.T])\n",
    "ax.set_xticklabels(alphas)\n",
    "ax.axhline(0.8, color=\"blue\", linestyle=\"--\")\n",
    "ax.axhline(1, color=\"green\", linestyle=\"--\")\n",
    "ax.axhline(1.1, color=\"yellow\", linestyle=\"--\")\n",
    "ax.axhline(1.25, color=\"orange\", linestyle=\"--\")\n",
    "ax.axhline(1.5, color=\"red\", linestyle=\"--\")\n",
    "ax.set_yscale(\"log\")\n",
    "\n",
    "ax = axs[1]\n",
    "ax.boxplot([row - runtimes_baseline for row in runtimes_asrf.T])\n",
    "ax.set_xticklabels(alphas)\n",
    "ax.set_yscale(\"symlog\")\n",
    "ax.axhline(-1, color=\"blue\", linestyle=\"--\")\n",
    "ax.axhline(0, color=\"green\", linestyle=\"--\")\n",
    "ax.axhline(1, color=\"orange\", linestyle=\"--\")\n",
    "ax.axhline(2, color=\"red\", linestyle=\"--\")\n",
    "\n",
    "ax = axs[2]\n",
    "ax.plot(alphas, np.array([row - runtimes_baseline for row in runtimes_asrf.T]).mean(axis=1))\n",
    "ax.axhline(-1, color=\"blue\", linestyle=\"--\")\n",
    "ax.axhline(0, color=\"green\", linestyle=\"--\")\n",
    "ax.axhline(1, color=\"orange\", linestyle=\"--\")\n",
    "ax.axhline(2, color=\"red\", linestyle=\"--\")\n",
    "ax.axvline(0.6, linestyle=\"dotted\", color=\"black\")\n",
    "ax.set_yscale(\"symlog\")\n",
    "plt.show()"
   ]
  },
  {
   "cell_type": "code",
   "execution_count": 33,
   "id": "94117f08",
   "metadata": {},
   "outputs": [],
   "source": [
    "\n",
    "idx = 5"
   ]
  },
  {
   "cell_type": "code",
   "execution_count": 34,
   "id": "d54220e7",
   "metadata": {},
   "outputs": [
    {
     "data": {
      "text/plain": [
       "{'whiskers': [<matplotlib.lines.Line2D at 0x7f5126f987c0>,\n",
       "  <matplotlib.lines.Line2D at 0x7f5126f995d0>],\n",
       " 'caps': [<matplotlib.lines.Line2D at 0x7f5126f98460>,\n",
       "  <matplotlib.lines.Line2D at 0x7f5126f980a0>],\n",
       " 'boxes': [<matplotlib.lines.Line2D at 0x7f5126f995a0>],\n",
       " 'medians': [<matplotlib.lines.Line2D at 0x7f5126f99cf0>],\n",
       " 'fliers': [<matplotlib.lines.Line2D at 0x7f5126f99f60>],\n",
       " 'means': []}"
      ]
     },
     "execution_count": 34,
     "metadata": {},
     "output_type": "execute_result"
    },
    {
     "data": {
      "image/png": "[encoded data removed]",
      "text/plain": [
       "<Figure size 640x480 with 1 Axes>"
      ]
     },
     "metadata": {},
     "output_type": "display_data"
    }
   ],
   "source": []
  },
  {
   "cell_type": "code",
   "execution_count": 38,
   "id": "d72f7aa1",
   "metadata": {
    "scrolled": false
   },
   "outputs": [
    {
     "name": "stdout",
     "output_type": "stream",
     "text": [
      "0.1\n"
     ]
    },
    {
     "data": {
      "image/png": "[encoded data removed]",
      "text/plain": [
       "<Figure size 640x480 with 1 Axes>"
      ]
     },
     "metadata": {},
     "output_type": "display_data"
    },
    {
     "data": {
      "image/png": "[encoded data removed]",
      "text/plain": [
       "<Figure size 1400x400 with 2 Axes>"
      ]
     },
     "metadata": {},
     "output_type": "display_data"
    },
    {
     "name": "stdout",
     "output_type": "stream",
     "text": [
      "0.2\n"
     ]
    },
    {
     "data": {
      "image/png": "[encoded data removed]",
      "text/plain": [
       "<Figure size 640x480 with 1 Axes>"
      ]
     },
     "metadata": {},
     "output_type": "display_data"
    },
    {
     "data": {
      "image/png": "[encoded data removed]",
      "text/plain": [
       "<Figure size 1400x400 with 2 Axes>"
      ]
     },
     "metadata": {},
     "output_type": "display_data"
    },
    {
     "name": "stdout",
     "output_type": "stream",
     "text": [
      "0.3\n"
     ]
    },
    {
     "data": {
      "image/png": "[encoded data removed]",
      "text/plain": [
       "<Figure size 640x480 with 1 Axes>"
      ]
     },
     "metadata": {},
     "output_type": "display_data"
    },
    {
     "data": {
      "image/png": "[encoded data removed]",
      "text/plain": [
       "<Figure size 1400x400 with 2 Axes>"
      ]
     },
     "metadata": {},
     "output_type": "display_data"
    },
    {
     "name": "stdout",
     "output_type": "stream",
     "text": [
      "0.4\n"
     ]
    },
    {
     "data": {
      "image/png": "[encoded data removed]",
      "text/plain": [
       "<Figure size 640x480 with 1 Axes>"
      ]
     },
     "metadata": {},
     "output_type": "display_data"
    },
    {
     "data": {
      "image/png": "[encoded data removed]",
      "text/plain": [
       "<Figure size 1400x400 with 2 Axes>"
      ]
     },
     "metadata": {},
     "output_type": "display_data"
    },
    {
     "name": "stdout",
     "output_type": "stream",
     "text": [
      "0.5\n"
     ]
    },
    {
     "data": {
      "image/png": "[encoded data removed]",
      "text/plain": [
       "<Figure size 640x480 with 1 Axes>"
      ]
     },
     "metadata": {},
     "output_type": "display_data"
    },
    {
     "data": {
      "image/png": "[encoded data removed]",
      "text/plain": [
       "<Figure size 1400x400 with 2 Axes>"
      ]
     },
     "metadata": {},
     "output_type": "display_data"
    },
    {
     "name": "stdout",
     "output_type": "stream",
     "text": [
      "0.6\n"
     ]
    },
    {
     "data": {
      "image/png": "[encoded data removed]",
      "text/plain": [
       "<Figure size 640x480 with 1 Axes>"
      ]
     },
     "metadata": {},
     "output_type": "display_data"
    },
    {
     "data": {
      "image/png": "[encoded data removed]",
      "text/plain": [
       "<Figure size 1400x400 with 2 Axes>"
      ]
     },
     "metadata": {},
     "output_type": "display_data"
    },
    {
     "name": "stdout",
     "output_type": "stream",
     "text": [
      "0.7\n"
     ]
    },
    {
     "data": {
      "image/png": "[encoded data removed]",
      "text/plain": [
       "<Figure size 640x480 with 1 Axes>"
      ]
     },
     "metadata": {},
     "output_type": "display_data"
    },
    {
     "data": {
      "image/png": "[encoded data removed]",
      "text/plain": [
       "<Figure size 1400x400 with 2 Axes>"
      ]
     },
     "metadata": {},
     "output_type": "display_data"
    },
    {
     "name": "stdout",
     "output_type": "stream",
     "text": [
      "0.8\n"
     ]
    },
    {
     "data": {
      "image/png": "[encoded data removed]",
      "text/plain": [
       "<Figure size 640x480 with 1 Axes>"
      ]
     },
     "metadata": {},
     "output_type": "display_data"
    },
    {
     "data": {
      "image/png": "[encoded data removed]",
      "text/plain": [
       "<Figure size 1400x400 with 2 Axes>"
      ]
     },
     "metadata": {},
     "output_type": "display_data"
    },
    {
     "name": "stdout",
     "output_type": "stream",
     "text": [
      "0.9\n"
     ]
    },
    {
     "data": {
      "image/png": "[encoded data removed]",
      "text/plain": [
       "<Figure size 640x480 with 1 Axes>"
      ]
     },
     "metadata": {},
     "output_type": "display_data"
    },
    {
     "data": {
      "image/png": "[encoded data removed]",
      "text/plain": [
       "<Figure size 1400x400 with 2 Axes>"
      ]
     },
     "metadata": {},
     "output_type": "display_data"
    },
    {
     "name": "stdout",
     "output_type": "stream",
     "text": [
      "0.95\n"
     ]
    },
    {
     "data": {
      "image/png": "[encoded data removed]",
      "text/plain": [
       "<Figure size 640x480 with 1 Axes>"
      ]
     },
     "metadata": {},
     "output_type": "display_data"
    },
    {
     "data": {
      "image/png": "[encoded data removed]",
      "text/plain": [
       "<Figure size 1400x400 with 2 Axes>"
      ]
     },
     "metadata": {},
     "output_type": "display_data"
    },
    {
     "name": "stdout",
     "output_type": "stream",
     "text": [
      "0.99\n"
     ]
    },
    {
     "ename": "IndexError",
     "evalue": "only integers, slices (`:`), ellipsis (`...`), numpy.newaxis (`None`) and integer or boolean arrays are valid indices",
     "output_type": "error",
     "traceback": [
      "\u001b[0;31m---------------------------------------------------------------------------\u001b[0m",
      "\u001b[0;31mIndexError\u001b[0m                                Traceback (most recent call last)",
      "Cell \u001b[0;32mIn[38], line 8\u001b[0m\n\u001b[1;32m      6\u001b[0m ax \u001b[38;5;241m=\u001b[39m axs[\u001b[38;5;241m0\u001b[39m]\n\u001b[1;32m      7\u001b[0m mask \u001b[38;5;241m=\u001b[39m df_results[\u001b[38;5;124mf\u001b[39m\u001b[38;5;124m\"\u001b[39m\u001b[38;5;124mok_\u001b[39m\u001b[38;5;132;01m{\u001b[39;00malpha\u001b[38;5;132;01m}\u001b[39;00m\u001b[38;5;124m\"\u001b[39m]\n\u001b[0;32m----> 8\u001b[0m ax\u001b[38;5;241m.\u001b[39mscatter(\u001b[43mruntimes_baseline\u001b[49m\u001b[43m[\u001b[49m\u001b[43mmask\u001b[49m\u001b[43m]\u001b[49m, runtimes_asrf[mask,idx], s\u001b[38;5;241m=\u001b[39m\u001b[38;5;241m20\u001b[39m)\n\u001b[1;32m      9\u001b[0m ax\u001b[38;5;241m.\u001b[39mscatter(runtimes_baseline[\u001b[38;5;241m~\u001b[39mmask], runtimes_asrf[\u001b[38;5;241m~\u001b[39mmask,idx], s\u001b[38;5;241m=\u001b[39m\u001b[38;5;241m20\u001b[39m)\n\u001b[1;32m     10\u001b[0m ax\u001b[38;5;241m.\u001b[39mset_xscale(\u001b[38;5;124m\"\u001b[39m\u001b[38;5;124mlog\u001b[39m\u001b[38;5;124m\"\u001b[39m)\n",
      "\u001b[0;31mIndexError\u001b[0m: only integers, slices (`:`), ellipsis (`...`), numpy.newaxis (`None`) and integer or boolean arrays are valid indices"
     ]
    },
    {
     "data": {
      "image/png": "[encoded data removed]",
      "text/plain": [
       "<Figure size 640x480 with 1 Axes>"
      ]
     },
     "metadata": {},
     "output_type": "display_data"
    },
    {
     "data": {
      "image/png": "[encoded data removed]",
      "text/plain": [
       "<Figure size 1400x400 with 2 Axes>"
      ]
     },
     "metadata": {},
     "output_type": "display_data"
    }
   ],
   "source": [
    "for idx, alpha in enumerate(alphas):\n",
    "    print(alpha)\n",
    "    plt.boxplot(runtimes_baseline - runtimes_asrf[:,idx])\n",
    "\n",
    "    fig, axs = plt.subplots(1, 2, figsize=(14, 4))\n",
    "    ax = axs[0]\n",
    "    mask = df_results[f\"ok_{alpha}\"]\n",
    "    ax.scatter(runtimes_baseline[mask], runtimes_asrf[mask,idx], s=20)\n",
    "    ax.scatter(runtimes_baseline[~mask], runtimes_asrf[~mask,idx], s=20)\n",
    "    ax.set_xscale(\"log\")\n",
    "    ax.set_yscale(\"log\")\n",
    "    ax.plot([0.1, 10**3], [0.1, 10**3], linestyle=\"--\", color=\"black\", linewidth=1)\n",
    "    ax.set_xlabel(\"Runtime 100 trees\")\n",
    "    ax.set_ylabel(\"Runtime ASBE (including overhead)\")\n",
    "    plt.show()"
   ]
  },
  {
   "cell_type": "markdown",
   "id": "58f1710c",
   "metadata": {},
   "source": [
    "# CREATE 3D plot with (#validation instances, #trees, gap)\n",
    "We would expect the gap to drop very quickly for larger datasets, because the variance for both scores should be small (those for probabilities can still be large)."
   ]
  },
  {
   "cell_type": "code",
   "execution_count": null,
   "id": "ab497357",
   "metadata": {},
   "outputs": [],
   "source": [
    "np.nanmean(prob_history[:10], axis=0)"
   ]
  },
  {
   "cell_type": "code",
   "execution_count": null,
   "id": "86a521e0",
   "metadata": {},
   "outputs": [],
   "source": [
    "prob_history = prob_history_val\n",
    "Y = Y_test\n",
    "brier_score_per_forest_size = [np.nanmean(((Y - np.nanmean(prob_history[:t], axis=0))**2).sum(axis=1)) for t in tqdm(range(1, 500))]\n",
    "brier_score_per_forest_size"
   ]
  },
  {
   "cell_type": "code",
   "execution_count": null,
   "id": "45d218db",
   "metadata": {},
   "outputs": [],
   "source": [
    "fig, ax = plt.subplots(figsize=(16, 4))\n",
    "ax.plot(range(len(brier_score_per_forest_size)), brier_score_per_forest_size)\n",
    "ax.set_ylim([0, 0.05])\n",
    "plt.show()"
   ]
  }
 ],
 "metadata": {
  "kernelspec": {
   "display_name": "Python 3 (ipykernel)",
   "language": "python",
   "name": "python3"
  },
  "language_info": {
   "codemirror_mode": {
    "name": "ipython",
    "version": 3
   },
   "file_extension": ".py",
   "mimetype": "text/x-python",
   "name": "python",
   "nbconvert_exporter": "python",
   "pygments_lexer": "ipython3",
   "version": "3.10.11"
  }
 },
 "nbformat": 4,
 "nbformat_minor": 5
}
